{
 "cells": [
  {
   "cell_type": "markdown",
   "id": "0d93349d-2e9b-4a96-8c5a-00c43d4b72b4",
   "metadata": {},
   "source": [
    "1. Discuss string slicing and provide examples.\n",
    "\n",
    "String slicing : It is a powerful feature in Python that allows you to extract a substring from a string by specifying a start and end index.\n",
    "Syntax [start:end:step]\n",
    "\n",
    "start: The starting index of the substring. It specifies where the slice begins (inclusive).\n",
    "end:   The ending index of the substring. It specifies where the slice ends (exclusive).\n",
    "step: (Optional). It specifies the increment for the indices (default is 1).\n",
    "\n",
    "Basic Slicing examples:"
   ]
  },
  {
   "cell_type": "code",
   "execution_count": 3,
   "id": "21e5efd5-253c-4ef4-bd8e-c0c5f48edc5f",
   "metadata": {},
   "outputs": [
    {
     "name": "stdout",
     "output_type": "stream",
     "text": [
      "ello\n"
     ]
    }
   ],
   "source": [
    "# Extracting a substring\n",
    "\n",
    "s = \"Hello World!\"\n",
    "print(s[1:5])\n",
    "\n",
    "# Here indices start form 0 of index and end of 5 is exclusive"
   ]
  },
  {
   "cell_type": "code",
   "execution_count": 10,
   "id": "68ac5362-10ac-4bcd-a9e3-28014667def9",
   "metadata": {},
   "outputs": [
    {
     "name": "stdout",
     "output_type": "stream",
     "text": [
      "World\n"
     ]
    }
   ],
   "source": [
    "# Using negative indices\n",
    "\n",
    "s = \"Hello World!\"\n",
    "print(s[-6:-1])\n",
    "\n",
    "# Here negative indices start at the end of the string like -1,-2, so on."
   ]
  },
  {
   "cell_type": "code",
   "execution_count": 13,
   "id": "127b5f14-d13c-415e-8e79-fdc221b5377c",
   "metadata": {},
   "outputs": [
    {
     "name": "stdout",
     "output_type": "stream",
     "text": [
      "HloWrd\n"
     ]
    }
   ],
   "source": [
    "# Skipping the characters\n",
    "\n",
    "S = \"Hello World!\"\n",
    "print(s[::2])\n",
    "\n",
    "# Here the characters are skipping using step range. We have given step 2 (If you will not give step it will take by default by 1)"
   ]
  },
  {
   "cell_type": "code",
   "execution_count": 18,
   "id": "15e38f5c-b27e-4f09-9a6b-5ad94a2a2fc6",
   "metadata": {},
   "outputs": [
    {
     "name": "stdout",
     "output_type": "stream",
     "text": [
      "!dlroW olleH\n"
     ]
    }
   ],
   "source": [
    "# Reversing string\n",
    "\n",
    "s = \"Hello World!\"\n",
    "print(s[::-1])\n",
    "\n",
    "# Here the string is reversing by giveing the step form negative indices."
   ]
  },
  {
   "cell_type": "code",
   "execution_count": 21,
   "id": "fcf9fa38-f49f-42c4-b638-ae3fc3ca33b9",
   "metadata": {},
   "outputs": [
    {
     "name": "stdout",
     "output_type": "stream",
     "text": [
      "Hello World!\n"
     ]
    }
   ],
   "source": [
    "# Handling out of range\n",
    "\n",
    "s = \"Hello World!\"\n",
    "print(s[:20])\n",
    "\n",
    "# It handles out of range indices gracefully  by adjusting."
   ]
  },
  {
   "cell_type": "markdown",
   "id": "10cf7171-f127-49e9-97b2-fd47e56a353a",
   "metadata": {},
   "source": [
    "2. Explain the key features of lists in Python.\n",
    "\n",
    "Lists : Lists are versatile data structures used to store collections of items, which can be of different data types.\n",
    "        Some key Features of List:\n",
    "        \n",
    "1. Mutable: Lists are mutable, meaning you can change the elements after the list has been created. You can add, remove, or modify items in a list.\n",
    "2. Ordered: Lists maintain the order of elements. The order in which you add elements to the list is preserved and can be accessed by index.\n",
    "3. Heterogeneous Elements: A single list can contain elements of different data types. For example, [1, 'apple', True] is a valid list in Python.\n",
    "4. Dynamic: Lists in Python can grow and shrink dynamically. You can add items using append() or extend() methods, and remove items using pop() or remove() methods.\n",
    "5. Indexing and Slicing: Elements in a list can be accessed using indexing and slicing. Positive indices count from the beginning (starting with 0), and negative indices count from the end (-1 for the last element).\n",
    "6. Nesting: Lists can contain other lists as elements, allowing for the creation of nested data structures.\n",
    "7. Iterability: Lists are iterable, meaning you can iterate over all elements in the list using a loop or other iterable methods.\n"
   ]
  },
  {
   "cell_type": "markdown",
   "id": "a762765b-bd9f-4bc3-aae2-4926782d4000",
   "metadata": {},
   "source": [
    "3. Describe how to access, modify, and delete elements in a list with examples.\n",
    "\n",
    "You can access elements in a list using indexing.\n",
    "Python lists use zero-based indexing, meaning the index starts at 0 for the first element.\n",
    "\n",
    "Example:"
   ]
  },
  {
   "cell_type": "code",
   "execution_count": 37,
   "id": "4a188c5c-74d5-4852-9b41-6da3e49a30ed",
   "metadata": {},
   "outputs": [
    {
     "name": "stdout",
     "output_type": "stream",
     "text": [
      "apple\n",
      "cherry\n",
      "date\n"
     ]
    }
   ],
   "source": [
    "# Accessing elements\n",
    "\n",
    "my_list = [\"apple\", \"banana\", \"cherry\", \"date\"]\n",
    "\n",
    "print(my_list[0])\n",
    "print(my_list[2])\n",
    "print(my_list[-1]) #negative index to access from end"
   ]
  },
  {
   "cell_type": "code",
   "execution_count": 38,
   "id": "810947d5-036a-487b-907d-4eb3bd769909",
   "metadata": {},
   "outputs": [
    {
     "name": "stdout",
     "output_type": "stream",
     "text": [
      "['apple', 'orange', 'cherry', 'date']\n",
      "['apple', 'orange', 'grape', 'fig']\n"
     ]
    }
   ],
   "source": [
    "# Modifying element to a list\n",
    "\n",
    "my_list = [\"apple\", \"banana\", \"cherry\", \"date\"]\n",
    "\n",
    "my_list[1] = \"orange\"\n",
    "print(my_list)\n",
    "\n",
    "my_list[2:4] = [\"grape\",\"fig\"] # using slicing to modify multiple elements\n",
    "print(my_list)"
   ]
  },
  {
   "cell_type": "code",
   "execution_count": 41,
   "id": "5033c15a-b847-43c2-881d-d7ff3d96e9ee",
   "metadata": {},
   "outputs": [
    {
     "name": "stdout",
     "output_type": "stream",
     "text": [
      "['apple', 'grape', 'fig']\n",
      "['apple', 'grape']\n",
      "['grape']\n",
      "['apple', 'fig']\n"
     ]
    }
   ],
   "source": [
    "# Deleting elements\n",
    "\n",
    "my_list = [\"apple\", \"orange\", \"grape\", \"fig\"]\n",
    "\n",
    "del my_list[1]  # using del statement\n",
    "print(my_list)\n",
    "\n",
    "my_list.pop(2)  # using pop method with index\n",
    "print(my_list)\n",
    "\n",
    "my_list.remove(\"apple\")  # using remove method by value\n",
    "print(my_list)\n",
    "\n",
    "# using slicing to delete multiple elements\n",
    "\n",
    "my_list = [\"apple\", \"orange\", \"grape\", \"fig\"]\n",
    "my_list[1:3] = []  #  removing elements orange and grape\n",
    "print(my_list)"
   ]
  },
  {
   "cell_type": "markdown",
   "id": "8e8cfe9e-a8e3-4e2f-a0d7-23cd46b4ad99",
   "metadata": {},
   "source": [
    "4. Compare and contrast tuples and lists with examples.\n",
    "\n",
    "Both tuples ans lists are data structure in python that is used to store collections of items.\n",
    "Here's a comprasion and contrast between tuples and lists.\n",
    "\n",
    "Lists :\n",
    "\n",
    "* Mutable : Elements can be added, removed, or modified after the list is created.\n",
    "* Syntax : Defined using square brackets '[ ]'\n",
    "* Use : Ideal for collections of homogeneous items where the order and changeability of elements are important.\n",
    "* You need a collection of items that can be modified or rearranged.\n",
    "\n",
    "Tuples : \n",
    "\n",
    "* Immutable : Once a tuple is created, you cannot add, remove, or modify elements.\n",
    "* Syntax : Defined using parentheses '( )'.\n",
    "* Use : Suitable for fixed collections of heterogeneous items where immutability and integrity of data.\n",
    "* You want to ensure data integrity and immutability.\n",
    "\n",
    "Example :"
   ]
  },
  {
   "cell_type": "code",
   "execution_count": 1,
   "id": "d987757b-18e6-4ed6-8414-e09ea322ca45",
   "metadata": {},
   "outputs": [
    {
     "name": "stdout",
     "output_type": "stream",
     "text": [
      "['Apple', 'Banana', 'Mango']\n",
      "['Apple', 'Orange', 'Mango']\n",
      "['Apple', 'Orange', 'Mango', 'Grape']\n",
      "['Orange', 'Mango', 'Grape']\n"
     ]
    }
   ],
   "source": [
    "# Creating a list\n",
    "\n",
    "my_list = [\"Apple\", \"Banana\", \"Mango\"]\n",
    "print(my_list)\n",
    "\n",
    "# Modifing a list\n",
    "\n",
    "my_list[1] = \"Orange\"\n",
    "print(my_list)\n",
    "\n",
    "# Adding elements\n",
    "\n",
    "my_list.append('Grape')\n",
    "print(my_list)\n",
    "\n",
    "# Removing elements\n",
    "\n",
    "my_list.remove('Apple')\n",
    "print(my_list)"
   ]
  },
  {
   "cell_type": "code",
   "execution_count": 8,
   "id": "c51541a1-bbdc-41ee-9947-f28e8d1c8168",
   "metadata": {},
   "outputs": [
    {
     "name": "stdout",
     "output_type": "stream",
     "text": [
      "('Apple', 'Banana', 'Mango')\n"
     ]
    },
    {
     "ename": "TypeError",
     "evalue": "'tuple' object does not support item assignment",
     "output_type": "error",
     "traceback": [
      "\u001b[0;31m---------------------------------------------------------------------------\u001b[0m",
      "\u001b[0;31mTypeError\u001b[0m                                 Traceback (most recent call last)",
      "Cell \u001b[0;32mIn[8], line 8\u001b[0m\n\u001b[1;32m      4\u001b[0m \u001b[38;5;28mprint\u001b[39m(my_tuple)\n\u001b[1;32m      6\u001b[0m \u001b[38;5;66;03m# trying to modify a tuple \u001b[39;00m\n\u001b[0;32m----> 8\u001b[0m \u001b[43mmy_tuple\u001b[49m\u001b[43m[\u001b[49m\u001b[38;5;241;43m1\u001b[39;49m\u001b[43m]\u001b[49m \u001b[38;5;241m=\u001b[39m \u001b[38;5;124m\"\u001b[39m\u001b[38;5;124mOrange\u001b[39m\u001b[38;5;124m\"\u001b[39m  \u001b[38;5;66;03m# Immutable\u001b[39;00m\n",
      "\u001b[0;31mTypeError\u001b[0m: 'tuple' object does not support item assignment"
     ]
    }
   ],
   "source": [
    "# Creating a tuple\n",
    "\n",
    "my_tuple = (\"Apple\", \"Banana\", \"Mango\")\n",
    "print(my_tuple)\n",
    "\n",
    "# trying to modify a tuple \n",
    "\n",
    "my_tuple[1] = \"Orange\"  # Immutable"
   ]
  },
  {
   "cell_type": "code",
   "execution_count": 9,
   "id": "b8e093d8-49cb-492a-8473-bcc59aef58aa",
   "metadata": {},
   "outputs": [
    {
     "ename": "AttributeError",
     "evalue": "'tuple' object has no attribute 'append'",
     "output_type": "error",
     "traceback": [
      "\u001b[0;31m---------------------------------------------------------------------------\u001b[0m",
      "\u001b[0;31mAttributeError\u001b[0m                            Traceback (most recent call last)",
      "Cell \u001b[0;32mIn[9], line 3\u001b[0m\n\u001b[1;32m      1\u001b[0m \u001b[38;5;66;03m# Adding element\u001b[39;00m\n\u001b[0;32m----> 3\u001b[0m \u001b[43mmy_tuple\u001b[49m\u001b[38;5;241;43m.\u001b[39;49m\u001b[43mappend\u001b[49m(\u001b[38;5;124m\"\u001b[39m\u001b[38;5;124mPapaya\u001b[39m\u001b[38;5;124m\"\u001b[39m)  \u001b[38;5;66;03m# Tuple is Immutable\u001b[39;00m\n",
      "\u001b[0;31mAttributeError\u001b[0m: 'tuple' object has no attribute 'append'"
     ]
    }
   ],
   "source": [
    "# Adding element\n",
    "\n",
    "my_tuple.append(\"Papaya\")  # Tuple is Immutable"
   ]
  },
  {
   "cell_type": "code",
   "execution_count": 10,
   "id": "021c8d3e-36fd-43e0-9d98-24517b2cc565",
   "metadata": {},
   "outputs": [
    {
     "name": "stdout",
     "output_type": "stream",
     "text": [
      "Apple\n",
      "('Apple', 'Banana', 'Mango', 'Grape', 'Lichi')\n"
     ]
    }
   ],
   "source": [
    "# Accessing elements\n",
    "\n",
    "print(my_tuple[0])\n",
    "\n",
    "# Combining a tuple\n",
    "\n",
    "combine_tuple = my_tuple + (\"Grape\", \"Lichi\")\n",
    "print(combine_tuple)"
   ]
  },
  {
   "cell_type": "markdown",
   "id": "1e555a50-130e-4d16-8d2f-d8ab40118aa6",
   "metadata": {},
   "source": [
    "5. Describe the key features of sets and provide examples of their use.\n",
    "\n",
    "* A set is a collection of objects, considered as an object in its own right. The objects in a set are called elements or members of the set.\n",
    "* The elements of a set do not have a specific order. For example, the set {1,2,3} is the same as {3,1,2}.\n",
    "* A set cannot have duplicate elements. \n",
    "* If you try to add a duplicate element to a set, it will still contain only one instance of that element. For example, {1,2,2,3} is equivalent to {1,2,3}.\n",
    "* The set with no elements is called the empty set, denoted by ∅ or {}.\n",
    "* For example :"
   ]
  },
  {
   "cell_type": "code",
   "execution_count": 5,
   "id": "37de8032-0f62-4487-9127-1f83b03e38f7",
   "metadata": {},
   "outputs": [
    {
     "data": {
      "text/plain": [
       "{(3+5j), 1, 2, 2.2, 'apple', 'pwskills'}"
      ]
     },
     "execution_count": 5,
     "metadata": {},
     "output_type": "execute_result"
    }
   ],
   "source": [
    "# Unordered\n",
    "s = {1, 2, 2.2, \"pwskills\", \"apple\", 3+5j}\n",
    "s"
   ]
  },
  {
   "cell_type": "code",
   "execution_count": 7,
   "id": "cc1e0408-4d3a-4486-99d2-37c04a38c89b",
   "metadata": {},
   "outputs": [
    {
     "data": {
      "text/plain": [
       "{1, 2, 'apple', 'banana'}"
      ]
     },
     "execution_count": 7,
     "metadata": {},
     "output_type": "execute_result"
    }
   ],
   "source": [
    "# Duplicate values\n",
    "s = {1, 2, 2, \"apple\", \"banana\", \"apple\"} # cannot have duplicate values\n",
    "s"
   ]
  },
  {
   "cell_type": "code",
   "execution_count": 13,
   "id": "63a46ec4-5ecc-4d84-9a19-7a16f00b17f0",
   "metadata": {},
   "outputs": [
    {
     "data": {
      "text/plain": [
       "{}"
      ]
     },
     "execution_count": 13,
     "metadata": {},
     "output_type": "execute_result"
    }
   ],
   "source": [
    "s  = {} # empty set is donoted as 0 value\n",
    "s"
   ]
  },
  {
   "cell_type": "markdown",
   "id": "32eaf106-bb9d-4535-bfb5-43b9f4cae0f8",
   "metadata": {},
   "source": [
    "6.  Discuss the use cases of tuples and sets in Python programming.\n",
    "\n",
    "* Tuples : Once tuple has been created it cannot be changed.\n",
    "*            Tuples maintain the order of elements, so you can access elements by index.\n",
    "*            Tuples can contain multiple instances of the same value.\n",
    "*            Here are some use cases of tuples :"
   ]
  },
  {
   "cell_type": "code",
   "execution_count": 18,
   "id": "e4ec0da8-4842-44de-9729-81de7e62842e",
   "metadata": {},
   "outputs": [
    {
     "name": "stdout",
     "output_type": "stream",
     "text": [
      "(1, 2, 3, 4.4, 'Pwskills', 'Ajay', 'Data science', 1)\n"
     ]
    },
    {
     "data": {
      "text/plain": [
       "1"
      ]
     },
     "execution_count": 18,
     "metadata": {},
     "output_type": "execute_result"
    }
   ],
   "source": [
    "# Multiple instances of same value.\n",
    "\n",
    "t = (1, 2, 3, 4.4, \"Pwskills\", \"Ajay\", \"Data science\", 1)\n",
    "print(t)\n",
    "\n",
    "t[0] # Order of elements, can access by index no."
   ]
  },
  {
   "cell_type": "code",
   "execution_count": 19,
   "id": "d940a99e-9f09-4f58-89df-37b3b188534d",
   "metadata": {},
   "outputs": [
    {
     "ename": "TypeError",
     "evalue": "'tuple' object does not support item assignment",
     "output_type": "error",
     "traceback": [
      "\u001b[0;31m---------------------------------------------------------------------------\u001b[0m",
      "\u001b[0;31mTypeError\u001b[0m                                 Traceback (most recent call last)",
      "Cell \u001b[0;32mIn[19], line 3\u001b[0m\n\u001b[1;32m      1\u001b[0m \u001b[38;5;66;03m# Tuple cannot be changed after it has been created.\u001b[39;00m\n\u001b[0;32m----> 3\u001b[0m \u001b[43mt\u001b[49m\u001b[43m[\u001b[49m\u001b[38;5;241;43m1\u001b[39;49m\u001b[43m]\u001b[49m \u001b[38;5;241m=\u001b[39m \u001b[38;5;241m100\u001b[39m\n",
      "\u001b[0;31mTypeError\u001b[0m: 'tuple' object does not support item assignment"
     ]
    }
   ],
   "source": [
    "# Tuple cannot be changed after it has been created.\n",
    "\n",
    "t[1] = 100"
   ]
  },
  {
   "cell_type": "code",
   "execution_count": 44,
   "id": "94c5504f-e650-45f4-b6c5-834b9e81ab8f",
   "metadata": {},
   "outputs": [
    {
     "name": "stdout",
     "output_type": "stream",
     "text": [
      "2\n",
      "1\n",
      "2\n",
      "0\n",
      "5\n",
      "(1, 1, 2.2, 2.2, 'Pwskills', 'Data science', 1, 1, 2.2, 2.2, 'Pwskills', 'Data science')\n",
      "(1, 1, 2.2, 2.2)\n",
      "(1, 2.2, 'Data science')\n",
      "((1, 2, 3), (101, 202, 303))\n",
      "3\n",
      "101\n"
     ]
    }
   ],
   "source": [
    "# Count use cases\n",
    "\n",
    "tuple1 = (1, 1, 2.2, 2.2, \"Pwskills\", \"Data science\")\n",
    "\n",
    "print (tuple1.count(1))\n",
    "print (tuple1.count(\"Pwskills\"))\n",
    "print (tuple1.count(2.2))\n",
    "print (tuple1.count(2.3)) \n",
    "\n",
    "# Index\n",
    "\n",
    "print(tuple1.index(\"Data science\"))\n",
    "\n",
    "# double tuple\n",
    "\n",
    "print(tuple1*2)\n",
    "\n",
    "# Slicing\n",
    "\n",
    "print(tuple1[0:4])\n",
    "print(tuple1[1:6:2])\n",
    "\n",
    "# Nested tuple\n",
    "\n",
    "t1 = (1, 2, 3)\n",
    "t2 = (101, 202, 303)\n",
    "t3 = (t1, t2)\n",
    "print(t3)\n",
    "\n",
    "# Maxmium and minimum value of tuple\n",
    "\n",
    "print(max(t1))\n",
    "\n",
    "print(min(t2))"
   ]
  },
  {
   "cell_type": "markdown",
   "id": "f87768ea-c71b-49af-b266-f4eaa3388f1f",
   "metadata": {},
   "source": [
    "* Set : Sets can be modified after their creation.\n",
    "*         Sets do not maintain order. \n",
    "*         They do not support indexing, slicing, or other sequence-like behavior.\n",
    "*         Sets automatically discard duplicate elements, so each element must be unique.\n",
    "*         Here are some use caese of sets : "
   ]
  },
  {
   "cell_type": "code",
   "execution_count": 69,
   "id": "194ed6d3-d7dd-4c5f-8555-6c28f46e5bfe",
   "metadata": {},
   "outputs": [
    {
     "name": "stdout",
     "output_type": "stream",
     "text": [
      "{1, 2, 3, 1.2, 'apple', 'pwskills'}\n",
      "<class 'set'>\n"
     ]
    },
    {
     "ename": "TypeError",
     "evalue": "'set' object is not subscriptable",
     "output_type": "error",
     "traceback": [
      "\u001b[0;31m---------------------------------------------------------------------------\u001b[0m",
      "\u001b[0;31mTypeError\u001b[0m                                 Traceback (most recent call last)",
      "Cell \u001b[0;32mIn[69], line 9\u001b[0m\n\u001b[1;32m      5\u001b[0m \u001b[38;5;28mprint\u001b[39m (\u001b[38;5;28mtype\u001b[39m(s))\n\u001b[1;32m      7\u001b[0m \u001b[38;5;66;03m# indexing or slicing is not allowed\u001b[39;00m\n\u001b[0;32m----> 9\u001b[0m \u001b[38;5;28mprint\u001b[39m(\u001b[43ms\u001b[49m\u001b[43m[\u001b[49m\u001b[38;5;241;43m0\u001b[39;49m\u001b[43m]\u001b[49m)\n",
      "\u001b[0;31mTypeError\u001b[0m: 'set' object is not subscriptable"
     ]
    }
   ],
   "source": [
    "# Discard duplicate elements and unordered\n",
    "\n",
    "s = {1, 1, 2, 2, 2, \"pwskills\", \"pwskills\", \"apple\", \"apple\", 3, 1.2}\n",
    "print (s)\n",
    "print (type(s))\n",
    "\n",
    "# indexing or slicing is not allowed\n",
    "\n",
    "print(s[0])"
   ]
  },
  {
   "cell_type": "code",
   "execution_count": 70,
   "id": "39f828aa-520f-49bc-bdd8-0483fc609960",
   "metadata": {},
   "outputs": [
    {
     "name": "stdout",
     "output_type": "stream",
     "text": [
      "{1, 2, 3, 'Apple', 'Banana'}\n"
     ]
    }
   ],
   "source": [
    "# Use case\n",
    "list1 = [1, 2, 3, \"Apple\", \"Apple\", \"Banana\", \"Banana\"]\n",
    "s = set(list1)\n",
    "print(s)"
   ]
  },
  {
   "cell_type": "code",
   "execution_count": 71,
   "id": "44680aee-bef8-437d-b794-3124d3d4a183",
   "metadata": {},
   "outputs": [
    {
     "name": "stdout",
     "output_type": "stream",
     "text": [
      "1\n",
      "2\n",
      "3\n",
      "Apple\n",
      "Banana\n"
     ]
    }
   ],
   "source": [
    "# loop in set\n",
    "\n",
    "for i in s:\n",
    "    print(i)"
   ]
  },
  {
   "cell_type": "code",
   "execution_count": 73,
   "id": "f15f18ec-ff15-4f68-96a8-868f0a21abc0",
   "metadata": {},
   "outputs": [
    {
     "name": "stdout",
     "output_type": "stream",
     "text": [
      "{1, 2, 3, 100, 'Apple', 'Banana'}\n",
      "{2, 3, 100, 'Apple', 'Banana'}\n",
      "{2, 3, 100, 'Banana'}\n"
     ]
    }
   ],
   "source": [
    "# Modification after being created\n",
    "\n",
    "s.add(100)  # Not complusary that it will be added at last\n",
    "print(s)\n",
    "\n",
    "s.pop() # not complusary that it will be removed the last element\n",
    "print(s)\n",
    "\n",
    "s.remove(\"Apple\")  # remove specific element\n",
    "print(s)"
   ]
  },
  {
   "cell_type": "code",
   "execution_count": 76,
   "id": "9214f008-1a77-44cb-aa7d-a3be010ac799",
   "metadata": {},
   "outputs": [
    {
     "name": "stdout",
     "output_type": "stream",
     "text": [
      "{2, 3, 100, 'e', 'r', 'Banana', 'O', 'g', 'a', 'n', 'Orange'}\n"
     ]
    }
   ],
   "source": [
    "s.update(\"Orange\")   #updates take iterable\n",
    "print(s)"
   ]
  },
  {
   "cell_type": "code",
   "execution_count": 77,
   "id": "bd6a16b4-595e-410b-84ab-05f66a48f1a0",
   "metadata": {},
   "outputs": [
    {
     "name": "stdout",
     "output_type": "stream",
     "text": [
      "{2, 3, 100, 'e', 'r', 'Banana', 'O', 'g', 'a', 'n', 'Orange'}\n"
     ]
    }
   ],
   "source": [
    "s.update([\"Orange\"]) \n",
    "print(s)"
   ]
  },
  {
   "cell_type": "code",
   "execution_count": 78,
   "id": "e7aad4de-eb32-485b-9cd0-651b162188d9",
   "metadata": {},
   "outputs": [
    {
     "name": "stdout",
     "output_type": "stream",
     "text": [
      "set()\n"
     ]
    }
   ],
   "source": [
    "s.clear() # empty set\n",
    "print(s)"
   ]
  },
  {
   "cell_type": "code",
   "execution_count": 82,
   "id": "d52d522e-232b-4251-9546-c962cdf59301",
   "metadata": {},
   "outputs": [
    {
     "name": "stdout",
     "output_type": "stream",
     "text": [
      "{1, 2, 3, 4, 5}\n",
      "{3}\n"
     ]
    }
   ],
   "source": [
    "# Use cases of union and intersection in set\n",
    "\n",
    "set1 = {1, 2, 3}\n",
    "set2 = {3, 4, 5}\n",
    "union = set1 | set2\n",
    "print(union)\n",
    "intersection = set1 & set2 \n",
    "print(intersection)"
   ]
  },
  {
   "cell_type": "markdown",
   "id": "a3986c22-3734-4bc7-9e41-63e3030036d8",
   "metadata": {},
   "source": [
    "7. Describe how to add, modify, and delete items in a dictionary with examples.\n",
    "\n",
    "* Adding items in dicttionary : To add items to a dictionary, you can use a new key and assign it a value. \n",
    "* Modifying items in dicttionary : To modify items, simply assign a new value to an existing key. This updates the value for that key in the dictionary.\n",
    "* Deteing items in dictionary : You can delete items from a dictionary using the del statement, the pop() method, or the popitem() method.\n",
    "* Example :"
   ]
  },
  {
   "cell_type": "code",
   "execution_count": 2,
   "id": "34499c51-7d6d-436a-9dd8-22a0b5d0b3c9",
   "metadata": {},
   "outputs": [
    {
     "name": "stdout",
     "output_type": "stream",
     "text": [
      "{'Name': 'Raj', 'Age': 22, 'City': 'Surat', 'Course': 'DataScience'}\n",
      "{'Name': 'Raj', 'Age': 22, 'City': 'Surat', 'Course': 'DataScience', 'Occupation': 'Engineer'}\n"
     ]
    }
   ],
   "source": [
    "# Creating empty dictionary\n",
    "\n",
    "my_dict = {}\n",
    "\n",
    "# Adding items\n",
    "\n",
    "my_dict[\"Name\"] = \"Raj\"\n",
    "my_dict[\"Age\"] = 22\n",
    "my_dict[\"City\"] = \"Surat\"\n",
    "my_dict[\"Course\"] = \"DataScience\"\n",
    "\n",
    "print(my_dict)\n",
    "\n",
    "# Adding one more\n",
    "\n",
    "my_dict[\"Occupation\"] = \"Engineer\"\n",
    "print(my_dict)"
   ]
  },
  {
   "cell_type": "code",
   "execution_count": 3,
   "id": "644a583b-fec9-449b-ba88-7591f44693d8",
   "metadata": {},
   "outputs": [
    {
     "name": "stdout",
     "output_type": "stream",
     "text": [
      "{'name': 'Raj', 'age': 22, 'city': 'surat', 'course': 'data science'}\n",
      "{'name': 'Raj', 'age': 21, 'city': 'mumbai', 'course': 'data science'}\n"
     ]
    }
   ],
   "source": [
    "# Modifying items\n",
    "\n",
    "my_dict = {\"name\": \"Raj\", \"age\":22, \"city\":\"surat\", \"course\": \"data science\"}\n",
    "print(my_dict)\n",
    "\n",
    "# modifying an existing item\n",
    "\n",
    "my_dict[\"age\"] = 21\n",
    "my_dict[\"city\"] = \"mumbai\"\n",
    "\n",
    "print(my_dict)"
   ]
  },
  {
   "cell_type": "code",
   "execution_count": 6,
   "id": "8699210f-13f8-4790-ab56-fb31d7f2e7b0",
   "metadata": {},
   "outputs": [
    {
     "name": "stdout",
     "output_type": "stream",
     "text": [
      "{'name': 'Raj', 'age': 22, 'course': 'data science'}\n",
      "{'name': 'Raj', 'course': 'data science'}\n"
     ]
    }
   ],
   "source": [
    "# Delete items\n",
    "\n",
    "my_dict = {\"name\": \"Raj\", \"age\":22, \"city\":\"surat\", \"course\": \"data science\"}\n",
    "\n",
    "# deleteing an item\n",
    "\n",
    "del my_dict[\"city\"]\n",
    "print(my_dict)\n",
    "\n",
    "# using pop method\n",
    "\n",
    "my_dict.pop(\"age\")\n",
    "print(my_dict)"
   ]
  },
  {
   "cell_type": "code",
   "execution_count": 9,
   "id": "41b18f3f-edff-453e-b453-91076ea11b41",
   "metadata": {},
   "outputs": [
    {
     "name": "stdout",
     "output_type": "stream",
     "text": [
      "{}\n"
     ]
    }
   ],
   "source": [
    "my_dict.clear()\n",
    "print(my_dict)"
   ]
  },
  {
   "cell_type": "code",
   "execution_count": 10,
   "id": "a8144c9e-4d7d-4eb5-a3bf-8efdf34aaa53",
   "metadata": {},
   "outputs": [],
   "source": [
    "del my_dict"
   ]
  },
  {
   "cell_type": "code",
   "execution_count": 11,
   "id": "8159bd5c-3aae-422d-b38e-400950ff3ac8",
   "metadata": {},
   "outputs": [
    {
     "ename": "NameError",
     "evalue": "name 'my_dict' is not defined",
     "output_type": "error",
     "traceback": [
      "\u001b[0;31m---------------------------------------------------------------------------\u001b[0m",
      "\u001b[0;31mNameError\u001b[0m                                 Traceback (most recent call last)",
      "Cell \u001b[0;32mIn[11], line 1\u001b[0m\n\u001b[0;32m----> 1\u001b[0m \u001b[43mmy_dict\u001b[49m\n",
      "\u001b[0;31mNameError\u001b[0m: name 'my_dict' is not defined"
     ]
    }
   ],
   "source": [
    "my_dict"
   ]
  },
  {
   "cell_type": "markdown",
   "id": "1b68ba9b-a07a-4826-8d8d-a98732b66c0c",
   "metadata": {},
   "source": [
    "8. Discuss the importance of dictionary keys being immutable and provide examples.\n",
    "\n",
    "*  Dictionary keys must be immutable because the dictionary relies on the hash value of the key to ensure fast access and retrieval of values. \n",
    "* Here's the expalntion :\n",
    "1. Hashing mechanism : \n",
    "* Python dictionaries use a hashing mechanism to quickly locate and retrieve values associated with keys.\n",
    "* If the content of the key changes, the hash value would change, making it impossible for the dictionary to locate the value.\n",
    "2. Consistency : \n",
    "* Immutability guarantees that the key remains constant throughout its lifetime. This consistency is essential for the dictionary to manage the key-value mapping reliably.\n",
    "\n",
    "* Examples : "
   ]
  },
  {
   "cell_type": "code",
   "execution_count": 12,
   "id": "471b3429-74b3-4ceb-a99e-cb6af4311caf",
   "metadata": {},
   "outputs": [
    {
     "name": "stdout",
     "output_type": "stream",
     "text": [
      "vijay\n",
      "22\n"
     ]
    }
   ],
   "source": [
    "# Example with immutable keys\n",
    "# Using through strings\n",
    "\n",
    "my_dict = {\"name\": \"vijay\", \"age\": 22}\n",
    "\n",
    "# Accessing values\n",
    "\n",
    "print(my_dict[\"name\"])\n",
    "print(my_dict[\"age\"])"
   ]
  },
  {
   "cell_type": "code",
   "execution_count": 14,
   "id": "a87ba3d4-693b-4c29-b0fe-799476a15f8f",
   "metadata": {},
   "outputs": [
    {
     "ename": "TypeError",
     "evalue": "unhashable type: 'list'",
     "output_type": "error",
     "traceback": [
      "\u001b[0;31m---------------------------------------------------------------------------\u001b[0m",
      "\u001b[0;31mTypeError\u001b[0m                                 Traceback (most recent call last)",
      "Cell \u001b[0;32mIn[14], line 4\u001b[0m\n\u001b[1;32m      1\u001b[0m \u001b[38;5;66;03m# Example with mutable keys\u001b[39;00m\n\u001b[1;32m      2\u001b[0m \u001b[38;5;66;03m# Using through list\u001b[39;00m\n\u001b[0;32m----> 4\u001b[0m my_dict \u001b[38;5;241m=\u001b[39m {[\u001b[38;5;241m1\u001b[39m,\u001b[38;5;241m2\u001b[39m,\u001b[38;5;241m3\u001b[39m]: \u001b[38;5;124m\"\u001b[39m\u001b[38;5;124msome value\u001b[39m\u001b[38;5;124m\"\u001b[39m}  \u001b[38;5;66;03m# this will raise a key type error\u001b[39;00m\n",
      "\u001b[0;31mTypeError\u001b[0m: unhashable type: 'list'"
     ]
    }
   ],
   "source": [
    "# Example with mutable keys\n",
    "# Using through list\n",
    "\n",
    "my_dict = {[1,2,3]: \"some value\"}  # this will raise a key type error"
   ]
  }
 ],
 "metadata": {
  "kernelspec": {
   "display_name": "Python 3 (ipykernel)",
   "language": "python",
   "name": "python3"
  },
  "language_info": {
   "codemirror_mode": {
    "name": "ipython",
    "version": 3
   },
   "file_extension": ".py",
   "mimetype": "text/x-python",
   "name": "python",
   "nbconvert_exporter": "python",
   "pygments_lexer": "ipython3",
   "version": "3.10.8"
  }
 },
 "nbformat": 4,
 "nbformat_minor": 5
}
