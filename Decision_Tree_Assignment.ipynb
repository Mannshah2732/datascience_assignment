{
  "nbformat": 4,
  "nbformat_minor": 0,
  "metadata": {
    "colab": {
      "provenance": [],
      "authorship_tag": "ABX9TyN2uPhf6gMDxyH5PS05IJ9x",
      "include_colab_link": true
    },
    "kernelspec": {
      "name": "python3",
      "display_name": "Python 3"
    },
    "language_info": {
      "name": "python"
    }
  },
  "cells": [
    {
      "cell_type": "markdown",
      "metadata": {
        "id": "view-in-github",
        "colab_type": "text"
      },
      "source": [
        "<a href=\"https://colab.research.google.com/github/Mannshah2732/datascience_assignment/blob/main/Decision_Tree_Assignment.ipynb\" target=\"_parent\"><img src=\"https://colab.research.google.com/assets/colab-badge.svg\" alt=\"Open In Colab\"/></a>"
      ]
    },
    {
      "cell_type": "markdown",
      "source": [
        "# Theoretical"
      ],
      "metadata": {
        "id": "FgEKB9L4O0vG"
      }
    },
    {
      "cell_type": "markdown",
      "source": [
        "1. What is a Decision Tree, and how does it work?\n",
        "\n",
        "* A Decision Tree is a type of supervised machine learning algorithm used for classification and regression tasks. It models decisions and their possible consequences as a tree-like structure, helping to make predictions based on input features.\n",
        "\n",
        "* How does it work?\n",
        "\n",
        "  1. Start at the Root Node :\n",
        "\n",
        "    * The entire dataset is considered at the top.\n",
        "\n",
        "  2. Choose the Best Feature to Split :\n",
        "\n",
        "    * At each node, the algorithm selects the feature that best separates the data based on a criterion:\n",
        "\n",
        "    * For classification, common criteria include:\n",
        "\n",
        "      * Gini Impurity: Measures how often a randomly chosen element would be incorrectly labeled if it was randomly labeled according to the distribution of labels in the subset.\n",
        "\n",
        "      * Entropy/Information Gain: Measures the disorder or impurity in the data.\n",
        "\n",
        "    * For regression, criteria like Mean Squared Error (MSE) are used to minimize variance within subsets.\n",
        "\n",
        "  3. Split the Data :\n",
        "\n",
        "    * The dataset is divided into smaller groups based on the selected feature’s value (e.g., “Is feature X > 5?”).\n",
        "  \n",
        "  4. Repeat Recursively :\n",
        "\n",
        "    * For each new subset, repeat the process:\n",
        "\n",
        "    * Select the best feature to split.\n",
        "\n",
        "    * Split the subset further.\n",
        "\n",
        "    * Continue until stopping conditions are met (e.g., max tree depth, minimum samples per leaf, or pure nodes).\n",
        "\n",
        "  5. Make Predictions :\n",
        "\n",
        "    * Once the tree is built, to predict the outcome for a new sample:\n",
        "\n",
        "      * Start at the root.\n",
        "\n",
        "      * Follow the path corresponding to the sample’s feature values.\n",
        "\n",
        "      * Reach a leaf node that holds the predicted class (for classification) or value (for regression)."
      ],
      "metadata": {
        "id": "j8V1gvMvPAZg"
      }
    },
    {
      "cell_type": "markdown",
      "source": [
        "2. What are impurity measures in Decision Trees?\n",
        "\n",
        "* Impurity measures in decision trees are metrics used to evaluate how well a feature split separates the data into distinct classes. The goal is to find splits that reduce impurity — meaning the subsets become more \"pure,\" ideally containing samples from only one class.\n",
        "\n",
        "* Common impurity measures\n",
        "\n",
        "  1. Gini Impurity\n",
        "  2. Entropy (Information Gain)\n",
        "  3. Classification Error"
      ],
      "metadata": {
        "id": "5ch40rMdQbL_"
      }
    },
    {
      "cell_type": "markdown",
      "source": [
        "3. What is the mathematical formula for Gini Impurity?\n",
        "\n",
        "* The mathematical formula for Gini Impurity is :\n",
        "\n",
        "  ![image.png](data:image/png;base64,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)\n",
        "\n",
        "  where:\n",
        "\n",
        "  * 𝐶 = number of classes in the node,\n",
        "\n",
        "  * 𝑝𝑖 = proportion (probability) of samples belonging to class 𝑖 in that node.\n",
        "\n",
        "* Explanation :\n",
        "\n",
        "  * You calculate the squared probability of each class in the node.\n",
        "\n",
        "  * Sum all those squared probabilities.\n",
        "\n",
        "  * Subtract that sum from 1.\n",
        "\n"
      ],
      "metadata": {
        "id": "-h7d2n--QvS0"
      }
    },
    {
      "cell_type": "markdown",
      "source": [
        "4. What is the mathematical formula for Entropy?\n",
        "\n",
        "* The mathematical formula for Entropy in the context of decision trees is :\n",
        "\n",
        "  ![image.png](data:image/png;base64,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)\n",
        "\n",
        "  where :\n",
        "\n",
        "  * 𝐶 = number of classes in the node,\n",
        "\n",
        "  * 𝑝𝑖 = proportion (probability) of samples belonging to class 𝑖 in that node,\n",
        "\n",
        "  * The logarithm is base 2, reflecting information measured in bits.\n",
        "\n",
        "* Explanation :\n",
        "\n",
        "  * For each class 𝑖, multiply its probability 𝑝𝑖 by log2(𝑝𝑖).\n",
        "\n",
        "  * Sum these values for all classes.\n",
        "\n",
        "  * Multiply the sum by −1 to make entropy positive.\n"
      ],
      "metadata": {
        "id": "A_6gFrbYRHS4"
      }
    },
    {
      "cell_type": "markdown",
      "source": [
        "5. What is Information Gain, and how is it used in Decision Trees?\n",
        "\n",
        "* Information Gain is a key concept used in building decision trees, especially with the Entropy impurity measure. It helps decide which feature to split on at each step by measuring how much uncertainty (entropy) is reduced after the split.\n",
        "\n",
        "* It’s the reduction in entropy before and after a dataset is split on a particular feature.\n",
        "\n",
        "* Formally, it’s the difference between :\n",
        "\n",
        "  * The entropy of the parent node (before split)\n",
        "\n",
        "  * The weighted sum of the entropies of the child nodes (after split)\n",
        "\n",
        "* Mathematical formula :\n",
        "\n",
        "  ![image.png](data:image/png;base64,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)\n",
        "\n",
        "  where :\n",
        "\n",
        "  * 𝐷 = dataset at the current node,\n",
        "\n",
        "  * 𝐴 = feature being considered for splitting,\n",
        "\n",
        "  * 𝑉𝑎𝑙𝑢𝑒𝑠(𝐴) = all possible values (or ranges) of feature 𝐴,\n",
        "\n",
        "  * 𝐷𝑣 = subset of 𝐷 where feature 𝐴 has value 𝑣,\n",
        "\n",
        "  * ∣𝐷𝑣∣ = number of samples in subset 𝐷𝑣,\n",
        "\n",
        "  * ∣𝐷∣ = number of samples in the original dataset 𝐷.\n",
        "\n",
        "* How it works :\n",
        "\n",
        "  1. Calculate the entropy of the entire dataset at the current node.\n",
        "\n",
        "  2. Split the dataset based on a feature 𝐴 into subsets.\n",
        "\n",
        "  3. Calculate the entropy for each subset.\n",
        "\n",
        "  4. Compute the weighted average entropy after the split.\n",
        "\n",
        "  5. Subtract this weighted entropy from the original entropy to get Information Gain.\n",
        "\n",
        "  6. Choose the feature with the highest Information Gain for the split — because it best reduces uncertainty."
      ],
      "metadata": {
        "id": "v70eHx71Rpls"
      }
    },
    {
      "cell_type": "markdown",
      "source": [
        "6. What is the difference between Gini Impurity and Entropy?\n",
        "\n",
        "* Both Gini Impurity and Entropy are measures used to evaluate the quality of splits in decision trees, but they have some differences in calculation, interpretation, and behavior.\n",
        "\n",
        "| Aspect                | Gini Impurity                                                 | Entropy                                          |\n",
        "| --------------------- | ------------------------------------------------------------- | ------------------------------------------------ |\n",
        "| **Formula**           | $1 - \\sum p_i^2$                                              | $- \\sum p_i \\log_2(p_i)$                         |\n",
        "| **Range**             | 0 (pure) to $\\frac{C-1}{C}$ (max impurity)                    | 0 (pure) to $\\log_2(C)$ (max impurity)           |\n",
        "| **Interpretation**    | Probability of misclassification when randomly labeling       | Measure of disorder or unpredictability          |\n",
        "| **Sensitivity**       | Less sensitive to changes in class probabilities              | More sensitive to changes in class probabilities |\n",
        "| **Computation Speed** | Slightly faster to compute (no logarithm)                     | Slightly slower due to logarithm calculations    |\n",
        "| **Typical Use**       | Used in CART algorithm (Classification and Regression Trees)  | Used in ID3 and C4.5 algorithms                  |\n",
        "| **Output**            | Gives a measure of node impurity based on class probabilities | Gives information content (bits) in the node     |\n"
      ],
      "metadata": {
        "id": "8tJ7zHp5SuyH"
      }
    },
    {
      "cell_type": "markdown",
      "source": [
        "7. What is the mathematical explanation behind Decision Trees?\n",
        "\n",
        "* The mathematical explanation behind Decision Trees involves how the tree splits data to minimize impurity (or error), recursively building a model that partitions the feature space into regions with mostly homogeneous outputs.\n",
        "\n",
        "* Key Concepts :\n",
        "\n",
        "  1. Dataset :\n",
        "\n",
        "    * A training set 𝐷 = {(𝑥𝑖,𝑦𝑖)}𝑖N = 1 , where 𝑥𝑖 = (𝑥𝑖1,𝑥𝑖2,...,𝑥i𝑑) is a feature vector, and 𝑦𝑖 is the label or target value.\n",
        "\n",
        "  2. Goal :\n",
        "\n",
        "    * Learn a function 𝑓:𝑥→𝑦 by partitioning the feature space into regions where 𝑦 is as \"pure\" (consistent) as possible.\n",
        "  \n",
        "* Building the Tree :\n",
        "\n",
        "  * The tree recursively partitions the input space into disjoint regions {𝑅1,𝑅2,...,𝑅𝑀}, where each region corresponds to a leaf node.\n",
        "\n",
        "  * At each node, the tree :\n",
        "\n",
        "    * Chooses a feature 𝑗∈{1,...,𝑑} and a split point 𝑠,\n",
        "\n",
        "    * Splits the data into two subsets :\n",
        "\n",
        "      R1(j,s)={x ∣ xj ≤s}, R2(j,s) = {x ∣ xj >s}\n",
        "    \n",
        "    * The split that minimizes the impurity or prediction error is chosen."
      ],
      "metadata": {
        "id": "oyWxq6yrT9bp"
      }
    },
    {
      "cell_type": "markdown",
      "source": [
        "8. What is Pre-Pruning in Decision Trees?\n",
        "\n",
        "* Pre-pruning (also called early stopping) is a technique used in decision trees to stop the tree from growing too deep during its construction.\n",
        "\n",
        "* The goal is to prevent overfitting by halting the growth of the tree before it becomes too complex and starts modeling noise in the data.\n",
        "\n",
        "* Why Use Pre-Pruning?\n",
        "\n",
        "  * Deep trees can perfectly fit the training data (low bias) but often generalize poorly to unseen data (high variance).\n",
        "\n",
        "  * Pre-pruning limits the model complexity and improves generalization.\n",
        "\n",
        "\n",
        "* Common Pre-Pruning Criteria\n",
        "\n",
        "| Criterion               | Description                                                          |\n",
        "| ----------------------- | -------------------------------------------------------------------- |\n",
        "| `max_depth`             | Maximum depth of the tree (limits how deep it can grow)              |\n",
        "| `min_samples_split`     | Minimum number of samples required to split an internal node         |\n",
        "| `min_samples_leaf`      | Minimum number of samples required to be in a leaf node              |\n",
        "| `max_leaf_nodes`        | Maximum number of leaf nodes allowed                                 |\n",
        "| `min_impurity_decrease` | Minimum reduction in impurity required to split                      |\n",
        "| `max_features`          | Limits number of features considered when looking for the best split |\n"
      ],
      "metadata": {
        "id": "h_ihdhDzWGxn"
      }
    },
    {
      "cell_type": "markdown",
      "source": [
        "9. What is Post-Pruning in Decision Trees?\n",
        "\n",
        "* Post-pruning (also known as cost-complexity pruning or error-based pruning) is a technique used in decision trees to reduce the size of a fully grown tree after it has been built.\n",
        "\n",
        "* It helps improve generalization by removing parts of the tree that are likely overfitting the training data.\n",
        "\n",
        "* Why Use Post-Pruning?\n",
        "\n",
        "  * Fully grown trees tend to capture noise and fine patterns in training data.\n",
        "\n",
        "  * Post-pruning simplifies the tree and improves generalization on unseen data.\n",
        "\n",
        "  * It often produces better results than pre-pruning since the tree first explores all splits and then prunes away the unhelpful ones.\n",
        "\n",
        "* Common Method: Cost-Complexity Pruning (Used in CART)\n",
        "\n",
        "  * This method introduces a penalty for complexity:\n",
        "\n",
        "  * 𝑅𝛼(𝑇) = 𝑅(𝑇) + 𝛼⋅∣𝑇∣\n",
        "\n",
        "  Where :\n",
        "\n",
        "  * 𝑅(𝑇) = total misclassification error of the tree 𝑇\n",
        "\n",
        "  * ∣𝑇∣ = number of terminal nodes (leaves) in the tree\n",
        "\n",
        "  * 𝛼 = regularization parameter controlling the trade-off between error and complexity\n",
        "\n",
        "The tree with the lowest 𝑅𝛼(𝑇) is selected.\n"
      ],
      "metadata": {
        "id": "-fZV8caWWwd8"
      }
    },
    {
      "cell_type": "markdown",
      "source": [
        "10. What is the difference between Pre-Pruning and Post-Pruning?\n",
        "\n",
        "* The difference between Pre-Pruning and Post-Pruning lies in when and how the tree is simplified during the training process. Here's a clear comparison :\n",
        "\n",
        "* Conceptual Difference\n",
        "\n",
        "| Feature          | **Pre-Pruning (Early Stopping)**                  | **Post-Pruning (Reduced Error / Cost-Complexity)**     |\n",
        "| ---------------- | ------------------------------------------------- | ------------------------------------------------------ |\n",
        "| **When applied** | During tree construction                          | After full tree is built                               |\n",
        "| **Strategy**     | Prevents splits if they don’t improve performance | Allows all splits first, then removes unnecessary ones |\n",
        "| **Goal**         | Avoid growing a complex tree from the start       | Simplify a fully grown tree for better generalization  |\n",
        "| **Risk**         | May **underfit** (stop too early)                 | May **overfit first**, but then correct via pruning    |\n",
        "\n",
        "* Technical Comparison\n",
        "\n",
        "| Aspect                 | Pre-Pruning                                                | Post-Pruning                                                |\n",
        "| ---------------------- | ---------------------------------------------------------- | ----------------------------------------------------------- |\n",
        "| **Control parameters** | `max_depth`, `min_samples_split`, `min_samples_leaf`, etc. | `ccp_alpha` (cost-complexity), validation set pruning       |\n",
        "| **Efficiency**         | Faster to train, simpler trees                             | Slower (full tree built first) but more accurate            |\n",
        "| **Flexibility**        | Conservative — doesn’t allow deep learning of patterns     | More flexible — explores full complexity first              |\n",
        "| **Data requirement**   | Only training data needed                                  | Requires **validation set** or **cross-validation**         |\n",
        "| **Used in**            | CART, ID3 (with limits), simple decision trees             | CART (Cost-Complexity Pruning), C4.5, Reduced Error Pruning |\n"
      ],
      "metadata": {
        "id": "WCPphGb6Xr-5"
      }
    },
    {
      "cell_type": "markdown",
      "source": [
        "11. What is a Decision Tree Regressor?\n",
        "\n",
        "* A Decision Tree Regressor is a type of decision tree used for regression tasks, where the goal is to predict continuous numerical values (not categories).\n",
        "\n",
        "* It splits the input space into regions based on feature values, just like a classification tree.\n",
        "\n",
        "* But instead of assigning a class label at each leaf, it assigns a numeric value, typically the mean of the target values in that region.\n",
        "\n",
        "* How It Works (Conceptually) :\n",
        "\n",
        "  1. The dataset is split recursively into smaller subsets.\n",
        "\n",
        "  2. At each split (decision node), the algorithm chooses a feature and threshold that minimizes the error.\n",
        "\n",
        "  3. The tree continues splitting until it meets a stopping condition (e.g., max depth, minimum samples).\n",
        "\n",
        "  4. Each leaf node holds the average value of the target variable for that subset.\n",
        "\n",
        "  5. For prediction, the input follows a path down the tree to a leaf, and the predicted value is the mean of that region.\n",
        "  "
      ],
      "metadata": {
        "id": "NXjbBU-lYd8E"
      }
    },
    {
      "cell_type": "markdown",
      "source": [
        "12. What are the advantages and disadvantages of Decision Trees?\n",
        "\n",
        "Here’s a balanced overview of the advantages and disadvantages of Decision Trees, useful for understanding when to use them and what trade-offs they involve :\n",
        "\n",
        "* Advantages of Decision Trees\n",
        "\n",
        "| Feature                                                 | Description                                                                    |\n",
        "| ------------------------------------------------------- | ------------------------------------------------------------------------------ |\n",
        "| **Easy to understand and interpret**                    | Decision trees mimic human decision-making and are visualizable as flowcharts. |\n",
        "| **Requires little data preprocessing**                  | No need for feature scaling, normalization, or dummy encoding for many models. |\n",
        "| **Handles both numerical and categorical data**         | Can work directly with mixed data types.                                       |\n",
        "| **Captures non-linear relationships**                   | Can model complex decision boundaries without needing transformations.         |\n",
        "| **Fast and efficient**                                  | Low computational cost for both training and inference.                        |\n",
        "| **Feature importance**                                  | Provides a ranking of feature importance inherently.                           |\n",
        "| **Works with missing values (in some implementations)** | Some libraries handle missing data directly.                                   |\n",
        "\n",
        "* Disadvantages of Decision Trees\n",
        "\n",
        "| Limitation                                    | Description                                                                         |\n",
        "| --------------------------------------------- | ----------------------------------------------------------------------------------- |\n",
        "| **Prone to overfitting**                      | Especially if the tree is deep and unpruned, it may learn noise from training data. |\n",
        "| **Unstable**                                  | Small changes in the data can lead to very different trees (high variance).         |\n",
        "| **Greedy algorithm**                          | Each split is chosen greedily; may not lead to globally optimal tree.               |\n",
        "| **Bias towards features with more levels**    | Tends to favor features with more unique values (especially in classification).     |\n",
        "| **Not ideal for extrapolation in regression** | Performs poorly on values outside the range of training data.                       |\n",
        "| **Can be hard to interpret if large**         | Large trees lose the simplicity and clarity of shallow ones.                        |\n"
      ],
      "metadata": {
        "id": "coE1_IAuY8Xs"
      }
    },
    {
      "cell_type": "markdown",
      "source": [
        "13.  How does a Decision Tree handle missing values?\n",
        "\n",
        "A Decision Tree can handle missing values using several strategies, depending on the algorithm and implementation. While the basic form of decision trees doesn't handle missing values natively, many modern libraries (like sklearn, XGBoost, and LightGBM) implement clever techniques to work around them.\n",
        "\n",
        "* Common Methods to Handle Missing Values in Decision Trees\n",
        "\n",
        "  1. Imputation (Before Training)\n",
        "    \n",
        "    * Missing values are filled in before training the model.\n",
        "\n",
        "    * Common imputation techniques :\n",
        "\n",
        "      * Mean/median for numerical features\n",
        "\n",
        "      * Mode for categorical features\n",
        "\n",
        "      * Custom (like interpolation or using domain knowledge)\n",
        "  \n",
        "  2. Surrogate Splits (Used in CART / C4.5)\n",
        "\n",
        "    * When a sample has a missing value for the splitting feature, the tree uses a backup feature (surrogate) that closely mimics the original split.\n",
        "\n",
        "    * These surrogate features are ranked by how well they predict the same split as the primary feature.\n",
        "\n",
        "  3. Split Samples with Missing Values in Both Branches\n",
        "\n",
        "    * Some implementations send instances with missing values to both branches, weighted by the proportion of training samples that go to each side.\n",
        "\n",
        "    * Common in XGBoost and LightGBM.\n"
      ],
      "metadata": {
        "id": "A7UuKqtMZLxG"
      }
    },
    {
      "cell_type": "markdown",
      "source": [
        "14. How does a Decision Tree handle categorical features?\n",
        "\n",
        "* A Decision Tree can handle categorical features directly, but how it's done depends on the implementation. Some algorithms support categorical data natively, while others require preprocessing.\n",
        "\n",
        "1. Native Handling (Direct Splitting on Categories)\n",
        "\n",
        "  * Some decision tree algorithms (like CART in theory, LightGBM, CatBoost, and C4.5) handle categorical features directly by:\n",
        "\n",
        "  * Splitting based on category values.\n",
        "\n",
        "  * For example, a node might split like :\n",
        "\n",
        "  if color in {red, blue}: go left\n",
        "  else: go right\n",
        "\n",
        "2. One-Hot Encoding (Manual Transformation)\n",
        "\n",
        "  * Libraries like Scikit-learn’s DecisionTreeClassifier do not handle categorical data natively. You must manually convert them using:\n",
        "\n",
        "  * One-hot encoding : turns each category into a separate binary column.\n",
        "\n",
        "  * Example :\n",
        "\n",
        "  color: [red, green, blue]\n",
        "  →\n",
        "  color_red, color_green, color_blue (each 0 or 1)\n",
        "\n",
        "3. Ordinal Encoding (if categories have natural order)\n",
        "\n",
        "  * If your categories have a meaningful order (e.g., low < medium < high), you can use ordinal encoding:\n",
        "\n",
        "  * Example :\n",
        "\n",
        "  low → 0, medium → 1, high → 2\n",
        "\n"
      ],
      "metadata": {
        "id": "3hGidBegZ_RK"
      }
    },
    {
      "cell_type": "markdown",
      "source": [
        "15. What are some real-world applications of Decision Trees?\n",
        "\n",
        "* Decision Trees are widely used across industries due to their interpretability, flexibility, and ability to model non-linear relationships. Here are some popular real-world applications :\n",
        "\n",
        "1. Healthcare\n",
        "\n",
        "  * Diagnosis assistance : Predict diseases based on symptoms, test results, and patient history.\n",
        "\n",
        "  * Risk assessment : Estimate the probability of heart disease, cancer, or diabetes.\n",
        "\n",
        "  * Treatment decisions : Suggest best treatment plans based on patient profiles.\n",
        "\n",
        "2. Finance & Banking\n",
        "\n",
        "  * Credit scoring : Evaluate whether a customer should receive a loan based on income, age, employment, etc.\n",
        "\n",
        "  * Fraud detection : Identify unusual patterns or suspicious transactions.\n",
        "\n",
        "  * Investment decisions : Classify high- vs. low-risk investment profiles.\n",
        "\n",
        "3. Retail & E-commerce\n",
        "\n",
        "  * Customer segmentation : Group users based on purchase behavior, demographics, and browsing history.\n",
        "\n",
        "  * Recommendation systems : Suggest products based on past buying patterns.\n",
        "\n",
        "  * Churn prediction : Predict if a customer is likely to stop buying/subscribing.\n",
        "\n",
        "4. Real Estate\n",
        "\n",
        "  * Property price prediction : Estimate home prices based on location, size, amenities.\n",
        "\n",
        "  * Buyer segmentation : Classify potential buyers by preferences and affordability."
      ],
      "metadata": {
        "id": "sOvoinQ2ak7f"
      }
    },
    {
      "cell_type": "markdown",
      "source": [
        "# Practical"
      ],
      "metadata": {
        "id": "Iu-HCMgQbDvk"
      }
    },
    {
      "cell_type": "code",
      "execution_count": 1,
      "metadata": {
        "colab": {
          "base_uri": "https://localhost:8080/"
        },
        "id": "gtwHjlawOx90",
        "outputId": "35be03e1-98b1-4a6b-939e-612fe0d344c4"
      },
      "outputs": [
        {
          "output_type": "stream",
          "name": "stdout",
          "text": [
            "Model Accuracy: 100.00%\n"
          ]
        }
      ],
      "source": [
        "# 16. Write a Python program to train a Decision Tree Classifier on the Iris dataset and print the model accuracy.\n",
        "\n",
        "# Import necessary libraries\n",
        "from sklearn.datasets import load_iris\n",
        "from sklearn.model_selection import train_test_split\n",
        "from sklearn.tree import DecisionTreeClassifier\n",
        "from sklearn.metrics import accuracy_score\n",
        "\n",
        "# Load the Iris dataset\n",
        "iris = load_iris()\n",
        "X = iris.data      # Features\n",
        "y = iris.target    # Labels\n",
        "\n",
        "# Split the dataset into training and testing sets (80% train, 20% test)\n",
        "X_train, X_test, y_train, y_test = train_test_split(X, y, test_size=0.2, random_state=42)\n",
        "\n",
        "# Create and train the Decision Tree Classifier\n",
        "clf = DecisionTreeClassifier(random_state=42)\n",
        "clf.fit(X_train, y_train)\n",
        "\n",
        "# Make predictions on the test set\n",
        "y_pred = clf.predict(X_test)\n",
        "\n",
        "# Calculate and print the accuracy\n",
        "accuracy = accuracy_score(y_test, y_pred)\n",
        "print(f\"Model Accuracy: {accuracy * 100:.2f}%\")"
      ]
    },
    {
      "cell_type": "code",
      "source": [
        "# 17. Write a Python program to train a Decision Tree Classifier using Gini Impurity as the criterion and print the feature importances.\n",
        "\n",
        "# Import necessary libraries\n",
        "from sklearn.datasets import load_iris\n",
        "from sklearn.model_selection import train_test_split\n",
        "from sklearn.tree import DecisionTreeClassifier\n",
        "\n",
        "# Load the Iris dataset\n",
        "iris = load_iris()\n",
        "X = iris.data      # Feature matrix\n",
        "y = iris.target    # Target labels\n",
        "feature_names = iris.feature_names\n",
        "\n",
        "# Split the data into training and testing sets (80% train, 20% test)\n",
        "X_train, X_test, y_train, y_test = train_test_split(X, y, test_size=0.2, random_state=42)\n",
        "\n",
        "# Create and train the Decision Tree Classifier using Gini impurity\n",
        "clf = DecisionTreeClassifier(criterion='gini', random_state=42)\n",
        "clf.fit(X_train, y_train)\n",
        "\n",
        "# Print feature importances\n",
        "print(\"Feature Importances (Gini-based):\")\n",
        "for name, importance in zip(feature_names, clf.feature_importances_):\n",
        "    print(f\"{name}: {importance:.4f}\")"
      ],
      "metadata": {
        "colab": {
          "base_uri": "https://localhost:8080/"
        },
        "id": "7UpM9E4DGd_V",
        "outputId": "8eb82dc8-5493-40a5-b681-673628a3a933"
      },
      "execution_count": 2,
      "outputs": [
        {
          "output_type": "stream",
          "name": "stdout",
          "text": [
            "Feature Importances (Gini-based):\n",
            "sepal length (cm): 0.0000\n",
            "sepal width (cm): 0.0167\n",
            "petal length (cm): 0.9061\n",
            "petal width (cm): 0.0772\n"
          ]
        }
      ]
    },
    {
      "cell_type": "code",
      "source": [
        "# 18. Write a Python program to train a Decision Tree Classifier using Entropy as the splitting criterion and print the  model accuracy.\n",
        "\n",
        "# Import necessary libraries\n",
        "from sklearn.datasets import load_iris\n",
        "from sklearn.model_selection import train_test_split\n",
        "from sklearn.tree import DecisionTreeClassifier\n",
        "from sklearn.metrics import accuracy_score\n",
        "\n",
        "# Load the Iris dataset\n",
        "iris = load_iris()\n",
        "X = iris.data      # Features\n",
        "y = iris.target    # Labels\n",
        "\n",
        "# Split the dataset into training and testing sets (80% train, 20% test)\n",
        "X_train, X_test, y_train, y_test = train_test_split(X, y, test_size=0.2, random_state=42)\n",
        "\n",
        "# Create and train the Decision Tree Classifier using Entropy\n",
        "clf = DecisionTreeClassifier(criterion='entropy', random_state=42)\n",
        "clf.fit(X_train, y_train)\n",
        "\n",
        "# Make predictions on the test set\n",
        "y_pred = clf.predict(X_test)\n",
        "\n",
        "# Calculate and print the accuracy\n",
        "accuracy = accuracy_score(y_test, y_pred)\n",
        "print(f\"Model Accuracy (Entropy-based): {accuracy * 100:.2f}%\")"
      ],
      "metadata": {
        "colab": {
          "base_uri": "https://localhost:8080/"
        },
        "id": "7mGwgeBDGoR8",
        "outputId": "3d40a148-d981-4aa7-e20d-83a4805e1ae8"
      },
      "execution_count": 3,
      "outputs": [
        {
          "output_type": "stream",
          "name": "stdout",
          "text": [
            "Model Accuracy (Entropy-based): 100.00%\n"
          ]
        }
      ]
    },
    {
      "cell_type": "code",
      "source": [
        "# 19. Write a Python program to train a Decision Tree Regressor on a housing dataset and evaluate using Mean Squared Error (MSE).\n",
        "\n",
        "# Import necessary libraries\n",
        "from sklearn.datasets import fetch_california_housing\n",
        "from sklearn.model_selection import train_test_split\n",
        "from sklearn.tree import DecisionTreeRegressor\n",
        "from sklearn.metrics import mean_squared_error\n",
        "\n",
        "# Load the California Housing dataset\n",
        "housing = fetch_california_housing()\n",
        "X = housing.data      # Features\n",
        "y = housing.target    # Target (median house value)\n",
        "\n",
        "# Split the dataset into training and testing sets (80% train, 20% test)\n",
        "X_train, X_test, y_train, y_test = train_test_split(X, y, test_size=0.2, random_state=42)\n",
        "\n",
        "# Create and train the Decision Tree Regressor\n",
        "regressor = DecisionTreeRegressor(random_state=42)\n",
        "regressor.fit(X_train, y_train)\n",
        "\n",
        "# Predict on the test set\n",
        "y_pred = regressor.predict(X_test)\n",
        "\n",
        "# Calculate Mean Squared Error\n",
        "mse = mean_squared_error(y_test, y_pred)\n",
        "print(f\"Mean Squared Error (MSE): {mse:.4f}\")"
      ],
      "metadata": {
        "colab": {
          "base_uri": "https://localhost:8080/"
        },
        "id": "4vWefGLSGxH7",
        "outputId": "ce9f058e-d6d8-421d-9238-1947be77ae2b"
      },
      "execution_count": 4,
      "outputs": [
        {
          "output_type": "stream",
          "name": "stdout",
          "text": [
            "Mean Squared Error (MSE): 0.4952\n"
          ]
        }
      ]
    },
    {
      "cell_type": "code",
      "source": [
        "# 20. Write a Python program to train a Decision Tree Classifier and visualize the tree using graphviz.\n",
        "\n",
        "from sklearn.datasets import load_iris\n",
        "from sklearn.tree import DecisionTreeClassifier, export_graphviz\n",
        "from sklearn.model_selection import train_test_split\n",
        "import graphviz\n",
        "\n",
        "# Load the Iris dataset\n",
        "iris = load_iris()\n",
        "X = iris.data\n",
        "y = iris.target\n",
        "feature_names = iris.feature_names\n",
        "class_names = iris.target_names\n",
        "\n",
        "# Split the dataset\n",
        "X_train, X_test, y_train, y_test = train_test_split(X, y, test_size=0.2, random_state=42)\n",
        "\n",
        "# Train Decision Tree Classifier\n",
        "clf = DecisionTreeClassifier(criterion='gini', random_state=42)\n",
        "clf.fit(X_train, y_train)\n",
        "\n",
        "# Export the tree to DOT format\n",
        "dot_data = export_graphviz(\n",
        "    clf,\n",
        "    out_file=None,\n",
        "    feature_names=feature_names,\n",
        "    class_names=class_names,\n",
        "    filled=True,\n",
        "    rounded=True,\n",
        "    special_characters=True\n",
        ")\n",
        "\n",
        "# Render and display the tree\n",
        "graph = graphviz.Source(dot_data)\n",
        "graph.render(\"iris_tree\", view=True)  # Saves and opens iris_tree.pdf"
      ],
      "metadata": {
        "colab": {
          "base_uri": "https://localhost:8080/",
          "height": 35
        },
        "id": "TE6AufpvG6dA",
        "outputId": "b5f1a41a-8610-4d7f-f4d0-3d80e1906417"
      },
      "execution_count": 6,
      "outputs": [
        {
          "output_type": "execute_result",
          "data": {
            "text/plain": [
              "'iris_tree.pdf'"
            ],
            "application/vnd.google.colaboratory.intrinsic+json": {
              "type": "string"
            }
          },
          "metadata": {},
          "execution_count": 6
        }
      ]
    },
    {
      "cell_type": "code",
      "source": [
        "# 21. Write a Python program to train a Decision Tree Classifier with a maximum depth of 3 and compare its  accuracy with a fully grown tree.\n",
        "\n",
        "from sklearn.datasets import load_iris\n",
        "from sklearn.model_selection import train_test_split\n",
        "from sklearn.tree import DecisionTreeClassifier\n",
        "from sklearn.metrics import accuracy_score\n",
        "\n",
        "# Load the Iris dataset\n",
        "iris = load_iris()\n",
        "X = iris.data\n",
        "y = iris.target\n",
        "\n",
        "# Split dataset into train and test sets (80/20 split)\n",
        "X_train, X_test, y_train, y_test = train_test_split(X, y, test_size=0.2, random_state=42)\n",
        "\n",
        "# Train Decision Tree with max_depth=3\n",
        "shallow_tree = DecisionTreeClassifier(max_depth=3, random_state=42)\n",
        "shallow_tree.fit(X_train, y_train)\n",
        "shallow_pred = shallow_tree.predict(X_test)\n",
        "shallow_acc = accuracy_score(y_test, shallow_pred)\n",
        "\n",
        "# Train fully grown Decision Tree (no max depth)\n",
        "full_tree = DecisionTreeClassifier(random_state=42)\n",
        "full_tree.fit(X_train, y_train)\n",
        "full_pred = full_tree.predict(X_test)\n",
        "full_acc = accuracy_score(y_test, full_pred)\n",
        "\n",
        "# Print the accuracy comparison\n",
        "print(f\"Accuracy with max_depth=3: {shallow_acc * 100:.2f}%\")\n",
        "print(f\"Accuracy with full tree:   {full_acc * 100:.2f}%\")"
      ],
      "metadata": {
        "colab": {
          "base_uri": "https://localhost:8080/"
        },
        "id": "UxbIbEN_HFqk",
        "outputId": "e320d47a-b2dd-4db8-bd00-da6353c1a2d9"
      },
      "execution_count": 7,
      "outputs": [
        {
          "output_type": "stream",
          "name": "stdout",
          "text": [
            "Accuracy with max_depth=3: 100.00%\n",
            "Accuracy with full tree:   100.00%\n"
          ]
        }
      ]
    },
    {
      "cell_type": "code",
      "source": [
        "# 22. Write a Python program to train a Decision Tree Classifier using min_samples_split=5 and compare its  accuracy with a default tree.\n",
        "\n",
        "from sklearn.datasets import load_iris\n",
        "from sklearn.model_selection import train_test_split\n",
        "from sklearn.tree import DecisionTreeClassifier\n",
        "from sklearn.metrics import accuracy_score\n",
        "\n",
        "# Load the Iris dataset\n",
        "iris = load_iris()\n",
        "X = iris.data\n",
        "y = iris.target\n",
        "\n",
        "# Split dataset into train and test sets (80% train, 20% test)\n",
        "X_train, X_test, y_train, y_test = train_test_split(X, y, test_size=0.2, random_state=42)\n",
        "\n",
        "# Train Decision Tree with min_samples_split=5\n",
        "tree_split5 = DecisionTreeClassifier(min_samples_split=5, random_state=42)\n",
        "tree_split5.fit(X_train, y_train)\n",
        "pred_split5 = tree_split5.predict(X_test)\n",
        "acc_split5 = accuracy_score(y_test, pred_split5)\n",
        "\n",
        "# Train default Decision Tree\n",
        "tree_default = DecisionTreeClassifier(random_state=42)\n",
        "tree_default.fit(X_train, y_train)\n",
        "pred_default = tree_default.predict(X_test)\n",
        "acc_default = accuracy_score(y_test, pred_default)\n",
        "\n",
        "# Print accuracy comparison\n",
        "print(f\"Accuracy with min_samples_split=5: {acc_split5 * 100:.2f}%\")\n",
        "print(f\"Accuracy with default settings:     {acc_default * 100:.2f}%\")"
      ],
      "metadata": {
        "colab": {
          "base_uri": "https://localhost:8080/"
        },
        "id": "G7l8QTVwHqZr",
        "outputId": "3552f607-c267-421c-934d-0c641f10f5d7"
      },
      "execution_count": 8,
      "outputs": [
        {
          "output_type": "stream",
          "name": "stdout",
          "text": [
            "Accuracy with min_samples_split=5: 100.00%\n",
            "Accuracy with default settings:     100.00%\n"
          ]
        }
      ]
    },
    {
      "cell_type": "code",
      "source": [
        "# 23.  Write a Python program to apply feature scaling before training a Decision Tree Classifier and compare its  accuracy with unscaled data.\n",
        "\n",
        "from sklearn.datasets import load_iris\n",
        "from sklearn.model_selection import train_test_split\n",
        "from sklearn.tree import DecisionTreeClassifier\n",
        "from sklearn.metrics import accuracy_score\n",
        "from sklearn.preprocessing import StandardScaler\n",
        "\n",
        "# Load the Iris dataset\n",
        "iris = load_iris()\n",
        "X = iris.data\n",
        "y = iris.target\n",
        "\n",
        "# Split the dataset\n",
        "X_train, X_test, y_train, y_test = train_test_split(X, y, test_size=0.2, random_state=42)\n",
        "\n",
        "# Train Decision Tree WITHOUT scaling\n",
        "clf_unscaled = DecisionTreeClassifier(random_state=42)\n",
        "clf_unscaled.fit(X_train, y_train)\n",
        "y_pred_unscaled = clf_unscaled.predict(X_test)\n",
        "acc_unscaled = accuracy_score(y_test, y_pred_unscaled)\n",
        "\n",
        "# Apply feature scaling\n",
        "scaler = StandardScaler()\n",
        "X_train_scaled = scaler.fit_transform(X_train)\n",
        "X_test_scaled = scaler.transform(X_test)\n",
        "\n",
        "# Train Decision Tree WITH scaling\n",
        "clf_scaled = DecisionTreeClassifier(random_state=42)\n",
        "clf_scaled.fit(X_train_scaled, y_train)\n",
        "y_pred_scaled = clf_scaled.predict(X_test_scaled)\n",
        "acc_scaled = accuracy_score(y_test, y_pred_scaled)\n",
        "\n",
        "# Print accuracy comparison\n",
        "print(f\"Accuracy without scaling: {acc_unscaled * 100:.2f}%\")\n",
        "print(f\"Accuracy with scaling:    {acc_scaled * 100:.2f}%\")"
      ],
      "metadata": {
        "colab": {
          "base_uri": "https://localhost:8080/"
        },
        "id": "SiiUdO8CH2MN",
        "outputId": "e729be1e-211b-4681-ccfc-48ca566b47bb"
      },
      "execution_count": 9,
      "outputs": [
        {
          "output_type": "stream",
          "name": "stdout",
          "text": [
            "Accuracy without scaling: 100.00%\n",
            "Accuracy with scaling:    100.00%\n"
          ]
        }
      ]
    },
    {
      "cell_type": "code",
      "source": [
        "# 24. Write a Python program to train a Decision Tree Classifier using One-vs-Rest (OvR) strategy for multiclass  classification.\n",
        "\n",
        "from sklearn.datasets import load_iris\n",
        "from sklearn.model_selection import train_test_split\n",
        "from sklearn.tree import DecisionTreeClassifier\n",
        "from sklearn.multiclass import OneVsRestClassifier\n",
        "from sklearn.metrics import accuracy_score\n",
        "\n",
        "# Load the Iris dataset\n",
        "iris = load_iris()\n",
        "X = iris.data\n",
        "y = iris.target\n",
        "\n",
        "# Split the dataset into training and testing sets\n",
        "X_train, X_test, y_train, y_test = train_test_split(X, y, test_size=0.2, random_state=42)\n",
        "\n",
        "# Wrap Decision Tree Classifier with One-vs-Rest strategy\n",
        "ovr_classifier = OneVsRestClassifier(DecisionTreeClassifier(random_state=42))\n",
        "ovr_classifier.fit(X_train, y_train)\n",
        "\n",
        "# Make predictions\n",
        "y_pred = ovr_classifier.predict(X_test)\n",
        "\n",
        "# Evaluate accuracy\n",
        "accuracy = accuracy_score(y_test, y_pred)\n",
        "print(f\"Accuracy using One-vs-Rest (OvR) strategy: {accuracy * 100:.2f}%\")"
      ],
      "metadata": {
        "colab": {
          "base_uri": "https://localhost:8080/"
        },
        "id": "uYLZLVGNI5wu",
        "outputId": "4307f752-8b16-43f3-ead6-05dac691366d"
      },
      "execution_count": 10,
      "outputs": [
        {
          "output_type": "stream",
          "name": "stdout",
          "text": [
            "Accuracy using One-vs-Rest (OvR) strategy: 100.00%\n"
          ]
        }
      ]
    },
    {
      "cell_type": "code",
      "source": [
        "# 25. Write a Python program to train a Decision Tree Classifier and display the feature importance scores.\n",
        "\n",
        "from sklearn.datasets import load_iris\n",
        "from sklearn.tree import DecisionTreeClassifier\n",
        "from sklearn.model_selection import train_test_split\n",
        "\n",
        "# Load the Iris dataset\n",
        "iris = load_iris()\n",
        "X = iris.data\n",
        "y = iris.target\n",
        "feature_names = iris.feature_names\n",
        "\n",
        "# Split dataset into training and test sets\n",
        "X_train, X_test, y_train, y_test = train_test_split(X, y, test_size=0.2, random_state=42)\n",
        "\n",
        "# Train the Decision Tree Classifier\n",
        "clf = DecisionTreeClassifier(random_state=42)\n",
        "clf.fit(X_train, y_train)\n",
        "\n",
        "# Display feature importances\n",
        "print(\"Feature Importance Scores:\")\n",
        "for name, score in zip(feature_names, clf.feature_importances_):\n",
        "    print(f\"{name}: {score:.4f}\")"
      ],
      "metadata": {
        "colab": {
          "base_uri": "https://localhost:8080/"
        },
        "id": "EOiaiNg_JHT-",
        "outputId": "08d3ab20-4058-49f5-ebfc-99a36a26a0bd"
      },
      "execution_count": 11,
      "outputs": [
        {
          "output_type": "stream",
          "name": "stdout",
          "text": [
            "Feature Importance Scores:\n",
            "sepal length (cm): 0.0000\n",
            "sepal width (cm): 0.0167\n",
            "petal length (cm): 0.9061\n",
            "petal width (cm): 0.0772\n"
          ]
        }
      ]
    },
    {
      "cell_type": "code",
      "source": [
        "# 26.  Write a Python program to train a Decision Tree Regressor with max_depth=5 and compare its performance  with an unrestricted tree.\n",
        "\n",
        "from sklearn.datasets import fetch_california_housing\n",
        "from sklearn.model_selection import train_test_split\n",
        "from sklearn.tree import DecisionTreeRegressor\n",
        "from sklearn.metrics import mean_squared_error\n",
        "\n",
        "# Load the California Housing dataset\n",
        "housing = fetch_california_housing()\n",
        "X = housing.data\n",
        "y = housing.target\n",
        "\n",
        "# Split dataset into train/test sets (80% train, 20% test)\n",
        "X_train, X_test, y_train, y_test = train_test_split(X, y, test_size=0.2, random_state=42)\n",
        "\n",
        "# Train Decision Tree Regressor with max_depth=5\n",
        "regressor_depth5 = DecisionTreeRegressor(max_depth=5, random_state=42)\n",
        "regressor_depth5.fit(X_train, y_train)\n",
        "y_pred_depth5 = regressor_depth5.predict(X_test)\n",
        "mse_depth5 = mean_squared_error(y_test, y_pred_depth5)\n",
        "\n",
        "# Train unrestricted Decision Tree Regressor\n",
        "regressor_full = DecisionTreeRegressor(random_state=42)\n",
        "regressor_full.fit(X_train, y_train)\n",
        "y_pred_full = regressor_full.predict(X_test)\n",
        "mse_full = mean_squared_error(y_test, y_pred_full)\n",
        "\n",
        "# Print MSE for both models\n",
        "print(f\"MSE with max_depth=5: {mse_depth5:.4f}\")\n",
        "print(f\"MSE with unrestricted depth: {mse_full:.4f}\")"
      ],
      "metadata": {
        "colab": {
          "base_uri": "https://localhost:8080/"
        },
        "id": "-Eb8kpbUJOw4",
        "outputId": "e24d5174-d96b-4e00-b2bc-f90db98e49fd"
      },
      "execution_count": 12,
      "outputs": [
        {
          "output_type": "stream",
          "name": "stdout",
          "text": [
            "MSE with max_depth=5: 0.5245\n",
            "MSE with unrestricted depth: 0.4952\n"
          ]
        }
      ]
    },
    {
      "cell_type": "code",
      "source": [
        "# 27. Write a Python program to train a Decision Tree Classifier, apply Cost Complexity Pruning (CCP), and  visualize its effect on accuracy.\n",
        "\n",
        "import matplotlib.pyplot as plt\n",
        "from sklearn.datasets import load_iris\n",
        "from sklearn.model_selection import train_test_split\n",
        "from sklearn.tree import DecisionTreeClassifier\n",
        "from sklearn.metrics import accuracy_score\n",
        "\n",
        "# Load dataset\n",
        "iris = load_iris()\n",
        "X = iris.data\n",
        "y = iris.target\n",
        "\n",
        "# Split data into train/test sets\n",
        "X_train, X_test, y_train, y_test = train_test_split(X, y, test_size=0.2, random_state=42)\n",
        "\n",
        "# Train initial tree to get effective alphas for pruning\n",
        "clf = DecisionTreeClassifier(random_state=42)\n",
        "clf.fit(X_train, y_train)\n",
        "\n",
        "# Get effective alphas and corresponding total leaf impurities\n",
        "path = clf.cost_complexity_pruning_path(X_train, y_train)\n",
        "ccp_alphas, impurities = path.ccp_alphas, path.impurities\n",
        "\n",
        "# Store accuracies for train and test sets\n",
        "train_accuracies = []\n",
        "test_accuracies = []\n",
        "\n",
        "# Train a tree for each alpha and record accuracy\n",
        "for ccp_alpha in ccp_alphas:\n",
        "    clf_pruned = DecisionTreeClassifier(random_state=42, ccp_alpha=ccp_alpha)\n",
        "    clf_pruned.fit(X_train, y_train)\n",
        "\n",
        "    y_train_pred = clf_pruned.predict(X_train)\n",
        "    y_test_pred = clf_pruned.predict(X_test)\n",
        "\n",
        "    train_accuracies.append(accuracy_score(y_train, y_train_pred))\n",
        "    test_accuracies.append(accuracy_score(y_test, y_test_pred))\n",
        "\n",
        "# Plot accuracy vs alpha\n",
        "plt.figure(figsize=(8, 5))\n",
        "plt.plot(ccp_alphas, train_accuracies, marker='o', label='Train Accuracy', drawstyle=\"steps-post\")\n",
        "plt.plot(ccp_alphas, test_accuracies, marker='o', label='Test Accuracy', drawstyle=\"steps-post\")\n",
        "plt.xlabel(\"CCP Alpha\")\n",
        "plt.ylabel(\"Accuracy\")\n",
        "plt.title(\"Effect of Cost Complexity Pruning on Decision Tree Accuracy\")\n",
        "plt.legend()\n",
        "plt.grid(True)\n",
        "plt.show()"
      ],
      "metadata": {
        "colab": {
          "base_uri": "https://localhost:8080/",
          "height": 487
        },
        "id": "bh2OHVDCJX6u",
        "outputId": "657f8416-520c-4134-80cd-bc6a98efdb75"
      },
      "execution_count": 13,
      "outputs": [
        {
          "output_type": "display_data",
          "data": {
            "text/plain": [
              "<Figure size 800x500 with 1 Axes>"
            ],
            "image/png": "[encoded data removed]"
          },
          "metadata": {}
        }
      ]
    },
    {
      "cell_type": "code",
      "source": [
        "# 28. Write a Python program to train a Decision Tree Classifier and evaluate its performance using Precision, Recall, and F1-Score.\n",
        "\n",
        "from sklearn.datasets import load_iris\n",
        "from sklearn.model_selection import train_test_split\n",
        "from sklearn.tree import DecisionTreeClassifier\n",
        "from sklearn.metrics import classification_report\n",
        "\n",
        "# Load Iris dataset\n",
        "iris = load_iris()\n",
        "X = iris.data\n",
        "y = iris.target\n",
        "\n",
        "# Split dataset (80% train, 20% test)\n",
        "X_train, X_test, y_train, y_test = train_test_split(X, y, test_size=0.2, random_state=42)\n",
        "\n",
        "# Train Decision Tree Classifier\n",
        "clf = DecisionTreeClassifier(random_state=42)\n",
        "clf.fit(X_train, y_train)\n",
        "\n",
        "# Predict on test data\n",
        "y_pred = clf.predict(X_test)\n",
        "\n",
        "# Generate classification report\n",
        "report = classification_report(y_test, y_pred, target_names=iris.target_names)\n",
        "\n",
        "print(\"Classification Report:\\n\")\n",
        "print(report)"
      ],
      "metadata": {
        "colab": {
          "base_uri": "https://localhost:8080/"
        },
        "id": "y2k9R_VLJj7A",
        "outputId": "a18af0ad-424e-4aa6-9540-d83515cd0fe1"
      },
      "execution_count": 14,
      "outputs": [
        {
          "output_type": "stream",
          "name": "stdout",
          "text": [
            "Classification Report:\n",
            "\n",
            "              precision    recall  f1-score   support\n",
            "\n",
            "      setosa       1.00      1.00      1.00        10\n",
            "  versicolor       1.00      1.00      1.00         9\n",
            "   virginica       1.00      1.00      1.00        11\n",
            "\n",
            "    accuracy                           1.00        30\n",
            "   macro avg       1.00      1.00      1.00        30\n",
            "weighted avg       1.00      1.00      1.00        30\n",
            "\n"
          ]
        }
      ]
    },
    {
      "cell_type": "code",
      "source": [
        "# 29. Write a Python program to train a Decision Tree Classifier and visualize the confusion matrix using seaborn.\n",
        "\n",
        "import seaborn as sns\n",
        "import matplotlib.pyplot as plt\n",
        "from sklearn.datasets import load_iris\n",
        "from sklearn.model_selection import train_test_split\n",
        "from sklearn.tree import DecisionTreeClassifier\n",
        "from sklearn.metrics import confusion_matrix\n",
        "\n",
        "# Load Iris dataset\n",
        "iris = load_iris()\n",
        "X = iris.data\n",
        "y = iris.target\n",
        "class_names = iris.target_names\n",
        "\n",
        "# Split dataset\n",
        "X_train, X_test, y_train, y_test = train_test_split(X, y, test_size=0.2, random_state=42)\n",
        "\n",
        "# Train Decision Tree Classifier\n",
        "clf = DecisionTreeClassifier(random_state=42)\n",
        "clf.fit(X_train, y_train)\n",
        "\n",
        "# Predict on test data\n",
        "y_pred = clf.predict(X_test)\n",
        "\n",
        "# Compute confusion matrix\n",
        "cm = confusion_matrix(y_test, y_pred)\n",
        "\n",
        "# Plot confusion matrix using seaborn heatmap\n",
        "plt.figure(figsize=(7, 5))\n",
        "sns.heatmap(cm, annot=True, fmt='d', cmap='Blues',\n",
        "            xticklabels=class_names,\n",
        "            yticklabels=class_names)\n",
        "plt.xlabel('Predicted Label')\n",
        "plt.ylabel('True Label')\n",
        "plt.title('Confusion Matrix of Decision Tree Classifier')\n",
        "plt.show()"
      ],
      "metadata": {
        "colab": {
          "base_uri": "https://localhost:8080/",
          "height": 487
        },
        "id": "7ag_O0GTJswm",
        "outputId": "b58ca55c-d2df-496e-b076-44244c947933"
      },
      "execution_count": 15,
      "outputs": [
        {
          "output_type": "display_data",
          "data": {
            "text/plain": [
              "<Figure size 700x500 with 2 Axes>"
            ],
            "image/png": "[encoded data removed]"
          },
          "metadata": {}
        }
      ]
    },
    {
      "cell_type": "code",
      "source": [
        "# 30. Write a Python program to train a Decision Tree Classifier and use GridSearchCV to find the optimal values  for max_depth and min_samples_split.\n",
        "\n",
        "from sklearn.datasets import load_iris\n",
        "from sklearn.model_selection import train_test_split, GridSearchCV\n",
        "from sklearn.tree import DecisionTreeClassifier\n",
        "from sklearn.metrics import accuracy_score\n",
        "\n",
        "# Load dataset\n",
        "iris = load_iris()\n",
        "X = iris.data\n",
        "y = iris.target\n",
        "\n",
        "# Split into train/test sets\n",
        "X_train, X_test, y_train, y_test = train_test_split(X, y, test_size=0.2, random_state=42)\n",
        "\n",
        "# Define the model\n",
        "dt = DecisionTreeClassifier(random_state=42)\n",
        "\n",
        "# Define parameter grid for GridSearchCV\n",
        "param_grid = {\n",
        "    'max_depth': [2, 3, 4, 5, 6, None],\n",
        "    'min_samples_split': [2, 5, 10]\n",
        "}\n",
        "\n",
        "# Initialize GridSearchCV\n",
        "grid_search = GridSearchCV(dt, param_grid, cv=5, scoring='accuracy')\n",
        "\n",
        "# Fit GridSearchCV\n",
        "grid_search.fit(X_train, y_train)\n",
        "\n",
        "# Best parameters found\n",
        "print(\"Best parameters:\", grid_search.best_params_)\n",
        "\n",
        "# Evaluate on test data\n",
        "best_model = grid_search.best_estimator_\n",
        "y_pred = best_model.predict(X_test)\n",
        "accuracy = accuracy_score(y_test, y_pred)\n",
        "print(f\"Test set accuracy with best params: {accuracy:.4f}\")"
      ],
      "metadata": {
        "colab": {
          "base_uri": "https://localhost:8080/"
        },
        "id": "LP6DlhenJ0xv",
        "outputId": "9aa0fd3a-3ed2-4e1d-ef7a-3b37b076ab5f"
      },
      "execution_count": 16,
      "outputs": [
        {
          "output_type": "stream",
          "name": "stdout",
          "text": [
            "Best parameters: {'max_depth': 4, 'min_samples_split': 2}\n",
            "Test set accuracy with best params: 1.0000\n"
          ]
        }
      ]
    },
    {
      "cell_type": "code",
      "source": [],
      "metadata": {
        "id": "UxN0ZK0EJ-18"
      },
      "execution_count": null,
      "outputs": []
    }
  ]
}