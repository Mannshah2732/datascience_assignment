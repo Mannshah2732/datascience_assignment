{
  "nbformat": 4,
  "nbformat_minor": 0,
  "metadata": {
    "colab": {
      "provenance": [],
      "authorship_tag": "ABX9TyO74/bqJDTGtZx/DTw2T0eH",
      "include_colab_link": true
    },
    "kernelspec": {
      "name": "python3",
      "display_name": "Python 3"
    },
    "language_info": {
      "name": "python"
    }
  },
  "cells": [
    {
      "cell_type": "markdown",
      "metadata": {
        "id": "view-in-github",
        "colab_type": "text"
      },
      "source": [
        "<a href=\"https://colab.research.google.com/github/Mannshah2732/datascience_assignment/blob/main/Ensemble_Techniques_Assignment.ipynb\" target=\"_parent\"><img src=\"https://colab.research.google.com/assets/colab-badge.svg\" alt=\"Open In Colab\"/></a>"
      ]
    },
    {
      "cell_type": "markdown",
      "source": [
        "# Theoretical"
      ],
      "metadata": {
        "id": "sxX6WaYbPLNV"
      }
    },
    {
      "cell_type": "markdown",
      "source": [
        "1. Can we use Bagging for regression problems?\n",
        "\n",
        "* Yes, Bagging (Bootstrap Aggregating) can definitely be used for regression problems—not just classification.\n",
        "\n",
        "How Bagging Works in Regression :\n",
        "\n",
        "  * It creates multiple bootstrap samples (random samples with replacement) from the training data.\n",
        "\n",
        "  * Then, it trains a base regressor (e.g., Decision Tree Regressor) on each sample.\n",
        "\n",
        "  * Finally, it aggregates the predictions from all models by averaging them (instead of voting like in classification)."
      ],
      "metadata": {
        "id": "on3xET5SO_RO"
      }
    },
    {
      "cell_type": "markdown",
      "source": [
        "2. What is the difference between multiple model training and single model training?\n",
        "\n",
        "The difference between multiple model training and single model training lies in how many models are used to make predictions and how they are used.\n",
        "\n",
        "Here's a clear comparison :\n",
        "\n",
        " * Single Model Training\n",
        "  \n",
        "  What It Is :\n",
        "\n",
        "    * You train one model on the entire training dataset.\n",
        "\n",
        "  Examples :\n",
        "\n",
        "    * Linear Regression\n",
        "\n",
        "    * Decision Tree\n",
        "\n",
        "    * Support Vector Machine\n",
        "\n",
        "    * Single Neural Network\n",
        "\n",
        "* Multiple Model Training (Ensemble Learning)\n",
        "\n",
        "  What It Is :\n",
        "\n",
        "    * You train multiple models and combine their outputs to improve performance.\n",
        "\n",
        "  Types :\n",
        "\n",
        "    1. Bagging (e.g., Random Forest)\n",
        "\n",
        "      * Reduces variance by averaging predictions from multiple models trained on different data subsets.\n",
        "\n",
        "    2. Boosting (e.g., Gradient Boosting, XGBoost)\n",
        "\n",
        "      * Sequentially trains models to correct errors of previous ones, reducing bias.\n",
        "\n",
        "    3. Stacking\n",
        "\n",
        "      * Combines predictions from different types of models using a meta-model."
      ],
      "metadata": {
        "id": "XAlbzvfdRH1M"
      }
    },
    {
      "cell_type": "markdown",
      "source": [
        "3.  Explain the concept of feature randomness in Random Forest.\n",
        "\n",
        "* Feature randomness is a key concept in the Random Forest algorithm that helps improve performance and reduce overfitting.\n",
        "\n",
        "What Is Feature Randomness?\n",
        "\n",
        "  * In Random Forest, during the construction of each decision tree:\n",
        "\n",
        "  * Not only is the data randomly sampled (via bootstrapping),\n",
        "\n",
        "  * But also, at each split in the tree, a random subset of features is considered, not all features."
      ],
      "metadata": {
        "id": "2awjv_KaUzh-"
      }
    },
    {
      "cell_type": "markdown",
      "source": [
        "4. What is OOB (Out-of-Bag) Score?\n",
        "\n",
        "* OOB (Out-of-Bag) Score is a built-in way to estimate the performance of a Random Forest model without needing a separate validation set or cross-validation.\n",
        "\n",
        "1. Bootstrap Sampling :\n",
        "\n",
        "  * Random Forest trains each decision tree on a random sample (with replacement) from the original dataset.\n",
        "\n",
        "  * On average, each tree sees about 63% of the data.\n",
        "\n",
        "2. Out-of-Bag Samples :\n",
        "\n",
        "  * The remaining ~37% of the data that wasn't selected for that tree is called the out-of-bag (OOB) samples.\n",
        "\n",
        "  * These samples are not seen by the tree during training.\n",
        "\n",
        "3. OOB Predictions :\n",
        "\n",
        "  * After all trees are trained, each data point has been left out of some subset of the trees.\n",
        "\n",
        "  * The model uses those trees (that didn’t see the point) to predict the output for that point.\n",
        "\n",
        "  * These predictions are then averaged (regression) or voted (classification).\n",
        "\n",
        "4. OOB Score :\n",
        "\n",
        "  * The model compares the OOB predictions to the true values.\n",
        "\n",
        "  * The resulting accuracy (classification) or R² score (regression) is the OOB Score.\n",
        "  "
      ],
      "metadata": {
        "id": "jVBty2PxVbIj"
      }
    },
    {
      "cell_type": "markdown",
      "source": [
        "5.  How can you measure the importance of features in a Random Forest model?\n",
        "\n",
        "You can measure feature importance in a Random Forest model using the model’s internal metrics that estimate how much each feature contributes to reducing prediction error.\n",
        "\n",
        "Two Main Ways to Measure Feature Importance in Random Forest :\n",
        "\n",
        "1. Mean Decrease in Impurity (MDI)\n",
        "\n",
        "(AKA Gini Importance or Impurity-Based Importance)\n",
        "\n",
        "  How it works :\n",
        "    \n",
        "  * Every time a feature is used to split a node in any tree, it reduces the impurity (like Gini or MSE).\n",
        "\n",
        "  * The total reduction in impurity caused by each feature is accumulated across all trees.\n",
        "\n",
        "  * This total is then normalized to give the importance score.\n",
        "\n",
        "2. Permutation Importance\n",
        "\n",
        "(More reliable and model-agnostic)\n",
        "\n",
        "How it works :\n",
        "\n",
        "  * After the model is trained, shuffle each feature's values randomly and measure the increase in prediction error.\n",
        "\n",
        "  * The more the error increases when a feature is shuffled, the more important that feature is."
      ],
      "metadata": {
        "id": "gbWZjD-3V5Yh"
      }
    },
    {
      "cell_type": "markdown",
      "source": [
        "6.  Explain the working principle of a Bagging Classifier.\n",
        "\n",
        "* Bagging (short for Bootstrap Aggregating) is an ensemble learning technique that combines the predictions of multiple models (typically the same type) to improve performance and reduce overfitting.\n",
        "\n",
        "Step-by-Step Working :\n",
        "\n",
        "  1. Bootstrapping the Data :\n",
        "    \n",
        "    * From the original training data of size n, create multiple random subsets by sampling with replacement.\n",
        "\n",
        "    * Each subset is the same size as the original, but contains duplicates.\n",
        "\n",
        "  2. Training Base Models :\n",
        "\n",
        "    * For each subset, train an individual base classifier (e.g., a decision tree).\n",
        "\n",
        "    * Each model is independent and trained on its own unique bootstrapped dataset.\n",
        "\n",
        "  3. Voting to Make Final Predictions :\n",
        "\n",
        "    * When predicting a class for a new input :\n",
        "\n",
        "      * Each trained model predicts a class label.\n",
        "\n",
        "      * The Bagging Classifier uses majority voting to determine the final output class.\n",
        "\n",
        "      * (For regression, it would average the outputs instead.)\n",
        "\n"
      ],
      "metadata": {
        "id": "ztkoWxVtdyV_"
      }
    },
    {
      "cell_type": "markdown",
      "source": [
        "7.  How do you evaluate a Bagging Classifier’s performance?\n",
        "\n",
        "* You can evaluate a Bagging Classifier’s performance using standard classification metrics and some ensemble-specific techniques.\n",
        "\n",
        "Here's how :\n",
        "\n",
        "1. Train-Test Split Evaluation\n",
        "\n",
        "  * Split the dataset into training and test sets and use standard classification metrics.\n",
        "\n",
        "2. Cross-Validation (More Reliable)\n",
        "\n",
        "  * Use cross-validation to evaluate the model's performance across multiple folds.\n",
        "\n",
        "3. Out-of-Bag (OOB) Score\n",
        "\n",
        "  * If you're using Bagging with bootstrapped samples, enable oob_score=True to use the Out-of-Bag Score, a built-in evaluation.\n",
        "\n",
        "4. ROC Curve & AUC (for binary classification)\n",
        "\n",
        "  * Useful for evaluating classifier performance across thresholds."
      ],
      "metadata": {
        "id": "bEtJ830jpmQz"
      }
    },
    {
      "cell_type": "markdown",
      "source": [
        "8.  How does a Bagging Regressor work?\n",
        "\n",
        "* A Bagging Regressor applies the Bagging (Bootstrap Aggregating) technique to regression problems, where the goal is to predict continuous values.\n",
        "\n",
        "Working Principle of Bagging Regressor\n",
        "\n",
        "  1. Bootstrap Sampling (Data Randomness) :\n",
        "\n",
        "    * Create multiple random samples from the training data with replacement.\n",
        "\n",
        "    * Each sample (called a bootstrap sample) is used to train a different model.\n",
        "\n",
        "  2. Train Base Regressors :\n",
        "\n",
        "    * Use a base regression algorithm (e.g., DecisionTreeRegressor) for each bootstrap sample.\n",
        "\n",
        "    * Each base model learns different patterns due to variation in data.\n",
        "\n",
        "  3. Aggregate Predictions (Averaging) :\n",
        "\n",
        "    * For a new data point, each model predicts a value.\n",
        "\n",
        "    * The final prediction is the average of all predictions from the base models."
      ],
      "metadata": {
        "id": "D1ym4bV1qhBE"
      }
    },
    {
      "cell_type": "markdown",
      "source": [
        "9. What is the main advantage of ensemble techniques?\n",
        "\n",
        "* The main advantage of ensemble techniques is :\n",
        "\n",
        "  * Improved predictive performance — higher accuracy, better generalization, and reduced overfitting or underfitting compared to individual models.\n",
        "\n",
        "Ensemble methods combine multiple models to make a single, stronger model. This works because :\n",
        "\n",
        "| Problem in Single Models        | Ensemble Fixes It With                |\n",
        "| ------------------------------- | ------------------------------------- |\n",
        "| **High Variance (overfitting)** |  **Bagging** (e.g., Random Forest)   |\n",
        "| **High Bias (underfitting)**    |  **Boosting** (e.g., XGBoost)        |\n",
        "| **Instability**                 |  Combining stable + unstable models  |\n",
        "| **Model limitations**           |  Mix of weak models → strong learner |\n",
        "\n",
        "Key Advantages\n",
        "\n",
        "  * Higher Accuracy\n",
        "\n",
        "  * Better Generalization\n",
        "\n",
        "  * Reduced Overfitting/Underfitting\n",
        "\n",
        "  * Robustness to noise\n",
        "\n",
        "  * Adaptability to various data types"
      ],
      "metadata": {
        "id": "iDp--2tRq1SS"
      }
    },
    {
      "cell_type": "markdown",
      "source": [
        "10. What is the main challenge of ensemble methods?\n",
        "\n",
        "* The main challenge of ensemble methods is their complexity — in terms of computation, interpretability, and implementation.\n",
        "\n",
        "Key Challenges in Detail :\n",
        "\n",
        "| Challenge                           | Description                                                                                                                                                    |\n",
        "| ----------------------------------- | -------------------------------------------------------------------------------------------------------------------------------------------------------------- |\n",
        "|  **Slower Training & Prediction** | - Training 100 models (e.g., in Bagging or Boosting) takes much longer than training 1.<br> - Predictions may also be slower, especially in real-time systems. |\n",
        "|  **Reduced Interpretability**     | - Difficult to explain why the model made a specific prediction.<br> - Unlike a single decision tree or linear model, ensembles act more like a \"black box.\"   |\n",
        "|  **Overfitting (in Boosting)**    | - If not properly tuned, Boosting models (like XGBoost) can overfit the training data.                                                                         |\n",
        "|  **Storage & Memory Use**         | - More models = more memory needed.<br> - Can be a problem for deployment or mobile/embedded systems.                                                          |\n",
        "|  **Hyperparameter Tuning**        | - Ensembles often have many parameters (number of estimators, learning rate, depth, etc.), which need careful tuning for optimal performance.                  |\n",
        "\n",
        "* Example :\n",
        "  \n",
        "  Compare these two :\n",
        "\n",
        "    * A Decision Tree: fast, interpretable, easy to deploy.\n",
        "\n",
        "    * A Random Forest: more accurate but harder to explain, slower to run, and needs more tuning."
      ],
      "metadata": {
        "id": "RpgOUaTnuCFE"
      }
    },
    {
      "cell_type": "markdown",
      "source": [
        "11. Explain the key idea behind ensemble techniques.\n",
        "\n",
        "* The core idea of ensemble techniques is :\n",
        "\n",
        "  * Combine multiple models to create a stronger, more accurate model than any single model alone.\n",
        "\n",
        "Why It Works\n",
        "\n",
        "  * Individual models (weak learners) may make different errors.\n",
        "\n",
        "  * When you combine them, these errors can cancel each other out, improving overall performance.\n",
        "\n",
        "  * The ensemble \"learns from the mistakes\" of its components.\n",
        "\n",
        "Benefits of Ensemble Techniques\n",
        "\n",
        "  * Higher accuracy\n",
        "\n",
        "  * Better generalization\n",
        "\n",
        "  * More robust to noise and overfitting\n",
        "\n",
        "  * Handles both bias and variance issues"
      ],
      "metadata": {
        "id": "ddyuJafEudQk"
      }
    },
    {
      "cell_type": "markdown",
      "source": [
        "12. What is a Random Forest Classifier?\n",
        "\n",
        "* A Random Forest Classifier is a powerful ensemble learning algorithm used for classification tasks. It builds multiple decision trees during training and outputs the majority vote of their predictions.\n",
        "\n",
        "Key Components :\n",
        "  \n",
        "  1. Ensemble of Decision Trees\n",
        "\n",
        "    * It creates many decision trees (typically hundreds).\n",
        "\n",
        "    * Each tree is trained on a random subset of the data using bootstrapping (sampling with replacement).\n",
        "\n",
        "  2. Feature Randomness (Feature Bagging)\n",
        "\n",
        "    * At each split in a tree, a random subset of features is considered instead of all features.\n",
        "\n",
        "    * This adds diversity and helps reduce correlation between trees.\n",
        "\n",
        "  3. Voting Mechanism\n",
        "\n",
        "    * For classification, each tree votes for a class.\n",
        "\n",
        "    * The final prediction is made by majority vote."
      ],
      "metadata": {
        "id": "9Tsg7MCmyHLS"
      }
    },
    {
      "cell_type": "markdown",
      "source": [
        "13. What are the main types of ensemble techniques?\n",
        "\n",
        "* Ensemble methods combine multiple models to produce better performance than any single model alone.\n",
        "\n",
        "* There are three main types of ensemble techniques :\n",
        "\n",
        "1. Bagging (Bootstrap Aggregating)\n",
        "\n",
        "  * Goal : Reduce variance (overfitting).\n",
        "\n",
        "  * How it works :\n",
        "\n",
        "    * Train multiple models on random subsets of the training data (with replacement).\n",
        "\n",
        "    * Combine predictions using majority vote (classification) or average (regression).\n",
        "\n",
        "  * Common Algorithms :\n",
        "\n",
        "    * Random Forest\n",
        "\n",
        "    * BaggingClassifier / BaggingRegressor\n",
        "\n",
        "  * Best for : High-variance models (e.g., decision trees)\n",
        "\n",
        "2. Boosting\n",
        "\n",
        "  * Goal : Reduce bias (underfitting).\n",
        "\n",
        "  * How it works :\n",
        "\n",
        "    * Models are trained sequentially, and each new model focuses on the errors made by the previous ones.\n",
        "\n",
        "    * Final prediction is a weighted sum of all models.\n",
        "\n",
        "  * Common Algorithms :\n",
        "\n",
        "    * AdaBoost\n",
        "\n",
        "    * Gradient Boosting\n",
        "\n",
        "    * XGBoost\n",
        "\n",
        "    * LightGBM\n",
        "\n",
        "    * CatBoost\n",
        "\n",
        "  * Best for : Complex problems where bias needs to be minimized\n",
        "\n",
        "3. Stacking (Stacked Generalization)\n",
        "\n",
        "  * Goal : Combine different types of models to improve overall performance.\n",
        "\n",
        "  * How it works :\n",
        "\n",
        "    * Multiple base models make predictions.\n",
        "\n",
        "    * A meta-model (e.g., logistic regression) learns to combine these predictions into a final output.\n",
        "\n",
        "  * Common Setup :\n",
        "\n",
        "    * Base learners : decision tree, SVM, k-NN, etc.\n",
        "\n",
        "    * Meta-learner : logistic regression or another ML model\n",
        "\n",
        "  * Best for : Leveraging the diversity of models\n",
        "\n"
      ],
      "metadata": {
        "id": "BETCyzfD0uXC"
      }
    },
    {
      "cell_type": "markdown",
      "source": [
        "14. What is ensemble learning in machine learning?\n",
        "\n",
        "* Ensemble learning is a technique in machine learning where multiple models (learners) are combined to solve a problem and achieve better performance than any individual model alone.\n",
        "\n",
        "Key Idea :\n",
        "\n",
        "  * \"Many weak models together can form a strong model.\"\n",
        "\n",
        "Just like asking several experts for an opinion, ensemble methods rely on the collective decision of multiple models to improve accuracy, robustness, and generalization.\n",
        "\n",
        "Types of Ensemble Learning Techniques\n",
        "\n",
        "| Type         | Description                                       | Example Algorithms        |\n",
        "| ------------ | ------------------------------------------------- | ------------------------- |\n",
        "| **Bagging**  | Train models on random data subsets in parallel   | Random Forest             |\n",
        "| **Boosting** | Train models sequentially, fixing previous errors | AdaBoost, XGBoost         |\n",
        "| **Stacking** | Combine diverse models using a meta-model         | Model stacking (blending) |\n",
        "\n"
      ],
      "metadata": {
        "id": "Qigq3U5I1q_i"
      }
    },
    {
      "cell_type": "markdown",
      "source": [
        "15. When should we avoid using ensemble methods?\n",
        "\n",
        "While ensemble methods are powerful, they’re not always the best choice. You should avoid using them in the following situations :\n",
        "\n",
        "1. When Interpretability Is Crucial\n",
        "\n",
        "  * Ensembles like Random Forest or Boosting models are hard to interpret.\n",
        "\n",
        "  * Not suitable for :\n",
        "\n",
        "    * Healthcare diagnostics\n",
        "\n",
        "    * Legal or financial decisions\n",
        "\n",
        "    * Any scenario requiring clear explanation\n",
        "\n",
        "  * Prefer : Decision Trees, Logistic Regression\n",
        "\n",
        "2. When the Dataset Is Small and Clean\n",
        "\n",
        "  * Ensembles may overcomplicate simple problems.\n",
        "\n",
        "  * If you have a small dataset with low noise, a single well-tuned model might perform just as well or better.\n",
        "\n",
        "  * Prefer : Simple models like SVM, k-NN, or linear regression\n",
        "\n",
        "3. When Computational Resources Are Limited\n",
        "\n",
        "  * Ensembles (especially Boosting) are computationally expensive :\n",
        "\n",
        "    * Require more RAM, CPU/GPU, and training time\n",
        "\n",
        "    * Slower during prediction\n",
        "\n",
        "  * Prefer : Lightweight models if speed and resource usage are priorities (e.g., mobile or real-time systems)"
      ],
      "metadata": {
        "id": "5fv734OU2LL0"
      }
    },
    {
      "cell_type": "markdown",
      "source": [
        "16. How does Bagging help in reducing overfitting?\n",
        "\n",
        "Bagging (Bootstrap Aggregating) helps reduce overfitting by averaging out the noise and variance from multiple models.\n",
        "\n",
        "How Bagging Helps :\n",
        "\n",
        "1. Creates Diverse Models\n",
        "\n",
        "  * Trains each model (e.g., decision tree) on a random sample of the data (with replacement).\n",
        "\n",
        "  * Each model sees a different view of the training data.\n",
        "\n",
        "2. Reduces Variance\n",
        "\n",
        "  * Because each model overfits differently, combining them averages out their errors.\n",
        "\n",
        "  * The final prediction is less sensitive to the quirks of any one training set.\n",
        "\n",
        "3. Ensemble Averaging or Voting\n",
        "\n",
        "  * For regression : uses the mean of predictions.\n",
        "\n",
        "  * For classification : uses majority voting.\n",
        "\n",
        "  * This stabilizes the final output and prevents over-reaction to noise."
      ],
      "metadata": {
        "id": "THTHrcwf21Er"
      }
    },
    {
      "cell_type": "markdown",
      "source": [
        "17. Why is Random Forest better than a single Decision Tree?\n",
        "\n",
        "A Random Forest is better than a single Decision Tree because it overcomes key limitations of individual trees by using an ensemble of trees to produce more accurate, stable, and generalizable predictions.\n",
        "\n",
        "Why Random Forest Wins :\n",
        "\n",
        "1. Bagging Technique\n",
        "\n",
        "  * Each tree is trained on a random subset of the data (with replacement), which reduces variance.\n",
        "\n",
        "2. Feature Randomness\n",
        "\n",
        "  * Each split considers a random subset of features, reducing correlation among trees and further increasing accuracy.\n",
        "\n",
        "3. Ensemble Voting or Averaging\n",
        "\n",
        "  * Combines predictions from all trees to make the final decision → more robust and less error-prone.\n",
        "\n",
        "4. Handles Missing Data & Noise Better\n",
        "\n",
        "  * Random Forest is less sensitive to noise/outliers than a single tree.\n",
        "\n",
        "5. Built-in Feature Importance\n",
        "\n",
        "  * Helps in understanding which features matter most."
      ],
      "metadata": {
        "id": "XcCzoAep5tMN"
      }
    },
    {
      "cell_type": "markdown",
      "source": [
        "18. What is the role of bootstrap sampling in Bagging?\n",
        "\n",
        "Bootstrap sampling is the core mechanism that enables Bagging (Bootstrap Aggregating) to reduce overfitting and variance. It creates diversity among models by generating different training datasets from the original data.\n",
        "\n",
        "Role in Bagging :\n",
        "\n",
        "1. Creates Diverse Models\n",
        "\n",
        "  * Each model (e.g., decision tree) sees a different subset of the data.\n",
        "\n",
        "  * This results in diverse decision boundaries, which is key to reducing overfitting.\n",
        "\n",
        "2. Reduces Variance\n",
        "\n",
        "  * While individual models may overfit their own sample, the ensemble average smooths out these variations.\n",
        "\n",
        "  * The combined result is more stable and generalizable.\n",
        "\n",
        "3. Enables Out-of-Bag (OOB) Evaluation\n",
        "\n",
        "  * Since each sample leaves out ~37% of the data, OOB data can be used to evaluate performance without a separate validation set."
      ],
      "metadata": {
        "id": "hqLA2jIc6B4L"
      }
    },
    {
      "cell_type": "markdown",
      "source": [
        "19. What are some real-world applications of ensemble techniques?\n",
        "\n",
        "Ensemble methods like Random Forest, XGBoost, AdaBoost, and Stacking are widely used in real-world machine learning applications because they offer high accuracy, robustness, and generalization.\n",
        "\n",
        "Here are some key domains and examples :\n",
        "\n",
        "1. Finance\n",
        "\n",
        "  * Credit scoring : Predict loan default or creditworthiness (e.g., Random Forest, XGBoost)\n",
        "\n",
        "  * Fraud detection : Detect suspicious transactions using ensemble classifiers\n",
        "\n",
        "  * Stock market prediction : Combine models to forecast trends with better accuracy\n",
        "\n",
        "2. Healthcare\n",
        "\n",
        "  * Disease prediction: Detect diseases like cancer, diabetes, or heart conditions (e.g., Gradient Boosting for breast cancer detection)\n",
        "\n",
        "  * Medical image classification: Use ensembles to improve diagnosis accuracy from X-rays, MRIs, etc.\n",
        "\n",
        "  * Patient readmission prediction: Forecast the likelihood of hospital readmission\n",
        "\n",
        "3. E-commerce & Retail\n",
        "\n",
        "  * Recommendation systems : Blend collaborative filtering and content-based models using stacking\n",
        "\n",
        "  * Customer segmentation : Cluster and classify customers for targeted marketing\n",
        "\n",
        "  * Sales forecasting : Predict demand using ensemble regression techniques\n",
        "\n",
        "4. Cybersecurity\n",
        "\n",
        "  * Spam detection : Ensemble models detect email spam and phishing\n",
        "\n",
        "  * Intrusion detection systems (IDS) : Identify network attacks or unauthorized access\n",
        "\n",
        "  * Malware classification : Detect malicious software based on system behavior or files"
      ],
      "metadata": {
        "id": "VitopDQ36VmT"
      }
    },
    {
      "cell_type": "markdown",
      "source": [
        "20.  What is the difference between Bagging and Boosting?\n",
        "\n",
        "Both Bagging and Boosting are ensemble techniques that combine multiple models to improve performance — but they differ in how they do it.\n",
        "\n",
        "Key Differences :\n",
        "\n",
        "| Aspect                  | **Bagging**                                           | **Boosting**                                        |\n",
        "| ----------------------- | ----------------------------------------------------- | --------------------------------------------------- |\n",
        "| **Goal**              | Reduce **variance**                                   | Reduce **bias**                                     |\n",
        "| **Model Training**   | Models are trained **independently**                  | Models are trained **sequentially**                 |\n",
        "| **Data Sampling**    | Random **bootstrapped samples** (with replacement)    | Uses **entire data**, but reweights based on errors |\n",
        "| **Focus**            | Equal focus on all models                             | Focuses more on **misclassified** samples           |\n",
        "| **Model Dependency** | Models are **parallel** (independent)                 | Models are **sequential** (dependent)               |\n",
        "| **Combining Output** | Average (regression) / Majority vote (classification) | Weighted average or vote based on model accuracy    |\n",
        "| **Overfitting Risk** | Low (good for high-variance models)                   | Higher (but reduced with regularization)            |\n",
        "| **Examples**         | Random Forest, BaggingClassifier                      | AdaBoost, Gradient Boosting, XGBoost                |\n"
      ],
      "metadata": {
        "id": "A9_BManD7Bzr"
      }
    },
    {
      "cell_type": "markdown",
      "source": [
        "# Practical"
      ],
      "metadata": {
        "id": "4uyR5URC7Tfu"
      }
    },
    {
      "cell_type": "code",
      "execution_count": 2,
      "metadata": {
        "colab": {
          "base_uri": "https://localhost:8080/"
        },
        "id": "xJHzDpnXO8Pc",
        "outputId": "28d80580-a7bc-4fa1-85f5-acfca9358209"
      },
      "outputs": [
        {
          "output_type": "stream",
          "name": "stdout",
          "text": [
            "Model accuracy: 1.00\n"
          ]
        }
      ],
      "source": [
        "# 21. Train a Bagging Classifier using Decision Trees on a sample dataset and print model accuracy.\n",
        "\n",
        "from sklearn.datasets import load_iris\n",
        "from sklearn.ensemble import BaggingClassifier\n",
        "from sklearn.tree import DecisionTreeClassifier\n",
        "from sklearn.model_selection import train_test_split\n",
        "from sklearn.metrics import accuracy_score\n",
        "\n",
        "# Load Iris dataset\n",
        "data = load_iris()\n",
        "X, y = data.data, data.target\n",
        "\n",
        "# Split data into train and test sets\n",
        "X_train, X_test, y_train, y_test = train_test_split(X, y, test_size=0.3, random_state=42)\n",
        "\n",
        "# Create Bagging Classifier with Decision Trees using 'estimator' parameter\n",
        "bagging_model = BaggingClassifier(\n",
        "    estimator=DecisionTreeClassifier(),\n",
        "    n_estimators=50,\n",
        "    random_state=42\n",
        ")\n",
        "\n",
        "# Train the model\n",
        "bagging_model.fit(X_train, y_train)\n",
        "\n",
        "# Make predictions on test set\n",
        "y_pred = bagging_model.predict(X_test)\n",
        "\n",
        "# Calculate and print accuracy\n",
        "accuracy = accuracy_score(y_test, y_pred)\n",
        "print(f\"Model accuracy: {accuracy:.2f}\")"
      ]
    },
    {
      "cell_type": "code",
      "source": [
        "# 22. Train a Bagging Regressor using Decision Trees and evaluate using Mean Squared Error (MSE).\n",
        "\n",
        "from sklearn.datasets import fetch_california_housing\n",
        "from sklearn.ensemble import BaggingRegressor\n",
        "from sklearn.tree import DecisionTreeRegressor\n",
        "from sklearn.model_selection import train_test_split\n",
        "from sklearn.metrics import mean_squared_error\n",
        "\n",
        "# Load California Housing dataset\n",
        "housing = fetch_california_housing()\n",
        "X, y = housing.data, housing.target\n",
        "\n",
        "# Split data into train and test sets\n",
        "X_train, X_test, y_train, y_test = train_test_split(X, y, test_size=0.3, random_state=42)\n",
        "\n",
        "# Create Bagging Regressor with Decision Trees\n",
        "bagging_regressor = BaggingRegressor(\n",
        "    estimator=DecisionTreeRegressor(),\n",
        "    n_estimators=50,\n",
        "    random_state=42\n",
        ")\n",
        "\n",
        "# Train the model\n",
        "bagging_regressor.fit(X_train, y_train)\n",
        "\n",
        "# Predict on test data\n",
        "y_pred = bagging_regressor.predict(X_test)\n",
        "\n",
        "# Calculate Mean Squared Error\n",
        "mse = mean_squared_error(y_test, y_pred)\n",
        "print(f\"Mean Squared Error (MSE): {mse:.4f}\")"
      ],
      "metadata": {
        "colab": {
          "base_uri": "https://localhost:8080/"
        },
        "id": "52OOa5hC73sR",
        "outputId": "5495fb8a-e91d-4a54-fdee-0c584470feb4"
      },
      "execution_count": 4,
      "outputs": [
        {
          "output_type": "stream",
          "name": "stdout",
          "text": [
            "Mean Squared Error (MSE): 0.2579\n"
          ]
        }
      ]
    },
    {
      "cell_type": "code",
      "source": [
        "# 23. Train a Random Forest Classifier on the Breast Cancer dataset and print feature importance scores.\n",
        "\n",
        "from sklearn.datasets import load_breast_cancer\n",
        "from sklearn.ensemble import RandomForestClassifier\n",
        "from sklearn.model_selection import train_test_split\n",
        "\n",
        "# Load Breast Cancer dataset\n",
        "data = load_breast_cancer()\n",
        "X, y = data.data, data.target\n",
        "feature_names = data.feature_names\n",
        "\n",
        "# Split into train and test sets\n",
        "X_train, X_test, y_train, y_test = train_test_split(X, y, test_size=0.3, random_state=42)\n",
        "\n",
        "# Initialize and train Random Forest Classifier\n",
        "rf_clf = RandomForestClassifier(n_estimators=100, random_state=42)\n",
        "rf_clf.fit(X_train, y_train)\n",
        "\n",
        "# Get feature importance scores\n",
        "importances = rf_clf.feature_importances_\n",
        "\n",
        "# Print feature importances\n",
        "for name, importance in zip(feature_names, importances):\n",
        "    print(f\"{name}: {importance:.4f}\")"
      ],
      "metadata": {
        "colab": {
          "base_uri": "https://localhost:8080/"
        },
        "id": "KZcncn1V8URk",
        "outputId": "80592963-c289-4137-a2ba-204f290ae9cd"
      },
      "execution_count": 5,
      "outputs": [
        {
          "output_type": "stream",
          "name": "stdout",
          "text": [
            "mean radius: 0.0323\n",
            "mean texture: 0.0111\n",
            "mean perimeter: 0.0601\n",
            "mean area: 0.0538\n",
            "mean smoothness: 0.0062\n",
            "mean compactness: 0.0092\n",
            "mean concavity: 0.0806\n",
            "mean concave points: 0.1419\n",
            "mean symmetry: 0.0033\n",
            "mean fractal dimension: 0.0031\n",
            "radius error: 0.0164\n",
            "texture error: 0.0032\n",
            "perimeter error: 0.0118\n",
            "area error: 0.0295\n",
            "smoothness error: 0.0059\n",
            "compactness error: 0.0046\n",
            "concavity error: 0.0058\n",
            "concave points error: 0.0034\n",
            "symmetry error: 0.0040\n",
            "fractal dimension error: 0.0071\n",
            "worst radius: 0.0780\n",
            "worst texture: 0.0188\n",
            "worst perimeter: 0.0743\n",
            "worst area: 0.1182\n",
            "worst smoothness: 0.0118\n",
            "worst compactness: 0.0175\n",
            "worst concavity: 0.0411\n",
            "worst concave points: 0.1271\n",
            "worst symmetry: 0.0129\n",
            "worst fractal dimension: 0.0069\n"
          ]
        }
      ]
    },
    {
      "cell_type": "code",
      "source": [
        "# 24. Train a Random Forest Regressor and compare its performance with a single Decision Tree.\n",
        "\n",
        "from sklearn.datasets import fetch_california_housing\n",
        "from sklearn.ensemble import RandomForestRegressor\n",
        "from sklearn.tree import DecisionTreeRegressor\n",
        "from sklearn.model_selection import train_test_split\n",
        "from sklearn.metrics import mean_squared_error\n",
        "\n",
        "# Load California Housing dataset\n",
        "housing = fetch_california_housing()\n",
        "X, y = housing.data, housing.target\n",
        "\n",
        "# Split data into train and test sets\n",
        "X_train, X_test, y_train, y_test = train_test_split(X, y, test_size=0.3, random_state=42)\n",
        "\n",
        "# Initialize and train Decision Tree Regressor\n",
        "dt_regressor = DecisionTreeRegressor(random_state=42)\n",
        "dt_regressor.fit(X_train, y_train)\n",
        "y_pred_dt = dt_regressor.predict(X_test)\n",
        "mse_dt = mean_squared_error(y_test, y_pred_dt)\n",
        "\n",
        "# Initialize and train Random Forest Regressor\n",
        "rf_regressor = RandomForestRegressor(n_estimators=100, random_state=42)\n",
        "rf_regressor.fit(X_train, y_train)\n",
        "y_pred_rf = rf_regressor.predict(X_test)\n",
        "mse_rf = mean_squared_error(y_test, y_pred_rf)\n",
        "\n",
        "print(f\"Decision Tree MSE: {mse_dt:.4f}\")\n",
        "print(f\"Random Forest MSE: {mse_rf:.4f}\")"
      ],
      "metadata": {
        "colab": {
          "base_uri": "https://localhost:8080/"
        },
        "id": "ySfDQ9QK8shl",
        "outputId": "48ab7191-c92d-40c8-8095-8fd10efe4386"
      },
      "execution_count": 6,
      "outputs": [
        {
          "output_type": "stream",
          "name": "stdout",
          "text": [
            "Decision Tree MSE: 0.5280\n",
            "Random Forest MSE: 0.2565\n"
          ]
        }
      ]
    },
    {
      "cell_type": "code",
      "source": [
        "# 25. Compute the Out-of-Bag (OOB) Score for a Random Forest Classifier.\n",
        "\n",
        "from sklearn.datasets import load_breast_cancer\n",
        "from sklearn.ensemble import RandomForestClassifier\n",
        "from sklearn.model_selection import train_test_split\n",
        "\n",
        "# Load dataset\n",
        "data = load_breast_cancer()\n",
        "X, y = data.data, data.target\n",
        "\n",
        "# Split data (optional, OOB does not need a separate test set)\n",
        "X_train, X_test, y_train, y_test = train_test_split(X, y, test_size=0.3, random_state=42)\n",
        "\n",
        "# Initialize Random Forest with OOB enabled\n",
        "rf_clf = RandomForestClassifier(n_estimators=100, oob_score=True, random_state=42)\n",
        "\n",
        "# Train the model on training data\n",
        "rf_clf.fit(X_train, y_train)\n",
        "\n",
        "# Access and print the OOB score\n",
        "print(f\"OOB Score: {rf_clf.oob_score_:.4f}\")"
      ],
      "metadata": {
        "colab": {
          "base_uri": "https://localhost:8080/"
        },
        "id": "Uxev39dn87uP",
        "outputId": "28e17681-cdeb-4cda-961c-5b1b176c3843"
      },
      "execution_count": 7,
      "outputs": [
        {
          "output_type": "stream",
          "name": "stdout",
          "text": [
            "OOB Score: 0.9548\n"
          ]
        }
      ]
    },
    {
      "cell_type": "code",
      "source": [
        "# 26. Train a Bagging Classifier using SVM as a base estimator and print accuracy.\n",
        "\n",
        "from sklearn.datasets import load_iris\n",
        "from sklearn.ensemble import BaggingClassifier\n",
        "from sklearn.svm import SVC\n",
        "from sklearn.model_selection import train_test_split\n",
        "from sklearn.metrics import accuracy_score\n",
        "\n",
        "# Load Iris dataset\n",
        "data = load_iris()\n",
        "X, y = data.data, data.target\n",
        "\n",
        "# Split data into train and test sets\n",
        "X_train, X_test, y_train, y_test = train_test_split(X, y, test_size=0.3, random_state=42)\n",
        "\n",
        "# Create Bagging Classifier with SVM as base estimator\n",
        "bagging_svm = BaggingClassifier(\n",
        "    estimator=SVC(probability=True),  # Enable probability=True for better ensemble performance\n",
        "    n_estimators=50,\n",
        "    random_state=42\n",
        ")\n",
        "\n",
        "# Train the model\n",
        "bagging_svm.fit(X_train, y_train)\n",
        "\n",
        "# Predict on test data\n",
        "y_pred = bagging_svm.predict(X_test)\n",
        "\n",
        "# Calculate accuracy\n",
        "accuracy = accuracy_score(y_test, y_pred)\n",
        "print(f\"Bagging Classifier with SVM accuracy: {accuracy:.2f}\")"
      ],
      "metadata": {
        "colab": {
          "base_uri": "https://localhost:8080/"
        },
        "id": "LwFRE5ge9Ery",
        "outputId": "df50f15d-1de8-42fb-b145-71423737bdec"
      },
      "execution_count": 8,
      "outputs": [
        {
          "output_type": "stream",
          "name": "stdout",
          "text": [
            "Bagging Classifier with SVM accuracy: 1.00\n"
          ]
        }
      ]
    },
    {
      "cell_type": "code",
      "source": [
        "# 27. Train a Random Forest Classifier with different numbers of trees and compare accuracy.\n",
        "\n",
        "from sklearn.datasets import load_breast_cancer\n",
        "from sklearn.ensemble import RandomForestClassifier\n",
        "from sklearn.model_selection import train_test_split\n",
        "from sklearn.metrics import accuracy_score\n",
        "\n",
        "# Load dataset\n",
        "data = load_breast_cancer()\n",
        "X, y = data.data, data.target\n",
        "\n",
        "# Split data\n",
        "X_train, X_test, y_train, y_test = train_test_split(X, y, test_size=0.3, random_state=42)\n",
        "\n",
        "# Different numbers of trees to test\n",
        "n_trees = [1, 5, 10, 50, 100, 200]\n",
        "\n",
        "for n in n_trees:\n",
        "    rf = RandomForestClassifier(n_estimators=n, random_state=42)\n",
        "    rf.fit(X_train, y_train)\n",
        "    y_pred = rf.predict(X_test)\n",
        "    accuracy = accuracy_score(y_test, y_pred)\n",
        "    print(f\"Number of Trees: {n}, Accuracy: {accuracy:.4f}\")"
      ],
      "metadata": {
        "colab": {
          "base_uri": "https://localhost:8080/"
        },
        "id": "sObJkpVh9LVt",
        "outputId": "6c3dde69-76e8-4376-b61c-3b97ec4e69e3"
      },
      "execution_count": 9,
      "outputs": [
        {
          "output_type": "stream",
          "name": "stdout",
          "text": [
            "Number of Trees: 1, Accuracy: 0.9474\n",
            "Number of Trees: 5, Accuracy: 0.9649\n",
            "Number of Trees: 10, Accuracy: 0.9649\n",
            "Number of Trees: 50, Accuracy: 0.9708\n",
            "Number of Trees: 100, Accuracy: 0.9708\n",
            "Number of Trees: 200, Accuracy: 0.9708\n"
          ]
        }
      ]
    },
    {
      "cell_type": "code",
      "source": [
        "# 28. Train a Bagging Classifier using Logistic Regression as a base estimator and print AUC score.\n",
        "\n",
        "from sklearn.linear_model import LogisticRegression\n",
        "from sklearn.ensemble import BaggingClassifier\n",
        "from sklearn.metrics import roc_auc_score\n",
        "from sklearn.preprocessing import StandardScaler\n",
        "from sklearn.pipeline import make_pipeline\n",
        "\n",
        "# Example: X_train, y_train, X_test, y_test are already defined\n",
        "\n",
        "# Create a pipeline that scales data then applies Bagging with LogisticRegression\n",
        "base_lr = LogisticRegression(max_iter=1000)  # increase max_iter\n",
        "\n",
        "bagging_clf = BaggingClassifier(estimator=base_lr, n_estimators=10, random_state=42)\n",
        "\n",
        "# Pipeline to scale features before training\n",
        "pipeline = make_pipeline(StandardScaler(), bagging_clf)\n",
        "\n",
        "# Fit\n",
        "pipeline.fit(X_train, y_train)\n",
        "\n",
        "# Predict probabilities for AUC\n",
        "y_pred_proba = pipeline.predict_proba(X_test)[:, 1]\n",
        "\n",
        "# Compute AUC\n",
        "auc = roc_auc_score(y_test, y_pred_proba)\n",
        "print(f\"AUC score: {auc:.4f}\")"
      ],
      "metadata": {
        "colab": {
          "base_uri": "https://localhost:8080/"
        },
        "id": "72rg21Nn9TxE",
        "outputId": "1555ae92-3f63-412a-d1f3-c764ce074c52"
      },
      "execution_count": 12,
      "outputs": [
        {
          "output_type": "stream",
          "name": "stdout",
          "text": [
            "AUC score: 0.9974\n"
          ]
        }
      ]
    },
    {
      "cell_type": "code",
      "source": [
        "# 29. Train a Random Forest Regressor and analyze feature importance scores.\n",
        "\n",
        "from sklearn.ensemble import RandomForestRegressor\n",
        "from sklearn.model_selection import train_test_split\n",
        "import pandas as pd\n",
        "import matplotlib.pyplot as plt\n",
        "import numpy as np\n",
        "\n",
        "# Example: split data (if not done already)\n",
        "X_train, X_test, y_train, y_test = train_test_split(X, y, test_size=0.2, random_state=42)\n",
        "\n",
        "# 1. Train Random Forest Regressor\n",
        "rf = RandomForestRegressor(n_estimators=100, random_state=42)\n",
        "rf.fit(X_train, y_train)\n",
        "\n",
        "# 2. Get feature importance\n",
        "importances = rf.feature_importances_\n",
        "\n",
        "# 3. Create a Pandas Series with feature names and importance scores\n",
        "feat_importances = pd.Series(importances, index=[f\"Feature {i}\" for i in range(X.shape[1])])\n",
        "\n",
        "# 4. Sort features by importance\n",
        "feat_importances = feat_importances.sort_values(ascending=False)\n",
        "\n",
        "# 5. Print feature importance scores\n",
        "print(feat_importances)\n",
        "\n",
        "# 6. Plot feature importance\n",
        "plt.figure(figsize=(10,6))\n",
        "feat_importances.plot(kind='bar')\n",
        "plt.title('Feature Importance from Random Forest Regressor')\n",
        "plt.ylabel('Importance Score')\n",
        "plt.show()"
      ],
      "metadata": {
        "colab": {
          "base_uri": "https://localhost:8080/",
          "height": 1000
        },
        "id": "YProkE6g9bMI",
        "outputId": "73406345-8c5b-478d-ac88-a862d4e59d3d"
      },
      "execution_count": 14,
      "outputs": [
        {
          "output_type": "stream",
          "name": "stdout",
          "text": [
            "Feature 27    0.269936\n",
            "Feature 7     0.202781\n",
            "Feature 22    0.158947\n",
            "Feature 23    0.118171\n",
            "Feature 20    0.103470\n",
            "Feature 21    0.025475\n",
            "Feature 1     0.021067\n",
            "Feature 26    0.011771\n",
            "Feature 13    0.010239\n",
            "Feature 24    0.008456\n",
            "Feature 4     0.006652\n",
            "Feature 16    0.006587\n",
            "Feature 19    0.005278\n",
            "Feature 3     0.005143\n",
            "Feature 6     0.004656\n",
            "Feature 28    0.004215\n",
            "Feature 12    0.003913\n",
            "Feature 11    0.003764\n",
            "Feature 10    0.003696\n",
            "Feature 18    0.003541\n",
            "Feature 14    0.003475\n",
            "Feature 17    0.003262\n",
            "Feature 8     0.002668\n",
            "Feature 2     0.002537\n",
            "Feature 29    0.002431\n",
            "Feature 9     0.002150\n",
            "Feature 25    0.001836\n",
            "Feature 15    0.001707\n",
            "Feature 0     0.001405\n",
            "Feature 5     0.000774\n",
            "dtype: float64\n"
          ]
        },
        {
          "output_type": "display_data",
          "data": {
            "text/plain": [
              "<Figure size 1000x600 with 1 Axes>"
            ],
            "image/png": "[encoded data removed]"
          },
          "metadata": {}
        }
      ]
    },
    {
      "cell_type": "code",
      "source": [
        "# 30. Train an ensemble model using both Bagging and Random Forest and compare accuracy.\n",
        "\n",
        "from sklearn.ensemble import BaggingRegressor, RandomForestRegressor\n",
        "from sklearn.tree import DecisionTreeRegressor\n",
        "from sklearn.metrics import r2_score\n",
        "from sklearn.model_selection import train_test_split\n",
        "\n",
        "# Example dataset split (if not already done)\n",
        "X_train, X_test, y_train, y_test = train_test_split(X, y, test_size=0.2, random_state=42)\n",
        "\n",
        "# 1. Bagging Regressor with Decision Tree base estimator\n",
        "base_estimator = DecisionTreeRegressor(random_state=42)\n",
        "bagging_reg = BaggingRegressor(estimator=base_estimator, n_estimators=50, random_state=42)\n",
        "bagging_reg.fit(X_train, y_train)\n",
        "y_pred_bagging = bagging_reg.predict(X_test)\n",
        "bagging_r2 = r2_score(y_test, y_pred_bagging)\n",
        "\n",
        "# 2. Random Forest Regressor\n",
        "rf_reg = RandomForestRegressor(n_estimators=50, random_state=42)\n",
        "rf_reg.fit(X_train, y_train)\n",
        "y_pred_rf = rf_reg.predict(X_test)\n",
        "rf_r2 = r2_score(y_test, y_pred_rf)\n",
        "\n",
        "print(f\"Bagging Regressor R² score: {bagging_r2:.4f}\")\n",
        "print(f\"Random Forest Regressor R² score: {rf_r2:.4f}\")"
      ],
      "metadata": {
        "colab": {
          "base_uri": "https://localhost:8080/"
        },
        "id": "qAKNk900-Tri",
        "outputId": "24ea8308-a340-4f11-a606-af8905c27395"
      },
      "execution_count": 16,
      "outputs": [
        {
          "output_type": "stream",
          "name": "stdout",
          "text": [
            "Bagging Regressor R² score: 0.8571\n",
            "Random Forest Regressor R² score: 0.8588\n"
          ]
        }
      ]
    },
    {
      "cell_type": "code",
      "source": [
        "# 31. Train a Random Forest Classifier and tune hyperparameters using GridSearchCV.\n",
        "\n",
        "from sklearn.ensemble import RandomForestClassifier\n",
        "from sklearn.model_selection import GridSearchCV, train_test_split\n",
        "from sklearn.metrics import accuracy_score\n",
        "\n",
        "# Example: Suppose you have X, y for classification\n",
        "# Split data (adjust if you already have train/test split)\n",
        "X_train, X_test, y_train, y_test = train_test_split(X, y, test_size=0.2, random_state=42)\n",
        "\n",
        "# 1. Create the Random Forest Classifier\n",
        "rf_clf = RandomForestClassifier(random_state=42)\n",
        "\n",
        "# 2. Define the hyperparameter grid to search\n",
        "param_grid = {\n",
        "    'n_estimators': [50, 100, 200],          # number of trees\n",
        "    'max_depth': [None, 10, 20, 30],         # max depth of each tree\n",
        "    'min_samples_split': [2, 5, 10],         # min samples to split a node\n",
        "    'min_samples_leaf': [1, 2, 4],           # min samples at leaf node\n",
        "    'max_features': ['auto', 'sqrt', 'log2'] # features to consider for split\n",
        "}\n",
        "\n",
        "# 3. Setup GridSearchCV\n",
        "grid_search = GridSearchCV(\n",
        "    estimator=rf_clf,\n",
        "    param_grid=param_grid,\n",
        "    cv=5,                # 5-fold cross-validation\n",
        "    n_jobs=-1,           # use all CPU cores\n",
        "    verbose=2            # print progress\n",
        ")\n",
        "\n",
        "# 4. Fit GridSearchCV on training data\n",
        "grid_search.fit(X_train, y_train)\n",
        "\n",
        "# 5. Best hyperparameters and best score\n",
        "print(\"Best Hyperparameters:\", grid_search.best_params_)\n",
        "print(\"Best Cross-validation Accuracy:\", grid_search.best_score_)\n",
        "\n",
        "# 6. Evaluate on test data using best estimator\n",
        "best_rf = grid_search.best_estimator_\n",
        "y_pred = best_rf.predict(X_test)\n",
        "test_accuracy = accuracy_score(y_test, y_pred)\n",
        "print(f\"Test Set Accuracy: {test_accuracy:.4f}\")"
      ],
      "metadata": {
        "colab": {
          "base_uri": "https://localhost:8080/"
        },
        "id": "7i5wYFDo-vOg",
        "outputId": "f9087d38-2432-4697-92dc-eceb9f12605e"
      },
      "execution_count": 17,
      "outputs": [
        {
          "output_type": "stream",
          "name": "stdout",
          "text": [
            "Fitting 5 folds for each of 324 candidates, totalling 1620 fits\n",
            "Best Hyperparameters: {'max_depth': None, 'max_features': 'log2', 'min_samples_leaf': 1, 'min_samples_split': 5, 'n_estimators': 50}\n",
            "Best Cross-validation Accuracy: 0.9670329670329669\n",
            "Test Set Accuracy: 0.9737\n"
          ]
        },
        {
          "output_type": "stream",
          "name": "stderr",
          "text": [
            "/usr/local/lib/python3.11/dist-packages/sklearn/model_selection/_validation.py:528: FitFailedWarning: \n",
            "540 fits failed out of a total of 1620.\n",
            "The score on these train-test partitions for these parameters will be set to nan.\n",
            "If these failures are not expected, you can try to debug them by setting error_score='raise'.\n",
            "\n",
            "Below are more details about the failures:\n",
            "--------------------------------------------------------------------------------\n",
            "176 fits failed with the following error:\n",
            "Traceback (most recent call last):\n",
            "  File \"/usr/local/lib/python3.11/dist-packages/sklearn/model_selection/_validation.py\", line 866, in _fit_and_score\n",
            "    estimator.fit(X_train, y_train, **fit_params)\n",
            "  File \"/usr/local/lib/python3.11/dist-packages/sklearn/base.py\", line 1382, in wrapper\n",
            "    estimator._validate_params()\n",
            "  File \"/usr/local/lib/python3.11/dist-packages/sklearn/base.py\", line 436, in _validate_params\n",
            "    validate_parameter_constraints(\n",
            "  File \"/usr/local/lib/python3.11/dist-packages/sklearn/utils/_param_validation.py\", line 98, in validate_parameter_constraints\n",
            "    raise InvalidParameterError(\n",
            "sklearn.utils._param_validation.InvalidParameterError: The 'max_features' parameter of RandomForestClassifier must be an int in the range [1, inf), a float in the range (0.0, 1.0], a str among {'log2', 'sqrt'} or None. Got 'auto' instead.\n",
            "\n",
            "--------------------------------------------------------------------------------\n",
            "364 fits failed with the following error:\n",
            "Traceback (most recent call last):\n",
            "  File \"/usr/local/lib/python3.11/dist-packages/sklearn/model_selection/_validation.py\", line 866, in _fit_and_score\n",
            "    estimator.fit(X_train, y_train, **fit_params)\n",
            "  File \"/usr/local/lib/python3.11/dist-packages/sklearn/base.py\", line 1382, in wrapper\n",
            "    estimator._validate_params()\n",
            "  File \"/usr/local/lib/python3.11/dist-packages/sklearn/base.py\", line 436, in _validate_params\n",
            "    validate_parameter_constraints(\n",
            "  File \"/usr/local/lib/python3.11/dist-packages/sklearn/utils/_param_validation.py\", line 98, in validate_parameter_constraints\n",
            "    raise InvalidParameterError(\n",
            "sklearn.utils._param_validation.InvalidParameterError: The 'max_features' parameter of RandomForestClassifier must be an int in the range [1, inf), a float in the range (0.0, 1.0], a str among {'sqrt', 'log2'} or None. Got 'auto' instead.\n",
            "\n",
            "  warnings.warn(some_fits_failed_message, FitFailedWarning)\n",
            "/usr/local/lib/python3.11/dist-packages/sklearn/model_selection/_search.py:1108: UserWarning: One or more of the test scores are non-finite: [       nan        nan        nan        nan        nan        nan\n",
            "        nan        nan        nan        nan        nan        nan\n",
            "        nan        nan        nan        nan        nan        nan\n",
            "        nan        nan        nan        nan        nan        nan\n",
            "        nan        nan        nan 0.95384615 0.95824176 0.96263736\n",
            " 0.95164835 0.95824176 0.95824176 0.94725275 0.95384615 0.94945055\n",
            " 0.95164835 0.95384615 0.95824176 0.95164835 0.95824176 0.95824176\n",
            " 0.95164835 0.95164835 0.95384615 0.94505495 0.95164835 0.94945055\n",
            " 0.94505495 0.95164835 0.94945055 0.94505495 0.95164835 0.95164835\n",
            " 0.95824176 0.95824176 0.95824176 0.96703297 0.96263736 0.95384615\n",
            " 0.95384615 0.96043956 0.95384615 0.96263736 0.96043956 0.95164835\n",
            " 0.95384615 0.96263736 0.95604396 0.95384615 0.95384615 0.95384615\n",
            " 0.95384615 0.95164835 0.95384615 0.95384615 0.95164835 0.95384615\n",
            " 0.95824176 0.95384615 0.95164835        nan        nan        nan\n",
            "        nan        nan        nan        nan        nan        nan\n",
            "        nan        nan        nan        nan        nan        nan\n",
            "        nan        nan        nan        nan        nan        nan\n",
            "        nan        nan        nan        nan        nan        nan\n",
            " 0.95384615 0.95824176 0.96263736 0.95164835 0.95824176 0.95824176\n",
            " 0.94725275 0.95384615 0.94945055 0.95164835 0.95384615 0.95824176\n",
            " 0.95164835 0.95824176 0.95824176 0.95164835 0.95164835 0.95384615\n",
            " 0.94505495 0.95164835 0.94945055 0.94505495 0.95164835 0.94945055\n",
            " 0.94505495 0.95164835 0.95164835 0.95824176 0.95824176 0.95824176\n",
            " 0.96703297 0.96263736 0.95384615 0.95384615 0.96043956 0.95384615\n",
            " 0.96263736 0.96043956 0.95164835 0.95384615 0.96263736 0.95604396\n",
            " 0.95384615 0.95384615 0.95384615 0.95384615 0.95164835 0.95384615\n",
            " 0.95384615 0.95164835 0.95384615 0.95824176 0.95384615 0.95164835\n",
            "        nan        nan        nan        nan        nan        nan\n",
            "        nan        nan        nan        nan        nan        nan\n",
            "        nan        nan        nan        nan        nan        nan\n",
            "        nan        nan        nan        nan        nan        nan\n",
            "        nan        nan        nan 0.95384615 0.95824176 0.96263736\n",
            " 0.95164835 0.95824176 0.95824176 0.94725275 0.95384615 0.94945055\n",
            " 0.95164835 0.95384615 0.95824176 0.95164835 0.95824176 0.95824176\n",
            " 0.95164835 0.95164835 0.95384615 0.94505495 0.95164835 0.94945055\n",
            " 0.94505495 0.95164835 0.94945055 0.94505495 0.95164835 0.95164835\n",
            " 0.95824176 0.95824176 0.95824176 0.96703297 0.96263736 0.95384615\n",
            " 0.95384615 0.96043956 0.95384615 0.96263736 0.96043956 0.95164835\n",
            " 0.95384615 0.96263736 0.95604396 0.95384615 0.95384615 0.95384615\n",
            " 0.95384615 0.95164835 0.95384615 0.95384615 0.95164835 0.95384615\n",
            " 0.95824176 0.95384615 0.95164835        nan        nan        nan\n",
            "        nan        nan        nan        nan        nan        nan\n",
            "        nan        nan        nan        nan        nan        nan\n",
            "        nan        nan        nan        nan        nan        nan\n",
            "        nan        nan        nan        nan        nan        nan\n",
            " 0.95384615 0.95824176 0.96263736 0.95164835 0.95824176 0.95824176\n",
            " 0.94725275 0.95384615 0.94945055 0.95164835 0.95384615 0.95824176\n",
            " 0.95164835 0.95824176 0.95824176 0.95164835 0.95164835 0.95384615\n",
            " 0.94505495 0.95164835 0.94945055 0.94505495 0.95164835 0.94945055\n",
            " 0.94505495 0.95164835 0.95164835 0.95824176 0.95824176 0.95824176\n",
            " 0.96703297 0.96263736 0.95384615 0.95384615 0.96043956 0.95384615\n",
            " 0.96263736 0.96043956 0.95164835 0.95384615 0.96263736 0.95604396\n",
            " 0.95384615 0.95384615 0.95384615 0.95384615 0.95164835 0.95384615\n",
            " 0.95384615 0.95164835 0.95384615 0.95824176 0.95384615 0.95164835]\n",
            "  warnings.warn(\n"
          ]
        }
      ]
    },
    {
      "cell_type": "code",
      "source": [
        "# 32. Train a Bagging Regressor with different numbers of base estimators and compare performance.\n",
        "\n",
        "from sklearn.ensemble import BaggingRegressor\n",
        "from sklearn.tree import DecisionTreeRegressor\n",
        "from sklearn.metrics import r2_score\n",
        "\n",
        "# Assuming you already have train/test split: X_train, X_test, y_train, y_test\n",
        "\n",
        "n_estimators_list = [10, 30, 50, 100]\n",
        "results = {}\n",
        "\n",
        "for n_estimators in n_estimators_list:\n",
        "    # Initialize Bagging Regressor with Decision Tree base estimator\n",
        "    bagging_reg = BaggingRegressor(\n",
        "        estimator=DecisionTreeRegressor(random_state=42),\n",
        "        n_estimators=n_estimators,\n",
        "        random_state=42\n",
        "    )\n",
        "\n",
        "    # Train the model\n",
        "    bagging_reg.fit(X_train, y_train)\n",
        "\n",
        "    # Predict on test set\n",
        "    y_pred = bagging_reg.predict(X_test)\n",
        "\n",
        "    # Evaluate performance (R² score)\n",
        "    score = r2_score(y_test, y_pred)\n",
        "    results[n_estimators] = score\n",
        "    print(f\"Bagging Regressor with {n_estimators} estimators - R² score: {score:.4f}\")\n",
        "\n",
        "# Optional: print summary or plot results\n",
        "print(\"\\nSummary of R² scores by number of estimators:\")\n",
        "for n, score in results.items():\n",
        "    print(f\"{n} estimators: R² = {score:.4f}\")"
      ],
      "metadata": {
        "colab": {
          "base_uri": "https://localhost:8080/"
        },
        "id": "P-MBQ4ly_B6e",
        "outputId": "f520f051-f401-471d-e80a-c8e20fff3fc8"
      },
      "execution_count": 19,
      "outputs": [
        {
          "output_type": "stream",
          "name": "stdout",
          "text": [
            "Bagging Regressor with 10 estimators - R² score: 0.8406\n",
            "Bagging Regressor with 30 estimators - R² score: 0.8440\n",
            "Bagging Regressor with 50 estimators - R² score: 0.8571\n",
            "Bagging Regressor with 100 estimators - R² score: 0.8636\n",
            "\n",
            "Summary of R² scores by number of estimators:\n",
            "10 estimators: R² = 0.8406\n",
            "30 estimators: R² = 0.8440\n",
            "50 estimators: R² = 0.8571\n",
            "100 estimators: R² = 0.8636\n"
          ]
        }
      ]
    },
    {
      "cell_type": "code",
      "source": [
        "# 33. Train a Random Forest Classifier and analyze misclassified samples.\n",
        "\n",
        "from sklearn.ensemble import RandomForestClassifier\n",
        "from sklearn.metrics import classification_report, confusion_matrix\n",
        "import pandas as pd\n",
        "\n",
        "# Assuming you have train/test splits: X_train, X_test, y_train, y_test\n",
        "\n",
        "# 1. Train the Random Forest Classifier\n",
        "rf_clf = RandomForestClassifier(random_state=42, n_estimators=100)\n",
        "rf_clf.fit(X_train, y_train)\n",
        "\n",
        "# 2. Predict on test set\n",
        "y_pred = rf_clf.predict(X_test)\n",
        "\n",
        "# 3. Print classification metrics\n",
        "print(classification_report(y_test, y_pred))\n",
        "\n",
        "# 4. Confusion matrix\n",
        "cm = confusion_matrix(y_test, y_pred)\n",
        "print(\"Confusion Matrix:\\n\", cm)\n",
        "\n",
        "# 5. Identify misclassified samples\n",
        "misclassified_mask = (y_pred != y_test)\n",
        "misclassified_samples = X_test[misclassified_mask]\n",
        "misclassified_true_labels = y_test[misclassified_mask]\n",
        "misclassified_pred_labels = y_pred[misclassified_mask]\n",
        "\n",
        "# Convert misclassified samples to DataFrame with columns\n",
        "analysis_df = pd.DataFrame(misclassified_samples, columns=feature_names)\n",
        "\n",
        "# Now add the true and predicted labels as columns\n",
        "analysis_df['True Label'] = misclassified_true_labels\n",
        "analysis_df['Predicted Label'] = misclassified_pred_labels\n",
        "\n",
        "print(f\"\\nNumber of misclassified samples: {len(analysis_df)}\")\n",
        "print(analysis_df.head())"
      ],
      "metadata": {
        "colab": {
          "base_uri": "https://localhost:8080/"
        },
        "id": "p2ecDR-D_7ul",
        "outputId": "7d212ea5-0656-413d-cd94-c6b36bc83b4d"
      },
      "execution_count": 22,
      "outputs": [
        {
          "output_type": "stream",
          "name": "stdout",
          "text": [
            "              precision    recall  f1-score   support\n",
            "\n",
            "           0       0.98      0.93      0.95        43\n",
            "           1       0.96      0.99      0.97        71\n",
            "\n",
            "    accuracy                           0.96       114\n",
            "   macro avg       0.97      0.96      0.96       114\n",
            "weighted avg       0.97      0.96      0.96       114\n",
            "\n",
            "Confusion Matrix:\n",
            " [[40  3]\n",
            " [ 1 70]]\n",
            "\n",
            "Number of misclassified samples: 4\n",
            "   mean radius  mean texture  mean perimeter  mean area  mean smoothness  \\\n",
            "0        13.34         15.86           86.49      520.0          0.10780   \n",
            "1        13.80         15.79           90.43      584.1          0.10070   \n",
            "2        13.96         17.05           91.43      602.4          0.10960   \n",
            "3        14.48         21.46           94.25      648.2          0.09444   \n",
            "\n",
            "   mean compactness  mean concavity  mean concave points  mean symmetry  \\\n",
            "0           0.15350         0.11690              0.06987         0.1942   \n",
            "1           0.12800         0.07789              0.05069         0.1662   \n",
            "2           0.12790         0.09789              0.05246         0.1908   \n",
            "3           0.09947         0.12040              0.04938         0.2075   \n",
            "\n",
            "   mean fractal dimension  ...  worst perimeter  worst area  worst smoothness  \\\n",
            "0                 0.06902  ...            96.66       614.9            0.1536   \n",
            "1                 0.06566  ...           110.30       812.4            0.1411   \n",
            "2                 0.06130  ...           108.10       826.0            0.1512   \n",
            "3                 0.05636  ...           108.40       808.9            0.1306   \n",
            "\n",
            "   worst compactness  worst concavity  worst concave points  worst symmetry  \\\n",
            "0             0.4791           0.4858                0.1708          0.3527   \n",
            "1             0.3542           0.2779                0.1383          0.2589   \n",
            "2             0.3262           0.3209                0.1374          0.3068   \n",
            "3             0.1976           0.3349                0.1225          0.3020   \n",
            "\n",
            "   worst fractal dimension  True Label  Predicted Label  \n",
            "0                  0.10160           1                0  \n",
            "1                  0.10300           0                1  \n",
            "2                  0.07957           0                1  \n",
            "3                  0.06846           0                1  \n",
            "\n",
            "[4 rows x 32 columns]\n"
          ]
        }
      ]
    },
    {
      "cell_type": "code",
      "source": [
        "# 34. Train a Bagging Classifier and compare its performance with a single Decision Tree Classifier.\n",
        "\n",
        "from sklearn.tree import DecisionTreeClassifier\n",
        "from sklearn.ensemble import BaggingClassifier\n",
        "from sklearn.metrics import accuracy_score, classification_report\n",
        "\n",
        "# Assuming you have X_train, X_test, y_train, y_test\n",
        "\n",
        "# 1. Single Decision Tree\n",
        "dt_clf = DecisionTreeClassifier(random_state=42)\n",
        "dt_clf.fit(X_train, y_train)\n",
        "y_pred_dt = dt_clf.predict(X_test)\n",
        "\n",
        "# 2. Bagging Classifier with Decision Trees as base estimators\n",
        "bagging_clf = BaggingClassifier(\n",
        "    estimator=DecisionTreeClassifier(),\n",
        "    n_estimators=50,  # number of base trees\n",
        "    random_state=42\n",
        ")\n",
        "bagging_clf.fit(X_train, y_train)\n",
        "y_pred_bagging = bagging_clf.predict(X_test)\n",
        "\n",
        "# 3. Compare performance\n",
        "\n",
        "print(\"Decision Tree Classifier Performance:\")\n",
        "print(f\"Accuracy: {accuracy_score(y_test, y_pred_dt):.4f}\")\n",
        "print(classification_report(y_test, y_pred_dt))\n",
        "\n",
        "print(\"\\nBagging Classifier Performance:\")\n",
        "print(f\"Accuracy: {accuracy_score(y_test, y_pred_bagging):.4f}\")\n",
        "print(classification_report(y_test, y_pred_bagging))"
      ],
      "metadata": {
        "colab": {
          "base_uri": "https://localhost:8080/"
        },
        "id": "EGOr4L0-AFcJ",
        "outputId": "6036ab87-66cf-44c3-a248-206660925f8e"
      },
      "execution_count": 24,
      "outputs": [
        {
          "output_type": "stream",
          "name": "stdout",
          "text": [
            "Decision Tree Classifier Performance:\n",
            "Accuracy: 0.9474\n",
            "              precision    recall  f1-score   support\n",
            "\n",
            "           0       0.93      0.93      0.93        43\n",
            "           1       0.96      0.96      0.96        71\n",
            "\n",
            "    accuracy                           0.95       114\n",
            "   macro avg       0.94      0.94      0.94       114\n",
            "weighted avg       0.95      0.95      0.95       114\n",
            "\n",
            "\n",
            "Bagging Classifier Performance:\n",
            "Accuracy: 0.9561\n",
            "              precision    recall  f1-score   support\n",
            "\n",
            "           0       0.95      0.93      0.94        43\n",
            "           1       0.96      0.97      0.97        71\n",
            "\n",
            "    accuracy                           0.96       114\n",
            "   macro avg       0.96      0.95      0.95       114\n",
            "weighted avg       0.96      0.96      0.96       114\n",
            "\n"
          ]
        }
      ]
    },
    {
      "cell_type": "code",
      "source": [
        "# 35. Train a Random Forest Classifier and visualize the confusion matrix.\n",
        "\n",
        "from sklearn.ensemble import RandomForestClassifier\n",
        "from sklearn.metrics import confusion_matrix, classification_report\n",
        "import matplotlib.pyplot as plt\n",
        "import seaborn as sns\n",
        "\n",
        "# Assuming you already have train/test splits: X_train, X_test, y_train, y_test\n",
        "\n",
        "# 1. Train the Random Forest Classifier\n",
        "rf_clf = RandomForestClassifier(random_state=42, n_estimators=100)\n",
        "rf_clf.fit(X_train, y_train)\n",
        "\n",
        "# 2. Predict on test set\n",
        "y_pred = rf_clf.predict(X_test)\n",
        "\n",
        "# 3. Print classification report\n",
        "print(classification_report(y_test, y_pred))\n",
        "\n",
        "# 4. Compute confusion matrix\n",
        "cm = confusion_matrix(y_test, y_pred)\n",
        "\n",
        "# 5. Visualize confusion matrix with Seaborn heatmap\n",
        "plt.figure(figsize=(8,6))\n",
        "sns.heatmap(cm, annot=True, fmt='d', cmap='Blues',\n",
        "            xticklabels=rf_clf.classes_,\n",
        "            yticklabels=rf_clf.classes_)\n",
        "plt.xlabel('Predicted Label')\n",
        "plt.ylabel('True Label')\n",
        "plt.title('Random Forest Confusion Matrix')\n",
        "plt.show()"
      ],
      "metadata": {
        "colab": {
          "base_uri": "https://localhost:8080/",
          "height": 720
        },
        "id": "MlXmMKaqAPjJ",
        "outputId": "8649872a-d737-4044-d83d-1042d8401ed8"
      },
      "execution_count": 25,
      "outputs": [
        {
          "output_type": "stream",
          "name": "stdout",
          "text": [
            "              precision    recall  f1-score   support\n",
            "\n",
            "           0       0.98      0.93      0.95        43\n",
            "           1       0.96      0.99      0.97        71\n",
            "\n",
            "    accuracy                           0.96       114\n",
            "   macro avg       0.97      0.96      0.96       114\n",
            "weighted avg       0.97      0.96      0.96       114\n",
            "\n"
          ]
        },
        {
          "output_type": "display_data",
          "data": {
            "text/plain": [
              "<Figure size 800x600 with 2 Axes>"
            ],
            "image/png": "[encoded data removed]"
          },
          "metadata": {}
        }
      ]
    },
    {
      "cell_type": "code",
      "source": [
        "# 36. Train a Stacking Classifier using Decision Trees, SVM, and Logistic Regression, and compare accuracy.\n",
        "\n",
        "from sklearn.ensemble import StackingClassifier\n",
        "from sklearn.linear_model import LogisticRegression\n",
        "from sklearn.tree import DecisionTreeClassifier\n",
        "from sklearn.svm import SVC\n",
        "from sklearn.pipeline import make_pipeline\n",
        "from sklearn.preprocessing import StandardScaler\n",
        "from sklearn.metrics import accuracy_score\n",
        "\n",
        "# Define base estimators with scaling where needed\n",
        "estimators = [\n",
        "    ('dt', DecisionTreeClassifier(random_state=42)),\n",
        "    ('svm', make_pipeline(StandardScaler(), SVC(probability=True, random_state=42))),\n",
        "    ('lr', make_pipeline(StandardScaler(), LogisticRegression(max_iter=1000, random_state=42)))\n",
        "]\n",
        "\n",
        "# Final estimator with scaling\n",
        "final_estimator = make_pipeline(\n",
        "    StandardScaler(),\n",
        "    LogisticRegression(max_iter=1000, random_state=42)\n",
        ")\n",
        "\n",
        "# Create stacking classifier\n",
        "stack_clf = StackingClassifier(\n",
        "    estimators=estimators,\n",
        "    final_estimator=final_estimator\n",
        ")\n",
        "\n",
        "# Train\n",
        "stack_clf.fit(X_train, y_train)\n",
        "\n",
        "# Predict and evaluate\n",
        "y_pred = stack_clf.predict(X_test)\n",
        "print(\"Stacking Classifier Accuracy:\", accuracy_score(y_test, y_pred))"
      ],
      "metadata": {
        "colab": {
          "base_uri": "https://localhost:8080/"
        },
        "id": "VlgaV3uUB5WV",
        "outputId": "e4c8b1e7-379b-45e9-8a09-1cf0080d1dd6"
      },
      "execution_count": 28,
      "outputs": [
        {
          "output_type": "stream",
          "name": "stdout",
          "text": [
            "Stacking Classifier Accuracy: 0.9736842105263158\n"
          ]
        }
      ]
    },
    {
      "cell_type": "code",
      "source": [
        "# 37. Train a Random Forest Classifier and print the top 5 most important features.\n",
        "\n",
        "from sklearn.datasets import load_breast_cancer          # or whatever loader you used\n",
        "data = load_breast_cancer()                              # already done earlier\n",
        "feature_names = data.feature_names                       # this is a NumPy array of strings\n",
        "\n",
        "importances = rf_clf.feature_importances_\n",
        "\n",
        "import pandas as pd\n",
        "feature_importance_df = pd.DataFrame({\n",
        "    'Feature': feature_names,\n",
        "    'Importance': importances\n",
        "})\n",
        "\n",
        "top5 = feature_importance_df.sort_values('Importance', ascending=False).head(5)\n",
        "print(top5)"
      ],
      "metadata": {
        "colab": {
          "base_uri": "https://localhost:8080/"
        },
        "id": "iBN_-zuACW79",
        "outputId": "ceb9412e-52c6-497c-9a52-23bc7b9e462d"
      },
      "execution_count": 32,
      "outputs": [
        {
          "output_type": "stream",
          "name": "stdout",
          "text": [
            "                 Feature  Importance\n",
            "23            worst area    0.153892\n",
            "27  worst concave points    0.144663\n",
            "7    mean concave points    0.106210\n",
            "20          worst radius    0.077987\n",
            "6         mean concavity    0.068001\n"
          ]
        }
      ]
    },
    {
      "cell_type": "code",
      "source": [
        "# 38. Train a Bagging Classifier and evaluate performance using Precision, Recall, and F1-score.\n",
        "\n",
        "from sklearn.ensemble import BaggingClassifier\n",
        "from sklearn.tree import DecisionTreeClassifier\n",
        "from sklearn.metrics import classification_report\n",
        "from sklearn.model_selection import train_test_split\n",
        "from sklearn.datasets import load_wine  # You can replace with your own dataset\n",
        "\n",
        "# 1. Load data\n",
        "data = load_wine()\n",
        "X, y = data.data, data.target\n",
        "\n",
        "# 2. Train-test split\n",
        "X_train, X_test, y_train, y_test = train_test_split(X, y, test_size=0.2, random_state=42)\n",
        "\n",
        "# 3. Initialize Bagging Classifier with Decision Tree\n",
        "bagging_clf = BaggingClassifier(\n",
        "    estimator=DecisionTreeClassifier(),\n",
        "    n_estimators=50,\n",
        "    random_state=42\n",
        ")\n",
        "\n",
        "# 4. Fit model\n",
        "bagging_clf.fit(X_train, y_train)\n",
        "\n",
        "# 5. Predict\n",
        "y_pred = bagging_clf.predict(X_test)\n",
        "\n",
        "# 6. Evaluate with Precision, Recall, F1-Score\n",
        "print(\"Classification Report:\")\n",
        "print(classification_report(y_test, y_pred, digits=4))"
      ],
      "metadata": {
        "colab": {
          "base_uri": "https://localhost:8080/"
        },
        "id": "fth2A1c7CBXY",
        "outputId": "21b84a09-fc91-4d76-e111-3d28c7be0625"
      },
      "execution_count": 33,
      "outputs": [
        {
          "output_type": "stream",
          "name": "stdout",
          "text": [
            "Classification Report:\n",
            "              precision    recall  f1-score   support\n",
            "\n",
            "           0     1.0000    1.0000    1.0000        14\n",
            "           1     0.9333    1.0000    0.9655        14\n",
            "           2     1.0000    0.8750    0.9333         8\n",
            "\n",
            "    accuracy                         0.9722        36\n",
            "   macro avg     0.9778    0.9583    0.9663        36\n",
            "weighted avg     0.9741    0.9722    0.9718        36\n",
            "\n"
          ]
        }
      ]
    },
    {
      "cell_type": "code",
      "source": [
        "# 39.  Train a Random Forest Classifier and analyze the effect of max_depth on accuracy.\n",
        "\n",
        "import matplotlib.pyplot as plt\n",
        "from sklearn.ensemble import RandomForestClassifier\n",
        "from sklearn.metrics import accuracy_score\n",
        "from sklearn.model_selection import train_test_split\n",
        "from sklearn.datasets import load_wine  # Replace with your dataset\n",
        "\n",
        "# 1. Load data\n",
        "data = load_wine()\n",
        "X, y = data.data, data.target\n",
        "\n",
        "# 2. Split into train and test sets\n",
        "X_train, X_test, y_train, y_test = train_test_split(X, y, test_size=0.2, random_state=42)\n",
        "\n",
        "# 3. Range of max_depth values to test\n",
        "depths = list(range(1, 21))\n",
        "accuracies = []\n",
        "\n",
        "# 4. Train Random Forest with different max_depths\n",
        "for depth in depths:\n",
        "    clf = RandomForestClassifier(max_depth=depth, random_state=42, n_estimators=100)\n",
        "    clf.fit(X_train, y_train)\n",
        "    y_pred = clf.predict(X_test)\n",
        "    acc = accuracy_score(y_test, y_pred)\n",
        "    accuracies.append(acc)\n",
        "\n",
        "# 5. Plot results\n",
        "plt.figure(figsize=(10, 6))\n",
        "plt.plot(depths, accuracies, marker='o', linestyle='--', color='b')\n",
        "plt.title('Effect of max_depth on Random Forest Accuracy')\n",
        "plt.xlabel('max_depth')\n",
        "plt.ylabel('Accuracy')\n",
        "plt.grid(True)\n",
        "plt.show()"
      ],
      "metadata": {
        "colab": {
          "base_uri": "https://localhost:8080/",
          "height": 564
        },
        "id": "HNaDeR0aDOi2",
        "outputId": "b487a743-e337-407d-daf3-1d57f2db0b0e"
      },
      "execution_count": 34,
      "outputs": [
        {
          "output_type": "display_data",
          "data": {
            "text/plain": [
              "<Figure size 1000x600 with 1 Axes>"
            ],
            "image/png": "[encoded data removed]"
          },
          "metadata": {}
        }
      ]
    },
    {
      "cell_type": "code",
      "source": [
        "# 40. Train a Bagging Regressor using different base estimators (DecisionTree and KNeighbors) and compare performance.\n",
        "\n",
        "from sklearn.ensemble import BaggingRegressor\n",
        "from sklearn.tree import DecisionTreeRegressor\n",
        "from sklearn.neighbors import KNeighborsRegressor\n",
        "from sklearn.metrics import mean_squared_error, r2_score\n",
        "from sklearn.model_selection import train_test_split\n",
        "from sklearn.datasets import load_diabetes  # Example dataset\n",
        "import numpy as np\n",
        "\n",
        "# 1. Load data\n",
        "data = load_diabetes()\n",
        "X, y = data.data, data.target\n",
        "\n",
        "# 2. Train-test split\n",
        "X_train, X_test, y_train, y_test = train_test_split(X, y, test_size=0.2, random_state=42)\n",
        "\n",
        "# 3. Define base estimators\n",
        "base_dt = DecisionTreeRegressor(random_state=42)\n",
        "base_knn = KNeighborsRegressor(n_neighbors=5)\n",
        "\n",
        "# 4. Train Bagging Regressors\n",
        "bagging_dt = BaggingRegressor(estimator=base_dt, n_estimators=50, random_state=42)\n",
        "bagging_knn = BaggingRegressor(estimator=base_knn, n_estimators=50, random_state=42)\n",
        "\n",
        "bagging_dt.fit(X_train, y_train)\n",
        "bagging_knn.fit(X_train, y_train)\n",
        "\n",
        "# 5. Predict\n",
        "y_pred_dt = bagging_dt.predict(X_test)\n",
        "y_pred_knn = bagging_knn.predict(X_test)\n",
        "\n",
        "# 6. Evaluate\n",
        "mse_dt = mean_squared_error(y_test, y_pred_dt)\n",
        "r2_dt = r2_score(y_test, y_pred_dt)\n",
        "\n",
        "mse_knn = mean_squared_error(y_test, y_pred_knn)\n",
        "r2_knn = r2_score(y_test, y_pred_knn)\n",
        "\n",
        "# 7. Print results\n",
        "print(\"Bagging Regressor (Decision Tree):\")\n",
        "print(f\"  MSE: {mse_dt:.2f}\")\n",
        "print(f\"  R²:  {r2_dt:.2f}\\n\")\n",
        "\n",
        "print(\"Bagging Regressor (KNeighbors):\")\n",
        "print(f\"  MSE: {mse_knn:.2f}\")\n",
        "print(f\"  R²:  {r2_knn:.2f}\")"
      ],
      "metadata": {
        "colab": {
          "base_uri": "https://localhost:8080/"
        },
        "id": "qy5dkAWyDWCO",
        "outputId": "f20f4222-e7d2-46ee-b92c-fb3eb78b09ab"
      },
      "execution_count": 35,
      "outputs": [
        {
          "output_type": "stream",
          "name": "stdout",
          "text": [
            "Bagging Regressor (Decision Tree):\n",
            "  MSE: 3056.49\n",
            "  R²:  0.42\n",
            "\n",
            "Bagging Regressor (KNeighbors):\n",
            "  MSE: 2918.78\n",
            "  R²:  0.45\n"
          ]
        }
      ]
    },
    {
      "cell_type": "code",
      "source": [
        "# 41. Train a Random Forest Classifier and evaluate its performance using ROC-AUC Score.\n",
        "\n",
        "from sklearn.ensemble import RandomForestClassifier\n",
        "from sklearn.metrics import roc_auc_score, roc_curve\n",
        "from sklearn.model_selection import train_test_split\n",
        "from sklearn.datasets import make_classification\n",
        "import matplotlib.pyplot as plt\n",
        "\n",
        "# 1. Load example binary classification data (replace with your dataset)\n",
        "X, y = make_classification(n_samples=1000, n_features=20, n_classes=2,\n",
        "                           n_informative=2, n_redundant=10, random_state=42)\n",
        "\n",
        "# 2. Train-test split\n",
        "X_train, X_test, y_train, y_test = train_test_split(X, y, test_size=0.3, random_state=42)\n",
        "\n",
        "# 3. Train Random Forest Classifier\n",
        "rf = RandomForestClassifier(n_estimators=100, random_state=42)\n",
        "rf.fit(X_train, y_train)\n",
        "\n",
        "# 4. Predict probabilities\n",
        "y_proba = rf.predict_proba(X_test)[:, 1]  # Probabilities for the positive class\n",
        "\n",
        "# 5. Calculate ROC-AUC score\n",
        "roc_auc = roc_auc_score(y_test, y_proba)\n",
        "print(f\"ROC-AUC Score: {roc_auc:.4f}\")\n",
        "\n",
        "# 6. Plot ROC curve\n",
        "fpr, tpr, thresholds = roc_curve(y_test, y_proba)\n",
        "plt.figure(figsize=(8, 6))\n",
        "plt.plot(fpr, tpr, label=f\"ROC Curve (AUC = {roc_auc:.4f})\")\n",
        "plt.plot([0, 1], [0, 1], linestyle='--', color='gray')\n",
        "plt.xlabel(\"False Positive Rate\")\n",
        "plt.ylabel(\"True Positive Rate\")\n",
        "plt.title(\"ROC Curve - Random Forest Classifier\")\n",
        "plt.legend()\n",
        "plt.grid(True)\n",
        "plt.show()"
      ],
      "metadata": {
        "colab": {
          "base_uri": "https://localhost:8080/",
          "height": 581
        },
        "id": "Jb6UzytKDiMB",
        "outputId": "cff97c18-cb73-4659-871d-0cc0285364f9"
      },
      "execution_count": 36,
      "outputs": [
        {
          "output_type": "stream",
          "name": "stdout",
          "text": [
            "ROC-AUC Score: 0.9555\n"
          ]
        },
        {
          "output_type": "display_data",
          "data": {
            "text/plain": [
              "<Figure size 800x600 with 1 Axes>"
            ],
            "image/png": "[encoded data removed]"
          },
          "metadata": {}
        }
      ]
    },
    {
      "cell_type": "code",
      "source": [
        "# 42. Train a Bagging Classifier and evaluate its performance using cross-validation.\n",
        "\n",
        "from sklearn.ensemble import BaggingClassifier\n",
        "from sklearn.tree import DecisionTreeClassifier\n",
        "from sklearn.model_selection import cross_val_score\n",
        "from sklearn.datasets import load_iris\n",
        "import numpy as np\n",
        "\n",
        "# 1. Load example data (replace with your dataset)\n",
        "data = load_iris()\n",
        "X, y = data.data, data.target\n",
        "\n",
        "# 2. Initialize base estimator and Bagging Classifier\n",
        "base_estimator = DecisionTreeClassifier(random_state=42)\n",
        "bagging_clf = BaggingClassifier(estimator=base_estimator, n_estimators=50, random_state=42)\n",
        "\n",
        "# 3. Evaluate using cross-validation (5-fold)\n",
        "cv_scores = cross_val_score(bagging_clf, X, y, cv=5, scoring='accuracy')\n",
        "\n",
        "# 4. Print results\n",
        "print(f\"Cross-validation accuracy scores: {cv_scores}\")\n",
        "print(f\"Mean accuracy: {np.mean(cv_scores):.4f}\")\n",
        "print(f\"Standard deviation: {np.std(cv_scores):.4f}\")"
      ],
      "metadata": {
        "colab": {
          "base_uri": "https://localhost:8080/"
        },
        "id": "vU01uYHADrt8",
        "outputId": "7b817a64-aa60-401e-cd58-8e47b4fd1897"
      },
      "execution_count": 38,
      "outputs": [
        {
          "output_type": "stream",
          "name": "stdout",
          "text": [
            "Cross-validation accuracy scores: [0.96666667 0.96666667 0.93333333 0.96666667 1.        ]\n",
            "Mean accuracy: 0.9667\n",
            "Standard deviation: 0.0211\n"
          ]
        }
      ]
    },
    {
      "cell_type": "code",
      "source": [
        "# 43. Train a Random Forest Classifier and plot the Precision-Recall curve.\n",
        "\n",
        "import matplotlib.pyplot as plt\n",
        "from sklearn.ensemble import RandomForestClassifier\n",
        "from sklearn.metrics import precision_recall_curve, average_precision_score\n",
        "from sklearn.model_selection import train_test_split\n",
        "from sklearn.datasets import load_breast_cancer  # example dataset\n",
        "from sklearn.preprocessing import label_binarize\n",
        "\n",
        "# 1. Load example data (replace with your dataset)\n",
        "data = load_breast_cancer()\n",
        "X, y = data.data, data.target\n",
        "\n",
        "# 2. Split into train and test sets\n",
        "X_train, X_test, y_train, y_test = train_test_split(X, y, test_size=0.2, random_state=42)\n",
        "\n",
        "# 3. Train Random Forest Classifier\n",
        "rf_clf = RandomForestClassifier(random_state=42, n_estimators=100)\n",
        "rf_clf.fit(X_train, y_train)\n",
        "\n",
        "# 4. Predict probabilities for the positive class\n",
        "y_scores = rf_clf.predict_proba(X_test)[:, 1]\n",
        "\n",
        "# 5. Compute Precision-Recall curve\n",
        "precision, recall, thresholds = precision_recall_curve(y_test, y_scores)\n",
        "\n",
        "# 6. Compute average precision score (area under PR curve)\n",
        "avg_precision = average_precision_score(y_test, y_scores)\n",
        "\n",
        "# 7. Plot Precision-Recall curve\n",
        "plt.figure(figsize=(8, 6))\n",
        "plt.plot(recall, precision, label=f'Random Forest (AP={avg_precision:.2f})')\n",
        "plt.xlabel('Recall')\n",
        "plt.ylabel('Precision')\n",
        "plt.title('Precision-Recall Curve')\n",
        "plt.legend()\n",
        "plt.grid(True)\n",
        "plt.show()"
      ],
      "metadata": {
        "colab": {
          "base_uri": "https://localhost:8080/",
          "height": 564
        },
        "id": "z5Mq1IHaD1Mp",
        "outputId": "7ae4a193-e686-451d-c9d9-37f01bcb7bcd"
      },
      "execution_count": 39,
      "outputs": [
        {
          "output_type": "display_data",
          "data": {
            "text/plain": [
              "<Figure size 800x600 with 1 Axes>"
            ],
            "image/png": "[encoded data removed]"
          },
          "metadata": {}
        }
      ]
    },
    {
      "cell_type": "code",
      "source": [
        "# 44. Train a Stacking Classifier with Random Forest and Logistic Regression and compare accuracy.\n",
        "\n",
        "from sklearn.preprocessing import StandardScaler\n",
        "from sklearn.pipeline import make_pipeline\n",
        "\n",
        "# Wrap Logistic Regression in a pipeline with scaler\n",
        "lr = make_pipeline(StandardScaler(),\n",
        "                   LogisticRegression(max_iter=5000, solver='lbfgs', random_state=42))\n",
        "\n",
        "# Same for the final estimator of StackingClassifier\n",
        "stack_clf = StackingClassifier(\n",
        "    estimators=[\n",
        "        ('rf', RandomForestClassifier(random_state=42, n_estimators=100)),\n",
        "        ('lr', lr)\n",
        "    ],\n",
        "    final_estimator=make_pipeline(\n",
        "        StandardScaler(),\n",
        "        LogisticRegression(max_iter=5000, solver='lbfgs', random_state=42)\n",
        "    )\n",
        ")\n",
        "\n",
        "stack_clf.fit(X_train, y_train)\n",
        "y_pred_stack = stack_clf.predict(X_test)\n",
        "\n",
        "print(f\"Stacking Classifier Accuracy: {accuracy_score(y_test, y_pred_stack):.4f}\")"
      ],
      "metadata": {
        "colab": {
          "base_uri": "https://localhost:8080/"
        },
        "id": "WWvkDDJtEAA6",
        "outputId": "d9ee44fd-18d0-4713-f7a8-f39c782821d6"
      },
      "execution_count": 41,
      "outputs": [
        {
          "output_type": "stream",
          "name": "stdout",
          "text": [
            "Stacking Classifier Accuracy: 0.9737\n"
          ]
        }
      ]
    },
    {
      "cell_type": "code",
      "source": [
        "# 45. Train a Bagging Regressor with different levels of bootstrap samples and compare performance.\n",
        "\n",
        "from sklearn.ensemble import BaggingRegressor\n",
        "from sklearn.tree import DecisionTreeRegressor\n",
        "from sklearn.metrics import mean_squared_error\n",
        "import matplotlib.pyplot as plt\n",
        "\n",
        "# List of different max_samples values (fractions or integers)\n",
        "max_samples_list = [0.3, 0.5, 0.7, 1.0]\n",
        "\n",
        "results = []\n",
        "\n",
        "for max_samples in max_samples_list:\n",
        "    bagging_reg = BaggingRegressor(\n",
        "        estimator=DecisionTreeRegressor(random_state=42),\n",
        "        n_estimators=50,\n",
        "        max_samples=max_samples,\n",
        "        bootstrap=True,\n",
        "        random_state=42\n",
        "    )\n",
        "    bagging_reg.fit(X_train, y_train)\n",
        "    y_pred = bagging_reg.predict(X_test)\n",
        "    mse = mean_squared_error(y_test, y_pred)\n",
        "    results.append((max_samples, mse))\n",
        "    print(f\"max_samples={max_samples}: MSE={mse:.4f}\")\n",
        "\n",
        "# Plotting\n",
        "samples, mses = zip(*results)\n",
        "plt.plot(samples, mses, marker='o')\n",
        "plt.xlabel('max_samples (fraction of training samples)')\n",
        "plt.ylabel('Mean Squared Error (MSE)')\n",
        "plt.title('Bagging Regressor Performance vs. max_samples')\n",
        "plt.show()"
      ],
      "metadata": {
        "colab": {
          "base_uri": "https://localhost:8080/",
          "height": 541
        },
        "id": "UCCNP-NjEHX3",
        "outputId": "4b161285-6aa6-460e-8782-7c5f494d74e4"
      },
      "execution_count": 43,
      "outputs": [
        {
          "output_type": "stream",
          "name": "stdout",
          "text": [
            "max_samples=0.3: MSE=0.0309\n",
            "max_samples=0.5: MSE=0.0335\n",
            "max_samples=0.7: MSE=0.0322\n",
            "max_samples=1.0: MSE=0.0336\n"
          ]
        },
        {
          "output_type": "display_data",
          "data": {
            "text/plain": [
              "<Figure size 640x480 with 1 Axes>"
            ],
            "image/png": "[encoded data removed]"
          },
          "metadata": {}
        }
      ]
    },
    {
      "cell_type": "code",
      "source": [],
      "metadata": {
        "id": "ZwsxQpPfEgJs"
      },
      "execution_count": null,
      "outputs": []
    }
  ]
}