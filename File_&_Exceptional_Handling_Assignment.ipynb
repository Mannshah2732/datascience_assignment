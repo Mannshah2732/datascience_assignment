{
  "nbformat": 4,
  "nbformat_minor": 0,
  "metadata": {
    "colab": {
      "provenance": [],
      "authorship_tag": "ABX9TyM1UqNi+s9oro7nPD/8gFbL",
      "include_colab_link": true
    },
    "kernelspec": {
      "name": "python3",
      "display_name": "Python 3"
    },
    "language_info": {
      "name": "python"
    }
  },
  "cells": [
    {
      "cell_type": "markdown",
      "metadata": {
        "id": "view-in-github",
        "colab_type": "text"
      },
      "source": [
        "<a href=\"https://colab.research.google.com/github/Mannshah2732/datascience_assignment/blob/main/File_%26_Exceptional_Handling_Assignment.ipynb\" target=\"_parent\"><img src=\"https://colab.research.google.com/assets/colab-badge.svg\" alt=\"Open In Colab\"/></a>"
      ]
    },
    {
      "cell_type": "markdown",
      "source": [
        "1. Discuss the scenarios where multithreading is preferable to multiprocessing and scenarios where multiprocessing is a better choice.\n",
        "\n",
        "## Scenarios Favoring Multithreading\n",
        "\n",
        "* I/O-bound Tasks : When tasks spend a lot of time waiting for input/output operations (like reading/writing to a file or network).\n",
        "\n",
        "* Shared Memory Needs : When tasks need to share a significant amount of data.\n",
        "\n",
        "* Low Memory Overhead :  When memory usage needs to be minimized.\n",
        "\n",
        "* Responsive User Interfaces : In applications with GUI, such as desktop or web apps.\n",
        "\n",
        "* Lightweight Tasks : For tasks that require quick context switching and low resource usage.\n",
        "\n",
        "\n",
        "## Scenarios Favoring Multiprocessing\n",
        "\n",
        "* CPU-bound Tasks : When tasks require significant CPU resources, such as heavy computations.\n",
        "\n",
        "* Isolation : When tasks require strong isolation for security or stability.\n",
        "\n",
        "* Avoiding Global Interpreter Lock (GIL) : Particularly in languages like Python, where GIL can limit the performance of multithreaded applications.\n",
        "\n",
        "* Heavy Data Processing : In scenarios where large amounts of data need to be processed, like data analytics or image processing.\n",
        "\n",
        "* Long-running Processes : When tasks are expected to run for a long time.\n",
        "\n",
        "## Summary\n",
        "\n",
        "* Use Multithreading for I/O-bound tasks, shared memory needs, low memory overhead, responsive UIs, and lightweight tasks.\n",
        "\n",
        "* Use Multiprocessing for CPU-bound tasks, isolation, avoiding GIL limitations, heavy data processing, and long-running processes."
      ],
      "metadata": {
        "id": "y5dADZcaxa5X"
      }
    },
    {
      "cell_type": "markdown",
      "source": [
        "2. Describe what a process pool is and how it helps in managing multiple processes efficiently.\n",
        "\n",
        "* A process pool is a design pattern that maintains a collection of pre-instantiated processes to handle tasks concurrently.\n",
        "\n",
        "## Key Features of a Process Pool\n",
        "\n",
        "* Reusability : Processes in a pool are reused for multiple tasks, which reduces the overhead associated with creating and destroying processes.\n",
        "\n",
        "* Load Balancing : A process pool can distribute tasks among available processes, ensuring that the workload is balanced.\n",
        "\n",
        "* Controlled Concurrency : By limiting the number of active processes in the pool, you can manage system resources effectively and prevent overload.\n",
        "\n",
        "* Simplified Management : The pool abstracts the complexity of managing multiple processes.\n",
        "\n",
        "* Error Handling : A process pool can implement error handling mechanisms for failed tasks, allowing for retries or alternative processing strategies without affecting the entire application.\n",
        "\n",
        "## How it Works\n",
        "\n",
        "* Initialization : The pool is created with a fixed number of processes. This number can be based on system resources, the nature of the tasks, or empirical performance data.\n",
        "\n",
        "* Task Submission : When a task needs to be executed, it is submitted to the pool. The pool assigns the task to an available process.\n",
        "\n",
        "* Task Execution : The assigned process executes the task. If the process is busy, the task waits in a queue until a process becomes available.\n",
        "\n",
        "* Result Retrieval : Once the task is complete, the result can be retrieved from the pool. The process then becomes available for another task."
      ],
      "metadata": {
        "id": "ErEB2gJv1hRQ"
      }
    },
    {
      "cell_type": "markdown",
      "source": [
        "3. Explain what multiprocessing is and why it is used in Python programs.\n",
        "\n",
        "* Multiprocessing in Python refers to the ability to run multiple processes simultaneously, allowing a program to leverage multiple CPU cores.\n",
        "\n",
        "* This is particularly useful for CPU-bound tasks that require substantial processing power.\n",
        "\n",
        "* The Python multiprocessing module provides a way to create and manage separate processes, enabling concurrent execution and improved performance.\n",
        "\n",
        "## Why Use Multiprocessing in Python\n",
        "\n",
        "* CPU-Bound Tasks\n",
        "* Bypassing the GIL\n",
        "* Improved Performance\n",
        "* Robustness\n",
        "* Concurrency\n",
        "\n",
        "## Use Cases for Multiprocessing\n",
        "\n",
        "* Data Processing Pipelines : Parallelize data transformation tasks for faster execution.\n",
        "\n",
        "* Machine Learning : Train models on large datasets concurrently to speed up training times.\n",
        "\n",
        "* Web Scraping : Collect data from multiple sources simultaneously, improving the speed of data collection.\n",
        "\n",
        "* Scientific Simulations : Run multiple simulations in parallel to analyze different scenarios or parameters.\n",
        "\n"
      ],
      "metadata": {
        "id": "Ap3J-rlG3BJo"
      }
    },
    {
      "cell_type": "code",
      "source": [
        "# 4. Write a Python program using multithreading where one thread adds numbers to a list, and another thread removes numbers from the list. Implement a mechanism to avoid race conditions using threading.Lock.\n",
        "\n",
        "import threading\n",
        "import time\n",
        "import random\n",
        "\n",
        "shared_list = []\n",
        "lock = threading.Lock()\n",
        "\n",
        "def add_numbers():\n",
        "  for i in range(10):\n",
        "    time.sleep(random.uniform(0.1, 0.5))\n",
        "    with lock:\n",
        "      shared_list.append(i)\n",
        "      print(f\"Added : {i} Current List : {shared_list}\")\n",
        "\n",
        "def remove_numbers():\n",
        "  for i in range(10):\n",
        "    time.sleep(random.uniform(0.1, 0.5))\n",
        "    with lock:\n",
        "      if shared_list:\n",
        "        removed = shared_list.pop(0)\n",
        "        print(f\"Removed : {removed} Current List : {shared_list}\")\n",
        "      else:\n",
        "        print(\"List is empty, nothing to remove\")\n",
        "\n",
        "add_thread = threading.Thread(target = add_numbers)\n",
        "remove_thread = threading.Thread(target = remove_numbers)\n",
        "\n",
        "add_thread.start()\n",
        "remove_thread.start()\n",
        "\n",
        "add_thread.join()\n",
        "remove_thread.join()\n",
        "\n",
        "print(\"Final list : \", shared_list)"
      ],
      "metadata": {
        "colab": {
          "base_uri": "https://localhost:8080/"
        },
        "id": "fJaj-AzH4_dm",
        "outputId": "18fd17f1-ae0c-468c-b648-004c10c9965c"
      },
      "execution_count": null,
      "outputs": [
        {
          "output_type": "stream",
          "name": "stdout",
          "text": [
            "List is empty, nothing to remove\n",
            "Added : 0 Current List : [0]\n",
            "Removed : 0 Current List : []\n",
            "Added : 1 Current List : [1]\n",
            "Removed : 1 Current List : []\n",
            "Added : 2 Current List : [2]\n",
            "Removed : 2 Current List : []\n",
            "Added : 3 Current List : [3]\n",
            "Added : 4 Current List : [3, 4]\n",
            "Removed : 3 Current List : [4]\n",
            "Added : 5 Current List : [4, 5]\n",
            "Removed : 4 Current List : [5]\n",
            "Added : 6 Current List : [5, 6]\n",
            "Added : 7 Current List : [5, 6, 7]\n",
            "Removed : 5 Current List : [6, 7]\n",
            "Added : 8 Current List : [6, 7, 8]\n",
            "Added : 9 Current List : [6, 7, 8, 9]\n",
            "Removed : 6 Current List : [7, 8, 9]\n",
            "Removed : 7 Current List : [8, 9]\n",
            "Removed : 8 Current List : [9]\n",
            "Final list :  [9]\n"
          ]
        }
      ]
    },
    {
      "cell_type": "markdown",
      "source": [
        "5. Describe the methods and tools available in Python for safely sharing data between threads and processes.\n",
        "\n",
        "* In Python, sharing data safely between threads and processes involves using various methods and tools to avoid issues like race conditions and data corruption.\n",
        "\n",
        "## For Threading\n",
        "\n",
        "1. Locks :\n",
        "\n",
        "* threading.Lock : A simple locking mechanism to ensure that only one thread can access a resource at a time.\n",
        "\n",
        "* threading.RLock : A reentrant lock that allows a thread to acquire the lock multiple times.\n",
        "\n",
        "2. Semaphores :\n",
        "\n",
        "* threading.Semaphore : A more advanced synchronization tool that allows a certain number of threads to access a resource concurrently.\n",
        "\n",
        "3. Condition Variables :\n",
        "\n",
        "* threading.Condition : Allows threads to wait for certain conditions to be met. Threads can wait for notifications when a condition changes.\n",
        "\n",
        "4. Events :\n",
        "\n",
        "* threading.Event : A simple flag that can be set or cleared, allowing one thread to signal one or more other threads.\n",
        "\n",
        "5. Queues :\n",
        "\n",
        "* queue.Queue : A thread-safe FIFO queue that allows threads to communicate and share data safely. This is often the preferred method for sharing data between threads.\n",
        "\n",
        "## For Multiprocessing\n",
        "\n",
        "1. Processes and Manager :\n",
        "\n",
        "* multiprocessing.Process : Allows you to create separate processes that run concurrently.\n",
        "\n",
        "* multiprocessing.Manager : Provides a way to create shared objects (like lists, dictionaries) that can be accessed by multiple processes.\n",
        "\n",
        "2. Locks and Semaphores :\n",
        "\n",
        "* multiprocessing.Lock and multiprocessing.Semaphore : Similar to threading, these are used for synchronizing access to shared resources among processes.\n",
        "\n",
        "3. Queues :\n",
        "\n",
        "* multiprocessing.Queue : A process-safe FIFO queue for inter-process communication, allowing data to be shared between processes.\n",
        "\n",
        "4. Pipes :\n",
        "\n",
        "* multiprocessing.Pipe : A way to establish a two-way communication channel between processes.\n",
        "\n",
        "5. Shared Memory (Python 3.8+):\n",
        "\n",
        "* multiprocessing.shared_memory: Allows you to create shared memory blocks that can be accessed by multiple processes, providing a fast way to share data.\n",
        "\n",
        "\n",
        "## Right Tool\n",
        "\n",
        "* For Threading: Use queue.Queue for passing messages, Lock for protecting shared resources, and Condition or Event for more complex synchronization.\n",
        "\n",
        "* For Multiprocessing: Use multiprocessing.Queue for communication, Manager for shared state, and Lock for mutual exclusion."
      ],
      "metadata": {
        "id": "o9Gzlh_R7dav"
      }
    },
    {
      "cell_type": "markdown",
      "source": [
        "6. Discuss why it's crucial to handle exceptions in concurrent programs and the techniques available for doing so.\n",
        "\n",
        "Handling exceptions in concurrent programs is crucial for several reasons:\n",
        "\n",
        "1. System Stability :\n",
        "\n",
        "* Unhandled exceptions can lead to crashes or undefined behavior in a program, especially when multiple threads or processes are involved. Proper handling ensures that the application remains stable.\n",
        "\n",
        "2. Resource Management :\n",
        "\n",
        "* In concurrent environments, resources (like files, sockets, or database connections) may be shared. If exceptions occur and are not handled, resources may not be released properly, leading to leaks or deadlocks.\n",
        "\n",
        "3. Debugging :\n",
        "\n",
        "* When exceptions are caught and logged appropriately, it becomes easier to diagnose and fix issues. Without proper exception handling, tracking down the source of an error can be challenging.\n",
        "\n",
        "4. Graceful Shutdown:\n",
        "\n",
        "* Handling exceptions allows you to clean up resources and perform necessary shutdown procedures, ensuring that the program exits cleanly even in the event of an error.\n",
        "\n",
        "5. Communication of Errors:\n",
        "\n",
        "* In concurrent systems, errors in one thread or process may need to be communicated to others. Handling exceptions allows you to propagate error states effectively.\n",
        "\n",
        "## Techniques for Handling Exceptions in Concurrent Programs\n",
        "\n",
        "* Try-Except Blocks :\n",
        "\n",
        "Use try and except statements within threads or processes to catch exceptions locally. This allows you to handle errors specific to that context.\n",
        "\n",
        "Example :"
      ],
      "metadata": {
        "id": "Ut1eh3AlbnAA"
      }
    },
    {
      "cell_type": "code",
      "source": [
        "import threading\n",
        "\n",
        "def worker():\n",
        "  try:\n",
        "    # code that may raise an exception\n",
        "    pass\n",
        "\n",
        "  except exception as e:\n",
        "    print(f\"Error in worker : {e}\")\n",
        "\n",
        "thread = threading.Thread(target = worker)\n",
        "thread.start()"
      ],
      "metadata": {
        "id": "a3si-KghdDjt"
      },
      "execution_count": null,
      "outputs": []
    },
    {
      "cell_type": "code",
      "source": [
        "# 7. Create a program that uses a thread pool to calculate the factorial of numbers from 1 to 10 concurrently. Use concurrent.futures.ThreadPoolExecutor to manage the threads.\n",
        "\n",
        "import concurrent.futures\n",
        "import math\n",
        "\n",
        "def calculate_factorial(n):\n",
        "  return math.factorial(n)\n",
        "\n",
        "def main():\n",
        "  numbers = range(1, 11)\n",
        "\n",
        "  with concurrent.futures.ThreadPoolExecutor() as executor:\n",
        "\n",
        "    futures = {executor.submit(calculate_factorial, n): n for n in numbers}\n",
        "\n",
        "    for future in concurrent.futures.as_completed(futures):\n",
        "      n = futures[future]\n",
        "      try:\n",
        "        result = future.result()\n",
        "        print(f\"Factorial of {n} is {result}\")\n",
        "      except Exception as e:\n",
        "        print(f\"Error calculating factorial of {n}: {e}\")\n",
        "\n",
        "if __name__ == \"__main__\":\n",
        "  main()"
      ],
      "metadata": {
        "colab": {
          "base_uri": "https://localhost:8080/"
        },
        "id": "faQVXCi6eIMH",
        "outputId": "e43488c1-4c4a-4a03-e481-ad708cef7779"
      },
      "execution_count": null,
      "outputs": [
        {
          "output_type": "stream",
          "name": "stdout",
          "text": [
            "Factorial of 8 is 40320\n",
            "Factorial of 1 is 1\n",
            "Factorial of 5 is 120\n",
            "Factorial of 2 is 2\n",
            "Factorial of 9 is 362880\n",
            "Factorial of 7 is 5040\n",
            "Factorial of 4 is 24\n",
            "Factorial of 3 is 6\n",
            "Factorial of 6 is 720\n",
            "Factorial of 10 is 3628800\n"
          ]
        }
      ]
    },
    {
      "cell_type": "code",
      "source": [
        "# 8. Create a Python program that uses multiprocessing.Pool to compute the square of numbers from 1 to 10 in parallel. Measure the time taken to perform this computation using a pool of different sizes (e.g., 2, 4, 8 processes).\n",
        "\n",
        "import multiprocessing\n",
        "import time\n",
        "\n",
        "def compute_square(n):\n",
        "  return n * n\n",
        "\n",
        "def main():\n",
        "  numbers = range(1, 11)\n",
        "\n",
        "  pool_sizes = [2, 4, 8]\n",
        "\n",
        "  for pool_size in pool_sizes:\n",
        "    start_time = time.time()\n",
        "\n",
        "    with multiprocessing.Pool(processes=pool_size) as pool:\n",
        "      results = pool.map(compute_square, numbers)\n",
        "\n",
        "    end_time = time.time()\n",
        "    elapsed_time = end_time - start_time\n",
        "\n",
        "    print(f\"Pool size: {pool_size}, Results: {results}, Time taken: {elapsed_time:.4f} seconds\")\n",
        "\n",
        "if __name__ == \"__main__\":\n",
        "    main()"
      ],
      "metadata": {
        "colab": {
          "base_uri": "https://localhost:8080/"
        },
        "id": "-CKCRMPQgHzJ",
        "outputId": "5fe25df5-15d9-4337-c428-5813a777166e"
      },
      "execution_count": null,
      "outputs": [
        {
          "output_type": "stream",
          "name": "stdout",
          "text": [
            "Pool size: 2, Results: [1, 4, 9, 16, 25, 36, 49, 64, 81, 100], Time taken: 0.0534 seconds\n",
            "Pool size: 4, Results: [1, 4, 9, 16, 25, 36, 49, 64, 81, 100], Time taken: 0.0722 seconds\n",
            "Pool size: 8, Results: [1, 4, 9, 16, 25, 36, 49, 64, 81, 100], Time taken: 0.1284 seconds\n"
          ]
        }
      ]
    }
  ]
}