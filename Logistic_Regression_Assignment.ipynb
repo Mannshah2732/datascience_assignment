{
  "nbformat": 4,
  "nbformat_minor": 0,
  "metadata": {
    "colab": {
      "provenance": [],
      "authorship_tag": "ABX9TyOpREZnrZ6hauX//yj9McPc",
      "include_colab_link": true
    },
    "kernelspec": {
      "name": "python3",
      "display_name": "Python 3"
    },
    "language_info": {
      "name": "python"
    }
  },
  "cells": [
    {
      "cell_type": "markdown",
      "metadata": {
        "id": "view-in-github",
        "colab_type": "text"
      },
      "source": [
        "<a href=\"https://colab.research.google.com/github/Mannshah2732/datascience_assignment/blob/main/Logistic_Regression_Assignment.ipynb\" target=\"_parent\"><img src=\"https://colab.research.google.com/assets/colab-badge.svg\" alt=\"Open In Colab\"/></a>"
      ]
    },
    {
      "cell_type": "markdown",
      "source": [
        "## Theoretical"
      ],
      "metadata": {
        "id": "aP97oH1H4PVq"
      }
    },
    {
      "cell_type": "markdown",
      "source": [
        "1. What is Logistic Regression, and how does it differ from Linear Regression.\n",
        "\n",
        "* Logistic Regression is used for classification problems, especially binary classification (e.g., yes/no, true/false, spam/not spam).\n",
        "\n",
        "* The logistic function looks like this :\n",
        "\n",
        "![image.png](data:image/png;base64,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)\n",
        "\n",
        "where z= β0 + β1x1 + β2x2 +⋯+ βn​xn​  (a linear combination of the input features).\n",
        "\n",
        "* Key Differences\n",
        "\n",
        "Linear Regression :\n",
        "\n",
        "  Goal           ---     Predict continuous numeric value\n",
        "\n",
        "  Output         ---     Continuous values (can be any real number)\n",
        "\n",
        "  Model          ---     Linear function\n",
        "\n",
        "  Problem Type   ---     Regression\n",
        "\n",
        "  Loss Function  ---     Mean Squared Error (MSE)\n",
        "\n",
        "Logistic Regression :\n",
        "\n",
        "  Goal              ---     Predict probability of class membership\n",
        "\n",
        "  Output            ---     Values between 0 and 1 (interpreted as probabilities)\n",
        "\n",
        "  Model             ---     Logistic (sigmoid) function applied to linear function\n",
        "\n",
        "  Problem Type      ---     Classification (mostly binary)\n",
        "\n",
        "  Loss Function     ---     Log Loss (Cross-Entropy)\n",
        "\n",
        "\n",
        "* Use Linear Regression when you want to predict continuous values.\n",
        "\n",
        "* Use Logistic Regression when you want to predict class labels (classification), by modeling the probability of class membership."
      ],
      "metadata": {
        "id": "P-ozRx9q4Ucx"
      }
    },
    {
      "cell_type": "markdown",
      "source": [
        "2. What is the mathematical equation of Logistic Regression.\n",
        "\n",
        "* The mathematical equation of Logistic Regression consists of two parts :\n",
        "\n",
        "  1. Linear Combination (Same as Linear Regression):\n",
        "\n",
        "      𝑧 = 𝛽0 + 𝛽1𝑥1 + 𝛽2𝑥2 + ⋯ + 𝛽𝑛𝑥𝑛\n",
        "\n",
        "  * 𝑥1, 𝑥2, … , 𝑥𝑛 : input features\n",
        "\n",
        "  * 𝛽0 : intercept (bias term)\n",
        "\n",
        "  * 𝛽1, 𝛽2, … , 𝛽𝑛 : coefficients (weights)\n",
        "\n",
        "  2. Logistic (Sigmoid) Function :\n",
        "\n",
        "    ![image.png](data:image/png;base64,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)\n",
        "\n",
        "    * This function maps the output 𝑧 to a value between 0 and 1, which is interpreted as the probability that the input belongs to the positive class (usually class \"1\")."
      ],
      "metadata": {
        "id": "HcdasPdZk1Xi"
      }
    },
    {
      "cell_type": "markdown",
      "source": [
        "3.  Why do we use the Sigmoid function in Logistic Regression.\n",
        "\n",
        "* We use the sigmoid function in logistic regression for a very specific and important reason :\n",
        "\n",
        "* Purpose of the Sigmoid Function :\n",
        "\n",
        "  * The sigmoid function transforms any real-valued number (from − ∞ to + ∞) into a value between 0 and 1. This is crucial because we are predicting a probability, and probabilities must lie in that range.\n",
        "\n",
        "  * The sigmoid function is :\n",
        "\n",
        "  ![image.png](data:image/png;base64,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)\n",
        "\n",
        "* Why This Matters in Logistic Regression :\n",
        "\n",
        "  1. Probability Output :\n",
        "\n",
        "    * Logistic regression models the probability that a sample belongs to class 1.\n",
        "\n",
        "    * The sigmoid function ensures the output of the model is interpretable as a probability (between 0 and 1).\n",
        "\n",
        "  2. Decision Boundary:\n",
        "\n",
        "    * By applying a threshold (e.g., 0.5), we can classify :\n",
        "\n",
        "      * Class 1 if 𝑃(𝑦 = 1 ∣ 𝑥) ≥ 0.5\n",
        "      \n",
        "      * Class 0 if 𝑃(𝑦 = 1 ∣ 𝑥) < 0.5\n",
        "  \n",
        "  3. Smooth & Differentiable :\n",
        "\n",
        "    * The sigmoid function is smooth and differentiable, making it suitable for optimization using gradient descent during training.\n",
        "\n",
        "  4. Monotonic Behavior :\n",
        "\n",
        "    * As the input 𝑧 increases, the output probability smoothly increases—this matches real-world intuition (e.g., more evidence for a class should increase its probability).\n",
        "\n",
        "\n"
      ],
      "metadata": {
        "id": "NCEt3-1zn9qV"
      }
    },
    {
      "cell_type": "markdown",
      "source": [
        "4. What is the cost function of Logistic Regression.\n",
        "\n",
        "* The cost function in Logistic Regression is based on Log Loss, also known as Binary Cross-Entropy Loss.\n",
        "\n",
        "* Logistic Regression Cost Function (Binary Cross-Entropy) :\n",
        "\n",
        "  * For a single training example (𝑥,𝑦), the cost is :\n",
        "\n",
        "    * Cost(hθ(x),y) = − [y ⋅ log(hθ(x)) + (1−y) ⋅ log(1−hθ(x))]\n",
        "\n",
        "  Where:\n",
        "\n",
        "    * 𝑦 ∈ {0,1}  : actual label\n",
        "\n",
        "    * ![image.png](data:image/png;base64,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) : predicted probability (sigmoid output)\n",
        "    \n",
        "    * θ : model parameters\n",
        "\n"
      ],
      "metadata": {
        "id": "prN2a1pepY3G"
      }
    },
    {
      "cell_type": "markdown",
      "source": [
        "5. What is Regularization in Logistic Regression? Why is it needed.\n",
        "\n",
        "* Regularization is a technique used to prevent overfitting in machine learning models by penalizing large coefficients (weights) in the model. In logistic regression, it works by adding a penalty term to the cost function.\n",
        "\n",
        "* Why is Regularization Needed?\n",
        "\n",
        "When a logistic regression model has :\n",
        "\n",
        "  * Too many features, or\n",
        "\n",
        "  * Highly correlated or noisy features,\n",
        "\n",
        "it might fit the training data too well (overfitting), capturing noise instead of general patterns. This leads to poor performance on unseen (test) data.\n",
        "\n",
        "Regularization helps the model generalize better by keeping weights small and discouraging complexity.\n",
        "\n",
        "* Types of regularization in logistic regression\n",
        "\n",
        "1. Ridge\n",
        "2. Lasso\n"
      ],
      "metadata": {
        "id": "L7kLKOQCrtyy"
      }
    },
    {
      "cell_type": "markdown",
      "source": [
        "6.  Explain the difference between Lasso, Ridge, and Elastic Net regression.\n",
        "\n",
        "* Here's a clear breakdown of the differences between Lasso, Ridge, and Elastic Net regression :  \n",
        "\n",
        "1. Ridge Regression (L2 Regularization)\n",
        "  \n",
        "  * Penalty : Squares of the coefficients\n",
        "  \n",
        "    * 𝐽(𝜃) = Loss + 𝜆∑𝜃𝑗2\n",
        "\n",
        "  * Effect : Shrinks all coefficients, but none go to zero\n",
        "\n",
        "  * Use Case : When you have many correlated features\n",
        "\n",
        "2. Lasso Regression (L1 Regularization)\n",
        "\n",
        "  * Penalty : Absolute values of the coefficients\n",
        "\n",
        "    * 𝐽(𝜃) = Loss + 𝜆∑∣𝜃𝑗∣\n",
        "  \n",
        "  * Effect : Forces some coefficients to become exactly zero\n",
        "\n",
        "  * Use Case : Good for feature selection, especially with high-dimensional data\n",
        "\n",
        "3. Elastic Net Regression\n",
        "  \n",
        "  * Penalty : Combination of L1 and L2\n",
        "\n",
        "    * 𝐽(𝜃) = Loss + 𝜆1∑ ∣𝜃𝑗∣ + 𝜆2∑𝜃𝑗2\n",
        "\n",
        "  * Effect : Balances Ridge and Lasso\n",
        "\n",
        "  * Use Case : Useful when :\n",
        "\n",
        "    * You have many features, some of which may be correlated\n",
        "\n",
        "    * You want the benefits of both sparsity (Lasso) and shrinkage (Ridge)"
      ],
      "metadata": {
        "id": "M4kB7RMusJoL"
      }
    },
    {
      "cell_type": "markdown",
      "source": [
        "7. When should we use Elastic Net instead of Lasso or Ridge?\n",
        "\n",
        "* Choosing Elastic Net over Lasso or Ridge depends on the structure of your data.\n",
        "\n",
        "Here's when Elastic Net is the better choice :\n",
        "\n",
        "1. You Have Many Features (High-Dimensional Data)\n",
        "  \n",
        "  * If the number of features 𝑝 is large compared to the number of observations 𝑛 (e.g., 𝑝 > 𝑛), Elastic Net performs better than Lasso or Ridge alone.\n",
        "\n",
        "2. There Are Highly Correlated Features\n",
        "\n",
        "  * Lasso tends to pick only one feature from a group of correlated features and ignore the rest.\n",
        "\n",
        "  * Ridge shrinks them together but doesn’t eliminate any.\n",
        "\n",
        "  * Elastic Net can select groups of correlated features together, which is often more realistic.\n",
        "\n",
        "3. You Want Feature Selection + Stability\n",
        "\n",
        "  * Lasso can be unstable when :\n",
        "\n",
        "    * Features are highly correlated\n",
        "\n",
        "    * Data is noisy\n",
        "\n",
        "  * Elastic Net combines Lasso's sparsity (feature selection) with Ridge's stability (shrinkage), giving a more balanced and robust model."
      ],
      "metadata": {
        "id": "VjkGp2VDtYqA"
      }
    },
    {
      "cell_type": "markdown",
      "source": [
        "8. What is the impact of the regularization parameter (λ) in Logistic Regression?\n",
        "\n",
        "* The regularization parameter 𝜆 (also known as C in some libraries like sklearn) plays a critical role in logistic regression with regularization.\n",
        "\n",
        "* It controls the strength of the penalty applied to the model’s coefficients.\n",
        "\n",
        "* Impact of 𝜆 in Logistic Regression :\n",
        "\n",
        "  * Large 𝜆\t-- Strong regularization\n",
        "  \n",
        "  * Small 𝜆\t-- Weak regularization\n",
        "\n",
        "  * λ = 0\t-- No regularization (pure logistic regression)"
      ],
      "metadata": {
        "id": "aZgi8IhYt9Ut"
      }
    },
    {
      "cell_type": "markdown",
      "source": [
        "9. What are the key assumptions of Logistic Regression?\n",
        "\n",
        "* Although logistic regression is a flexible and widely used classification algorithm, it does rely on several key assumptions to perform well.\n",
        "\n",
        "1. Linearity of Logits (Not of Features)\n",
        "\n",
        "  * The log odds (logit) of the dependent variable is a linear combination of the input features :\n",
        "\n",
        "  * ![image.png](data:image/png;base64,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)\n",
        "\n",
        "  * This means logistic regression assumes a linear relationship between the independent variables and the log-odds of the outcome—not the outcome itself.\n",
        "\n",
        "2. Independent Observations\n",
        "\n",
        "  * Each observation (row in your dataset) should be independent of the others.\n",
        "\n",
        "  * Violations (like repeated measurements or time-series data) require special modeling approaches (e.g., mixed models, time-series models).\n",
        "\n",
        "3. No Multicollinearity\n",
        "\n",
        "  * Predictor variables should not be highly correlated with each other.\n",
        "\n",
        "  * High multicollinearity can :\n",
        "\n",
        "    * Make coefficient estimates unstable\n",
        "\n",
        "    * Reduce model interpretability\n",
        "\n",
        "  * Use techniques like Variance Inflation Factor (VIF) to detect and manage it.\n",
        "\n",
        "4. Large Sample Size\n",
        "\n",
        "  * Logistic regression relies on maximum likelihood estimation (MLE), which performs better with larger datasets.\n",
        "\n",
        "  * Especially important when :\n",
        "\n",
        "    * There are many features\n",
        "\n",
        "    * The classes are imbalanced\n",
        "\n",
        "5. No Outliers or Influential Points (Optional but Important)\n",
        "\n",
        "  * Logistic regression is sensitive to outliers, especially in the feature space.\n",
        "\n",
        "  * Outliers can distort the decision boundary.\n",
        "\n",
        "  * Use diagnostic tools or robust methods if outliers are present."
      ],
      "metadata": {
        "id": "aXBbFkMuuojM"
      }
    },
    {
      "cell_type": "markdown",
      "source": [
        "10. What are some alternatives to Logistic Regression for classification tasks?\n",
        "\n",
        "* While logistic regression is a solid baseline for classification tasks, there are many powerful alternatives—especially when the data is complex or the assumptions of logistic regression don't hold.\n",
        "\n",
        "1. Decision Trees\n",
        "\n",
        "  * How it works : Splits the data into branches based on feature thresholds.\n",
        "\n",
        "  * Pros :\n",
        "\n",
        "    * Easy to interpret\n",
        "\n",
        "    * No need for linear relationships\n",
        "\n",
        "  * Cons :\n",
        "\n",
        "    * Prone to overfitting (unless pruned)\n",
        "\n",
        "2. Random Forest\n",
        "\n",
        "  * How it works: An ensemble of decision trees (bagging).\n",
        "\n",
        "  * Pros :\n",
        "\n",
        "    * High accuracy\n",
        "\n",
        "    * Handles non-linear relationships and interactions\n",
        "\n",
        "  * Cons :\n",
        "\n",
        "    * Less interpretable than a single tree\n",
        "\n",
        "3. Gradient Boosting Machines (e.g., XGBoost, LightGBM, CatBoost)\n",
        "\n",
        "  * How it works : Builds trees sequentially to correct previous errors (boosting).\n",
        "\n",
        "  * Pros :\n",
        "\n",
        "    * Often top-performing in competitions\n",
        "\n",
        "    * Handles missing values and feature interactions well\n",
        "\n",
        "  * Cons :\n",
        "\n",
        "    * More complex to tune\n",
        "\n",
        "    * Slower to train\n",
        "\n",
        "4. Support Vector Machine (SVM)\n",
        "\n",
        "  * How it works : Finds a hyperplane that best separates the classes.\n",
        "\n",
        "  * Pros :\n",
        "\n",
        "    * Effective in high-dimensional spaces\n",
        "\n",
        "    * Can use non-linear kernels (RBF, polynomial)\n",
        "\n",
        "  * Cons :\n",
        "\n",
        "    * Computationally expensive with large datasets\n",
        "\n",
        "    * Requires feature scaling\n",
        "\n",
        "5. K-Nearest Neighbors (KNN)\n",
        "\n",
        "  * How it works : Classifies a sample based on the majority class of its k nearest neighbors.\n",
        "\n",
        "  * Pros :\n",
        "\n",
        "    * Simple and intuitive\n",
        "\n",
        "    * No training phase\n",
        "\n",
        "  * Cons :\n",
        "\n",
        "    * Slow prediction with large datasets\n",
        "\n",
        "    * Sensitive to irrelevant features and scaling\n",
        "\n",
        "6. Naive Bayes\n",
        "  \n",
        "  * How it works : Uses Bayes’ theorem assuming feature independence.\n",
        "\n",
        "  * Pros :\n",
        "\n",
        "    * Fast, especially with text data (e.g., spam detection)\n",
        "\n",
        "    * Works well with small datasets\n",
        "\n",
        "  * Cons :\n",
        "\n",
        "    * Assumes independence between features (rarely true)"
      ],
      "metadata": {
        "id": "6yzTk-S6vT56"
      }
    },
    {
      "cell_type": "markdown",
      "source": [
        "11. What are Classification Evaluation Metrics?\n",
        "\n",
        "* Classification evaluation metrics are used to measure how well a classification model performs, especially on unseen (test) data.\n",
        "\n",
        "* The right metric depends on your business goals and whether you're dealing with balanced or imbalanced classes.\n",
        "\n",
        "* Core Evaluation Metrics for Classification\n",
        "  1. Accuracy\n",
        "  2. Precision\n",
        "  3. Recall (Sensitivity or True Positive Rate)\n",
        "  4. F1 Score\n",
        "  5. ROC Curve and AUC (Area Under Curve)\n",
        "  6. Confusion matrix\n",
        "  7. Log Loss (Cross-Entropy Loss)"
      ],
      "metadata": {
        "id": "lqOfrv8KwiG5"
      }
    },
    {
      "cell_type": "markdown",
      "source": [
        "12.  How does class imbalance affect Logistic Regression?\n",
        "\n",
        "* Class imbalance can seriously affect the performance of logistic regression (and other classifiers), especially when the minority class is the one you're most interested in (e.g., fraud detection, disease diagnosis).\n",
        "\n",
        "* How It Affects Logistic Regression\n",
        "\n",
        "  1. Biased Predictions Toward the Majority Class\n",
        "\n",
        "    * Logistic regression will tend to predict the majority class more often, even if it misses important minority class cases.\n",
        "\n",
        "  2. Misleading Accuracy\n",
        "    \n",
        "    * A model might have high accuracy just by always predicting the majority class :\n",
        "\n",
        "      * If 95% of your data is class 0, predicting all 0s gives 95% accuracy—but 0% usefulness if you're interested in class 1.\n",
        "\n",
        "  3. Poor Recall for the Minority Class\n",
        "\n",
        "    * Logistic regression may achieve low recall on the minority class (i.e., fail to detect many true positives).\n",
        "\n",
        "  4. Underestimated Probabilities\n",
        "\n",
        "    * Predicted probabilities for the minority class may be too low, leading to incorrect class labels at standard thresholds (e.g., 0.5).\n",
        "    "
      ],
      "metadata": {
        "id": "11oIux16xFtb"
      }
    },
    {
      "cell_type": "markdown",
      "source": [
        "13. What is Hyperparameter Tuning in Logistic Regression?\n",
        "\n",
        "* Hyperparameter tuning in logistic regression is the process of finding the best values for the model’s settings that are not learned from the data during training, but instead must be set before training begins.\n",
        "\n",
        "* Goal of Hyperparameter Tuning :\n",
        "\n",
        "  * Find the hyperparameter values that maximize model performance, typically using cross-validation.\n",
        "\n",
        "* Tuning Techniques\n",
        "\n",
        "  1. Grid Search\n",
        "  2. Randomized Search\n",
        "  3. LogisticRegressionCV\n",
        "  "
      ],
      "metadata": {
        "id": "GXQzWFpVxfIC"
      }
    },
    {
      "cell_type": "markdown",
      "source": [
        "14. What are different solvers in Logistic Regression? Which one should be used?\n",
        "\n",
        "* In logistic regression, solvers are the algorithms used to optimize the model's cost function (usually via maximum likelihood estimation). Different solvers are suitable for different types of problems—depending on the dataset size, regularization type, and sparsity.\n",
        "\n",
        "* Solvers in Scikit-learn’s LogisticRegression\n",
        "\n",
        "  1. 'liblinear'\n",
        "  2. 'saga'\n",
        "  3. 'sag'\n",
        "  4. 'lbfgs'\n",
        "  5. 'newton-cg'\n",
        "\n",
        "* Which Solver Should You Use?\n",
        "\n",
        "  * Small dataset\t--- 'liblinear'\n",
        "  * L1 regularization (sparse models)\t--- 'liblinear' or 'saga'\n",
        "  * Elastic Net penalty ---\t'saga'\n",
        "  * Large dataset (especially sparse) --- \t'saga'\n",
        "  * Default or general use (L2 only) ---\t'lbfgs' (default)\n",
        "  * Multinomial classification (softmax) ---\t'lbfgs' or 'saga'"
      ],
      "metadata": {
        "id": "s91ZVipyyON6"
      }
    },
    {
      "cell_type": "markdown",
      "source": [
        "15.  How is Logistic Regression extended for multiclass classification?\n",
        "\n",
        "* Logistic Regression is naturally a binary classifier, but it can be extended to handle multiclass classification problems (where the target variable has more than two classes) using one of the following strategies :\n",
        "\n",
        " 1. One-vs-Rest (OvR or One-vs-All)\n",
        "\n",
        "    * How it works :\n",
        "      For 𝐾 classes, train 𝐾 binary classifiers.\n",
        "\n",
        "      Each classifier predicts whether the sample belongs to class 𝑘 or not.\n",
        "\n",
        "    * Prediction :\n",
        "\n",
        "      For a new sample, run it through all 𝐾 models and choose the class with the highest predicted probability.\n",
        "    \n",
        "    * Supported solvers : 'liblinear', 'saga', 'lbfgs', etc.\n",
        "\n",
        "  2. Multinomial (Softmax Regression)\n",
        "\n",
        "    * How it works :\n",
        "\n",
        "      Uses a single model that directly estimates the probability of each class using the softmax function :\n",
        "\n",
        "      ![image.png](data:image/png;base64,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)\n",
        "\n",
        "    * Prediction :\n",
        "      \n",
        "      Assign the sample to the class with the highest softmax probability.\n",
        "\n",
        "    * Pros :\n",
        "\n",
        "      Better probability estimates and correlations between classes.\n",
        "\n",
        "    * Supported solvers: 'lbfgs', 'newton-cg', 'sag', 'saga' (Not supported by 'liblinear')"
      ],
      "metadata": {
        "id": "y5L3Qdj0zPXt"
      }
    },
    {
      "cell_type": "markdown",
      "source": [
        "16. What are the advantages and disadvantages of Logistic Regression?\n",
        "\n",
        "* Here’s a clear summary of the advantages and disadvantages of Logistic Regression, especially in the context of binary and multiclass classification tasks :\n",
        "\n",
        "* Advantages\n",
        "\n",
        "  1. Simple and Interpretable\n",
        "  2. Fast and Efficient\n",
        "  3. Probabilistic Output\n",
        "  4. Works Well with Linearly Separable Data\n",
        "  5. Handles Binary and Multiclass\n",
        "  6. Regularization Support\n",
        "  7. Easily Updatable\n",
        "\n",
        "* Disadvantages\n",
        "\n",
        "  1. Assumes Linearity in Log-Odds\n",
        "  2. Not Ideal for Complex Relationships\n",
        "  3. Sensitive to Outliers\n",
        "  4. Requires Feature Engineering\n",
        "  5. May Underperform on High-Dimensional, Complex Data\n",
        "  6. Can Struggle with Imbalanced Classes"
      ],
      "metadata": {
        "id": "C_OxE1QK0Qwo"
      }
    },
    {
      "cell_type": "markdown",
      "source": [
        "17. What are some use cases of Logistic Regression?\n",
        "\n",
        "* Logistic Regression is widely used across many industries due to its simplicity, efficiency, and ability to produce probabilistic, interpretable outputs. Here are some common and impactful use cases :\n",
        "\n",
        "1. Fraud Detection\n",
        "\n",
        "  * Use : Classify transactions as fraudulent or legitimate.\n",
        "\n",
        "  * Why Logistic Regression: Fast, interpretable, and effective on structured financial data.\n",
        "\n",
        "2. Medical Diagnosis\n",
        "  \n",
        "  * Use : Predict the presence or absence of a disease (e.g., cancer, diabetes).\n",
        "\n",
        "  * Example : Logistic regression to predict whether a tumor is malignant or benign.\n",
        "\n",
        "  * Why : Outputs probabilities useful in risk assessment and decision support.\n",
        "\n",
        "3. Credit Scoring / Loan Approval\n",
        "\n",
        "  * Use : Classify whether an applicant is likely to default on a loan.\n",
        "\n",
        "  * Why : Regulators prefer interpretable models in financial decision-making.\n",
        "\n",
        "4. Email Spam Detection\n",
        "\n",
        "  * Use : Classify emails as spam or not spam.\n",
        "\n",
        "  * Why : Performs well with high-dimensional text features (e.g., bag of words, TF-IDF).\n",
        "\n"
      ],
      "metadata": {
        "id": "PkvcEeq_1rj3"
      }
    },
    {
      "cell_type": "markdown",
      "source": [
        "18. What is the difference between Softmax Regression and Logistic Regression?\n",
        "\n",
        "* Logistic Regression and Softmax Regression are both classification algorithms based on the logistic (sigmoid or softmax) function, but they are used for different types of classification problems.\n",
        "\n",
        "* Key Difference\n",
        "\n",
        "  ![image.png](data:image/png;base64,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)\n",
        "\n",
        "  "
      ],
      "metadata": {
        "id": "D1dxcW8e2K9c"
      }
    },
    {
      "cell_type": "markdown",
      "source": [
        "19.  How do we choose between One-vs-Rest (OvR) and Softmax for multiclass classification?\n",
        "\n",
        "* Choosing between One-vs-Rest (OvR) and Softmax (Multinomial Logistic Regression) for multiclass classification depends on your dataset, model requirements, and performance goals.\n",
        "\n",
        "* One-vs-Rest (OvR)\n",
        "  \n",
        "  * Pros :\n",
        "    \n",
        "    * Works with any binary classifier, including solvers like 'liblinear'.\n",
        "\n",
        "    * Simple and modular—easy to debug and interpret.\n",
        "\n",
        "    * Faster training for datasets with many classes and sparse features.\n",
        "\n",
        "  * Cons :\n",
        "    \n",
        "    * Classifiers are trained independently; may lead to inconsistent probabilities.\n",
        "\n",
        "    * Doesn’t model inter-class relationships.\n",
        "\n",
        "    * Prediction can be less accurate if classes are not well-separated.\n",
        "\n",
        "  * Use OvR When :\n",
        "\n",
        "    * You’re using solvers like 'liblinear' (which doesn't support softmax).\n",
        "\n",
        "    * You need a quick, simple implementation.\n",
        "\n",
        "    * The number of classes is large, and computational efficiency matters.\n",
        "\n",
        "*  Softmax (Multinomial Logistic Regression)\n",
        "\n",
        "  * Pros :\n",
        "\n",
        "    * Trains a single model that considers all classes simultaneously.\n",
        "\n",
        "    * Produces mutually exclusive and well-calibrated probabilities.\n",
        "\n",
        "    * More accurate when classes are correlated or closely related.\n",
        "\n",
        "  * Cons :\n",
        "    \n",
        "    * Requires solvers that support multinomial loss ('lbfgs', 'saga', 'newton-cg').\n",
        "\n",
        "    * More computationally demanding with many classes.\n",
        "\n",
        "  * Use Softmax When :\n",
        "\n",
        "    * You want better probability estimates.\n",
        "\n",
        "    * Your classes are not independent or are highly correlated.\n",
        "\n",
        "    * You’re optimizing for classification performance (accuracy, log-loss, etc.).\n",
        "\n",
        "    * You're okay with slightly slower training."
      ],
      "metadata": {
        "id": "hrvr07iE24L5"
      }
    },
    {
      "cell_type": "markdown",
      "source": [
        "20.  How do we interpret coefficients in Logistic Regression?\n",
        "\n",
        "* Interpreting coefficients in Logistic Regression helps you understand how each feature influences the probability of the target class.\n",
        "\n",
        "Unlike linear regression, logistic regression models the log-odds of the outcome, not the outcome itself.\n",
        "\n",
        "*  Logistic Regression Model Equation\n",
        "\n",
        "  * For binary classification :\n",
        "\n",
        "    ![image.png](data:image/png;base64,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)\n",
        "  \n",
        "  * This means each coefficient 𝛽𝑖 represents the change in log-odds for a one-unit increase in 𝑥𝑖, holding all other variables constant.\n",
        "\n",
        "* Ways to Interpret Coefficients\n",
        "\n",
        "  1. In terms of log-odds :\n",
        "    \n",
        "    * A positive 𝛽𝑖 means the log-odds increase (i.e., the probability of class 1 increases).\n",
        "\n",
        "    * A negative 𝛽𝑖 means the log-odds decrease (i.e., the probability of class 1 decreases).\n",
        "\n",
        "  2. In terms of odds ratios :\n",
        "    \n",
        "    * Exponentiate the coefficient :\n",
        "\n",
        "      Odds Ratio = 𝑒𝛽𝑖\n",
        "\n",
        "    * 𝑒𝛽𝑖 > 1 : Increase in odds → Feature increases probability of positive class.\n",
        "\n",
        "    * 𝑒𝛽𝑖 < 1 : Decrease in odds → Feature decreases probability of positive class.\n",
        "\n",
        "    * 𝑒𝛽𝑖 = 1 : No effect on odds.\n",
        "\n"
      ],
      "metadata": {
        "id": "epw2ph7N3lgP"
      }
    },
    {
      "cell_type": "markdown",
      "source": [
        "# Practical"
      ],
      "metadata": {
        "id": "c2ntytGM4tWj"
      }
    },
    {
      "cell_type": "code",
      "execution_count": 1,
      "metadata": {
        "colab": {
          "base_uri": "https://localhost:8080/"
        },
        "id": "K4zu3IUw4GVp",
        "outputId": "721dd43a-9fd6-4c64-a74a-b88aced2e105"
      },
      "outputs": [
        {
          "output_type": "stream",
          "name": "stderr",
          "text": [
            "/usr/local/lib/python3.11/dist-packages/sklearn/linear_model/_logistic.py:1247: FutureWarning: 'multi_class' was deprecated in version 1.5 and will be removed in 1.7. From then on, it will always use 'multinomial'. Leave it to its default value to avoid this warning.\n",
            "  warnings.warn(\n"
          ]
        },
        {
          "output_type": "stream",
          "name": "stdout",
          "text": [
            "Logistic Regression Accuracy: 1.00\n"
          ]
        }
      ],
      "source": [
        "# 1. Write a Python program that loads a dataset, splits it into training and testing sets, applies Logistic Regression, and prints the model accuracy.\n",
        "\n",
        "from sklearn.datasets import load_iris\n",
        "from sklearn.model_selection import train_test_split\n",
        "from sklearn.linear_model import LogisticRegression\n",
        "from sklearn.metrics import accuracy_score\n",
        "\n",
        "# Step 1: Load dataset\n",
        "iris = load_iris()\n",
        "X = iris.data\n",
        "y = iris.target\n",
        "\n",
        "# Step 2: Split into train and test sets\n",
        "X_train, X_test, y_train, y_test = train_test_split(X, y, test_size=0.2, random_state=42)\n",
        "\n",
        "# Step 3: Apply Logistic Regression\n",
        "model = LogisticRegression(multi_class='multinomial', solver='lbfgs', max_iter=200)\n",
        "model.fit(X_train, y_train)\n",
        "\n",
        "# Step 4: Predict and evaluate accuracy\n",
        "y_pred = model.predict(X_test)\n",
        "accuracy = accuracy_score(y_test, y_pred)\n",
        "\n",
        "print(f\"Logistic Regression Accuracy: {accuracy:.2f}\")"
      ]
    },
    {
      "cell_type": "code",
      "source": [
        "# 2. Write a Python program to apply L1 regularization (Lasso) on a dataset using LogisticRegression(penalty='l1') and print the model accuracy.\n",
        "\n",
        "from sklearn.datasets import load_iris\n",
        "from sklearn.model_selection import train_test_split\n",
        "from sklearn.linear_model import LogisticRegression\n",
        "from sklearn.metrics import accuracy_score\n",
        "from sklearn.preprocessing import StandardScaler\n",
        "\n",
        "# Step 1: Load dataset\n",
        "iris = load_iris()\n",
        "X = iris.data\n",
        "y = iris.target\n",
        "\n",
        "# Step 2: Standardize features (important for regularization)\n",
        "scaler = StandardScaler()\n",
        "X_scaled = scaler.fit_transform(X)\n",
        "\n",
        "# Step 3: Split into train and test sets\n",
        "X_train, X_test, y_train, y_test = train_test_split(X_scaled, y, test_size=0.2, random_state=42)\n",
        "\n",
        "# Step 4: Train Logistic Regression with L1 regularization\n",
        "model = LogisticRegression(\n",
        "    penalty='l1',\n",
        "    solver='saga',        # saga supports L1 with multinomial\n",
        "    multi_class='multinomial',\n",
        "    max_iter=200\n",
        ")\n",
        "model.fit(X_train, y_train)\n",
        "\n",
        "# Step 5: Evaluate accuracy\n",
        "y_pred = model.predict(X_test)\n",
        "accuracy = accuracy_score(y_test, y_pred)\n",
        "\n",
        "print(f\"L1-Regularized Logistic Regression Accuracy: {accuracy:.2f}\")"
      ],
      "metadata": {
        "colab": {
          "base_uri": "https://localhost:8080/"
        },
        "id": "3VK1W43x-v_8",
        "outputId": "1ba90146-1ece-4066-d0cf-0ddbac5e10e6"
      },
      "execution_count": 2,
      "outputs": [
        {
          "output_type": "stream",
          "name": "stdout",
          "text": [
            "L1-Regularized Logistic Regression Accuracy: 1.00\n"
          ]
        },
        {
          "output_type": "stream",
          "name": "stderr",
          "text": [
            "/usr/local/lib/python3.11/dist-packages/sklearn/linear_model/_logistic.py:1247: FutureWarning: 'multi_class' was deprecated in version 1.5 and will be removed in 1.7. From then on, it will always use 'multinomial'. Leave it to its default value to avoid this warning.\n",
            "  warnings.warn(\n",
            "/usr/local/lib/python3.11/dist-packages/sklearn/linear_model/_sag.py:348: ConvergenceWarning: The max_iter was reached which means the coef_ did not converge\n",
            "  warnings.warn(\n"
          ]
        }
      ]
    },
    {
      "cell_type": "code",
      "source": [
        "# 3. Write a Python program to train Logistic Regression with L2 regularization (Ridge) using LogisticRegression(penalty='l2'). Print model accuracy and coefficients.\n",
        "\n",
        "from sklearn.datasets import load_iris\n",
        "from sklearn.model_selection import train_test_split\n",
        "from sklearn.linear_model import LogisticRegression\n",
        "from sklearn.metrics import accuracy_score\n",
        "from sklearn.preprocessing import StandardScaler\n",
        "import numpy as np\n",
        "\n",
        "# Step 1: Load dataset\n",
        "iris = load_iris()\n",
        "X = iris.data\n",
        "y = iris.target\n",
        "\n",
        "# Step 2: Standardize features (important for regularization)\n",
        "scaler = StandardScaler()\n",
        "X_scaled = scaler.fit_transform(X)\n",
        "\n",
        "# Step 3: Train-test split\n",
        "X_train, X_test, y_train, y_test = train_test_split(\n",
        "    X_scaled, y, test_size=0.2, random_state=42\n",
        ")\n",
        "\n",
        "# Step 4: Train Logistic Regression with L2 regularization\n",
        "model = LogisticRegression(\n",
        "    penalty='l2',\n",
        "    solver='lbfgs',          # lbfgs supports L2 and multinomial loss\n",
        "    multi_class='multinomial',\n",
        "    max_iter=200\n",
        ")\n",
        "model.fit(X_train, y_train)\n",
        "\n",
        "# Step 5: Evaluate accuracy\n",
        "y_pred = model.predict(X_test)\n",
        "accuracy = accuracy_score(y_test, y_pred)\n",
        "print(f\"L2-Regularized Logistic Regression Accuracy: {accuracy:.2f}\")\n",
        "\n",
        "# Step 6: Print model coefficients\n",
        "print(\"\\nModel Coefficients (per class):\")\n",
        "for i, class_coef in enumerate(model.coef_):\n",
        "    print(f\"Class {i}: {np.round(class_coef, 4)}\")\n",
        "\n",
        "# Optional: Print intercepts\n",
        "print(\"\\nIntercepts:\", np.round(model.intercept_, 4))"
      ],
      "metadata": {
        "colab": {
          "base_uri": "https://localhost:8080/"
        },
        "id": "FthEWoKP_Czj",
        "outputId": "02697f84-3363-4053-f8c8-6bc5440bdf30"
      },
      "execution_count": 3,
      "outputs": [
        {
          "output_type": "stream",
          "name": "stdout",
          "text": [
            "L2-Regularized Logistic Regression Accuracy: 1.00\n",
            "\n",
            "Model Coefficients (per class):\n",
            "Class 0: [-1.021   1.1316 -1.8147 -1.6876]\n",
            "Class 1: [ 0.5344 -0.2836 -0.3427 -0.731 ]\n",
            "Class 2: [ 0.4866 -0.848   2.1574  2.4187]\n",
            "\n",
            "Intercepts: [-0.2485  1.9728 -1.7243]\n"
          ]
        },
        {
          "output_type": "stream",
          "name": "stderr",
          "text": [
            "/usr/local/lib/python3.11/dist-packages/sklearn/linear_model/_logistic.py:1247: FutureWarning: 'multi_class' was deprecated in version 1.5 and will be removed in 1.7. From then on, it will always use 'multinomial'. Leave it to its default value to avoid this warning.\n",
            "  warnings.warn(\n"
          ]
        }
      ]
    },
    {
      "cell_type": "code",
      "source": [
        "# 4. Write a Python program to train Logistic Regression with Elastic Net Regularization (penalty='elasticnet').\n",
        "\n",
        "from sklearn.datasets import load_iris\n",
        "from sklearn.model_selection import train_test_split\n",
        "from sklearn.linear_model import LogisticRegression\n",
        "from sklearn.preprocessing import StandardScaler\n",
        "from sklearn.metrics import accuracy_score\n",
        "import numpy as np\n",
        "\n",
        "# Step 1: Load dataset\n",
        "iris = load_iris()\n",
        "X = iris.data\n",
        "y = iris.target\n",
        "\n",
        "# Step 2: Standardize features\n",
        "scaler = StandardScaler()\n",
        "X_scaled = scaler.fit_transform(X)\n",
        "\n",
        "# Step 3: Split into training and test sets\n",
        "X_train, X_test, y_train, y_test = train_test_split(\n",
        "    X_scaled, y, test_size=0.2, random_state=42\n",
        ")\n",
        "\n",
        "# Step 4: Train Logistic Regression with Elastic Net\n",
        "model = LogisticRegression(\n",
        "    penalty='elasticnet',\n",
        "    solver='saga',                # 'saga' is required for elasticnet\n",
        "    l1_ratio=0.5,                 # Mix of L1 and L2 (0 = pure L2, 1 = pure L1)\n",
        "    multi_class='multinomial',\n",
        "    max_iter=200\n",
        ")\n",
        "model.fit(X_train, y_train)\n",
        "\n",
        "# Step 5: Evaluate model\n",
        "y_pred = model.predict(X_test)\n",
        "accuracy = accuracy_score(y_test, y_pred)\n",
        "print(f\"Elastic Net Logistic Regression Accuracy: {accuracy:.2f}\")\n",
        "\n",
        "# Step 6: Print model coefficients\n",
        "print(\"\\nModel Coefficients (per class):\")\n",
        "for i, class_coef in enumerate(model.coef_):\n",
        "    print(f\"Class {i}: {np.round(class_coef, 4)}\")\n",
        "\n",
        "print(\"\\nIntercepts:\", np.round(model.intercept_, 4))"
      ],
      "metadata": {
        "colab": {
          "base_uri": "https://localhost:8080/"
        },
        "id": "eFwAqrkw_Yjk",
        "outputId": "58b111a5-6829-4265-86b1-59059572074c"
      },
      "execution_count": 4,
      "outputs": [
        {
          "output_type": "stream",
          "name": "stdout",
          "text": [
            "Elastic Net Logistic Regression Accuracy: 1.00\n",
            "\n",
            "Model Coefficients (per class):\n",
            "Class 0: [-0.8229  1.1746 -1.9655 -1.7079]\n",
            "Class 1: [ 0.08    0.      0.     -0.3724]\n",
            "Class 2: [ 0.     -0.6534  2.7419  3.0691]\n",
            "\n",
            "Intercepts: [-0.2011  2.1256 -1.9245]\n"
          ]
        },
        {
          "output_type": "stream",
          "name": "stderr",
          "text": [
            "/usr/local/lib/python3.11/dist-packages/sklearn/linear_model/_logistic.py:1247: FutureWarning: 'multi_class' was deprecated in version 1.5 and will be removed in 1.7. From then on, it will always use 'multinomial'. Leave it to its default value to avoid this warning.\n",
            "  warnings.warn(\n"
          ]
        }
      ]
    },
    {
      "cell_type": "code",
      "source": [
        "# 5. Write a Python program to train a Logistic Regression model for multiclass classification using multi_class='ovr'.\n",
        "\n",
        "from sklearn.datasets import load_iris\n",
        "from sklearn.model_selection import train_test_split\n",
        "from sklearn.linear_model import LogisticRegression\n",
        "from sklearn.preprocessing import StandardScaler\n",
        "from sklearn.metrics import accuracy_score\n",
        "import numpy as np\n",
        "\n",
        "# Step 1: Load dataset\n",
        "iris = load_iris()\n",
        "X = iris.data\n",
        "y = iris.target\n",
        "\n",
        "# Step 2: Standardize features\n",
        "scaler = StandardScaler()\n",
        "X_scaled = scaler.fit_transform(X)\n",
        "\n",
        "# Step 3: Train-test split\n",
        "X_train, X_test, y_train, y_test = train_test_split(\n",
        "    X_scaled, y, test_size=0.2, random_state=42\n",
        ")\n",
        "\n",
        "# Step 4: Train Logistic Regression using One-vs-Rest\n",
        "model = LogisticRegression(\n",
        "    multi_class='ovr',\n",
        "    solver='liblinear',   # 'liblinear' works well for OvR\n",
        "    penalty='l2',         # Default is L2 (Ridge)\n",
        "    max_iter=200\n",
        ")\n",
        "model.fit(X_train, y_train)\n",
        "\n",
        "# Step 5: Predict and evaluate\n",
        "y_pred = model.predict(X_test)\n",
        "accuracy = accuracy_score(y_test, y_pred)\n",
        "print(f\"Logistic Regression (OvR) Accuracy: {accuracy:.2f}\")\n",
        "\n",
        "# Step 6: Print model coefficients\n",
        "print(\"\\nModel Coefficients (per class):\")\n",
        "for i, class_coef in enumerate(model.coef_):\n",
        "    print(f\"Class {i}: {np.round(class_coef, 4)}\")\n",
        "\n",
        "print(\"\\nIntercepts:\", np.round(model.intercept_, 4))"
      ],
      "metadata": {
        "colab": {
          "base_uri": "https://localhost:8080/"
        },
        "id": "Ube3deWq_jKk",
        "outputId": "f57e59e2-e0e6-4804-b253-0a44a87a1bec"
      },
      "execution_count": 5,
      "outputs": [
        {
          "output_type": "stream",
          "name": "stdout",
          "text": [
            "Logistic Regression (OvR) Accuracy: 0.97\n",
            "\n",
            "Model Coefficients (per class):\n",
            "Class 0: [-0.7656  1.3383 -1.6083 -1.4223]\n",
            "Class 1: [ 0.2612 -1.2399  0.5368 -0.7395]\n",
            "Class 2: [ 0.0451 -0.2245  1.7576  2.4263]\n",
            "\n",
            "Intercepts: [-1.5413 -0.8297 -2.4883]\n"
          ]
        },
        {
          "output_type": "stream",
          "name": "stderr",
          "text": [
            "/usr/local/lib/python3.11/dist-packages/sklearn/linear_model/_logistic.py:1256: FutureWarning: 'multi_class' was deprecated in version 1.5 and will be removed in 1.7. Use OneVsRestClassifier(LogisticRegression(..)) instead. Leave it to its default value to avoid this warning.\n",
            "  warnings.warn(\n"
          ]
        }
      ]
    },
    {
      "cell_type": "code",
      "source": [
        "# 6. Write a Python program to apply GridSearchCV to tune the hyperparameters (C and penalty) of Logistic Regression. Print the best parameters and accuracy.\n",
        "\n",
        "from sklearn.datasets import load_iris\n",
        "from sklearn.model_selection import train_test_split, GridSearchCV\n",
        "from sklearn.linear_model import LogisticRegression\n",
        "from sklearn.preprocessing import StandardScaler\n",
        "from sklearn.metrics import accuracy_score\n",
        "\n",
        "# Load dataset\n",
        "iris = load_iris()\n",
        "X, y = iris.data, iris.target\n",
        "\n",
        "# Standardize features\n",
        "scaler = StandardScaler()\n",
        "X_scaled = scaler.fit_transform(X)\n",
        "\n",
        "# Train-test split\n",
        "X_train, X_test, y_train, y_test = train_test_split(\n",
        "    X_scaled, y, test_size=0.2, random_state=42\n",
        ")\n",
        "\n",
        "# Define model without deprecated multi_class param\n",
        "model = LogisticRegression(solver='saga', max_iter=1000)\n",
        "\n",
        "# Define hyperparameter grid\n",
        "param_grid = {\n",
        "    'C': [0.01, 0.1, 1, 10],\n",
        "    'penalty': ['l1', 'l2']\n",
        "}\n",
        "\n",
        "# Grid search\n",
        "grid = GridSearchCV(model, param_grid, cv=5, scoring='accuracy')\n",
        "grid.fit(X_train, y_train)\n",
        "\n",
        "# Best params and accuracy\n",
        "print(\"Best Parameters:\", grid.best_params_)\n",
        "y_pred = grid.best_estimator_.predict(X_test)\n",
        "print(f\"Test Accuracy: {accuracy_score(y_test, y_pred):.2f}\")"
      ],
      "metadata": {
        "colab": {
          "base_uri": "https://localhost:8080/"
        },
        "id": "AlamiV2-_tn3",
        "outputId": "5c746ffd-6c3c-49ac-fdbf-a3a3127bb24c"
      },
      "execution_count": 7,
      "outputs": [
        {
          "output_type": "stream",
          "name": "stderr",
          "text": [
            "/usr/local/lib/python3.11/dist-packages/sklearn/linear_model/_sag.py:348: ConvergenceWarning: The max_iter was reached which means the coef_ did not converge\n",
            "  warnings.warn(\n",
            "/usr/local/lib/python3.11/dist-packages/sklearn/linear_model/_sag.py:348: ConvergenceWarning: The max_iter was reached which means the coef_ did not converge\n",
            "  warnings.warn(\n"
          ]
        },
        {
          "output_type": "stream",
          "name": "stdout",
          "text": [
            "Best Parameters: {'C': 1, 'penalty': 'l2'}\n",
            "Test Accuracy: 1.00\n"
          ]
        }
      ]
    },
    {
      "cell_type": "code",
      "source": [
        "# 7. Write a Python program to evaluate Logistic Regression using Stratified K-Fold Cross-Validation. Print the average accuracy.\n",
        "\n",
        "from sklearn.datasets import load_iris\n",
        "from sklearn.linear_model import LogisticRegression\n",
        "from sklearn.model_selection import StratifiedKFold, cross_val_score\n",
        "from sklearn.preprocessing import StandardScaler\n",
        "import numpy as np\n",
        "\n",
        "# Load the dataset\n",
        "iris = load_iris()\n",
        "X, y = iris.data, iris.target\n",
        "\n",
        "# Standardize features\n",
        "scaler = StandardScaler()\n",
        "X_scaled = scaler.fit_transform(X)\n",
        "\n",
        "# Define the model\n",
        "model = LogisticRegression(solver='lbfgs', max_iter=1000)\n",
        "\n",
        "# Define Stratified K-Fold cross-validator\n",
        "skf = StratifiedKFold(n_splits=5, shuffle=True, random_state=42)\n",
        "\n",
        "# Evaluate the model using cross-validation\n",
        "scores = cross_val_score(model, X_scaled, y, cv=skf, scoring='accuracy')\n",
        "\n",
        "# Print individual fold accuracies and average accuracy\n",
        "print(\"Cross-validation accuracies:\", scores)\n",
        "print(\"Average accuracy: {:.2f}\".format(np.mean(scores)))"
      ],
      "metadata": {
        "colab": {
          "base_uri": "https://localhost:8080/"
        },
        "id": "st4TsUOZ_3nF",
        "outputId": "1ab9ac8b-f288-4416-e55f-836248a0e057"
      },
      "execution_count": 8,
      "outputs": [
        {
          "output_type": "stream",
          "name": "stdout",
          "text": [
            "Cross-validation accuracies: [1.         0.96666667 0.9        1.         0.9       ]\n",
            "Average accuracy: 0.95\n"
          ]
        }
      ]
    },
    {
      "cell_type": "code",
      "source": [
        "# 8. Write a Python program to load a dataset from a CSV file, apply Logistic Regression, and evaluate its accuracy.\n",
        "\n",
        "import pandas as pd\n",
        "from sklearn.model_selection import train_test_split\n",
        "from sklearn.linear_model import LogisticRegression\n",
        "from sklearn.metrics import accuracy_score\n",
        "from sklearn.preprocessing import StandardScaler\n",
        "\n",
        "from google.colab import drive\n",
        "drive.mount('/content/drive' , force_remount=True)"
      ],
      "metadata": {
        "colab": {
          "base_uri": "https://localhost:8080/"
        },
        "id": "wQ9Zqj9ABbWc",
        "outputId": "a0621d6c-f2b6-4851-ed74-390df5fbd10e"
      },
      "execution_count": 17,
      "outputs": [
        {
          "output_type": "stream",
          "name": "stdout",
          "text": [
            "Mounted at /content/drive\n"
          ]
        }
      ]
    },
    {
      "cell_type": "code",
      "source": [
        "cd /content/drive/MyDrive/Colab Notebooks"
      ],
      "metadata": {
        "colab": {
          "base_uri": "https://localhost:8080/"
        },
        "id": "LVMJJhWlBtpU",
        "outputId": "fc4fadfb-130c-4d50-d756-297151391e3d"
      },
      "execution_count": 18,
      "outputs": [
        {
          "output_type": "stream",
          "name": "stdout",
          "text": [
            "/content/drive/MyDrive/Colab Notebooks\n"
          ]
        }
      ]
    },
    {
      "cell_type": "code",
      "source": [
        "# Load dataset from CSV file\n",
        "# Replace 'your_file.csv' with your actual file path\n",
        "df = pd.read_csv('googleplaystore.csv')\n",
        "\n",
        "# Preview data\n",
        "print(\"Dataset Head:\\n\", df.head())\n",
        "\n",
        "# Separate features and target (Assuming the target column is named 'target')\n",
        "#X = df.drop('target', axis=1)\n",
        "#y = df['target']\n",
        "\n",
        "# Optional: scale features\n",
        "scaler = StandardScaler()\n",
        "X_scaled = scaler.fit_transform(X)\n",
        "\n",
        "# Train-test split\n",
        "X_train, X_test, y_train, y_test = train_test_split(X_scaled, y, test_size=0.2, random_state=42)\n",
        "\n",
        "# Train Logistic Regression model\n",
        "model = LogisticRegression(max_iter=1000)\n",
        "model.fit(X_train, y_train)\n",
        "\n",
        "# Predict and evaluate accuracy\n",
        "y_pred = model.predict(X_test)\n",
        "accuracy = accuracy_score(y_test, y_pred)\n",
        "\n",
        "print(\"Test Set Accuracy: {:.2f}\".format(accuracy))"
      ],
      "metadata": {
        "colab": {
          "base_uri": "https://localhost:8080/"
        },
        "id": "rOsdlogPGsWW",
        "outputId": "f0a62631-c082-4d3a-d01a-ff5124fa3ae6"
      },
      "execution_count": 21,
      "outputs": [
        {
          "output_type": "stream",
          "name": "stdout",
          "text": [
            "Dataset Head:\n",
            "                                                  App        Category  Rating  \\\n",
            "0     Photo Editor & Candy Camera & Grid & ScrapBook  ART_AND_DESIGN     4.1   \n",
            "1                                Coloring book moana  ART_AND_DESIGN     3.9   \n",
            "2  U Launcher Lite – FREE Live Cool Themes, Hide ...  ART_AND_DESIGN     4.7   \n",
            "3                              Sketch - Draw & Paint  ART_AND_DESIGN     4.5   \n",
            "4              Pixel Draw - Number Art Coloring Book  ART_AND_DESIGN     4.3   \n",
            "\n",
            "  Reviews  Size     Installs  Type Price Content Rating  \\\n",
            "0     159   19M      10,000+  Free     0       Everyone   \n",
            "1     967   14M     500,000+  Free     0       Everyone   \n",
            "2   87510  8.7M   5,000,000+  Free     0       Everyone   \n",
            "3  215644   25M  50,000,000+  Free     0           Teen   \n",
            "4     967  2.8M     100,000+  Free     0       Everyone   \n",
            "\n",
            "                      Genres      Last Updated         Current Ver  \\\n",
            "0               Art & Design   January 7, 2018               1.0.0   \n",
            "1  Art & Design;Pretend Play  January 15, 2018               2.0.0   \n",
            "2               Art & Design    August 1, 2018               1.2.4   \n",
            "3               Art & Design      June 8, 2018  Varies with device   \n",
            "4    Art & Design;Creativity     June 20, 2018                 1.1   \n",
            "\n",
            "    Android Ver  \n",
            "0  4.0.3 and up  \n",
            "1  4.0.3 and up  \n",
            "2  4.0.3 and up  \n",
            "3    4.2 and up  \n",
            "4    4.4 and up  \n",
            "Test Set Accuracy: 1.00\n"
          ]
        }
      ]
    },
    {
      "cell_type": "code",
      "source": [
        "# 9. Write a Python program to apply RandomizedSearchCV for tuning hyperparameters (C, penalty, solver) in Logistic Regression. Print the best parameters and accuracy.\n",
        "\n",
        "import pandas as pd\n",
        "from sklearn.model_selection import train_test_split, RandomizedSearchCV\n",
        "from sklearn.linear_model import LogisticRegression\n",
        "from sklearn.metrics import accuracy_score\n",
        "from sklearn.preprocessing import StandardScaler\n",
        "from scipy.stats import uniform\n",
        "import warnings\n",
        "\n",
        "warnings.filterwarnings('ignore')  # To suppress convergence and deprecation warnings\n",
        "\n",
        "# Load your dataset (replace 'your_file.csv' with actual file path)\n",
        "df = pd.read_csv('googleplaystore.csv')\n",
        "\n",
        "# Assuming the target column is named 'target'\n",
        "#X = df.drop('target', axis=1)\n",
        "#y = df['target']\n",
        "\n",
        "# Feature scaling\n",
        "scaler = StandardScaler()\n",
        "X_scaled = scaler.fit_transform(X)\n",
        "\n",
        "# Split data\n",
        "X_train, X_test, y_train, y_test = train_test_split(X_scaled, y, test_size=0.2, random_state=42)\n",
        "\n",
        "# Logistic Regression model\n",
        "logreg = LogisticRegression(max_iter=1000)\n",
        "\n",
        "# Define parameter distribution for RandomizedSearchCV\n",
        "param_dist = {\n",
        "    'C': uniform(0.01, 10),               # Continuous uniform distribution from 0.01 to 10.01\n",
        "    'penalty': ['l1', 'l2', 'elasticnet', 'none'],\n",
        "    'solver': ['saga', 'liblinear', 'lbfgs', 'newton-cg', 'sag']\n",
        "}\n",
        "\n",
        "# Note: 'liblinear' supports only 'l1' and 'l2'\n",
        "# 'lbfgs', 'newton-cg', 'sag' support only 'l2' or 'none'\n",
        "# 'saga' supports all penalties\n",
        "\n",
        "# We will filter invalid combinations inside RandomizedSearchCV by setting 'n_iter' low\n",
        "\n",
        "random_search = RandomizedSearchCV(\n",
        "    estimator=logreg,\n",
        "    param_distributions=param_dist,\n",
        "    n_iter=30,             # Number of parameter settings sampled\n",
        "    scoring='accuracy',\n",
        "    cv=5,\n",
        "    random_state=42,\n",
        "    verbose=1,\n",
        "    n_jobs=-1\n",
        ")\n",
        "\n",
        "# Run RandomizedSearchCV\n",
        "random_search.fit(X_train, y_train)\n",
        "\n",
        "# Print best parameters\n",
        "print(\"Best Parameters:\", random_search.best_params_)\n",
        "\n",
        "# Evaluate on test data\n",
        "best_model = random_search.best_estimator_\n",
        "y_pred = best_model.predict(X_test)\n",
        "accuracy = accuracy_score(y_test, y_pred)\n",
        "print(f\"Test Set Accuracy with Best Parameters: {accuracy:.2f}\")"
      ],
      "metadata": {
        "colab": {
          "base_uri": "https://localhost:8080/"
        },
        "id": "7-4o1meaGydI",
        "outputId": "afe1c110-e0a1-421b-e291-04c239ffb5ac"
      },
      "execution_count": 23,
      "outputs": [
        {
          "output_type": "stream",
          "name": "stdout",
          "text": [
            "Fitting 5 folds for each of 30 candidates, totalling 150 fits\n",
            "Best Parameters: {'C': np.float64(7.806910002727692), 'penalty': 'l1', 'solver': 'liblinear'}\n",
            "Test Set Accuracy with Best Parameters: 1.00\n"
          ]
        }
      ]
    },
    {
      "cell_type": "code",
      "source": [
        "# 10. Write a Python program to implement One-vs-One (OvO) Multiclass Logistic Regression and print accuracy.\n",
        "\n",
        "import pandas as pd\n",
        "from sklearn.model_selection import train_test_split\n",
        "from sklearn.preprocessing import StandardScaler\n",
        "from sklearn.linear_model import LogisticRegression\n",
        "from sklearn.multiclass import OneVsOneClassifier\n",
        "from sklearn.metrics import accuracy_score\n",
        "import warnings\n",
        "\n",
        "warnings.filterwarnings('ignore')  # Optional: suppress warnings\n",
        "\n",
        "# Load your dataset (replace 'your_file.csv' with the actual filename)\n",
        "df = pd.read_csv('googleplaystore.csv')\n",
        "\n",
        "# Assume the target column is 'target'\n",
        "#X = df.drop('target', axis=1)\n",
        "#y = df['target']\n",
        "\n",
        "# Scale features\n",
        "scaler = StandardScaler()\n",
        "X_scaled = scaler.fit_transform(X)\n",
        "\n",
        "# Train-test split\n",
        "X_train, X_test, y_train, y_test = train_test_split(X_scaled, y, test_size=0.2, random_state=42)\n",
        "\n",
        "# Create a One-vs-One Logistic Regression classifier\n",
        "logreg = LogisticRegression(max_iter=1000)\n",
        "ovo_clf = OneVsOneClassifier(logreg)\n",
        "\n",
        "# Fit the classifier\n",
        "ovo_clf.fit(X_train, y_train)\n",
        "\n",
        "# Predict on the test set\n",
        "y_pred = ovo_clf.predict(X_test)\n",
        "\n",
        "# Evaluate accuracy\n",
        "accuracy = accuracy_score(y_test, y_pred)\n",
        "print(f\"One-vs-One Multiclass Logistic Regression Accuracy: {accuracy:.2f}\")"
      ],
      "metadata": {
        "colab": {
          "base_uri": "https://localhost:8080/"
        },
        "id": "h6dFCQhGHNkL",
        "outputId": "c295733a-8d8c-484f-f97a-75f9bba6168c"
      },
      "execution_count": 25,
      "outputs": [
        {
          "output_type": "stream",
          "name": "stdout",
          "text": [
            "One-vs-One Multiclass Logistic Regression Accuracy: 1.00\n"
          ]
        }
      ]
    },
    {
      "cell_type": "code",
      "source": [
        "# 11. Write a Python program to train a Logistic Regression model and visualize the confusion matrix for binary classification.\n",
        "\n",
        "import pandas as pd\n",
        "import seaborn as sns\n",
        "import matplotlib.pyplot as plt\n",
        "from sklearn.linear_model import LogisticRegression\n",
        "from sklearn.model_selection import train_test_split\n",
        "from sklearn.preprocessing import StandardScaler\n",
        "from sklearn.metrics import confusion_matrix, ConfusionMatrixDisplay, accuracy_score\n",
        "\n",
        "# Load dataset (replace with your CSV file if needed)\n",
        "df = pd.read_csv('googleplaystore.csv')  # Make sure the target is binary (e.g., 0 and 1)\n",
        "\n",
        "# Separate features and target (replace 'target' with actual column name)\n",
        "#X = df.drop('target', axis=1)\n",
        "#y = df['target']\n",
        "\n",
        "# Split data\n",
        "X_train, X_test, y_train, y_test = train_test_split(X, y, test_size=0.2, random_state=42)\n",
        "\n",
        "# Feature scaling\n",
        "scaler = StandardScaler()\n",
        "X_train_scaled = scaler.fit_transform(X_train)\n",
        "X_test_scaled = scaler.transform(X_test)\n",
        "\n",
        "# Train logistic regression model\n",
        "model = LogisticRegression()\n",
        "model.fit(X_train_scaled, y_train)\n",
        "\n",
        "# Predict\n",
        "y_pred = model.predict(X_test_scaled)\n",
        "\n",
        "# Evaluate and display confusion matrix\n",
        "cm = confusion_matrix(y_test, y_pred)\n",
        "acc = accuracy_score(y_test, y_pred)\n",
        "\n",
        "print(f\"Accuracy: {acc:.2f}\")\n",
        "\n",
        "# Plot confusion matrix\n",
        "sns.heatmap(cm, annot=True, fmt='d', cmap='Blues', xticklabels=['Predicted 0', 'Predicted 1'],\n",
        "            yticklabels=['Actual 0', 'Actual 1'])\n",
        "plt.title('Confusion Matrix')\n",
        "plt.xlabel('Predicted')\n",
        "plt.ylabel('Actual')\n",
        "plt.show()"
      ],
      "metadata": {
        "colab": {
          "base_uri": "https://localhost:8080/",
          "height": 489
        },
        "id": "r-RHqv9QHgqK",
        "outputId": "188510be-c2fb-4862-e003-9a1c34cf0ac5"
      },
      "execution_count": 26,
      "outputs": [
        {
          "output_type": "stream",
          "name": "stdout",
          "text": [
            "Accuracy: 1.00\n"
          ]
        },
        {
          "output_type": "display_data",
          "data": {
            "text/plain": [
              "<Figure size 640x480 with 2 Axes>"
            ],
            "image/png": "[encoded data removed]"
          },
          "metadata": {}
        }
      ]
    },
    {
      "cell_type": "code",
      "source": [
        "# 12. Write a Python program to train a Logistic Regression model and evaluate its performance using Precision, Recall, and F1-Score.\n",
        "\n",
        "import pandas as pd\n",
        "from sklearn.model_selection import train_test_split\n",
        "from sklearn.linear_model import LogisticRegression\n",
        "from sklearn.preprocessing import StandardScaler\n",
        "from sklearn.metrics import precision_score, recall_score, f1_score\n",
        "\n",
        "# Load dataset (replace with your own CSV and target column)\n",
        "df = pd.read_csv('googleplaystore.csv')  # Ensure the target is multiclass\n",
        "\n",
        "# Separate features and target\n",
        "#X = df.drop('target', axis=1)\n",
        "#y = df['target']\n",
        "\n",
        "# Split dataset\n",
        "X_train, X_test, y_train, y_test = train_test_split(X, y, test_size=0.2, random_state=42)\n",
        "\n",
        "# Feature scaling\n",
        "scaler = StandardScaler()\n",
        "X_train_scaled = scaler.fit_transform(X_train)\n",
        "X_test_scaled = scaler.transform(X_test)\n",
        "\n",
        "# Train Logistic Regression model\n",
        "model = LogisticRegression(multi_class='multinomial', solver='lbfgs', max_iter=1000)\n",
        "model.fit(X_train_scaled, y_train)\n",
        "\n",
        "# Predict on test set\n",
        "y_pred = model.predict(X_test_scaled)\n",
        "\n",
        "# Evaluate model (multiclass-friendly)\n",
        "precision = precision_score(y_test, y_pred, average='macro')\n",
        "recall = recall_score(y_test, y_pred, average='macro')\n",
        "f1 = f1_score(y_test, y_pred, average='macro')\n",
        "\n",
        "print(f\"Precision (macro): {precision:.2f}\")\n",
        "print(f\"Recall (macro):    {recall:.2f}\")\n",
        "print(f\"F1-Score (macro):  {f1:.2f}\")"
      ],
      "metadata": {
        "colab": {
          "base_uri": "https://localhost:8080/"
        },
        "id": "BOlO7GwpHxZO",
        "outputId": "edeee465-4f08-43f3-bf34-a32a9a87cd2b"
      },
      "execution_count": 29,
      "outputs": [
        {
          "output_type": "stream",
          "name": "stdout",
          "text": [
            "Precision (macro): 1.00\n",
            "Recall (macro):    1.00\n",
            "F1-Score (macro):  1.00\n"
          ]
        }
      ]
    },
    {
      "cell_type": "code",
      "source": [
        "# 13. Write a Python program to train a Logistic Regression model on imbalanced data and apply class weights to improve model performance.\n",
        "\n",
        "import pandas as pd\n",
        "from sklearn.model_selection import train_test_split\n",
        "from sklearn.linear_model import LogisticRegression\n",
        "from sklearn.preprocessing import StandardScaler\n",
        "from sklearn.metrics import classification_report, confusion_matrix\n",
        "from collections import Counter\n",
        "import matplotlib.pyplot as plt\n",
        "import seaborn as sns\n",
        "\n",
        "# Load dataset (replace with your actual CSV)\n",
        "df = pd.read_csv('googleplaystore.csv')  # Make sure target is binary and imbalanced\n",
        "\n",
        "# Check class distribution\n",
        "#print(\"Class distribution:\", Counter(df['target']))\n",
        "\n",
        "# Split features and target\n",
        "#X = df.drop('target', axis=1)\n",
        "#y = df['target']\n",
        "\n",
        "# Train-test split\n",
        "X_train, X_test, y_train, y_test = train_test_split(X, y, test_size=0.2, random_state=42)\n",
        "\n",
        "# Scale features\n",
        "scaler = StandardScaler()\n",
        "X_train_scaled = scaler.fit_transform(X_train)\n",
        "X_test_scaled = scaler.transform(X_test)\n",
        "\n",
        "# Train Logistic Regression with class weights\n",
        "model = LogisticRegression(class_weight='balanced', solver='liblinear')\n",
        "model.fit(X_train_scaled, y_train)\n",
        "\n",
        "# Predict\n",
        "y_pred = model.predict(X_test_scaled)\n",
        "\n",
        "# Evaluation\n",
        "print(\"Classification Report:\\n\", classification_report(y_test, y_pred))\n",
        "\n",
        "# Confusion Matrix\n",
        "cm = confusion_matrix(y_test, y_pred)\n",
        "sns.heatmap(cm, annot=True, fmt='d', cmap='Blues')\n",
        "plt.title('Confusion Matrix')\n",
        "plt.xlabel('Predicted')\n",
        "plt.ylabel('Actual')\n",
        "plt.show()"
      ],
      "metadata": {
        "colab": {
          "base_uri": "https://localhost:8080/",
          "height": 663
        },
        "id": "ppNAvG2XKE7m",
        "outputId": "f8235968-3647-4c09-cae9-ae265ef6488a"
      },
      "execution_count": 31,
      "outputs": [
        {
          "output_type": "stream",
          "name": "stdout",
          "text": [
            "Classification Report:\n",
            "               precision    recall  f1-score   support\n",
            "\n",
            "           0       1.00      1.00      1.00        10\n",
            "           1       1.00      0.89      0.94         9\n",
            "           2       0.92      1.00      0.96        11\n",
            "\n",
            "    accuracy                           0.97        30\n",
            "   macro avg       0.97      0.96      0.97        30\n",
            "weighted avg       0.97      0.97      0.97        30\n",
            "\n"
          ]
        },
        {
          "output_type": "display_data",
          "data": {
            "text/plain": [
              "<Figure size 640x480 with 2 Axes>"
            ],
            "image/png": "[encoded data removed]"
          },
          "metadata": {}
        }
      ]
    },
    {
      "cell_type": "code",
      "source": [
        "# 14. Write a Python program to train Logistic Regression on the Titanic dataset, handle missing values, and evaluate performance.\n",
        "\n",
        "import pandas as pd\n",
        "from sklearn.model_selection import train_test_split\n",
        "from sklearn.linear_model import LogisticRegression\n",
        "from sklearn.preprocessing import LabelEncoder, StandardScaler\n",
        "from sklearn.metrics import accuracy_score, precision_score, recall_score, f1_score, classification_report\n",
        "\n",
        "# Load Titanic dataset (from seaborn or CSV)\n",
        "url = \"https://raw.githubusercontent.com/datasciencedojo/datasets/master/titanic.csv\"\n",
        "df = pd.read_csv(url)\n",
        "\n",
        "# Display missing values\n",
        "print(\"Missing values before handling:\\n\", df.isnull().sum())\n",
        "\n",
        "# Drop columns that won't help\n",
        "df.drop(['PassengerId', 'Name', 'Ticket', 'Cabin'], axis=1, inplace=True)\n",
        "\n",
        "# Fill missing values\n",
        "df['Age'].fillna(df['Age'].median(), inplace=True)\n",
        "df['Embarked'].fillna(df['Embarked'].mode()[0], inplace=True)\n",
        "\n",
        "# Encode categorical features\n",
        "label_encoders = {}\n",
        "for col in ['Sex', 'Embarked']:\n",
        "    le = LabelEncoder()\n",
        "    df[col] = le.fit_transform(df[col])\n",
        "    label_encoders[col] = le\n",
        "\n",
        "# Split features and target\n",
        "X = df.drop('Survived', axis=1)\n",
        "y = df['Survived']\n",
        "\n",
        "# Train/test split\n",
        "X_train, X_test, y_train, y_test = train_test_split(X, y, test_size=0.2, random_state=42)\n",
        "\n",
        "# Scale features\n",
        "scaler = StandardScaler()\n",
        "X_train_scaled = scaler.fit_transform(X_train)\n",
        "X_test_scaled = scaler.transform(X_test)\n",
        "\n",
        "# Train Logistic Regression model\n",
        "model = LogisticRegression()\n",
        "model.fit(X_train_scaled, y_train)\n",
        "\n",
        "# Predict\n",
        "y_pred = model.predict(X_test_scaled)\n",
        "\n",
        "# Evaluation\n",
        "print(\"Accuracy:\", accuracy_score(y_test, y_pred))\n",
        "print(\"Precision:\", precision_score(y_test, y_pred))\n",
        "print(\"Recall:\", recall_score(y_test, y_pred))\n",
        "print(\"F1 Score:\", f1_score(y_test, y_pred))\n",
        "print(\"\\nClassification Report:\\n\", classification_report(y_test, y_pred))"
      ],
      "metadata": {
        "colab": {
          "base_uri": "https://localhost:8080/"
        },
        "id": "sDSiaI-pLZSj",
        "outputId": "156c0fea-756f-4121-d351-0deb59196cb5"
      },
      "execution_count": 32,
      "outputs": [
        {
          "output_type": "stream",
          "name": "stdout",
          "text": [
            "Missing values before handling:\n",
            " PassengerId      0\n",
            "Survived         0\n",
            "Pclass           0\n",
            "Name             0\n",
            "Sex              0\n",
            "Age            177\n",
            "SibSp            0\n",
            "Parch            0\n",
            "Ticket           0\n",
            "Fare             0\n",
            "Cabin          687\n",
            "Embarked         2\n",
            "dtype: int64\n",
            "Accuracy: 0.8044692737430168\n",
            "Precision: 0.782608695652174\n",
            "Recall: 0.7297297297297297\n",
            "F1 Score: 0.7552447552447552\n",
            "\n",
            "Classification Report:\n",
            "               precision    recall  f1-score   support\n",
            "\n",
            "           0       0.82      0.86      0.84       105\n",
            "           1       0.78      0.73      0.76        74\n",
            "\n",
            "    accuracy                           0.80       179\n",
            "   macro avg       0.80      0.79      0.80       179\n",
            "weighted avg       0.80      0.80      0.80       179\n",
            "\n"
          ]
        }
      ]
    },
    {
      "cell_type": "code",
      "source": [
        "# 15. Write a Python program to apply feature scaling (Standardization) before training a Logistic Regression model. Evaluate its accuracy and compare results with and without scaling.\n",
        "\n",
        "import pandas as pd\n",
        "from sklearn.model_selection import train_test_split\n",
        "from sklearn.linear_model import LogisticRegression\n",
        "from sklearn.preprocessing import LabelEncoder, StandardScaler\n",
        "from sklearn.metrics import accuracy_score\n",
        "\n",
        "# Load dataset\n",
        "url = \"https://raw.githubusercontent.com/datasciencedojo/datasets/master/titanic.csv\"\n",
        "df = pd.read_csv(url)\n",
        "\n",
        "# Preprocess data\n",
        "df.drop(['PassengerId', 'Name', 'Ticket', 'Cabin'], axis=1, inplace=True)\n",
        "df['Age'].fillna(df['Age'].median(), inplace=True)\n",
        "df['Embarked'].fillna(df['Embarked'].mode()[0], inplace=True)\n",
        "\n",
        "# Encode categorical features\n",
        "le_sex = LabelEncoder()\n",
        "le_embarked = LabelEncoder()\n",
        "df['Sex'] = le_sex.fit_transform(df['Sex'])\n",
        "df['Embarked'] = le_embarked.fit_transform(df['Embarked'])\n",
        "\n",
        "# Features and target\n",
        "X = df.drop('Survived', axis=1)\n",
        "y = df['Survived']\n",
        "\n",
        "# Split data\n",
        "X_train, X_test, y_train, y_test = train_test_split(X, y, test_size=0.2, random_state=42)\n",
        "\n",
        "# ---- Model WITHOUT Scaling ----\n",
        "model_no_scaling = LogisticRegression(max_iter=1000)\n",
        "model_no_scaling.fit(X_train, y_train)\n",
        "y_pred_no_scaling = model_no_scaling.predict(X_test)\n",
        "accuracy_no_scaling = accuracy_score(y_test, y_pred_no_scaling)\n",
        "\n",
        "# ---- Model WITH Standard Scaling ----\n",
        "scaler = StandardScaler()\n",
        "X_train_scaled = scaler.fit_transform(X_train)\n",
        "X_test_scaled = scaler.transform(X_test)\n",
        "\n",
        "model_scaled = LogisticRegression(max_iter=1000)\n",
        "model_scaled.fit(X_train_scaled, y_train)\n",
        "y_pred_scaled = model_scaled.predict(X_test_scaled)\n",
        "accuracy_scaled = accuracy_score(y_test, y_pred_scaled)\n",
        "\n",
        "# ---- Results ----\n",
        "print(f\"Accuracy WITHOUT scaling: {accuracy_no_scaling:.4f}\")\n",
        "print(f\"Accuracy WITH scaling:    {accuracy_scaled:.4f}\")"
      ],
      "metadata": {
        "colab": {
          "base_uri": "https://localhost:8080/"
        },
        "id": "ZrGP4SJWLn_M",
        "outputId": "6242575b-274e-4b35-9779-0998caee077a"
      },
      "execution_count": 33,
      "outputs": [
        {
          "output_type": "stream",
          "name": "stdout",
          "text": [
            "Accuracy WITHOUT scaling: 0.8101\n",
            "Accuracy WITH scaling:    0.8045\n"
          ]
        }
      ]
    },
    {
      "cell_type": "code",
      "source": [
        "# 16. Write a Python program to train Logistic Regression and evaluate its performance using ROC-AUC score.\n",
        "\n",
        "import pandas as pd\n",
        "from sklearn.model_selection import train_test_split\n",
        "from sklearn.linear_model import LogisticRegression\n",
        "from sklearn.preprocessing import LabelEncoder, StandardScaler\n",
        "from sklearn.metrics import roc_auc_score, roc_curve, accuracy_score\n",
        "import matplotlib.pyplot as plt\n",
        "\n",
        "# Load Titanic dataset\n",
        "url = \"https://raw.githubusercontent.com/datasciencedojo/datasets/master/titanic.csv\"\n",
        "df = pd.read_csv(url)\n",
        "\n",
        "# Data preprocessing\n",
        "df.drop(['PassengerId', 'Name', 'Ticket', 'Cabin'], axis=1, inplace=True)\n",
        "df['Age'].fillna(df['Age'].median(), inplace=True)\n",
        "df['Embarked'].fillna(df['Embarked'].mode()[0], inplace=True)\n",
        "\n",
        "# Encode categorical variables\n",
        "df['Sex'] = LabelEncoder().fit_transform(df['Sex'])\n",
        "df['Embarked'] = LabelEncoder().fit_transform(df['Embarked'])\n",
        "\n",
        "# Define features and target\n",
        "X = df.drop('Survived', axis=1)\n",
        "y = df['Survived']\n",
        "\n",
        "# Train-test split\n",
        "X_train, X_test, y_train, y_test = train_test_split(X, y, test_size=0.2, random_state=42)\n",
        "\n",
        "# Feature scaling\n",
        "scaler = StandardScaler()\n",
        "X_train_scaled = scaler.fit_transform(X_train)\n",
        "X_test_scaled = scaler.transform(X_test)\n",
        "\n",
        "# Train Logistic Regression model\n",
        "model = LogisticRegression(max_iter=1000)\n",
        "model.fit(X_train_scaled, y_train)\n",
        "\n",
        "# Predict probabilities\n",
        "y_probs = model.predict_proba(X_test_scaled)[:, 1]\n",
        "\n",
        "# Compute ROC-AUC score\n",
        "roc_auc = roc_auc_score(y_test, y_probs)\n",
        "print(f\"ROC-AUC Score: {roc_auc:.4f}\")\n",
        "\n",
        "# Plot ROC Curve\n",
        "fpr, tpr, thresholds = roc_curve(y_test, y_probs)\n",
        "plt.figure(figsize=(8, 5))\n",
        "plt.plot(fpr, tpr, label=f\"Logistic Regression (AUC = {roc_auc:.4f})\")\n",
        "plt.plot([0, 1], [0, 1], 'k--', label=\"Random Classifier\")\n",
        "plt.xlabel(\"False Positive Rate\")\n",
        "plt.ylabel(\"True Positive Rate\")\n",
        "plt.title(\"ROC Curve\")\n",
        "plt.legend()\n",
        "plt.grid()\n",
        "plt.show()"
      ],
      "metadata": {
        "colab": {
          "base_uri": "https://localhost:8080/",
          "height": 504
        },
        "id": "8F0PpZvFLxlN",
        "outputId": "40fdae08-f6ae-4ca7-c293-5f67fe22f978"
      },
      "execution_count": 34,
      "outputs": [
        {
          "output_type": "stream",
          "name": "stdout",
          "text": [
            "ROC-AUC Score: 0.8819\n"
          ]
        },
        {
          "output_type": "display_data",
          "data": {
            "text/plain": [
              "<Figure size 800x500 with 1 Axes>"
            ],
            "image/png": "[encoded data removed]"
          },
          "metadata": {}
        }
      ]
    },
    {
      "cell_type": "code",
      "source": [
        "# 17. Write a Python program to train Logistic Regression using a custom learning rate (C=0.5) and evaluate accuracy.\n",
        "\n",
        "import pandas as pd\n",
        "from sklearn.model_selection import train_test_split\n",
        "from sklearn.linear_model import LogisticRegression\n",
        "from sklearn.preprocessing import LabelEncoder, StandardScaler\n",
        "from sklearn.metrics import accuracy_score\n",
        "\n",
        "# Load Titanic dataset\n",
        "url = \"https://raw.githubusercontent.com/datasciencedojo/datasets/master/titanic.csv\"\n",
        "df = pd.read_csv(url)\n",
        "\n",
        "# Data preprocessing\n",
        "df.drop(['PassengerId', 'Name', 'Ticket', 'Cabin'], axis=1, inplace=True)\n",
        "df['Age'].fillna(df['Age'].median(), inplace=True)\n",
        "df['Embarked'].fillna(df['Embarked'].mode()[0], inplace=True)\n",
        "\n",
        "# Encode categorical variables\n",
        "df['Sex'] = LabelEncoder().fit_transform(df['Sex'])\n",
        "df['Embarked'] = LabelEncoder().fit_transform(df['Embarked'])\n",
        "\n",
        "# Define features and target\n",
        "X = df.drop('Survived', axis=1)\n",
        "y = df['Survived']\n",
        "\n",
        "# Train-test split\n",
        "X_train, X_test, y_train, y_test = train_test_split(X, y, test_size=0.2, random_state=42)\n",
        "\n",
        "# Feature scaling\n",
        "scaler = StandardScaler()\n",
        "X_train_scaled = scaler.fit_transform(X_train)\n",
        "X_test_scaled = scaler.transform(X_test)\n",
        "\n",
        "# Train Logistic Regression with custom C\n",
        "model = LogisticRegression(C=0.5, max_iter=1000)\n",
        "model.fit(X_train_scaled, y_train)\n",
        "\n",
        "# Predict and evaluate\n",
        "y_pred = model.predict(X_test_scaled)\n",
        "accuracy = accuracy_score(y_test, y_pred)\n",
        "print(f\"Accuracy with C=0.5: {accuracy:.4f}\")"
      ],
      "metadata": {
        "colab": {
          "base_uri": "https://localhost:8080/"
        },
        "id": "6EjwSbyLL5Rt",
        "outputId": "4c295e45-cd2b-4db7-8512-a98b62d1b8a6"
      },
      "execution_count": 35,
      "outputs": [
        {
          "output_type": "stream",
          "name": "stdout",
          "text": [
            "Accuracy with C=0.5: 0.8045\n"
          ]
        }
      ]
    },
    {
      "cell_type": "code",
      "source": [
        "# 18. Write a Python program to train Logistic Regression and identify important features based on model coefficients.\n",
        "\n",
        "import pandas as pd\n",
        "from sklearn.model_selection import train_test_split\n",
        "from sklearn.linear_model import LogisticRegression\n",
        "from sklearn.preprocessing import StandardScaler, LabelEncoder\n",
        "import matplotlib.pyplot as plt\n",
        "import seaborn as sns\n",
        "\n",
        "# Load Titanic dataset\n",
        "url = \"https://raw.githubusercontent.com/datasciencedojo/datasets/master/titanic.csv\"\n",
        "df = pd.read_csv(url)\n",
        "\n",
        "# Drop irrelevant columns\n",
        "df.drop(['PassengerId', 'Name', 'Ticket', 'Cabin'], axis=1, inplace=True)\n",
        "\n",
        "# Handle missing values\n",
        "df['Age'].fillna(df['Age'].median(), inplace=True)\n",
        "df['Embarked'].fillna(df['Embarked'].mode()[0], inplace=True)\n",
        "\n",
        "# Encode categorical variables\n",
        "df['Sex'] = LabelEncoder().fit_transform(df['Sex'])\n",
        "df['Embarked'] = LabelEncoder().fit_transform(df['Embarked'])\n",
        "\n",
        "# Define features and target\n",
        "X = df.drop('Survived', axis=1)\n",
        "y = df['Survived']\n",
        "\n",
        "# Train-test split\n",
        "X_train, X_test, y_train, y_test = train_test_split(X, y, test_size=0.2, random_state=42)\n",
        "\n",
        "# Feature scaling\n",
        "scaler = StandardScaler()\n",
        "X_train_scaled = scaler.fit_transform(X_train)\n",
        "\n",
        "# Train Logistic Regression model\n",
        "model = LogisticRegression(max_iter=1000)\n",
        "model.fit(X_train_scaled, y_train)\n",
        "\n",
        "# Get feature importance\n",
        "coefficients = model.coef_[0]\n",
        "feature_names = X.columns\n",
        "\n",
        "# Create a DataFrame for visualization\n",
        "importance_df = pd.DataFrame({\n",
        "    'Feature': feature_names,\n",
        "    'Coefficient': coefficients\n",
        "})\n",
        "importance_df['Absolute Coefficient'] = importance_df['Coefficient'].abs()\n",
        "importance_df.sort_values(by='Absolute Coefficient', ascending=False, inplace=True)\n",
        "\n",
        "# Print top features\n",
        "print(\"Top important features based on logistic regression coefficients:\")\n",
        "print(importance_df[['Feature', 'Coefficient']])\n",
        "\n",
        "# Plot feature importance\n",
        "plt.figure(figsize=(10, 6))\n",
        "sns.barplot(x='Coefficient', y='Feature', data=importance_df)\n",
        "plt.title('Feature Importance based on Logistic Regression Coefficients')\n",
        "plt.xlabel('Coefficient Value')\n",
        "plt.ylabel('Feature')\n",
        "plt.tight_layout()\n",
        "plt.show()"
      ],
      "metadata": {
        "colab": {
          "base_uri": "https://localhost:8080/",
          "height": 763
        },
        "id": "5EBIBdHeMEJ9",
        "outputId": "3539d651-bac8-4e24-b360-8520bbfbbc62"
      },
      "execution_count": 36,
      "outputs": [
        {
          "output_type": "stream",
          "name": "stdout",
          "text": [
            "Top important features based on logistic regression coefficients:\n",
            "    Feature  Coefficient\n",
            "1       Sex    -1.278865\n",
            "0    Pclass    -0.782061\n",
            "2       Age    -0.395574\n",
            "3     SibSp    -0.349582\n",
            "6  Embarked    -0.170860\n",
            "5      Fare     0.126216\n",
            "4     Parch    -0.098292\n"
          ]
        },
        {
          "output_type": "display_data",
          "data": {
            "text/plain": [
              "<Figure size 1000x600 with 1 Axes>"
            ],
            "image/png": "[encoded data removed]"
          },
          "metadata": {}
        }
      ]
    },
    {
      "cell_type": "code",
      "source": [
        "# 19. Write a Python program to train Logistic Regression and evaluate its performance using Cohen’s Kappa Score.\n",
        "\n",
        "import pandas as pd\n",
        "from sklearn.model_selection import train_test_split\n",
        "from sklearn.linear_model import LogisticRegression\n",
        "from sklearn.metrics import cohen_kappa_score\n",
        "from sklearn.preprocessing import StandardScaler\n",
        "from sklearn.datasets import load_breast_cancer\n",
        "\n",
        "# Load a sample dataset (Breast Cancer dataset)\n",
        "data = load_breast_cancer()\n",
        "X = data.data\n",
        "y = data.target\n",
        "\n",
        "# Split into train and test sets\n",
        "X_train, X_test, y_train, y_test = train_test_split(X, y, test_size=0.2, random_state=42)\n",
        "\n",
        "# Feature scaling\n",
        "scaler = StandardScaler()\n",
        "X_train_scaled = scaler.fit_transform(X_train)\n",
        "X_test_scaled = scaler.transform(X_test)\n",
        "\n",
        "# Train Logistic Regression model\n",
        "model = LogisticRegression(max_iter=1000)\n",
        "model.fit(X_train_scaled, y_train)\n",
        "\n",
        "# Predict on test set\n",
        "y_pred = model.predict(X_test_scaled)\n",
        "\n",
        "# Evaluate using Cohen's Kappa Score\n",
        "kappa = cohen_kappa_score(y_test, y_pred)\n",
        "print(f\"Cohen's Kappa Score: {kappa:.4f}\")"
      ],
      "metadata": {
        "colab": {
          "base_uri": "https://localhost:8080/"
        },
        "id": "k93hh247MNZl",
        "outputId": "17298cdb-c160-4033-e39c-b6c8a0c17275"
      },
      "execution_count": 37,
      "outputs": [
        {
          "output_type": "stream",
          "name": "stdout",
          "text": [
            "Cohen's Kappa Score: 0.9437\n"
          ]
        }
      ]
    },
    {
      "cell_type": "code",
      "source": [
        "# 20. Write a Python program to train Logistic Regression and visualize the Precision-Recall Curve for binary classification.\n",
        "\n",
        "import numpy as np\n",
        "import matplotlib.pyplot as plt\n",
        "from sklearn.datasets import load_breast_cancer\n",
        "from sklearn.linear_model import LogisticRegression\n",
        "from sklearn.model_selection import train_test_split\n",
        "from sklearn.metrics import precision_recall_curve, average_precision_score\n",
        "\n",
        "# Load sample dataset (binary classification)\n",
        "data = load_breast_cancer()\n",
        "X = data.data\n",
        "y = data.target\n",
        "\n",
        "# Split dataset into training and testing sets\n",
        "X_train, X_test, y_train, y_test = train_test_split(X, y, test_size=0.2, random_state=42)\n",
        "\n",
        "# Train Logistic Regression model\n",
        "model = LogisticRegression(max_iter=1000)\n",
        "model.fit(X_train, y_train)\n",
        "\n",
        "# Predict probabilities for the positive class\n",
        "y_scores = model.predict_proba(X_test)[:, 1]\n",
        "\n",
        "# Compute precision-recall curve\n",
        "precision, recall, thresholds = precision_recall_curve(y_test, y_scores)\n",
        "\n",
        "# Compute average precision score\n",
        "avg_precision = average_precision_score(y_test, y_scores)\n",
        "\n",
        "# Plot Precision-Recall curve\n",
        "plt.figure(figsize=(8,6))\n",
        "plt.plot(recall, precision, label=f'Logistic Regression (AP={avg_precision:.2f})', color='b')\n",
        "plt.xlabel('Recall')\n",
        "plt.ylabel('Precision')\n",
        "plt.title('Precision-Recall Curve')\n",
        "plt.legend()\n",
        "plt.grid(True)\n",
        "plt.show()"
      ],
      "metadata": {
        "colab": {
          "base_uri": "https://localhost:8080/",
          "height": 564
        },
        "id": "Vpir7Kq9MV2p",
        "outputId": "63f4f863-2ac6-453d-c1a9-495a5caec16d"
      },
      "execution_count": 38,
      "outputs": [
        {
          "output_type": "display_data",
          "data": {
            "text/plain": [
              "<Figure size 800x600 with 1 Axes>"
            ],
            "image/png": "[encoded data removed]"
          },
          "metadata": {}
        }
      ]
    },
    {
      "cell_type": "code",
      "source": [
        "# 21. Write a Python program to train Logistic Regression with different solvers (liblinear, saga, lbfgs) and compare their accuracy.\n",
        "\n",
        "from sklearn.datasets import load_breast_cancer\n",
        "from sklearn.linear_model import LogisticRegression\n",
        "from sklearn.model_selection import train_test_split\n",
        "from sklearn.metrics import accuracy_score\n",
        "\n",
        "# Load sample dataset (binary classification)\n",
        "data = load_breast_cancer()\n",
        "X = data.data\n",
        "y = data.target\n",
        "\n",
        "# Split dataset into training and testing sets\n",
        "X_train, X_test, y_train, y_test = train_test_split(X, y, test_size=0.2, random_state=42)\n",
        "\n",
        "# List of solvers to compare\n",
        "solvers = ['liblinear', 'saga', 'lbfgs']\n",
        "\n",
        "# Dictionary to store accuracy results\n",
        "accuracy_results = {}\n",
        "\n",
        "for solver in solvers:\n",
        "    # Create Logistic Regression model with specified solver\n",
        "    model = LogisticRegression(solver=solver, max_iter=1000, random_state=42)\n",
        "\n",
        "    # Fit model\n",
        "    model.fit(X_train, y_train)\n",
        "\n",
        "    # Predict on test data\n",
        "    y_pred = model.predict(X_test)\n",
        "\n",
        "    # Calculate accuracy\n",
        "    accuracy = accuracy_score(y_test, y_pred)\n",
        "\n",
        "    # Store accuracy\n",
        "    accuracy_results[solver] = accuracy\n",
        "\n",
        "# Print accuracies\n",
        "print(\"Accuracy for different solvers:\")\n",
        "for solver, accuracy in accuracy_results.items():\n",
        "    print(f\"Solver: {solver}, Accuracy: {accuracy:.4f}\")"
      ],
      "metadata": {
        "colab": {
          "base_uri": "https://localhost:8080/"
        },
        "id": "QxzVFaLYMfUs",
        "outputId": "f1391bc9-4939-4196-fa96-6b837a54e668"
      },
      "execution_count": 39,
      "outputs": [
        {
          "output_type": "stream",
          "name": "stdout",
          "text": [
            "Accuracy for different solvers:\n",
            "Solver: liblinear, Accuracy: 0.9561\n",
            "Solver: saga, Accuracy: 0.9649\n",
            "Solver: lbfgs, Accuracy: 0.9561\n"
          ]
        }
      ]
    },
    {
      "cell_type": "code",
      "source": [
        "# 22. Write a Python program to train Logistic Regression and evaluate its performance using Matthews Correlation Coefficient (MCC).\n",
        "\n",
        "from sklearn.datasets import load_breast_cancer\n",
        "from sklearn.linear_model import LogisticRegression\n",
        "from sklearn.model_selection import train_test_split\n",
        "from sklearn.metrics import matthews_corrcoef\n",
        "\n",
        "# Load sample binary classification dataset\n",
        "data = load_breast_cancer()\n",
        "X = data.data\n",
        "y = data.target\n",
        "\n",
        "# Split into train and test sets\n",
        "X_train, X_test, y_train, y_test = train_test_split(X, y, test_size=0.2, random_state=42)\n",
        "\n",
        "# Train Logistic Regression model\n",
        "model = LogisticRegression(max_iter=1000, random_state=42)\n",
        "model.fit(X_train, y_train)\n",
        "\n",
        "# Predict on test set\n",
        "y_pred = model.predict(X_test)\n",
        "\n",
        "# Calculate Matthews Correlation Coefficient\n",
        "mcc = matthews_corrcoef(y_test, y_pred)\n",
        "\n",
        "print(f\"Matthews Correlation Coefficient (MCC): {mcc:.4f}\")"
      ],
      "metadata": {
        "colab": {
          "base_uri": "https://localhost:8080/"
        },
        "id": "Y-dn7OBMMnzS",
        "outputId": "559ef39b-989e-4d50-d537-8755f2b3f132"
      },
      "execution_count": 40,
      "outputs": [
        {
          "output_type": "stream",
          "name": "stdout",
          "text": [
            "Matthews Correlation Coefficient (MCC): 0.9068\n"
          ]
        }
      ]
    },
    {
      "cell_type": "code",
      "source": [
        "# 23. Write a Python program to train Logistic Regression on both raw and standardized data. Compare their accuracy to see the impact of feature scaling.\n",
        "\n",
        "from sklearn.datasets import load_breast_cancer\n",
        "from sklearn.linear_model import LogisticRegression\n",
        "from sklearn.model_selection import train_test_split\n",
        "from sklearn.preprocessing import StandardScaler\n",
        "from sklearn.metrics import accuracy_score\n",
        "\n",
        "# Load dataset\n",
        "data = load_breast_cancer()\n",
        "X = data.data\n",
        "y = data.target\n",
        "\n",
        "# Split into training and testing sets\n",
        "X_train, X_test, y_train, y_test = train_test_split(X, y, test_size=0.2, random_state=42)\n",
        "\n",
        "# Train Logistic Regression on raw data\n",
        "model_raw = LogisticRegression(max_iter=1000, random_state=42)\n",
        "model_raw.fit(X_train, y_train)\n",
        "y_pred_raw = model_raw.predict(X_test)\n",
        "accuracy_raw = accuracy_score(y_test, y_pred_raw)\n",
        "\n",
        "# Standardize features\n",
        "scaler = StandardScaler()\n",
        "X_train_scaled = scaler.fit_transform(X_train)\n",
        "X_test_scaled = scaler.transform(X_test)\n",
        "\n",
        "# Train Logistic Regression on standardized data\n",
        "model_scaled = LogisticRegression(max_iter=1000, random_state=42)\n",
        "model_scaled.fit(X_train_scaled, y_train)\n",
        "y_pred_scaled = model_scaled.predict(X_test_scaled)\n",
        "accuracy_scaled = accuracy_score(y_test, y_pred_scaled)\n",
        "\n",
        "# Print results\n",
        "print(f\"Accuracy without scaling: {accuracy_raw:.4f}\")\n",
        "print(f\"Accuracy with scaling:    {accuracy_scaled:.4f}\")"
      ],
      "metadata": {
        "colab": {
          "base_uri": "https://localhost:8080/"
        },
        "id": "IMht3_s2Mwce",
        "outputId": "0ab7280c-c66c-46e9-9096-aa71c064c03b"
      },
      "execution_count": 41,
      "outputs": [
        {
          "output_type": "stream",
          "name": "stdout",
          "text": [
            "Accuracy without scaling: 0.9561\n",
            "Accuracy with scaling:    0.9737\n"
          ]
        }
      ]
    },
    {
      "cell_type": "code",
      "source": [
        "# 24. Write a Python program to train Logistic Regression and find the optimal C (regularization strength) using  cross-validation.\n",
        "\n",
        "from sklearn.datasets import load_breast_cancer\n",
        "from sklearn.linear_model import LogisticRegression\n",
        "from sklearn.model_selection import GridSearchCV, train_test_split\n",
        "from sklearn.metrics import accuracy_score\n",
        "\n",
        "# Load dataset\n",
        "data = load_breast_cancer()\n",
        "X = data.data\n",
        "y = data.target\n",
        "\n",
        "# Split dataset\n",
        "X_train, X_test, y_train, y_test = train_test_split(X, y, test_size=0.2, random_state=42)\n",
        "\n",
        "# Define Logistic Regression model\n",
        "logreg = LogisticRegression(max_iter=1000, random_state=42)\n",
        "\n",
        "# Define parameter grid for C (inverse of regularization strength)\n",
        "param_grid = {'C': [0.01, 0.1, 1, 10, 100]}\n",
        "\n",
        "# Setup GridSearchCV with 5-fold cross-validation\n",
        "grid_search = GridSearchCV(logreg, param_grid, cv=5, scoring='accuracy')\n",
        "\n",
        "# Fit GridSearchCV\n",
        "grid_search.fit(X_train, y_train)\n",
        "\n",
        "# Best parameter and best score\n",
        "print(f\"Best C parameter: {grid_search.best_params_['C']}\")\n",
        "print(f\"Best cross-validation accuracy: {grid_search.best_score_:.4f}\")\n",
        "\n",
        "# Evaluate on test data using best model\n",
        "best_model = grid_search.best_estimator_\n",
        "y_pred = best_model.predict(X_test)\n",
        "test_accuracy = accuracy_score(y_test, y_pred)\n",
        "print(f\"Test set accuracy with best C: {test_accuracy:.4f}\")"
      ],
      "metadata": {
        "colab": {
          "base_uri": "https://localhost:8080/"
        },
        "id": "QnCaXw7PM46B",
        "outputId": "8d4567f1-71aa-4f40-9e1b-181073d53eb0"
      },
      "execution_count": 42,
      "outputs": [
        {
          "output_type": "stream",
          "name": "stdout",
          "text": [
            "Best C parameter: 10\n",
            "Best cross-validation accuracy: 0.9626\n",
            "Test set accuracy with best C: 0.9561\n"
          ]
        }
      ]
    },
    {
      "cell_type": "code",
      "source": [
        "# 25. Write a Python program to train Logistic Regression, save the trained model using joblib, and load it again to  make predictions.\n",
        "\n",
        "from sklearn.datasets import load_iris\n",
        "from sklearn.linear_model import LogisticRegression\n",
        "from sklearn.model_selection import train_test_split\n",
        "from sklearn.metrics import accuracy_score\n",
        "import joblib\n",
        "\n",
        "# Load dataset\n",
        "data = load_iris()\n",
        "X = data.data\n",
        "y = data.target\n",
        "\n",
        "# Split into train and test sets\n",
        "X_train, X_test, y_train, y_test = train_test_split(X, y, test_size=0.2, random_state=42)\n",
        "\n",
        "# Train Logistic Regression model\n",
        "model = LogisticRegression(max_iter=200, random_state=42)\n",
        "model.fit(X_train, y_train)\n",
        "\n",
        "# Save the trained model to a file\n",
        "joblib_file = 'logistic_regression_model.joblib'\n",
        "joblib.dump(model, joblib_file)\n",
        "print(f\"Model saved to {joblib_file}\")\n",
        "\n",
        "# Load the model from the file\n",
        "loaded_model = joblib.load(joblib_file)\n",
        "print(\"Model loaded from file\")\n",
        "\n",
        "# Make predictions with the loaded model\n",
        "y_pred = loaded_model.predict(X_test)\n",
        "\n",
        "# Evaluate accuracy\n",
        "accuracy = accuracy_score(y_test, y_pred)\n",
        "print(f\"Accuracy of loaded model: {accuracy:.4f}\")"
      ],
      "metadata": {
        "colab": {
          "base_uri": "https://localhost:8080/"
        },
        "id": "CUnJLZliNBxs",
        "outputId": "e8809c53-2b42-4c86-df21-e25bf582f423"
      },
      "execution_count": 43,
      "outputs": [
        {
          "output_type": "stream",
          "name": "stdout",
          "text": [
            "Model saved to logistic_regression_model.joblib\n",
            "Model loaded from file\n",
            "Accuracy of loaded model: 1.0000\n"
          ]
        }
      ]
    },
    {
      "cell_type": "code",
      "source": [],
      "metadata": {
        "id": "xnAL5S4FNNes"
      },
      "execution_count": null,
      "outputs": []
    }
  ]
}