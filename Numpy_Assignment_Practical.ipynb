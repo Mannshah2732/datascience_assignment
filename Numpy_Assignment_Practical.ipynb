{
  "nbformat": 4,
  "nbformat_minor": 0,
  "metadata": {
    "colab": {
      "provenance": [],
      "authorship_tag": "ABX9TyMr3c5efeBbLHwBuMC/RRk9",
      "include_colab_link": true
    },
    "kernelspec": {
      "name": "python3",
      "display_name": "Python 3"
    },
    "language_info": {
      "name": "python"
    }
  },
  "cells": [
    {
      "cell_type": "markdown",
      "metadata": {
        "id": "view-in-github",
        "colab_type": "text"
      },
      "source": [
        "<a href=\"https://colab.research.google.com/github/Mannshah2732/datascience_assignment/blob/main/Numpy_Assignment_Practical.ipynb\" target=\"_parent\"><img src=\"https://colab.research.google.com/assets/colab-badge.svg\" alt=\"Open In Colab\"/></a>"
      ]
    },
    {
      "cell_type": "markdown",
      "source": [
        "# **Practical Questions**"
      ],
      "metadata": {
        "id": "9XFPODZBpuo6"
      }
    },
    {
      "cell_type": "code",
      "execution_count": null,
      "metadata": {
        "colab": {
          "base_uri": "https://localhost:8080/"
        },
        "id": "LKa-_b3Opr2F",
        "outputId": "164853c6-3b43-4508-f6ec-d9eaf2f0e9e9"
      },
      "outputs": [
        {
          "output_type": "stream",
          "name": "stdout",
          "text": [
            "Original Array : \n",
            " [[11 72  5]\n",
            " [93 78 71]\n",
            " [41 87 50]]\n",
            "Transpose Array : \n",
            " [[11 93 41]\n",
            " [72 78 87]\n",
            " [ 5 71 50]]\n"
          ]
        }
      ],
      "source": [
        "# 1. Create a 3x3 NumPy array with random integers between 1 and 100. Then, interchange its rows and columns.\n",
        "\n",
        "import numpy as np\n",
        "\n",
        "array1 = np.random.randint(1, 101, size = (3, 3))\n",
        "\n",
        "print(\"Original Array : \\n\", array1)\n",
        "\n",
        "transpose_array = array1.T\n",
        "\n",
        "print(\"Transpose Array : \\n\", transpose_array)"
      ]
    },
    {
      "cell_type": "code",
      "source": [
        "# 2. Generate a 1D NumPy array with 10 elements. Reshape it into a 2x5 array, then into a 5x2 array\n",
        "\n",
        "import numpy as np\n",
        "\n",
        "array1 = np.arange(10)\n",
        "print(\"Original 1D Array : \\n\", array1)\n",
        "\n",
        "reshape_2x5 = array1.reshape(2, 5)\n",
        "print(\"\\n Reshaped 2x5 Array : \\n\", reshape_2x5)\n",
        "\n",
        "reshape_5x2 = array1.reshape(5, 2)\n",
        "print(\"\\n Reshaped 5x2 Array : \\n\", reshape_5x2)"
      ],
      "metadata": {
        "colab": {
          "base_uri": "https://localhost:8080/"
        },
        "id": "zuswacwWrVfL",
        "outputId": "941d24e8-2ea7-415d-968c-5739c90fc02a"
      },
      "execution_count": null,
      "outputs": [
        {
          "output_type": "stream",
          "name": "stdout",
          "text": [
            "Original 1D Array : \n",
            " [0 1 2 3 4 5 6 7 8 9]\n",
            "\n",
            " Reshaped 2x5 Array : \n",
            " [[0 1 2 3 4]\n",
            " [5 6 7 8 9]]\n",
            "\n",
            " Reshaped 5x2 Array : \n",
            " [[0 1]\n",
            " [2 3]\n",
            " [4 5]\n",
            " [6 7]\n",
            " [8 9]]\n"
          ]
        }
      ]
    },
    {
      "cell_type": "code",
      "source": [
        "# 3. Create a 4x4 NumPy array with random float values. Add a border of zeros around it, resulting in a 6x6 array.\n",
        "\n",
        "import numpy as np\n",
        "\n",
        "array1 = np.random.rand(4, 4)\n",
        "print(\"Original 4x4 Array : \\n\", array1)\n",
        "\n",
        "array_border = np.pad(array1, pad_width = 1, mode = 'constant', constant_values = 0)\n",
        "\n",
        "print(\"\\n 6x6 Array with border 0 : \\n\", array_border)"
      ],
      "metadata": {
        "colab": {
          "base_uri": "https://localhost:8080/"
        },
        "id": "IcHP_1Otr4F4",
        "outputId": "64bd56af-5463-4ffc-fbaf-1eb281f9dcc8"
      },
      "execution_count": null,
      "outputs": [
        {
          "output_type": "stream",
          "name": "stdout",
          "text": [
            "Original 4x4 Array : \n",
            " [[0.53435733 0.90728663 0.84298865 0.17068102]\n",
            " [0.91552389 0.18838935 0.61732187 0.13022829]\n",
            " [0.58003899 0.45412995 0.18356513 0.43902468]\n",
            " [0.16100157 0.8709022  0.27592673 0.95539315]]\n",
            "\n",
            " 6x6 Array with border 0 : \n",
            " [[0.         0.         0.         0.         0.         0.        ]\n",
            " [0.         0.53435733 0.90728663 0.84298865 0.17068102 0.        ]\n",
            " [0.         0.91552389 0.18838935 0.61732187 0.13022829 0.        ]\n",
            " [0.         0.58003899 0.45412995 0.18356513 0.43902468 0.        ]\n",
            " [0.         0.16100157 0.8709022  0.27592673 0.95539315 0.        ]\n",
            " [0.         0.         0.         0.         0.         0.        ]]\n"
          ]
        }
      ]
    },
    {
      "cell_type": "code",
      "source": [
        "# 4. Using NumPy, create an array of integers from 10 to 60 with a step of 5.\n",
        "\n",
        "import numpy as np\n",
        "\n",
        "array1 = np.arange(10, 61, 5)\n",
        "\n",
        "print(\"Array of integers from 10 to 60 with a step of 5 : \\n\", array1)"
      ],
      "metadata": {
        "colab": {
          "base_uri": "https://localhost:8080/"
        },
        "id": "bzGZRDQDtZUB",
        "outputId": "ffbca1ad-a44b-4b6a-b415-ae15dbd46207"
      },
      "execution_count": null,
      "outputs": [
        {
          "output_type": "stream",
          "name": "stdout",
          "text": [
            "Array of integers from 10 to 60 with a step of 5 : \n",
            " [10 15 20 25 30 35 40 45 50 55 60]\n"
          ]
        }
      ]
    },
    {
      "cell_type": "code",
      "source": [
        "# 5. Create a NumPy array of strings ['python', 'numpy', 'pandas']. Apply different case transformations (uppercase, lowercase, title case, etc.) to each element.\n",
        "\n",
        "import numpy as np\n",
        "\n",
        "array1  = np.array(['python', 'numpy', 'pandas'])\n",
        "\n",
        "upper_case = np.char.upper(array1)\n",
        "lower_case = np.char.lower(array1)\n",
        "title_case = np.char.title(array1)\n",
        "capitalize_case = np.char.capitalize(array1)\n",
        "\n",
        "print(\"Original Array:\\n\", array1)\n",
        "print(\"\\nUppercase:\\n\", upper_case)\n",
        "print(\"\\nLowercase:\\n\", lower_case)\n",
        "print(\"\\nTitle Case:\\n\", title_case)\n",
        "print(\"\\nCapitalize Case:\\n\", capitalize_case)"
      ],
      "metadata": {
        "colab": {
          "base_uri": "https://localhost:8080/"
        },
        "id": "FynEdPf1yvzx",
        "outputId": "81b52c0b-92da-478b-84f0-c39ee4e8a23d"
      },
      "execution_count": null,
      "outputs": [
        {
          "output_type": "stream",
          "name": "stdout",
          "text": [
            "Original Array:\n",
            " ['python' 'numpy' 'pandas']\n",
            "\n",
            "Uppercase:\n",
            " ['PYTHON' 'NUMPY' 'PANDAS']\n",
            "\n",
            "Lowercase:\n",
            " ['python' 'numpy' 'pandas']\n",
            "\n",
            "Title Case:\n",
            " ['Python' 'Numpy' 'Pandas']\n",
            "\n",
            "Capitalize Case:\n",
            " ['Python' 'Numpy' 'Pandas']\n"
          ]
        }
      ]
    },
    {
      "cell_type": "code",
      "source": [
        "# 6. Generate a NumPy array of words. Insert a space between each character of every word in the array.\n",
        "\n",
        "import numpy as np\n",
        "\n",
        "array1 = np.array(['hello', 'numpy', 'world'])\n",
        "\n",
        "space_words = np.char.join(' ', array1)\n",
        "\n",
        "print(\"Original Array:\\n\", array1)\n",
        "print(\"\\nArray with Spaces:\\n\", space_words)"
      ],
      "metadata": {
        "colab": {
          "base_uri": "https://localhost:8080/"
        },
        "id": "1r4PXsfW0iz3",
        "outputId": "18622cd3-848e-4f32-d821-e5a553514c67"
      },
      "execution_count": null,
      "outputs": [
        {
          "output_type": "stream",
          "name": "stdout",
          "text": [
            "Original Array:\n",
            " ['hello' 'numpy' 'world']\n",
            "\n",
            "Array with Spaces:\n",
            " ['h e l l o' 'n u m p y' 'w o r l d']\n"
          ]
        }
      ]
    },
    {
      "cell_type": "code",
      "source": [
        "# 7. Create two 2D NumPy arrays and perform element-wise addition, subtraction, multiplication, and division.\n",
        "\n",
        "import numpy as np\n",
        "\n",
        "array1 = np.array([[1, 2, 3],\n",
        "                   [4, 5, 6],\n",
        "                   [7, 8, 9]])\n",
        "\n",
        "array2 = np.array([[9, 8, 7],\n",
        "                   [6, 5, 4],\n",
        "                   [3, 2, 1]])\n",
        "\n",
        "addition = array1 + array2\n",
        "subtraction = array1 - array2\n",
        "multiplication = array1 * array2\n",
        "division = array1 / array2\n",
        "\n",
        "print(\"Array 1 : \\n \", array1)\n",
        "print(\"\\n Array 2 : \\n \", array2)\n",
        "\n",
        "print(\"\\n Addition:\\n\", addition)\n",
        "print(\"\\n Subtraction:\\n\", subtraction)\n",
        "print(\"\\n Multiplication:\\n\", multiplication)\n",
        "print(\"\\n Division:\\n\", division)"
      ],
      "metadata": {
        "colab": {
          "base_uri": "https://localhost:8080/"
        },
        "id": "UhkXe6952G2F",
        "outputId": "21fde16a-d9ee-4ae0-f205-470e46a6f71f"
      },
      "execution_count": null,
      "outputs": [
        {
          "output_type": "stream",
          "name": "stdout",
          "text": [
            "Array 1 : \n",
            "  [[1 2 3]\n",
            " [4 5 6]\n",
            " [7 8 9]]\n",
            "\n",
            " Array 2 : \n",
            "  [[9 8 7]\n",
            " [6 5 4]\n",
            " [3 2 1]]\n",
            "\n",
            " Addition:\n",
            " [[10 10 10]\n",
            " [10 10 10]\n",
            " [10 10 10]]\n",
            "\n",
            " Subtraction:\n",
            " [[-8 -6 -4]\n",
            " [-2  0  2]\n",
            " [ 4  6  8]]\n",
            "\n",
            " Multiplication:\n",
            " [[ 9 16 21]\n",
            " [24 25 24]\n",
            " [21 16  9]]\n",
            "\n",
            " Division:\n",
            " [[0.11111111 0.25       0.42857143]\n",
            " [0.66666667 1.         1.5       ]\n",
            " [2.33333333 4.         9.        ]]\n"
          ]
        }
      ]
    },
    {
      "cell_type": "code",
      "source": [
        "# 8. Use NumPy to create a 5x5 identity matrix, then extract its diagonal elements.\n",
        "\n",
        "import numpy as np\n",
        "\n",
        "array1 = np.eye(5)\n",
        "\n",
        "print(\"5x5 Identity Matrix : \\n \", array1)\n",
        "\n",
        "diagonal_element = np.diagonal(array1)\n",
        "\n",
        "print(\"\\n Diagonal elements : \\n\", diagonal_element)"
      ],
      "metadata": {
        "colab": {
          "base_uri": "https://localhost:8080/"
        },
        "id": "eSYnrg5q3rBg",
        "outputId": "5f5fa844-48af-4c0a-e02d-ae013de3aef9"
      },
      "execution_count": null,
      "outputs": [
        {
          "output_type": "stream",
          "name": "stdout",
          "text": [
            "5x5 Identity Matrix : \n",
            "  [[1. 0. 0. 0. 0.]\n",
            " [0. 1. 0. 0. 0.]\n",
            " [0. 0. 1. 0. 0.]\n",
            " [0. 0. 0. 1. 0.]\n",
            " [0. 0. 0. 0. 1.]]\n",
            "\n",
            " Diagonal elements : \n",
            " [1. 1. 1. 1. 1.]\n"
          ]
        }
      ]
    },
    {
      "cell_type": "code",
      "source": [
        "# 9. Generate a NumPy array of 100 random integers between 0 and 1000. Find and display all prime numbers in this array.\n",
        "\n",
        "import numpy as np\n",
        "\n",
        "array1 = np.random.randint(0, 1001, size = 100)\n",
        "\n",
        "def prime_no(n):\n",
        "  if n <= 1:\n",
        "    return False\n",
        "  for i in range(2, int(n**0.5) + 1):\n",
        "    if n % i == 0:\n",
        "      return False\n",
        "  return True\n",
        "\n",
        "numbers = [num for num in array1 if prime_no(num)]\n",
        "\n",
        "print(\"Random Integers : \\n\", array1)\n",
        "print(\"\\n Prime Numbers in the Array : \\n\", numbers)"
      ],
      "metadata": {
        "colab": {
          "base_uri": "https://localhost:8080/"
        },
        "id": "RaWVyYGm6w-O",
        "outputId": "f988ed3b-78b5-49f6-81e6-70f35cec74e8"
      },
      "execution_count": null,
      "outputs": [
        {
          "output_type": "stream",
          "name": "stdout",
          "text": [
            "Random Integers : \n",
            " [249 217 486 400 636 703 836 747 388 968 350 878 526 194 489 549 305 797\n",
            " 217 354 353 210 779 845 610 827 550 633 583 241 205 225 753 103 498 259\n",
            "  60 308  12 796 411 594 144 533 659 349 968 307 181 955 513 217 155 405\n",
            " 121 137 919 678 224 901 831 849 340 949 253 717 132 585 498 368 187 793\n",
            " 778 900  38 566 413 131 141 754 686 511 669 241 942 137 490 121 745 307\n",
            " 551  78 718 493 655 300 572 636  89 108]\n",
            "\n",
            " Prime Numbers in the Array : \n",
            " [797, 353, 827, 241, 103, 659, 349, 307, 181, 137, 919, 131, 241, 137, 307, 89]\n"
          ]
        }
      ]
    },
    {
      "cell_type": "code",
      "source": [
        "# 10. Create a NumPy array representing daily temperatures for a month. Calculate and display the weekly averages.\n",
        "\n",
        "import numpy as np\n",
        "\n",
        "daily_temperature = np.random.uniform(0, 35, size = 30)\n",
        "\n",
        "print(\"Daily Temperature for the month : \\n\", daily_temperature)\n",
        "\n",
        "weekly_temperature =np.pad(daily_temperature, (0, 7 - (daily_temperature.size % 7)), constant_values=np.nan).reshape(-1, 7)\n",
        "\n",
        "weekly_averages = np.nanmean(weekly_temperature, axis = 1)\n",
        "\n",
        "print(\"\\n Weekly Averages : \\n\", weekly_averages)"
      ],
      "metadata": {
        "colab": {
          "base_uri": "https://localhost:8080/"
        },
        "id": "iqbEZ2CS95GJ",
        "outputId": "d3de4c30-dda9-4346-dcd4-aab0aeea8558"
      },
      "execution_count": null,
      "outputs": [
        {
          "output_type": "stream",
          "name": "stdout",
          "text": [
            "Daily Temperature for the month : \n",
            " [30.72464584 10.89507551  0.58300454 18.28952438 12.21358335 22.25808681\n",
            " 16.04311602  1.53555702 14.31262082 15.96219336 28.44015965 13.17569425\n",
            " 24.82627109 20.79160763  2.76075728 13.72279931  5.8549556  10.99011094\n",
            "  6.65544064 25.83694956  4.32422976 17.19253803  0.95463779 16.47068934\n",
            "  0.85386251  7.87979578  9.71432943 30.45973895 19.00119059  2.08604179]\n",
            "\n",
            " Weekly Averages : \n",
            " [15.85814806 17.00630055 10.02074901 11.9322274  10.54361619]\n"
          ]
        }
      ]
    }
  ]
}