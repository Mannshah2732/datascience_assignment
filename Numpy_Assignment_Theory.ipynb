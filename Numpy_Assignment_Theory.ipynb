{
  "nbformat": 4,
  "nbformat_minor": 0,
  "metadata": {
    "colab": {
      "provenance": [],
      "authorship_tag": "ABX9TyOldGSg2WXH5YSGsqeZLwwO",
      "include_colab_link": true
    },
    "kernelspec": {
      "name": "python3",
      "display_name": "Python 3"
    },
    "language_info": {
      "name": "python"
    }
  },
  "cells": [
    {
      "cell_type": "markdown",
      "metadata": {
        "id": "view-in-github",
        "colab_type": "text"
      },
      "source": [
        "<a href=\"https://colab.research.google.com/github/Mannshah2732/datascience_assignment/blob/main/Numpy_Assignment_Theory.ipynb\" target=\"_parent\"><img src=\"https://colab.research.google.com/assets/colab-badge.svg\" alt=\"Open In Colab\"/></a>"
      ]
    },
    {
      "cell_type": "markdown",
      "source": [
        "**Theoretical** **Questions**"
      ],
      "metadata": {
        "id": "2q_M2sB8IRRj"
      }
    },
    {
      "cell_type": "markdown",
      "source": [
        "1. Explain the purpose and advantages of NumPy in scientific computing and data analysis. How does it enhance Python's capabilities for numerical operations?\n",
        "\n",
        "* Numpy is a fundamental library in Python for scientific computing.\n",
        "*  It offers powerful features for working with multidimensional arrays and performing various mathematical operations efficiently.\n",
        "\n",
        "\n",
        "# Purpose of Numpy\n",
        "\n",
        "**Array** **Handling** :\n",
        "* Numpy introduces the ndarray(n-dimensional array)\n",
        "object, which is more efficient than Python's built-in lists for numerical data.\n",
        "* These arrays can hold various data types and are optimized for performance.\n",
        "\n",
        "**Mathematical** **Functions** :  \n",
        "* It includes a vast array of mathematical functions that allow for element-wise operations on arrays, making complex calculations straightforward.\n",
        "\n",
        "**Linear** **Algebra** :\n",
        "* NumPy provides functions for linear algebra, such as matrix, which is essential in many scientific applications.\n",
        "\n",
        "**Random** **Number** **Generation** :\n",
        "* It has a submodule for generating random numbers, which is useful in simulations and statistical analyses.\n",
        "\n",
        "\n",
        "# Advantages of Numpy\n",
        "\n",
        "**Performance** :\n",
        "* NumPy is implemented in C, which makes it significantly faster than pure Python for numerical operations.\n",
        "\n",
        "**Memory Efficiency** :\n",
        "* NumPy arrays are more memory-efficient than Python lists because they store data in contiguous memory blocks.\n",
        "\n",
        "**Broadcasting** :\n",
        "* This feature allows NumPy to perform arithmetic operations on arrays of different shapes, making it easier to write concise and readable code.\n",
        "\n",
        "**Ease of Use** :\n",
        "* Despite its power, NumPy is relatively easy to learn and use, especially for those familiar with Python.\n",
        "\n",
        "# Enhancing Python's Capabilities\n",
        "\n",
        "**Providing a High-Level Interface** :\n",
        "* It simplifies operations on large datasets, allowing users to perform complex calculations with minimal code.\n",
        "\n",
        "**Vectorization** :\n",
        "* By allowing operations on entire arrays rather than individual elements, NumPy eliminates the need for slow Python loops, speeding up computations.\n",
        "\n",
        "**Rich Data Types**:\n",
        "* It supports a wide variety of data types, including integers, floats, complex numbers, and more, which can be specified when creating arrays."
      ],
      "metadata": {
        "id": "MdhjEN1tIhji"
      }
    },
    {
      "cell_type": "markdown",
      "source": [
        "2. Compare and contrast np.mean() and np.average() functions in NumPy. When would you use one over the other?\n",
        "\n",
        "* Both np.mean() and np.average() are used to compute the average of an array, but they have different functionalities and use cases.\n",
        "\n",
        "# np.mean()\n",
        "\n",
        "* **Functionality** : Computes the arithmetic mean (average) of an array along a specified axis.\n",
        "* **Syntax** : np.mean(data)\n",
        "* **Use Case** : Use np.mean() when you simply want the arithmetic mean of the values in an array without needing to consider weights.\n",
        "\n",
        "# np.average()\n",
        "\n",
        "* **Functionality** :  Computes a weighted average of an array, allowing you to specify weights.\n",
        "* **Syntax** : np.average(data)\n",
        "* **Use Case** : Use np.average() when you need to compute an average with specific weights assigned to different elements, allowing for more nuanced calculations.\n",
        "\n",
        "# Example"
      ],
      "metadata": {
        "id": "K10hoeW7W72s"
      }
    },
    {
      "cell_type": "code",
      "source": [
        "import numpy as np\n",
        "\n",
        "data = np.array([1, 2, 3, 4])\n",
        "\n",
        "mean_value = np.mean(data)\n",
        "print(mean_value)\n",
        "\n",
        "average_value = np.average(data)\n",
        "print(average_value)\n",
        "\n",
        "weights = np.array([0.1, 0.2, 0.3, 0.4])  # Last element is weighted more\n",
        "weighted_average = np.average(data, weights=weights)  # Returns 4.0\n",
        "print(weighted_average)"
      ],
      "metadata": {
        "id": "DVmwaU3nXA0l",
        "colab": {
          "base_uri": "https://localhost:8080/"
        },
        "outputId": "79d14586-2d9d-46d3-d5a5-49ee1f7de15e"
      },
      "execution_count": null,
      "outputs": [
        {
          "output_type": "stream",
          "name": "stdout",
          "text": [
            "2.5\n",
            "2.5\n",
            "3.0\n"
          ]
        }
      ]
    },
    {
      "cell_type": "markdown",
      "source": [
        "3. Describe the methods for reversing a NumPy array along different axes. Provide examples for 1D and 2D arrays.\n",
        "\n",
        "* Reversing a NumPy array can be done along different axes using slicing or specific functions. Below are methods to reverse both 1D and 2D arrays.\n",
        "* Reversing a 1D Array\n",
        "* Example :"
      ],
      "metadata": {
        "id": "nf5wlpN2mE73"
      }
    },
    {
      "cell_type": "code",
      "source": [
        "import numpy as np\n",
        "\n",
        "arr_1d = np.array([1, 2, 3, 4, 5])\n",
        "\n",
        "reversed_arr_1d = arr_1d[::-1]\n",
        "\n",
        "print(\"Original 1D array : \", arr_1d)\n",
        "print(\"Reversed 1D array : \", reversed_arr_1d)"
      ],
      "metadata": {
        "colab": {
          "base_uri": "https://localhost:8080/"
        },
        "id": "QtxaZLjznive",
        "outputId": "631e46df-e6b2-4c1c-cacb-9c27f9095234"
      },
      "execution_count": null,
      "outputs": [
        {
          "output_type": "stream",
          "name": "stdout",
          "text": [
            "Original 1D array :  [1 2 3 4 5]\n",
            "Reversed 1D array :  [5 4 3 2 1]\n"
          ]
        }
      ]
    },
    {
      "cell_type": "markdown",
      "source": [
        "# Reversing a 2D Array\n",
        "\n",
        "* For a 2D array, you can reverse along different axes using slicing. You can specify which axis to reverse along:\n",
        "\n",
        "* **Reverse along the rows (axis 0)** : This flips the array vertically.\n",
        "\n",
        "* **Reverse along the columns (axis 1)** : This flips the array horizontally.\n",
        "* Example :"
      ],
      "metadata": {
        "id": "pZ0iLMHfoHMx"
      }
    },
    {
      "cell_type": "code",
      "source": [
        "import numpy as np\n",
        "\n",
        "arr_2d = np.array([[1, 2, 3],\n",
        "                  [4, 5, 6],\n",
        "                  [7, 8, 9]])\n",
        "\n",
        "reversed_rows = arr_2d[::-1, :]\n",
        "\n",
        "reversed_columns = arr_2d[:, ::-1]\n",
        "\n",
        "print(\"Original 2D array:\\n\", arr_2d)\n",
        "print(\"Reversed along rows (axis 0):\\n\", reversed_rows)\n",
        "print(\"Reversed along columns (axis 1):\\n\", reversed_columns)"
      ],
      "metadata": {
        "colab": {
          "base_uri": "https://localhost:8080/"
        },
        "id": "0oDEkQYRoEj0",
        "outputId": "e4f7e06d-e88e-4331-e3e9-89b2d92d15d9"
      },
      "execution_count": null,
      "outputs": [
        {
          "output_type": "stream",
          "name": "stdout",
          "text": [
            "Original 2D array:\n",
            " [[1 2 3]\n",
            " [4 5 6]\n",
            " [7 8 9]]\n",
            "Reversed along rows (axis 0):\n",
            " [[7 8 9]\n",
            " [4 5 6]\n",
            " [1 2 3]]\n",
            "Reversed along columns (axis 1):\n",
            " [[3 2 1]\n",
            " [6 5 4]\n",
            " [9 8 7]]\n"
          ]
        }
      ]
    },
    {
      "cell_type": "markdown",
      "source": [
        "4. How can you determine the data type of elements in a NumPy array? Discuss the importance of data types in memory management and performance.\n",
        "\n",
        "* In NumPy, you can determine the data type of elements in an array using the .dtype attribute.\n",
        "* This attribute returns a NumPy data type object that describes the type of the elements in the array.\n",
        "\n",
        "* Example :"
      ],
      "metadata": {
        "id": "XqCQC2MxpMUd"
      }
    },
    {
      "cell_type": "code",
      "source": [
        "import numpy as np\n",
        "\n",
        "arr = np.array([1, 2, 3])\n",
        "\n",
        "check_data_type = arr.dtype\n",
        "\n",
        "print(\"Data type of the array : \", check_data_type)"
      ],
      "metadata": {
        "colab": {
          "base_uri": "https://localhost:8080/"
        },
        "id": "iziwJdHEtml-",
        "outputId": "49a618d4-71cb-4043-acbf-1eba3166ecf2"
      },
      "execution_count": null,
      "outputs": [
        {
          "output_type": "stream",
          "name": "stdout",
          "text": [
            "Data type of the array :  int64\n"
          ]
        }
      ]
    },
    {
      "cell_type": "markdown",
      "source": [
        "# Importance of Data Types in Memory Management and Performance\n",
        "\n",
        "1. **Memory Efficiency** :\n",
        "\n",
        "* Different data types consume different amounts of memory. For example, int32 uses 4 bytes, while int64 uses 8 bytes.\n",
        "* When you create an array, choosing a smaller data type (like np.int8 for small integers) can save significant memory, especially in large datasets.\n",
        "\n",
        "2. **Performance** :\n",
        "\n",
        "* Operations on smaller data types can be faster due to reduced data movement and caching effects.\n",
        "* For instance, performing operations on float32 arrays can be more efficient than on float64 arrays in certain applications.\n",
        "* Vectorized operations in NumPy are optimized for specific data types, allowing for more efficient computations.\n",
        "\n",
        "3. **Precision and Range** :\n",
        "\n",
        "* Different data types have different ranges and precisions. For example, float32 has less precision compared to float64, which could lead to inaccuracies in calculations if the data type is not chosen appropriately for the task.\n",
        "\n",
        "4. **Type Safety** :\n",
        "\n",
        "* Specifying data types can help catch errors early in the development process. If you expect a certain type but provide a different one, it can lead to exceptions or incorrect calculations."
      ],
      "metadata": {
        "id": "me_7T3wtui03"
      }
    },
    {
      "cell_type": "markdown",
      "source": [
        "5. Define ndarrays in NumPy and explain their key features. How do they differ from standard Python lists?\n",
        "\n",
        "* In NumPy, ndarrays (N-dimensional arrays) are the core data structure used to store and manipulate numerical data efficiently.\n",
        "* They provide a powerful way to work with multi-dimensional data. Here are their key features and how they differ from standard Python lists.\n",
        "\n",
        "# **Key Features of ndarrays**\n",
        "\n",
        "1. Homogeneous Data :\n",
        "\n",
        "* All elements in an ndarray must be of the same data type, which allows for optimized performance and memory usage.\n",
        "\n",
        "2. Multi-dimensional :\n",
        "\n",
        "* Ndarrays can represent arrays of any dimensionality (1D, 2D, 3D, etc.), enabling the handling of complex data structures such as matrices and tensors.\n",
        "\n",
        "3. Fixed Size :\n",
        "\n",
        "* The size of an ndarray is fixed upon creation. This contrasts with lists, which can dynamically resize.\n",
        "\n",
        "4. Efficient Memory Layout :\n",
        "\n",
        "* Ndarrays are stored in contiguous blocks of memory, which enhances performance when performing operations on large datasets.\n",
        "\n",
        "5. Broadcasting :\n",
        "\n",
        "* Ndarrays support broadcasting, which allows for operations between arrays of different shapes in a way that expands one or both arrays to make their shapes compatible.\n",
        "\n",
        "# **Differences from Standard Python Lists**\n",
        "\n",
        "1. Data Type :\n",
        "\n",
        "* Python lists can contain mixed data types (integers, strings, objects, etc.), whereas ndarrays are homogeneous, containing elements of the same type.\n",
        "\n",
        "2. Performance :\n",
        "\n",
        "* Ndarrays are generally more efficient for numerical computations than lists due to their optimized data structure and contiguous memory allocation.\n",
        "\n",
        "3. Functionality :\n",
        "\n",
        "* While lists provide basic functionalities (append, insert, etc.), ndarrays come with a vast library of mathematical functions and array manipulation capabilities.\n",
        "\n",
        "4. Dimensionality :\n",
        "\n",
        "* Lists can be nested to create multi-dimensional structures (e.g., lists of lists), but this is less efficient and not as straightforward as using ndarrays.\n",
        "\n",
        "5. Memory Consumption :\n",
        "\n",
        "* Ndarrays require less memory overhead compared to lists due to their fixed size and homogeneous nature.\n",
        "\n",
        "# Example:"
      ],
      "metadata": {
        "id": "mmZVKzgiw1K5"
      }
    },
    {
      "cell_type": "code",
      "source": [
        "import numpy as np\n",
        "\n",
        "# Using pythonl ist\n",
        "data1 = [1, 2, 3, 4]\n",
        "squared = [i ** 2 for i in data1]\n",
        "print(\"Squared list : \", squared)\n",
        "\n",
        "# Using Numpy ndarray\n",
        "data2 = np.array([1, 2, 3, 4])\n",
        "squared = data2 ** 2\n",
        "print(\"Squared ndarray : \", squared)"
      ],
      "metadata": {
        "colab": {
          "base_uri": "https://localhost:8080/"
        },
        "id": "3w6na2ByzXCT",
        "outputId": "950ed9d4-1ed7-410c-e43c-e7e9b6097826"
      },
      "execution_count": null,
      "outputs": [
        {
          "output_type": "stream",
          "name": "stdout",
          "text": [
            "Squared list :  [1, 4, 9, 16]\n",
            "Squared ndarray :  [ 1  4  9 16]\n"
          ]
        }
      ]
    },
    {
      "cell_type": "markdown",
      "source": [
        "6. Analyze the performance benefits of NumPy arrays over Python lists for large-scale numerical operations.\n",
        "\n",
        " 1. Contiguous Memory Allocation :\n",
        "\n",
        "* Efficiency : NumPy arrays are stored in contiguous blocks of memory, which allows for better cache utilization. This is crucial for performance, especially when processing large datasets.\n",
        "\n",
        "* Python Lists : Lists are arrays of pointers to objects, leading to scattered memory allocation, which increases memory overhead and can slow down access times.\n",
        "\n",
        " 2. Homogeneous Data Types :\n",
        "\n",
        "* Speed : All elements in a NumPy array are of the same type, enabling NumPy to perform operations more efficiently using low-level optimizations.\n",
        "\n",
        "* Python Lists : Lists can contain mixed data types, which requires additional overhead to check types during operations, making them slower for numerical tasks.\n",
        "\n",
        " 3. Vectorized Operations :\n",
        "\n",
        "* Element-wise Operations : NumPy supports vectorization, allowing for operations on entire arrays without explicit loops.\n",
        "\n",
        "* Python Lists : Similar operations require manual iteration (e.g., using for-loops or list comprehensions), which are slower due to the interpreted nature of Python.\n",
        "\n",
        " 4. Broadcasting :\n",
        "\n",
        "* Flexibility : NumPy’s broadcasting allows for operations between arrays of different shapes, eliminating the need for reshaping or duplicating data manually. This feature enhances performance and reduces memory usage.\n",
        "\n",
        "* Python Lists : Lists do not support broadcasting, requiring manual handling of dimensions and operations, which is cumbersome and inefficient.\n",
        "\n",
        " 5. Reduce Overhead :   \n",
        "\n",
        "* Lower Memory Usage : The fixed size of NumPy arrays (compared to the dynamic resizing of lists) leads to lower memory overhead and less fragmentation.\n",
        "\n",
        "* Memory Management : NumPy's design allows for more efficient use of memory through its data type system and array manipulations."
      ],
      "metadata": {
        "id": "yxYL7CsY2D1p"
      }
    },
    {
      "cell_type": "markdown",
      "source": [
        "7. Compare vstack() and hstack() functions in NumPy. Provide examples demonstrating their usage and output.\n",
        "\n",
        "* vstack() and hstack() are functions used to stack arrays vertically and horizontally, respectively.\n",
        "* Here’s a comparison of both, along with examples demonstrating their usage.\n",
        "\n",
        "# np.vstack()\n",
        "\n",
        "* Functionality : Stacks arrays in sequence vertically (row-wise).\n",
        "* Input Requirement : The arrays must have the same number of columns.\n",
        "\n",
        "* Example of vstack() :"
      ],
      "metadata": {
        "id": "6vQs7_Vu6wRI"
      }
    },
    {
      "cell_type": "code",
      "source": [
        "import numpy as np\n",
        "\n",
        "array1 = np.array([[1, 2, 3],\n",
        "                  [4, 5, 6]])\n",
        "\n",
        "array2 = np.array([[7, 8, 9],\n",
        "                   [10, 11, 12]])\n",
        "\n",
        "vertical_stack = np.vstack((array1, array2))\n",
        "\n",
        "print(\"Vertical Stack : \\n\", vertical_stack)"
      ],
      "metadata": {
        "colab": {
          "base_uri": "https://localhost:8080/"
        },
        "id": "yb2hkROM7MBw",
        "outputId": "43d5fee2-4fc4-4462-93c5-568b2bae38a8"
      },
      "execution_count": null,
      "outputs": [
        {
          "output_type": "stream",
          "name": "stdout",
          "text": [
            "Vertical Stack : \n",
            " [[ 1  2  3]\n",
            " [ 4  5  6]\n",
            " [ 7  8  9]\n",
            " [10 11 12]]\n"
          ]
        }
      ]
    },
    {
      "cell_type": "markdown",
      "source": [
        "# np.hstack()\n",
        "\n",
        "* Functionality : Stacks arrays in sequence horizontally (column-wise).\n",
        "* Input Requirement : The arrays must have the same number of rows.\n",
        "* Example of hstack() :"
      ],
      "metadata": {
        "id": "moUOlSWe8Wrg"
      }
    },
    {
      "cell_type": "code",
      "source": [
        "import numpy as np\n",
        "array1 = np.array([[1, 2, 3],\n",
        "                   [4, 5, 6]])\n",
        "\n",
        "array2 = np.array([[7, 8],\n",
        "                   [9, 10]])\n",
        "\n",
        "horizontal_stack = np.hstack((array1, array2))\n",
        "\n",
        "print(\"Horizontal Stack:\\n\", horizontal_stack)"
      ],
      "metadata": {
        "colab": {
          "base_uri": "https://localhost:8080/"
        },
        "id": "Ae_c385L75z5",
        "outputId": "af4ccab8-8c2f-4bf2-9729-7d849639c011"
      },
      "execution_count": null,
      "outputs": [
        {
          "output_type": "stream",
          "name": "stdout",
          "text": [
            "Horizontal Stack:\n",
            " [[ 1  2  3  7  8]\n",
            " [ 4  5  6  9 10]]\n"
          ]
        }
      ]
    },
    {
      "cell_type": "markdown",
      "source": [
        "8. Explain the differences between fliplr() and flipud() methods in NumPy, including their effects on various array dimensions.\n",
        "\n",
        "* the fliplr() and flipud() functions are used to flip arrays along specific axes.\n",
        "* Here's a detailed explanation of their differences and their effects on various array dimensions.\n",
        "\n",
        "# np.fliplr()\n",
        "\n",
        "* Functionality : Flips an array from left to right (i.e., along the second axis, which is the horizontal axis).\n",
        "\n",
        "* Input Requirement : Works on 2D arrays or higher. It essentially reverses the order of columns.\n",
        "\n",
        "* Example of fliplr() :"
      ],
      "metadata": {
        "id": "bM26gkvr9HYu"
      }
    },
    {
      "cell_type": "code",
      "source": [
        "import numpy as np\n",
        "\n",
        "array1 = np.array([[1, 2, 3],\n",
        "                   [4, 5, 6],\n",
        "                   [7, 8, 9]])\n",
        "\n",
        "flipped_lr = np.fliplr(array1)\n",
        "\n",
        "print(\"Original Array:\\n\", array1)\n",
        "print(\"Flipped Left-Right:\\n\", flipped_lr)"
      ],
      "metadata": {
        "colab": {
          "base_uri": "https://localhost:8080/"
        },
        "id": "LD-8pew-9o9p",
        "outputId": "205ed9a1-633a-4d19-8469-e9a31c9b8e6a"
      },
      "execution_count": null,
      "outputs": [
        {
          "output_type": "stream",
          "name": "stdout",
          "text": [
            "Original Array:\n",
            " [[1 2 3]\n",
            " [4 5 6]\n",
            " [7 8 9]]\n",
            "Flipped Left-Right:\n",
            " [[3 2 1]\n",
            " [6 5 4]\n",
            " [9 8 7]]\n"
          ]
        }
      ]
    },
    {
      "cell_type": "markdown",
      "source": [
        "# np.flipud()\n",
        "\n",
        "* Functionality : Flips an array upside down (i.e., along the first axis, which is the vertical axis).\n",
        "\n",
        "* Input Requirement : Works on 2D arrays or higher. It reverses the order of rows.\n",
        "\n",
        "* Example of flipud() :"
      ],
      "metadata": {
        "id": "fvmuP1xA-IlW"
      }
    },
    {
      "cell_type": "code",
      "source": [
        "import numpy as np\n",
        "\n",
        "array2 = np.array([[1, 2, 3],\n",
        "                   [4, 5, 6],\n",
        "                   [7, 8, 9]])\n",
        "\n",
        "flipped_up = np.flipud(array2)\n",
        "\n",
        "print(\"Original Array:\\n\", array2)\n",
        "print(\"Flipped Left-Right:\\n\", flipped_up)"
      ],
      "metadata": {
        "colab": {
          "base_uri": "https://localhost:8080/"
        },
        "id": "a_YgU4eG-Ewe",
        "outputId": "017a6964-15ce-4b6c-9441-021e7e66b4ba"
      },
      "execution_count": null,
      "outputs": [
        {
          "output_type": "stream",
          "name": "stdout",
          "text": [
            "Original Array:\n",
            " [[1 2 3]\n",
            " [4 5 6]\n",
            " [7 8 9]]\n",
            "Flipped Left-Right:\n",
            " [[7 8 9]\n",
            " [4 5 6]\n",
            " [1 2 3]]\n"
          ]
        }
      ]
    },
    {
      "cell_type": "markdown",
      "source": [
        "9. Discuss the functionality of the array_split() method in NumPy. How does it handle uneven splits?\n",
        "\n",
        "* The array_split() method in NumPy is used to split an array into multiple sub-arrays.\n",
        "* It is particularly useful when you want to divide an array into smaller chunks for processing, analysis, or any other purpose.\n",
        "\n",
        "# Functionality of array_split()\n",
        "\n",
        "* Syntax : numpy.array_split(data, indices, axis=0)\n",
        "* Parameters :\n",
        "\n",
        "* data : The input array to be split.\n",
        "* indices : This can be an integer specifying the number of equal splits or an array of indices at which to split.\n",
        "* axis : The axis along which to split the array. The default is 0 (the first axis).\n",
        "\n",
        "* Example :"
      ],
      "metadata": {
        "id": "XI0H_7CJ_KVf"
      }
    },
    {
      "cell_type": "code",
      "source": [
        "import numpy as np\n",
        "\n",
        "array = np.array([1, 2, 3, 4, 5, 6, 7, 8, 9])\n",
        "\n",
        "split_arrays = np.array_split(array, 3)\n",
        "\n",
        "# Split the array into 3 parts\n",
        "print(\"Original Array:\", array)\n",
        "print(\"Split Arrays:\", split_arrays)\n",
        "\n",
        "# Split the array into 4 parts\n",
        "split_arrays_uneven = np.array_split(array, 4)\n",
        "\n",
        "print(\"Original Array:\", array)\n",
        "print(\"Split Arrays (Uneven):\", split_arrays_uneven)"
      ],
      "metadata": {
        "colab": {
          "base_uri": "https://localhost:8080/"
        },
        "id": "cMEYRdvnAg2l",
        "outputId": "f6dde8d1-92bc-45b2-bd2c-6fd0fbc6827b"
      },
      "execution_count": null,
      "outputs": [
        {
          "output_type": "stream",
          "name": "stdout",
          "text": [
            "Original Array: [1 2 3 4 5 6 7 8 9]\n",
            "Split Arrays: [array([1, 2, 3]), array([4, 5, 6]), array([7, 8, 9])]\n",
            "Original Array: [1 2 3 4 5 6 7 8 9]\n",
            "Split Arrays (Uneven): [array([1, 2, 3]), array([4, 5]), array([6, 7]), array([8, 9])]\n"
          ]
        }
      ]
    },
    {
      "cell_type": "markdown",
      "source": [
        "10. Explain the concepts of vectorization and broadcasting in NumPy. How do they contribute to efficient array operations?\n",
        "\n",
        "* Vectorization and broadcasting are two key concepts in NumPy that significantly enhance the efficiency of array operations.\n",
        "\n",
        "# **Vectorization**\n",
        "\n",
        "* **Definition** : Vectorization refers to the practice of performing operations on entire arrays (or large blocks of data) without the need for explicit loops.\n",
        "\n",
        "* Benefits of Vectorization :\n",
        "\n",
        "1. Performance : Operations on whole arrays are executed faster because they leverage low-level optimizations and efficient memory access patterns.\n",
        "\n",
        "2. Code Simplicity : Vectorized code is often more concise and easier to read than equivalent code using loops.\n",
        "\n",
        "Example :"
      ],
      "metadata": {
        "id": "ogzpSTtfCFM9"
      }
    },
    {
      "cell_type": "code",
      "source": [
        "import numpy as np\n",
        "\n",
        "# Create two large arrays\n",
        "a = np.random.rand(1000000)\n",
        "b = np.random.rand(1000000)\n",
        "\n",
        "# Vectorized addition\n",
        "c = a + b\n",
        "print(c)"
      ],
      "metadata": {
        "colab": {
          "base_uri": "https://localhost:8080/"
        },
        "id": "sZLRVkUDCnZE",
        "outputId": "a02dbe47-8f21-45f3-b5ed-91bea26ba8d5"
      },
      "execution_count": null,
      "outputs": [
        {
          "output_type": "stream",
          "name": "stdout",
          "text": [
            "[0.92022994 0.4123877  0.76146428 ... 1.43933736 0.9718822  0.93646298]\n"
          ]
        }
      ]
    },
    {
      "cell_type": "markdown",
      "source": [
        "# **Broadcasting**\n",
        "\n",
        "* **Definition** : Broadcasting is a powerful mechanism that allows NumPy to perform operations on arrays of different shapes. It automatically expands the smaller array across the larger array so that they have compatible shapes for element-wise operations.\n",
        "\n",
        "* How Broadcasting Works :\n",
        "\n",
        "1. Dimension Alignment : When performing operations, NumPy aligns the dimensions of the arrays involved. If the arrays do not have the same number of dimensions, NumPy pads the smaller array's shape with ones on the left side.\n",
        "\n",
        "2. Expansion: If the sizes of the dimensions do not match, NumPy can stretch (or \"broadcast\") the smaller array to match the shape of the larger array, provided that:\n",
        "\n",
        "  * The dimensions are equal, or\n",
        "  * One of the dimensions is 1 (which allows it to be expanded).\n",
        "\n",
        "Example :"
      ],
      "metadata": {
        "id": "Z4YBzsDuC0wD"
      }
    },
    {
      "cell_type": "code",
      "source": [
        "import numpy as np\n",
        "\n",
        "# Create a 2D array (3x3)\n",
        "array_2d = np.array([[1, 2, 3],\n",
        "                     [4, 5, 6],\n",
        "                     [7, 8, 9]])\n",
        "\n",
        "# Create a 1D array\n",
        "array_1d = np.array([10, 20, 30])\n",
        "\n",
        "# Add the 1D array to each row of the 2D array\n",
        "result = array_2d + array_1d\n",
        "\n",
        "print(\"Result:\\n\", result)"
      ],
      "metadata": {
        "colab": {
          "base_uri": "https://localhost:8080/"
        },
        "id": "BRLN1_7tDfin",
        "outputId": "2f94b10a-10e9-4ca5-a2db-6d93e9de59c8"
      },
      "execution_count": null,
      "outputs": [
        {
          "output_type": "stream",
          "name": "stdout",
          "text": [
            "Result:\n",
            " [[11 22 33]\n",
            " [14 25 36]\n",
            " [17 28 39]]\n"
          ]
        }
      ]
    },
    {
      "cell_type": "markdown",
      "source": [
        "# **Contribution to Efficient Array Operations**\n",
        "\n",
        "1. Reduced Execution Time : Both vectorization and broadcasting lead to significant reductions in execution time for operations on large datasets.\n",
        "\n",
        "2. Memory Efficiency : Broadcasting avoids the need to create large intermediate arrays when performing operations between arrays of different shapes, thus conserving memory.\n",
        "\n",
        "3. Simplified Code : The use of vectorized operations and broadcasting leads to cleaner and more readable code, making it easier to implement complex mathematical computations without cumbersome loops."
      ],
      "metadata": {
        "id": "4sfIwaN_DqOA"
      }
    }
  ]
}