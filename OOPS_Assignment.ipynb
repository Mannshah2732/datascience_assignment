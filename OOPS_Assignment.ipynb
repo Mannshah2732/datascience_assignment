{
  "nbformat": 4,
  "nbformat_minor": 0,
  "metadata": {
    "colab": {
      "provenance": [],
      "authorship_tag": "ABX9TyNY97ZrR0043OuEXXXqwf9E",
      "include_colab_link": true
    },
    "kernelspec": {
      "name": "python3",
      "display_name": "Python 3"
    },
    "language_info": {
      "name": "python"
    }
  },
  "cells": [
    {
      "cell_type": "markdown",
      "metadata": {
        "id": "view-in-github",
        "colab_type": "text"
      },
      "source": [
        "<a href=\"https://colab.research.google.com/github/Mannshah2732/datascience_assignment/blob/main/OOPS_Assignment.ipynb\" target=\"_parent\"><img src=\"https://colab.research.google.com/assets/colab-badge.svg\" alt=\"Open In Colab\"/></a>"
      ]
    },
    {
      "cell_type": "markdown",
      "source": [
        "1. What are the five key concepts of Object-Oriented Programming (OOP)?\n",
        "\n",
        "* Object-Oriented Programming(oop) is a programming paradigm based on concepts of \"objects\", which can contain data and code to manipulate the data.\n",
        "* The five key concept of OOP are :\n",
        "\n",
        "* Encapsulation : This concept involves bundling the data (attributes) and methods (functions) that operate on the data into a single unit, called a class.This is typically achieved through access modifiers like private, protected, and public.\n",
        "\n",
        "* Abstraction :  Abstraction is the process of hiding complex implementation details and showing only the necessary features of an object.For example, an abstract class or interface defines the structure and behavior without specifying the detailed implementation.\n",
        "\n",
        "* Inheritance : Inheritance allows one class (the subclass or derived class) to inherit attributes and methods from another class (the superclass or base class).For instance, if you have a base class Animal, a derived class Dog can inherit characteristics and behaviors from Animal.\n",
        "\n",
        "* Polymorphism : Polymorphism means \"many shapes\" and allows objects to be treated as instances of their parent class rather than their actual class. It supports method overriding and method overloading. This enables objects to be manipulated through a common interface."
      ],
      "metadata": {
        "id": "YNNf23dqq5Et"
      }
    },
    {
      "cell_type": "code",
      "source": [
        "# 2. Write a Python class for a `Car` with attributes for `make`, `model`, and `year`. Include a method to display the car's information.\n",
        "\n",
        "class Car:\n",
        "  def __init__(self, make, model, year):\n",
        "    self.make = make\n",
        "    self.model = model\n",
        "    self.year = year\n",
        "\n",
        "  def display_info(self):\n",
        "    print(f\"Car Information : \")\n",
        "    print(f\"Make : {self.make}\")\n",
        "    print(f\"Model : {self.model}\")\n",
        "    print(f\"Year : {self.year}\")\n",
        "\n",
        "car1 = Car(\"Mercedes\", \"G-class\", 2024)\n",
        "car1.display_info()"
      ],
      "metadata": {
        "colab": {
          "base_uri": "https://localhost:8080/"
        },
        "id": "81BDFC6Iq4Yx",
        "outputId": "79d73236-549b-40a3-9760-b1d884ae9350"
      },
      "execution_count": 1,
      "outputs": [
        {
          "output_type": "stream",
          "name": "stdout",
          "text": [
            "Car Information : \n",
            "Make : Mercedes\n",
            "Model : G-class\n",
            "Year : 2024\n"
          ]
        }
      ]
    },
    {
      "cell_type": "markdown",
      "source": [
        "3. Explain the difference between instance methods and class methods. Provide an example of each.\n",
        "\n",
        "* Instance method : Instance methods are the most common type of methods in a python. They can operate on an instance of the class and can access and modify instance-specific data.\n",
        "* Operate on an instance of the class (self).\n",
        "* Access and modify instance attributes.\n",
        "* Example :"
      ],
      "metadata": {
        "id": "wUOezE5jrAoE"
      }
    },
    {
      "cell_type": "code",
      "execution_count": 2,
      "metadata": {
        "colab": {
          "base_uri": "https://localhost:8080/"
        },
        "id": "ZtGrR2_NqtFb",
        "outputId": "6e4e5fe0-110b-476d-9ba2-485c6f882f87"
      },
      "outputs": [
        {
          "output_type": "stream",
          "name": "stdout",
          "text": [
            "Car Information : \n",
            "Make : BMW\n",
            "Model : X7\n",
            "Year : 2023\n"
          ]
        }
      ],
      "source": [
        "# Example of instance method\n",
        "\n",
        "class Car:\n",
        "  def __init__(self, make, model, year):\n",
        "    self.make = make\n",
        "    self.model = model\n",
        "    self.year = year\n",
        "\n",
        "  def display_info(self):\n",
        "    print(f\"Car Information : \")\n",
        "    print(f\"Make : {self.make}\")\n",
        "    print(f\"Model : {self.model}\")\n",
        "    print(f\"Year : {self.year}\")\n",
        "\n",
        "car1 = Car(\"BMW\", \"X7\", 2023)\n",
        "car1.display_info()"
      ]
    },
    {
      "cell_type": "markdown",
      "source": [
        "* Class Method : Class methods are methods that are bound to the class rather than its instances. They are defined using the @classmethod decorator.\n",
        "* Operate on the class itself (cls).\n",
        "* Access and modify class attributes but not instance attributes.\n",
        "* Example :"
      ],
      "metadata": {
        "id": "lbw-S2YurG95"
      }
    },
    {
      "cell_type": "code",
      "source": [
        "class Car:\n",
        "  number_of_wheels = 4\n",
        "\n",
        "  def __init__(self, make, model, year):\n",
        "    self.make = make\n",
        "    self.model = model\n",
        "    self.year = year\n",
        "\n",
        "  def display_info(self):\n",
        "    print(f\"Car Information : \")\n",
        "    print(f\"Make : {self.make}\")\n",
        "    print(f\"Model : {self.model}\")\n",
        "    print(f\"Year : {self.year}\")\n",
        "\n",
        "  @classmethod\n",
        "  def display_no_of_wheels(cls):\n",
        "    print(f\"Number of wheels : {cls.number_of_wheels}\")\n",
        "\n",
        "Car.display_no_of_wheels()"
      ],
      "metadata": {
        "colab": {
          "base_uri": "https://localhost:8080/"
        },
        "id": "ankBn8YIrEEe",
        "outputId": "4e5fa5a5-abb1-4667-b619-c3d66fc4f88b"
      },
      "execution_count": 3,
      "outputs": [
        {
          "output_type": "stream",
          "name": "stdout",
          "text": [
            "Number of wheels : 4\n"
          ]
        }
      ]
    },
    {
      "cell_type": "markdown",
      "source": [
        "4. How does Python implement method overloading? Give an example.\n",
        "\n",
        "* Dynamic typing and Single Method Implementation : Python allows you to define a single method that can handle various types of inputs due to its dynamic typing system.\n",
        "* Default Arguments : We can default arguments to provide multiple ways to call a method.\n",
        "* Varible Lenght Agruments : We can use *args and **kwargs to accept a variable number of positional and keyword arguments.\n",
        "* Example of method overloading :"
      ],
      "metadata": {
        "id": "ZQYlKszRrNYz"
      }
    },
    {
      "cell_type": "code",
      "source": [
        "class MathOperations:\n",
        "  def add(self, *args):\n",
        "    if len(args) == 1:\n",
        "      return f\"Single number provided :{args[0]}\"\n",
        "\n",
        "    elif len(args) == 2:\n",
        "      return args[0] + args[1]\n",
        "\n",
        "    else:\n",
        "      return \"Unsupported number of arguments\"\n",
        "\n",
        "result = MathOperations()\n",
        "\n",
        "print(result.add(3))\n",
        "print(result.add(3, 8))\n",
        "print(result.add(3,8,9))"
      ],
      "metadata": {
        "colab": {
          "base_uri": "https://localhost:8080/"
        },
        "id": "2izKKfhhrKAa",
        "outputId": "d5a1bc30-640f-4b3c-fd43-14eba74661c8"
      },
      "execution_count": 4,
      "outputs": [
        {
          "output_type": "stream",
          "name": "stdout",
          "text": [
            "Single number provided :3\n",
            "11\n",
            "Unsupported number of arguments\n"
          ]
        }
      ]
    },
    {
      "cell_type": "markdown",
      "source": [
        "5. What are the three types of access modifiers in Python? How are they denoted?\n",
        "\n",
        "* There are three types of access modifiers in python.\n",
        "1. Public\n",
        "2. Protected\n",
        "3. Private\n",
        "\n",
        "* Public : No special notation is used. Members that are public can be accessed from anywhere, both inside and outside the class.\n",
        "* Example :"
      ],
      "metadata": {
        "id": "YlfAIggorSmc"
      }
    },
    {
      "cell_type": "code",
      "source": [
        "class MyClass:\n",
        "  def __init__(self):\n",
        "    self.public_attribute = \"I'm public!\"\n",
        "\n",
        "obj1 = MyClass()\n",
        "print(obj1.public_attribute)"
      ],
      "metadata": {
        "colab": {
          "base_uri": "https://localhost:8080/"
        },
        "id": "8ou_zIpTrQNm",
        "outputId": "9aa780ef-2687-43b6-990e-ebc43f570390"
      },
      "execution_count": 5,
      "outputs": [
        {
          "output_type": "stream",
          "name": "stdout",
          "text": [
            "I'm public!\n"
          ]
        }
      ]
    },
    {
      "cell_type": "markdown",
      "source": [
        "* Protected : A single underscore prefix (_). Members prefixed with a single underscore are considered protected.\n",
        "* This is a convention to indicate that these members are intended for internal use within the class and its subclasses.\n",
        "* They are not meant to be accessed directly from outside the class.\n",
        "* Example :"
      ],
      "metadata": {
        "id": "SHHIKMzyrYmI"
      }
    },
    {
      "cell_type": "code",
      "source": [
        "class MyClass:\n",
        "  def __init__(self):\n",
        "    self._protected_attribute = \"I'm protected!\"\n",
        "\n",
        "obj1 = MyClass()\n",
        "print(obj1._protected_attribute)"
      ],
      "metadata": {
        "colab": {
          "base_uri": "https://localhost:8080/"
        },
        "id": "XOiN2VH8rVzm",
        "outputId": "cf0ab18b-a267-4137-b467-1e008d86dc21"
      },
      "execution_count": 6,
      "outputs": [
        {
          "output_type": "stream",
          "name": "stdout",
          "text": [
            "I'm protected!\n"
          ]
        }
      ]
    },
    {
      "cell_type": "markdown",
      "source": [
        "* Private : A double underscore prefix (__). Members prefixed with double underscores are considered private.\n",
        "* This is a stronger indication that the member should not be accessed directly.\n",
        "* Example :"
      ],
      "metadata": {
        "id": "nD7vrnVtrfmZ"
      }
    },
    {
      "cell_type": "code",
      "source": [
        "class MyClass:\n",
        "  def __init__(self):\n",
        "    self.__private_attribute = \"I'm Private!\"\n",
        "\n",
        "obj1 = MyClass()\n",
        "print(obj1._MyClass__private_attribute)"
      ],
      "metadata": {
        "colab": {
          "base_uri": "https://localhost:8080/"
        },
        "id": "qbUwVUXqrbgq",
        "outputId": "f0428b14-0e6d-463e-d527-bcab1773047e"
      },
      "execution_count": 7,
      "outputs": [
        {
          "output_type": "stream",
          "name": "stdout",
          "text": [
            "I'm Private!\n"
          ]
        }
      ]
    },
    {
      "cell_type": "markdown",
      "source": [
        "6. Describe the five types of inheritance in Python. Provide a simple example of multiple inheritance.\n",
        "\n",
        "* There are five types of inheritance in python:\n",
        "1. Single Inheritance : A class inherits from a single parent class.\n",
        "\n",
        "2. Multiple Inheritance : A class inherits from more than one parent class. The child class inherits attributes and methods from all parent classes.\n",
        "\n",
        "3. Multilevel Inheritance : A class inherits from another class which is already derived from another class. This creates a chain of inheritance.\n",
        "\n",
        "4. Hierarchical Inheritance : Multiple classes inherit from a single parent class. All child classes share the same parent.\n",
        "\n",
        "5. Hybrid Inheritance :  A combination of two or more types of inheritance, such as multiple and multilevel inheritance. This can create complex hierarchies.\n",
        "\n",
        "* Example:\n"
      ],
      "metadata": {
        "id": "FTiryDL0rlmY"
      }
    },
    {
      "cell_type": "code",
      "source": [
        "# Multiple Inheritance\n",
        "\n",
        "class Parent1:\n",
        "  def display1(self):\n",
        "    print(\"In class parent1\")\n",
        "\n",
        "class Parent2:\n",
        "  def display2(self):\n",
        "    print(\"In class parent2\")\n",
        "\n",
        "class Child(Parent1, Parent2):\n",
        "  def display3(self):\n",
        "    print(\"In class child\")\n",
        "\n",
        "obj = Child()\n",
        "obj.display1()\n",
        "obj.display2()\n",
        "obj.display3()"
      ],
      "metadata": {
        "colab": {
          "base_uri": "https://localhost:8080/"
        },
        "id": "_hDEWPe2riC8",
        "outputId": "a6d89480-99df-4708-88cb-144954c34a7d"
      },
      "execution_count": 8,
      "outputs": [
        {
          "output_type": "stream",
          "name": "stdout",
          "text": [
            "In class parent1\n",
            "In class parent2\n",
            "In class child\n"
          ]
        }
      ]
    },
    {
      "cell_type": "markdown",
      "source": [
        "7. What is the Method Resolution Order (MRO) in Python? How can you retrieve it programmatically?\n",
        "\n",
        "* The Method Resolution Order (MRO) in Python determines the order in which base classes are looked up when searching for a method or attribute.\n",
        "* The MRO ensures a consistent and predictable way to resolve method names, following a specific algorithm.\n",
        "* This algorithm provides a way to merge multiple inheritance hierarchies while preserving the following rules:\n",
        "\n",
        "1. Parent First : The MRO starts with the parent classes listed in the class definition.\n",
        "\n",
        "2. Left-to-Right Order : If a class has multiple parents, the MRO respects the\n",
        "order in which the parents are listed.\n",
        "\n",
        "3. Preserve Order of Base Classes : The MRO ensures that each base class appears before its descendants.\n",
        "\n",
        "* Example :"
      ],
      "metadata": {
        "id": "Wxjio0bnrrYX"
      }
    },
    {
      "cell_type": "code",
      "source": [
        "class A:\n",
        "  def method(self):\n",
        "    print(\"Method in A\")\n",
        "\n",
        "class B(A):\n",
        "  def method(self):\n",
        "    print(\"Method in B\")\n",
        "\n",
        "class C(A):\n",
        "  def method(self):\n",
        "    print(\"Method in C\")\n",
        "\n",
        "class D(B, C):\n",
        "  pass\n",
        "\n",
        "# print mro\n",
        "print(D.mro())\n",
        "print(D.__mro__)\n",
        "\n",
        "d1 = D()\n",
        "d1.method()"
      ],
      "metadata": {
        "colab": {
          "base_uri": "https://localhost:8080/"
        },
        "id": "GZki2GUxroQL",
        "outputId": "e39c9750-4f3e-4d67-a559-e2b18e5643e2"
      },
      "execution_count": 9,
      "outputs": [
        {
          "output_type": "stream",
          "name": "stdout",
          "text": [
            "[<class '__main__.D'>, <class '__main__.B'>, <class '__main__.C'>, <class '__main__.A'>, <class 'object'>]\n",
            "(<class '__main__.D'>, <class '__main__.B'>, <class '__main__.C'>, <class '__main__.A'>, <class 'object'>)\n",
            "Method in B\n"
          ]
        }
      ]
    },
    {
      "cell_type": "code",
      "source": [
        "# 8. Create an abstract base class `Shape` with an abstract method `area()`. Then create two subclasses `Circle` and `Rectangle` that implement the `area()` method.\n",
        "\n",
        "\n",
        "from abc import ABC, abstractmethod\n",
        "import math\n",
        "\n",
        "class Shape(ABC):\n",
        "  @abstractmethod\n",
        "  def area(self):\n",
        "    pass\n",
        "\n",
        "class Circle(Shape):\n",
        "  def __init__(self,radius):\n",
        "    self.radius = radius\n",
        "\n",
        "  def area(self):\n",
        "    return math.pi * self.radius ** 2\n",
        "\n",
        "class Rectangle(Shape):\n",
        "  def __init__(self, width, height):\n",
        "    self.width = width\n",
        "    self.height = height\n",
        "\n",
        "  def area(self):\n",
        "    return self.width * self.height\n",
        "\n",
        "circle = Circle(7)\n",
        "rectangle = Rectangle(8,9)\n",
        "\n",
        "print(f\"Area of the circle : {circle.area()}\")\n",
        "print(f\"Area of the rectangle : {rectangle.area()}\")"
      ],
      "metadata": {
        "colab": {
          "base_uri": "https://localhost:8080/"
        },
        "id": "ksp1ZeHaruvu",
        "outputId": "552b35ae-fa61-4f5e-ed35-9cc280154031"
      },
      "execution_count": 10,
      "outputs": [
        {
          "output_type": "stream",
          "name": "stdout",
          "text": [
            "Area of the circle : 153.93804002589985\n",
            "Area of the rectangle : 72\n"
          ]
        }
      ]
    },
    {
      "cell_type": "code",
      "source": [
        "# 9. Demonstrate polymorphism by creating a function that can work with different shape objects to calculate and print their areas.\n",
        "\n",
        "from abc import ABC, abstractmethod\n",
        "import math\n",
        "\n",
        "class Shape(ABC):\n",
        "  @abstractmethod\n",
        "  def area(self):\n",
        "    pass\n",
        "\n",
        "class Circle(Shape):\n",
        "  def __init__(self, radius):\n",
        "    self.radius = radius\n",
        "\n",
        "  def area(self):\n",
        "    return math.pi * self.radius ** 2\n",
        "\n",
        "class Rectangle(Shape):\n",
        "  def __init__(self, width, height):\n",
        "    self.width = width\n",
        "    self.height = height\n",
        "\n",
        "  def area(self):\n",
        "    return self.width * self.height\n",
        "\n",
        "def print_area(shape: Shape):\n",
        "  print(f\" Area : {shape.area()}\")\n",
        "\n",
        "\n",
        "circle = Circle(7)\n",
        "rectangle = Rectangle(4, 8)\n",
        "\n",
        "print_area(circle)\n",
        "print_area(rectangle)"
      ],
      "metadata": {
        "colab": {
          "base_uri": "https://localhost:8080/"
        },
        "id": "zCxVdhHkrxih",
        "outputId": "cd32d1d5-403a-4b41-c594-5d7231924f89"
      },
      "execution_count": 11,
      "outputs": [
        {
          "output_type": "stream",
          "name": "stdout",
          "text": [
            " Area : 153.93804002589985\n",
            " Area : 32\n"
          ]
        }
      ]
    },
    {
      "cell_type": "code",
      "source": [
        "# 10. Implement encapsulation in a `BankAccount` class with private attributes for `balance` and `account_number`. Include methods for deposit, withdrawal, and balance inquiry.\n",
        "\n",
        "class BankAccount:\n",
        "  def __init__(self, account_number):\n",
        "    self.__account_number = account_number  # private attribute\n",
        "    self.__balance = 0.0\n",
        "\n",
        "  def depoist(self, amount):\n",
        "    if amount > 0:\n",
        "      self.__balance += amount\n",
        "      print(f\"Deposited : ${amount:.2f}. New balance : ${self.__balance:.2f}.\")\n",
        "    else:\n",
        "      print(\"Deposit amount must be positive.\")\n",
        "\n",
        "  def withdraw(self, amount):\n",
        "    if 0 < amount <= self.__balance:\n",
        "      self.__balance -= amount\n",
        "      print(f\"Withdraw: ${amount:.2f}. New balance: ${self.__balance:.2f}.\")\n",
        "    else:\n",
        "      print(\"Withdrawal amount must be positvie and less than or equal to the balance.\")\n",
        "\n",
        "  def get_balance(self):\n",
        "    return self.__balance\n",
        "\n",
        "  def get_account_number(self):\n",
        "    return self.__account_number\n",
        "\n",
        "account = BankAccount(\"12345678\")\n",
        "\n",
        "account.depoist(10000)\n",
        "account.withdraw(3000)\n",
        "print(f\"Account Balance: {account.get_balance():.2f}\")\n",
        "print(f\"Account Number: {account.get_account_number()}\")"
      ],
      "metadata": {
        "colab": {
          "base_uri": "https://localhost:8080/"
        },
        "id": "yR3dGGsir0UN",
        "outputId": "34bb52f0-b6ed-4191-b172-6839d796a79c"
      },
      "execution_count": 12,
      "outputs": [
        {
          "output_type": "stream",
          "name": "stdout",
          "text": [
            "Deposited : $10000.00. New balance : $10000.00.\n",
            "Withdraw: $3000.00. New balance: $7000.00.\n",
            "Account Balance: 7000.00\n",
            "Account Number: 12345678\n"
          ]
        }
      ]
    },
    {
      "cell_type": "code",
      "source": [
        "# 11. Write a class that overrides the `__str__` and `__add__` magic methods. What will these methods allow you to do?\n",
        "\n",
        "class Point:\n",
        "  def __init__(self, x, y):\n",
        "    self.x = x\n",
        "    self.y = y\n",
        "\n",
        "  def __str__(self):\n",
        "    return f\"Point ({self.x}, {self.y})\"\n",
        "\n",
        "  def __add__(self, other):\n",
        "    if isinstance(other, Point):\n",
        "      return Point(self.x + other.x, self.y + other.y)\n",
        "    return NotImplemented\n",
        "\n",
        "\n",
        "p1 = Point(1, 2)\n",
        "p2 = Point(3, 4)\n",
        "\n",
        "print(p1)\n",
        "\n",
        "p3 = p1 + p2\n",
        "print(p3)"
      ],
      "metadata": {
        "colab": {
          "base_uri": "https://localhost:8080/"
        },
        "id": "sR5JtX3pr26p",
        "outputId": "d2e257e8-aba5-41c0-987c-45c4efdfa911"
      },
      "execution_count": 13,
      "outputs": [
        {
          "output_type": "stream",
          "name": "stdout",
          "text": [
            "Point (1, 2)\n",
            "Point (4, 6)\n"
          ]
        }
      ]
    },
    {
      "cell_type": "code",
      "source": [
        "# 12. Create a decorator that measures and prints the execution time of a function.\n",
        "\n",
        "import time\n",
        "from functools import wraps\n",
        "\n",
        "def timing_decorator(func):\n",
        "  @wraps(func)\n",
        "  def wrapper(*args, **kwargs):\n",
        "    start_time = time.time()\n",
        "    result = func(*args, **kwargs)\n",
        "    end_time = time.time()\n",
        "    execution_time = end_time - start_time\n",
        "\n",
        "    print(f\"Execution time of {func.__name__}: {execution_time:.4f} seconds\")\n",
        "    return result\n",
        "  return wrapper\n",
        "\n",
        "def example_func(n):\n",
        "  total = sum(range(n))\n",
        "  return total\n",
        "\n",
        "t1 = example_func(100000)\n",
        "print(f\"Result : {t1}\")"
      ],
      "metadata": {
        "colab": {
          "base_uri": "https://localhost:8080/"
        },
        "id": "yO9bQjPgr5ul",
        "outputId": "c6e874e5-711b-46e4-c177-9a72f870d8af"
      },
      "execution_count": 14,
      "outputs": [
        {
          "output_type": "stream",
          "name": "stdout",
          "text": [
            "Result : 4999950000\n"
          ]
        }
      ]
    },
    {
      "cell_type": "markdown",
      "source": [
        "13. Explain the concept of the Diamond Problem in multiple inheritance. How does Python resolve it?\n",
        "\n",
        "* The Diamond Problem is a classic issue in an object-oriented programming that aries in the context of multiple inheritance.\n",
        "* It occurs when a class inherits from two classes that both inherit from a common ancestor, creating a daimond-shaped hierarchy.\n",
        "\n",
        "![image.png](data:image/png;base64,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)\n",
        "\n",
        "* In this structure:\n",
        "\n",
        "* Class A is the common ancestor.\n",
        "* Classes B and C both inherit from A.\n",
        "* Class D inherits from both B and C.\n",
        "\n",
        "\n",
        "* The problem arises when class D tries to access a method or attribute that is defined in class A.\n",
        "* The question becomes: Which version of the method or attribute should D inherit? The versions from B or C? If both B and C override the method from A, which implementation should be used in D?\n",
        "\n",
        "* Python's resolution strategy\n",
        "\n",
        "* Python uses the C3 Linearization algorithm to resolve the Diamond Problem.\n",
        "* This method provides a consistent order for method resolution, ensuring that classes are searched in a predictable manner.\n",
        "\n",
        "* MRO (Method Resolution Order): Python computes a linear order of classes that respects the inheritance hierarchy and the order of class definitions.\n",
        "\n",
        "* Left-to-Right Depth-First Search: The MRO looks for methods in a left-to-right manner while prioritizing the order in which classes are specified.\n",
        "\n",
        "* Example :"
      ],
      "metadata": {
        "id": "AEXZMH1er_ff"
      }
    },
    {
      "cell_type": "code",
      "source": [
        "class A:\n",
        "  def method(self):\n",
        "    print(\"Method in A\")\n",
        "\n",
        "class B(A):\n",
        "  def method(self):\n",
        "    print(\"Method in B\")\n",
        "\n",
        "class C(A):\n",
        "  def method(self):\n",
        "    print(\"Method in C\")\n",
        "\n",
        "class D(B, C):\n",
        "  pass\n",
        "\n",
        "d1 = D()\n",
        "d1.method()\n",
        "\n",
        "print(D.mro())"
      ],
      "metadata": {
        "colab": {
          "base_uri": "https://localhost:8080/"
        },
        "id": "Q-g0na_Zr8G0",
        "outputId": "194d49f6-9588-412c-e08d-1918048e9f20"
      },
      "execution_count": 15,
      "outputs": [
        {
          "output_type": "stream",
          "name": "stdout",
          "text": [
            "Method in B\n",
            "[<class '__main__.D'>, <class '__main__.B'>, <class '__main__.C'>, <class '__main__.A'>, <class 'object'>]\n"
          ]
        }
      ]
    },
    {
      "cell_type": "code",
      "source": [
        "# 14. Write a class method that keeps track of the number of instances created from a class.\n",
        "\n",
        "class InstanceCounter:\n",
        "  count = 0\n",
        "\n",
        "  def __init__(self):\n",
        "    InstanceCounter.count += 1\n",
        "\n",
        "  @classmethod\n",
        "  def get_instance_count(cls):\n",
        "    return cls.count\n",
        "\n",
        "if __name__ == \"__main__\":\n",
        "  i1 = InstanceCounter()\n",
        "  i2 = InstanceCounter()\n",
        "  i3 = InstanceCounter()\n",
        "\n",
        "  print(f\"Number of instances created : {InstanceCounter.get_instance_count()}\")"
      ],
      "metadata": {
        "colab": {
          "base_uri": "https://localhost:8080/"
        },
        "id": "gvwEhAIusDY5",
        "outputId": "6e9db6e7-ffb9-4888-bb83-98b5f1aaa6dc"
      },
      "execution_count": 16,
      "outputs": [
        {
          "output_type": "stream",
          "name": "stdout",
          "text": [
            "Number of instances created : 3\n"
          ]
        }
      ]
    },
    {
      "cell_type": "code",
      "source": [
        "# 15. Implement a static method in a class that checks if a given year is a leap year.\n",
        "\n",
        "class YearsUtils:\n",
        "  @staticmethod\n",
        "  def is_leaf_year(year):\n",
        "    if (year % 4 == 0 and year % 100 != 0) or (year % 400 == 0):\n",
        "      return True\n",
        "    return False\n",
        "\n",
        "if __name__ == \"__main__\":\n",
        "  years_check = [2020, 2021, 2022, 2023, 2024]\n",
        "\n",
        "  for year in years_check:\n",
        "    if YearsUtils.is_leaf_year(year):\n",
        "      print(f\"{year} is a leap year.\")\n",
        "    else:\n",
        "      print(f\"{year} is not a leap year.\")"
      ],
      "metadata": {
        "colab": {
          "base_uri": "https://localhost:8080/"
        },
        "id": "yYctvWtYsG5r",
        "outputId": "e5a6c98d-83be-4807-9707-476ffc84667d"
      },
      "execution_count": 18,
      "outputs": [
        {
          "output_type": "stream",
          "name": "stdout",
          "text": [
            "2020 is a leap year.\n",
            "2021 is not a leap year.\n",
            "2022 is not a leap year.\n",
            "2023 is not a leap year.\n",
            "2024 is a leap year.\n"
          ]
        }
      ]
    }
  ]
}