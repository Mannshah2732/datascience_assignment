{
 "cells": [
  {
   "cell_type": "markdown",
   "id": "4cc565aa-b35c-4853-8533-0870c5bf8afb",
   "metadata": {},
   "source": [
    "1. Explain the key features of Python that make it a popular choice for programming.\n",
    "\n",
    "* Simple and easy to learn : Python has a straightforward syntax which emphasizes readability and reduces the cost of program maintenance.\n",
    "* Dynamically Typed :        Python uses dynamic typing, meaning you don't need to specify variable types. This makes the code concise and                                flexible but can also lead to potential runtime errors.\n",
    "* Object-Oriented:           Python supports object-oriented programming (OOP) principles such as encapsulation, inheritance, and                                        polymorphism. It allows for the creation and usage of classes and objects.\n",
    "* Community and support :    Python has a lagre and active community of developers."
   ]
  },
  {
   "cell_type": "markdown",
   "id": "9091c69e-2bfd-43eb-b475-bb9fb101aff7",
   "metadata": {},
   "source": [
    "2. Describe the role of predefined keywords in Python and provide examples of how they are used in a program.\n",
    "\n",
    "* Predefined keyowrds that holds a special meaning and have a specific prupose in python.\n",
    "* These keywords cannot be used as identifiers (such as variable names or function names) because they are reserved for specific syntax and   functionality. \n",
    "* Here's some lists of keywords"
   ]
  },
  {
   "cell_type": "code",
   "execution_count": 2,
   "id": "1e2be5ec-4847-425c-808b-e6eb27ffb24a",
   "metadata": {},
   "outputs": [
    {
     "name": "stdout",
     "output_type": "stream",
     "text": [
      "x is greater than 5\n"
     ]
    }
   ],
   "source": [
    "#1.  if, elif, else\n",
    "\n",
    "x = 10\n",
    "if x > 5:\n",
    "    print(\"x is greater than 5\")\n",
    "elif x == 5:\n",
    "    print(\"x is equal to 5\")\n",
    "else:\n",
    "    print(\"x is smaller than 5\")"
   ]
  },
  {
   "cell_type": "code",
   "execution_count": 3,
   "id": "c1b01134-d8b0-4c7d-9770-388afd4de195",
   "metadata": {},
   "outputs": [
    {
     "name": "stdout",
     "output_type": "stream",
     "text": [
      "mango\n",
      "watermelon\n",
      "apple\n"
     ]
    }
   ],
   "source": [
    "#2. for\n",
    "\n",
    "fruits = [\"mango\",\"watermelon\", \"apple\"]\n",
    "for fruit in fruits:\n",
    "    print(fruit)"
   ]
  },
  {
   "cell_type": "code",
   "execution_count": 5,
   "id": "0b38c93c-6950-4101-8e3c-062766d1abac",
   "metadata": {},
   "outputs": [
    {
     "name": "stdout",
     "output_type": "stream",
     "text": [
      "0\n",
      "1\n",
      "2\n",
      "3\n",
      "4\n"
     ]
    }
   ],
   "source": [
    "#3. while\n",
    "\n",
    "count = 0\n",
    "while count < 5:\n",
    "    print(count)\n",
    "    count += 1"
   ]
  },
  {
   "cell_type": "markdown",
   "id": "453b98b3-c3aa-4c6c-be4c-89fb290544d9",
   "metadata": {},
   "source": [
    "3. Compare and contrast mutable and immutable objects in Python with examples.\n",
    "\n",
    "Mutable : Objects/conatiner whose state or value can be changed after they are created are called as a mutable objects.\n",
    "          This means that you can modify the object's contents without changing its identity (memory location).\n",
    "\n",
    "Following example :"
   ]
  },
  {
   "cell_type": "code",
   "execution_count": 8,
   "id": "606173ae-ae3e-4f4e-8c10-c4caaf51e549",
   "metadata": {},
   "outputs": [
    {
     "data": {
      "text/plain": [
       "[1, 2, 'Ram', 'Raju', 'Ajay', 'Mohan']"
      ]
     },
     "execution_count": 8,
     "metadata": {},
     "output_type": "execute_result"
    }
   ],
   "source": [
    "# creating the list\n",
    "\n",
    "list1 = [1, 2, \"Ram\", \"Raju\", \"Ajay\", \"Mohan\"]\n",
    "list1"
   ]
  },
  {
   "cell_type": "code",
   "execution_count": 11,
   "id": "66285491-5db8-43c9-84a8-73b54fd1bf95",
   "metadata": {},
   "outputs": [
    {
     "data": {
      "text/plain": [
       "[100, 2, 'Vijay', 'Raju', 'Ajay', 'Mohan']"
      ]
     },
     "execution_count": 11,
     "metadata": {},
     "output_type": "execute_result"
    }
   ],
   "source": [
    "# changing the list\n",
    "\n",
    "list1[2] = \"Vijay\"\n",
    "list1[0] = 100\n",
    "list1"
   ]
  },
  {
   "cell_type": "markdown",
   "id": "a76df585-4ea5-4fa9-b300-8d93343bb9de",
   "metadata": {},
   "source": [
    "Immutable : Objects/conatiner whose state or value cannot be changed after they are created are called as a immutable objects.\n",
    "            If you need to modify an immutable object, you need to create a new object with the desired changes.\n",
    "\n",
    "Following example :"
   ]
  },
  {
   "cell_type": "code",
   "execution_count": 12,
   "id": "cc7db33e-63ba-43fa-adf5-afcb50accbdf",
   "metadata": {},
   "outputs": [
    {
     "data": {
      "text/plain": [
       "'Mohan'"
      ]
     },
     "execution_count": 12,
     "metadata": {},
     "output_type": "execute_result"
    }
   ],
   "source": [
    "# string\n",
    "\n",
    "name = \"Mohan\"\n",
    "name"
   ]
  },
  {
   "cell_type": "code",
   "execution_count": 14,
   "id": "90c4ce17-872a-4443-a1f1-bbc85e8ccdd5",
   "metadata": {},
   "outputs": [
    {
     "ename": "TypeError",
     "evalue": "'str' object does not support item assignment",
     "output_type": "error",
     "traceback": [
      "\u001b[0;31m---------------------------------------------------------------------------\u001b[0m",
      "\u001b[0;31mTypeError\u001b[0m                                 Traceback (most recent call last)",
      "Cell \u001b[0;32mIn[14], line 3\u001b[0m\n\u001b[1;32m      1\u001b[0m \u001b[38;5;66;03m# changing the string\u001b[39;00m\n\u001b[0;32m----> 3\u001b[0m \u001b[43mname\u001b[49m\u001b[43m[\u001b[49m\u001b[38;5;241;43m0\u001b[39;49m\u001b[43m]\u001b[49m \u001b[38;5;241m=\u001b[39m \u001b[38;5;124m\"\u001b[39m\u001b[38;5;124mR\u001b[39m\u001b[38;5;124m\"\u001b[39m\n\u001b[1;32m      5\u001b[0m \u001b[38;5;66;03m# it will raised an error of item assignmet.\u001b[39;00m\n",
      "\u001b[0;31mTypeError\u001b[0m: 'str' object does not support item assignment"
     ]
    }
   ],
   "source": [
    "# changing the string\n",
    "\n",
    "name[0] = \"R\"\n",
    "\n",
    "# it will raised an error of item assignmet."
   ]
  },
  {
   "cell_type": "markdown",
   "id": "974229e1-917b-4a30-9df6-caa26842ab1b",
   "metadata": {},
   "source": [
    "4. Discuss the different types of operators in Python and provide examples of how they are used.\n",
    "\n",
    "Operators : Special keywords / symbols that are used to perform some operations on values or variables.\n",
    "List of operators in python :\n",
    "\n",
    "1. Arithmatic operators (+,-,*,/,//,%,**)\n",
    "2. Comprasion operators (==,!=,>,<,>=,<=,)\n",
    "3. Logical operators (and,or,not)\n",
    "4. Assignment operators (=,+=,-=,*=,/=,)\n",
    "5. Bitwise operators (&,|,^,~,<<,>>)\n",
    "6. Membership operators (in,notin)\n",
    "7. Identitiy operators (is,isnot)\n",
    "\n",
    "Examples :"
   ]
  },
  {
   "cell_type": "code",
   "execution_count": 23,
   "id": "bdf3ac59-7ae8-422b-a381-43989792c836",
   "metadata": {},
   "outputs": [
    {
     "name": "stdout",
     "output_type": "stream",
     "text": [
      "-23.0\n",
      "5\n",
      "16\n"
     ]
    }
   ],
   "source": [
    "#arithmatic operators\n",
    "a = 4+5-8*12/3\n",
    "b = 22//4\n",
    "c = 4**2\n",
    "print(a)\n",
    "print(b)\n",
    "print(c)"
   ]
  },
  {
   "cell_type": "code",
   "execution_count": 25,
   "id": "e91ffbcf-b33f-47b2-b9a6-1eca4c6b5376",
   "metadata": {},
   "outputs": [
    {
     "name": "stdout",
     "output_type": "stream",
     "text": [
      "True\n",
      "False\n",
      "True\n",
      "False\n",
      "True\n"
     ]
    }
   ],
   "source": [
    "# comprasion operators\n",
    "\n",
    "a = 2==2\n",
    "b = 3!=3\n",
    "c = 6!=3\n",
    "d = 10<=2\n",
    "e = 10>=2\n",
    "print(a)\n",
    "print(b)\n",
    "print(c)\n",
    "print(d)\n",
    "print(e)"
   ]
  },
  {
   "cell_type": "code",
   "execution_count": 31,
   "id": "5704a365-fb67-407f-88da-1e0d47f47525",
   "metadata": {},
   "outputs": [
    {
     "name": "stdout",
     "output_type": "stream",
     "text": [
      "True False False False True True True False False True\n"
     ]
    }
   ],
   "source": [
    "# Logical operators\n",
    "\n",
    "a = True and True\n",
    "b = True and False\n",
    "c = False and True\n",
    "d = False and False\n",
    "e = True or True\n",
    "f = True or False\n",
    "g = False or True\n",
    "h = False or False\n",
    "i = not True\n",
    "j = not False\n",
    "\n",
    "print(a,b,c,d,e,f,g,h,i,j)"
   ]
  },
  {
   "cell_type": "code",
   "execution_count": 34,
   "id": "72cfed50-832b-4953-93c7-6c5f875a0888",
   "metadata": {},
   "outputs": [
    {
     "name": "stdout",
     "output_type": "stream",
     "text": [
      "9.0\n"
     ]
    }
   ],
   "source": [
    "# Assignment operators\n",
    "\n",
    "a = 10\n",
    "a += 4\n",
    "a -= 2\n",
    "a *= 3\n",
    "a /= 4\n",
    "print(a)"
   ]
  },
  {
   "cell_type": "code",
   "execution_count": 38,
   "id": "0ec005d7-c1aa-4126-a588-0cf18b86e04d",
   "metadata": {},
   "outputs": [
    {
     "name": "stdout",
     "output_type": "stream",
     "text": [
      "0\n",
      "7\n",
      "-5\n",
      "2\n",
      "368\n",
      "0\n"
     ]
    }
   ],
   "source": [
    "# Bitwise operators\n",
    "\n",
    "a = 10 & 5\n",
    "b = 3 | 5\n",
    "c = ~4\n",
    "d = 6 ^ 4\n",
    "e = 23<<4\n",
    "f = 21>>5\n",
    "print(a)\n",
    "print(b)\n",
    "print(c)\n",
    "print(d)\n",
    "print(e)\n",
    "print(f)"
   ]
  },
  {
   "cell_type": "code",
   "execution_count": 42,
   "id": "6f5544a4-68b2-429e-b07d-009dce001221",
   "metadata": {},
   "outputs": [
    {
     "name": "stdout",
     "output_type": "stream",
     "text": [
      "True False\n"
     ]
    }
   ],
   "source": [
    "# Membership operators\n",
    "\n",
    "a = \"Manoj\"\n",
    "b = \"M\" in a\n",
    "c = \"n\" not in a\n",
    "print(b,c)"
   ]
  },
  {
   "cell_type": "code",
   "execution_count": 44,
   "id": "7fb91431-c00e-4f1d-adac-6c011736d77e",
   "metadata": {},
   "outputs": [
    {
     "name": "stdout",
     "output_type": "stream",
     "text": [
      "False True\n"
     ]
    }
   ],
   "source": [
    "# Identity operators\n",
    "\n",
    "a = 2\n",
    "b = 3\n",
    "c = a is b\n",
    "d = a is not b\n",
    "print(c,d)"
   ]
  },
  {
   "cell_type": "markdown",
   "id": "3afbf0c6-88b5-4a38-b652-8c543ea2a71a",
   "metadata": {},
   "source": [
    "5. Explain the concept of type casting in Python with examples\n",
    "\n",
    "Type casting : The process of changing the one data type to another data type of value/object.\n",
    "               There are two type of type casting\n",
    "               Implicit typecasting : Python understand the datatype.\n",
    "               Explicit typecasting : Convert datatype using inbuilt function.\n",
    "Examples :"
   ]
  },
  {
   "cell_type": "code",
   "execution_count": 69,
   "id": "64e207ee-ba41-4320-8589-6e1e3f51709b",
   "metadata": {},
   "outputs": [
    {
     "data": {
      "text/plain": [
       "8.5"
      ]
     },
     "execution_count": 69,
     "metadata": {},
     "output_type": "execute_result"
    }
   ],
   "source": [
    "# Implicit typecasting \n",
    "4 + 4.5 #int to flaot"
   ]
  },
  {
   "cell_type": "code",
   "execution_count": 67,
   "id": "960ae175-1dfd-4615-a8c3-99394b7042ce",
   "metadata": {},
   "outputs": [
    {
     "name": "stdout",
     "output_type": "stream",
     "text": [
      "10\n",
      "14.0\n",
      "True\n",
      "[1, 2, 3]\n"
     ]
    }
   ],
   "source": [
    "# int() , float() ,  bool() , list\n",
    "\n",
    "a = \"10\"\n",
    "b = int(a)\n",
    "print(b)\n",
    "\n",
    "a = \"14\"\n",
    "b = float(a)\n",
    "print(b)\n",
    "\n",
    "a = 1\n",
    "b = bool(a)\n",
    "print(b)\n",
    "\n",
    "a = (1, 2, 3)\n",
    "b = list(a)\n",
    "print(b)"
   ]
  },
  {
   "cell_type": "code",
   "execution_count": 68,
   "id": "d2122b29-b552-4930-9ffb-79964d7614c6",
   "metadata": {},
   "outputs": [
    {
     "data": {
      "text/plain": [
       "'5'"
      ]
     },
     "execution_count": 68,
     "metadata": {},
     "output_type": "execute_result"
    }
   ],
   "source": [
    "# str()\n",
    "\n",
    "a=5\n",
    "str(a)"
   ]
  },
  {
   "cell_type": "markdown",
   "id": "9ad0b82e-90d2-4f05-97e7-b8b801c6b2a1",
   "metadata": {},
   "source": [
    "6. How do conditional statements work in Python? Illustrate with examples.\n",
    "\n",
    "Conditions : Conditional statements in Python allow you to execute certain pieces of code based on conditions being true or false. \n",
    "             There are some types of conditional\n",
    "             'if'\n",
    "             'elif'\n",
    "             'else'\n",
    "             'nested if'\n",
    "Examples :"
   ]
  },
  {
   "cell_type": "code",
   "execution_count": 70,
   "id": "e68f3169-0f77-4f07-b031-f5f1ab214a5b",
   "metadata": {},
   "outputs": [
    {
     "name": "stdout",
     "output_type": "stream",
     "text": [
      "x is zero\n"
     ]
    }
   ],
   "source": [
    "# if,elif,else\n",
    "\n",
    "x = 0\n",
    "\n",
    "if x > 0:\n",
    "    print(\"x is positive\")\n",
    "elif x == 0:\n",
    "    print(\"x is zero\")\n",
    "else:\n",
    "    print(\"x is negative\")"
   ]
  },
  {
   "cell_type": "code",
   "execution_count": 78,
   "id": "c9217d14-699f-4a7b-9a34-29691454a72f",
   "metadata": {},
   "outputs": [
    {
     "name": "stdout",
     "output_type": "stream",
     "text": [
      "x is negative\n"
     ]
    }
   ],
   "source": [
    "# nested if\n",
    "\n",
    "x = -10\n",
    "y = 20\n",
    "\n",
    "if x > 0:\n",
    "    if y > 0:\n",
    "        print(\"Both x and y are positive\")\n",
    "    else:\n",
    "        print(\"x is positive but y is negative\")\n",
    "else:\n",
    "    if y > 0:\n",
    "        print(\"x is negative\")\n",
    "    else:\n",
    "        print(\"both negative\")"
   ]
  },
  {
   "cell_type": "markdown",
   "id": "3068435e-e7df-4650-81ea-5196d9dbfa15",
   "metadata": {},
   "source": [
    "7. Describe the different types of loops in Python and their use cases with examples.\n",
    "\n",
    "Loops : It allows you to execute a block of code repeadtly.\n",
    "        Python supports the several types loop.\n",
    "        'while'\n",
    "        'for'\n",
    "        'range'\n",
    "        'nested'\n",
    "        'break', 'contiune'"
   ]
  },
  {
   "cell_type": "code",
   "execution_count": 82,
   "id": "ddef901a-7aef-445e-9e27-35caee84f95a",
   "metadata": {},
   "outputs": [
    {
     "name": "stdout",
     "output_type": "stream",
     "text": [
      "1\n",
      "2\n",
      "3\n"
     ]
    }
   ],
   "source": [
    "# while loop\n",
    "\n",
    "# while condition:\n",
    "     # code block to execute\n",
    "\n",
    "n = 4\n",
    "i = 1\n",
    "while i < n:\n",
    "    print(i)\n",
    "    i += 1"
   ]
  },
  {
   "cell_type": "code",
   "execution_count": 85,
   "id": "4160d1d1-5879-4a8a-9fec-b787c7167ad5",
   "metadata": {},
   "outputs": [
    {
     "name": "stdout",
     "output_type": "stream",
     "text": [
      "a\n",
      "j\n",
      "a\n",
      "y\n"
     ]
    }
   ],
   "source": [
    "# for loop\n",
    "\n",
    "name = \"ajay\"\n",
    "for i in name:\n",
    "    print(i)"
   ]
  },
  {
   "cell_type": "code",
   "execution_count": 86,
   "id": "f6446edf-5ecc-4290-812c-f5fa2ee6a90b",
   "metadata": {},
   "outputs": [
    {
     "name": "stdout",
     "output_type": "stream",
     "text": [
      "1\n",
      "2\n",
      "3\n",
      "4\n",
      "5\n"
     ]
    }
   ],
   "source": [
    "# range\n",
    "\n",
    "for i in range(1, 6):  # range from 1 to 5 (6 is exclusive)\n",
    "    print(i)"
   ]
  },
  {
   "cell_type": "code",
   "execution_count": 87,
   "id": "d108638e-20bc-4594-8dd4-012df1bf328d",
   "metadata": {},
   "outputs": [
    {
     "name": "stdout",
     "output_type": "stream",
     "text": [
      "(1, 1)\n",
      "(1, 2)\n",
      "(1, 3)\n",
      "(2, 1)\n",
      "(2, 2)\n",
      "(2, 3)\n",
      "(3, 1)\n",
      "(3, 2)\n",
      "(3, 3)\n"
     ]
    }
   ],
   "source": [
    "# nested for\n",
    "\n",
    "for i in range(1, 4):\n",
    "    for j in range(1, 4):\n",
    "        print(f\"({i}, {j})\")"
   ]
  },
  {
   "cell_type": "code",
   "execution_count": 88,
   "id": "7134df37-e81f-492a-97d1-44d444585820",
   "metadata": {},
   "outputs": [
    {
     "name": "stdout",
     "output_type": "stream",
     "text": [
      "0\n",
      "1\n"
     ]
    }
   ],
   "source": [
    "# break statement\n",
    "\n",
    "n = 4\n",
    "i = 0\n",
    "while i < n:\n",
    "    print(i)\n",
    "    i += 1\n",
    "    if i == 2:\n",
    "        break\n",
    "else :\n",
    "    print (\"this will be executed\")"
   ]
  },
  {
   "cell_type": "code",
   "execution_count": 90,
   "id": "ce847dd7-cb28-495d-9bb2-5526ce49b351",
   "metadata": {},
   "outputs": [
    {
     "name": "stdout",
     "output_type": "stream",
     "text": [
      "1\n",
      "3\n",
      "4\n",
      "this will be executed\n"
     ]
    }
   ],
   "source": [
    "# continue statement\n",
    "\n",
    "n = 4\n",
    "i = 0\n",
    "while i < n:\n",
    "    i += 1\n",
    "    if i == 2:\n",
    "        continue\n",
    "    print(i)\n",
    "else :\n",
    "    print (\"this will be executed\")"
   ]
  },
  {
   "cell_type": "code",
   "execution_count": null,
   "id": "50922269-e26a-4709-9387-04f195573bfc",
   "metadata": {},
   "outputs": [],
   "source": []
  }
 ],
 "metadata": {
  "kernelspec": {
   "display_name": "Python 3 (ipykernel)",
   "language": "python",
   "name": "python3"
  },
  "language_info": {
   "codemirror_mode": {
    "name": "ipython",
    "version": 3
   },
   "file_extension": ".py",
   "mimetype": "text/x-python",
   "name": "python",
   "nbconvert_exporter": "python",
   "pygments_lexer": "ipython3",
   "version": "3.10.8"
  }
 },
 "nbformat": 4,
 "nbformat_minor": 5
}
