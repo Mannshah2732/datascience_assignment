{
  "cells": [
    {
      "cell_type": "markdown",
      "metadata": {
        "id": "view-in-github",
        "colab_type": "text"
      },
      "source": [
        "<a href=\"https://colab.research.google.com/github/Mannshah2732/datascience_assignment/blob/main/function_assignment.ipynb\" target=\"_parent\"><img src=\"https://colab.research.google.com/assets/colab-badge.svg\" alt=\"Open In Colab\"/></a>"
      ]
    },
    {
      "cell_type": "markdown",
      "id": "d397b852-b0f4-4f50-97fe-3514368f84d5",
      "metadata": {
        "id": "d397b852-b0f4-4f50-97fe-3514368f84d5"
      },
      "source": [
        "Theory Questions"
      ]
    },
    {
      "cell_type": "markdown",
      "id": "282fb133-c2fc-40a0-877e-3f83ea32ef77",
      "metadata": {
        "id": "282fb133-c2fc-40a0-877e-3f83ea32ef77"
      },
      "source": [
        "1. What is the difference between a function and a method in Python?\n",
        "\n",
        "* Function : A function is a structured, reusable code block utilized for carrying out a specific task. Functions facilitate the creation of modular code, simplifying maintenance and reusability.\n",
        "* usage : Functions are called by their name and can be used anywhere in the code.\n",
        "* Example :"
      ]
    },
    {
      "cell_type": "code",
      "execution_count": null,
      "id": "fe861536-4a2b-4d11-919a-3245d097fb4a",
      "metadata": {
        "id": "fe861536-4a2b-4d11-919a-3245d097fb4a",
        "outputId": "867e1af2-68b3-41f8-ba8d-7590a23b9a0c"
      },
      "outputs": [
        {
          "name": "stdout",
          "output_type": "stream",
          "text": [
            "Hello, Ajay!\n"
          ]
        }
      ],
      "source": [
        "def greetings(name):\n",
        "    return f\"Hello, {name}!\"\n",
        "print(greetings(\"Ajay\"))"
      ]
    },
    {
      "cell_type": "markdown",
      "id": "b8afe745-4134-42ca-b087-58359aed6627",
      "metadata": {
        "id": "b8afe745-4134-42ca-b087-58359aed6627"
      },
      "source": [
        "* Method : Amethod is function is a function that is associated with an object or class. It is defined within class and is called on instances of that class.\n",
        "* Usage : Methods operate on the data contained in the object and can access and modify the object's state. Methods are defined using 'def' keyword.\n",
        "* Example :"
      ]
    },
    {
      "cell_type": "code",
      "execution_count": null,
      "id": "b1c002f6-4d94-41dd-a984-f8fa516fd830",
      "metadata": {
        "id": "b1c002f6-4d94-41dd-a984-f8fa516fd830",
        "outputId": "93712183-7419-4b4e-fda9-35bb7e97130f"
      },
      "outputs": [
        {
          "name": "stdout",
          "output_type": "stream",
          "text": [
            "Hello, Ajay!\n"
          ]
        }
      ],
      "source": [
        "class Person:\n",
        "    def __init__(self,name):\n",
        "        self.name = name\n",
        "    def greetings(self):\n",
        "        return f\"Hello, {self.name}!\"\n",
        "\n",
        "p = Person(\"Ajay\")\n",
        "print(p.greetings())"
      ]
    },
    {
      "cell_type": "markdown",
      "id": "77e269bf-e901-421b-b2b3-ba5bd32b7b12",
      "metadata": {
        "id": "77e269bf-e901-421b-b2b3-ba5bd32b7b12"
      },
      "source": [
        "2. Explain the concept of function arguments and parameters in Python.\n",
        "\n",
        "* Parameters : Parameters are the variables listed in the function defination. They act as a placeholders for the values that will be passed into a function.\n",
        "* Example :"
      ]
    },
    {
      "cell_type": "code",
      "execution_count": null,
      "id": "b7a1325c-23c9-4f18-ac0a-8f203a13c9ae",
      "metadata": {
        "id": "b7a1325c-23c9-4f18-ac0a-8f203a13c9ae"
      },
      "outputs": [],
      "source": [
        "def add(a, b):  # 'a' and 'b' are parameters\n",
        "    return a + b"
      ]
    },
    {
      "cell_type": "markdown",
      "id": "81cc245f-19dc-4a5c-a7df-ae1ebcb19fb3",
      "metadata": {
        "id": "81cc245f-19dc-4a5c-a7df-ae1ebcb19fb3"
      },
      "source": [
        "* Arguments : Agruments are the actual values or data you provide to function when you call it. They are corresponds to the parameters defined in the function.\n",
        "* Example :"
      ]
    },
    {
      "cell_type": "code",
      "execution_count": null,
      "id": "286ffa1a-09aa-4a07-a6a0-ba4779af0349",
      "metadata": {
        "id": "286ffa1a-09aa-4a07-a6a0-ba4779af0349",
        "outputId": "9e54280d-0c59-471a-9ea9-acc8b6d539b8"
      },
      "outputs": [
        {
          "name": "stdout",
          "output_type": "stream",
          "text": [
            "11\n"
          ]
        }
      ],
      "source": [
        "result = add(5, 6)  # '5' and '6' are arguments\n",
        "print(result)"
      ]
    },
    {
      "cell_type": "markdown",
      "id": "802f8c0e-7cdf-4118-a4ee-084559fbbd0e",
      "metadata": {
        "id": "802f8c0e-7cdf-4118-a4ee-084559fbbd0e"
      },
      "source": [
        "3. What are the different ways to define and call a function in Python?\n",
        "\n",
        "* Standard function : Abasic using a 'def' keyword. The function is called by its name with arguments passed in parentheses.\n",
        "* Example :"
      ]
    },
    {
      "cell_type": "code",
      "execution_count": null,
      "id": "ed9c4680-7b5b-4043-a568-f27a639c5ad3",
      "metadata": {
        "id": "ed9c4680-7b5b-4043-a568-f27a639c5ad3",
        "outputId": "b31ed6b7-4287-49ec-9727-cd5bce9eb5e9"
      },
      "outputs": [
        {
          "name": "stdout",
          "output_type": "stream",
          "text": [
            "Hello, Mann!\n"
          ]
        }
      ],
      "source": [
        "def greetings(name):\n",
        "    return f\"Hello, {name}!\"\n",
        "print(greetings(\"Mann\"))"
      ]
    },
    {
      "cell_type": "markdown",
      "id": "9469f32d-edcf-44c7-977d-74a69019c0de",
      "metadata": {
        "id": "9469f32d-edcf-44c7-977d-74a69019c0de"
      },
      "source": [
        "* Default argument function : Function that provides default values for some or all parameters. You can omit the arguments with default values when calling the function.\n",
        "* Example :"
      ]
    },
    {
      "cell_type": "code",
      "execution_count": null,
      "id": "7c8713e8-a004-4f52-b488-b79cd3495a07",
      "metadata": {
        "id": "7c8713e8-a004-4f52-b488-b79cd3495a07",
        "outputId": "b49e32df-3608-43fd-e596-9c9573b39e27"
      },
      "outputs": [
        {
          "name": "stdout",
          "output_type": "stream",
          "text": [
            "Hello, Ajay!\n",
            "Hi, Ajay!\n"
          ]
        }
      ],
      "source": [
        "def greetings(name, greeting=\"Hello\"):\n",
        "    return f\"{greeting}, {name}!\"\n",
        "\n",
        "print(greetings(\"Ajay\"))    # uses default greeting\n",
        "print(greetings(\"Ajay\",\"Hi\")) # overrides default greeting"
      ]
    },
    {
      "cell_type": "markdown",
      "id": "5fa4c1b2-8c69-4b2a-b422-ebe7c76b0b0c",
      "metadata": {
        "id": "5fa4c1b2-8c69-4b2a-b422-ebe7c76b0b0c"
      },
      "source": [
        "* Variable-lenght argument : Function that accept a variable number of positional arguments ('*args') or keyword arguments ('**kwargs').\n",
        "* Use '*' to unpack a list or tuple into positional arguments and '**' to unpack a dictionary into keyword arguments.\n",
        "* Example :"
      ]
    },
    {
      "cell_type": "code",
      "execution_count": null,
      "id": "7fe83ad9-62ba-49d1-8fc8-86de86103ab9",
      "metadata": {
        "id": "7fe83ad9-62ba-49d1-8fc8-86de86103ab9",
        "outputId": "a200d454-e95f-4352-dfeb-b08ad91bdbc7"
      },
      "outputs": [
        {
          "name": "stdout",
          "output_type": "stream",
          "text": [
            "Positional arguments :  (1, 2, 3)\n",
            "Keyword arguments :  {'a': 4, 'b': 5}\n"
          ]
        }
      ],
      "source": [
        "def summarize(*args, **kwargs):\n",
        "    print(\"Positional arguments : \", args)\n",
        "    print(\"Keyword arguments : \", kwargs)\n",
        "\n",
        "summarize(1,2,3, a=4, b=5)"
      ]
    },
    {
      "cell_type": "markdown",
      "id": "f76a0103-aaf8-45f6-9bae-c0e38746eef2",
      "metadata": {
        "id": "f76a0103-aaf8-45f6-9bae-c0e38746eef2"
      },
      "source": [
        "* Nested : Function defined within another function. The inner function is called within the outer function.\n",
        "* Example :"
      ]
    },
    {
      "cell_type": "code",
      "execution_count": null,
      "id": "b8b613ff-0529-4eec-86fa-4d3b80803a01",
      "metadata": {
        "id": "b8b613ff-0529-4eec-86fa-4d3b80803a01",
        "outputId": "8f856f2f-f8a0-418c-c506-d06fdc3e04b4"
      },
      "outputs": [
        {
          "name": "stdout",
          "output_type": "stream",
          "text": [
            "Inner function\n"
          ]
        }
      ],
      "source": [
        "def outer():\n",
        "    def inner():\n",
        "        return \"Inner function\"\n",
        "    return inner()\n",
        "\n",
        "print(outer())"
      ]
    },
    {
      "cell_type": "markdown",
      "id": "843636c4-bc4f-45af-ab13-d2332d825676",
      "metadata": {
        "id": "843636c4-bc4f-45af-ab13-d2332d825676"
      },
      "source": [
        "4. What is the purpose of the 'return' statement in a Python function?\n",
        "\n",
        "* The return statement in python function serves several important purposes :\n",
        "* Output value : The return statement sends a value from a function back to the caller.\n",
        "* Example :"
      ]
    },
    {
      "cell_type": "code",
      "execution_count": null,
      "id": "9fdd5e2f-8c6a-4bc0-8bfc-b7144c457ae9",
      "metadata": {
        "id": "9fdd5e2f-8c6a-4bc0-8bfc-b7144c457ae9",
        "outputId": "b2c2d9a9-612d-4d4d-d3c5-a6eeacb38890"
      },
      "outputs": [
        {
          "name": "stdout",
          "output_type": "stream",
          "text": [
            "13\n"
          ]
        }
      ],
      "source": [
        "def add(a, b):\n",
        "    return a + b\n",
        "\n",
        "result = add(6,7)\n",
        "print(result)"
      ]
    },
    {
      "cell_type": "markdown",
      "id": "0aa1af8d-f592-422d-858b-8f04e5979a00",
      "metadata": {
        "id": "0aa1af8d-f592-422d-858b-8f04e5979a00"
      },
      "source": [
        "* Return multiple values : A function can return multiple values as tuple. This is useful when you need to return more than one result from a function.\n",
        "* Example :"
      ]
    },
    {
      "cell_type": "code",
      "execution_count": null,
      "id": "8fd0242c-51cf-4f3a-ae01-3b1f1c6be35f",
      "metadata": {
        "id": "8fd0242c-51cf-4f3a-ae01-3b1f1c6be35f",
        "outputId": "db195360-d197-4657-f444-90f37df6e30f"
      },
      "outputs": [
        {
          "name": "stdout",
          "output_type": "stream",
          "text": [
            "1\n",
            "8\n"
          ]
        }
      ],
      "source": [
        "def min_max(values):\n",
        "    return min(values), max(values)  # return a tuple (min, max)\n",
        "\n",
        "minimum, maximum = min_max([1, 2, 3, 4, 5, 6, 7, 8])\n",
        "print(minimum)\n",
        "print(maximum)"
      ]
    },
    {
      "cell_type": "markdown",
      "id": "f49febe7-81cf-4e43-a510-d8b13a4764e7",
      "metadata": {
        "id": "f49febe7-81cf-4e43-a510-d8b13a4764e7"
      },
      "source": [
        "* Return None : If no return statement is specified or if return is used without an expression, the function reutrns none by default.\n",
        "* Example :"
      ]
    },
    {
      "cell_type": "code",
      "execution_count": null,
      "id": "c34a8c3e-830d-465b-845d-8e98a1b5eccc",
      "metadata": {
        "id": "c34a8c3e-830d-465b-845d-8e98a1b5eccc",
        "outputId": "0d7db476-44e3-449d-843d-d6cb50337acd"
      },
      "outputs": [
        {
          "name": "stdout",
          "output_type": "stream",
          "text": [
            "hello\n",
            "None\n"
          ]
        }
      ],
      "source": [
        "def print_message(message):\n",
        "    print(message)\n",
        "\n",
        "    # no return statement, so the function reutrns none\n",
        "\n",
        "result = print_message(\"hello\")\n",
        "print(result)"
      ]
    },
    {
      "cell_type": "markdown",
      "id": "ede9cefd-309a-47b2-9d80-db7ae38a8e45",
      "metadata": {
        "id": "ede9cefd-309a-47b2-9d80-db7ae38a8e45"
      },
      "source": [
        "5. What are iterators in Python and how do they differ from iterables?\n",
        "\n",
        "* Definition :\n",
        "\n",
        "* Iterable : An object that can be iterated over.\n",
        "* Itertor : An object that actually performs the iteration.\n",
        "\n",
        "* Methods :\n",
        "\n",
        "* Iterable : It provides an iterator thorugh its '__iter__()' method.\n",
        "* Iterator : It must have both '__iter__()' and '__next__()' methods.\n",
        "\n",
        "* State :\n",
        "\n",
        "* Iterable : An iterable can be used to create multiple iterators. Each iterator will start from beginning.\n",
        "* Iterator : An iterator maintains its own state and progress through the sequence of values. Once iterator is exhausted, it can not be reset or reused.\n",
        "\n",
        "* Example :"
      ]
    },
    {
      "cell_type": "code",
      "execution_count": null,
      "id": "ca5e5c93-030a-4d1d-b114-6ddcaecb5e47",
      "metadata": {
        "id": "ca5e5c93-030a-4d1d-b114-6ddcaecb5e47",
        "outputId": "92ad4422-de18-452c-bed2-1044ff1aeee0"
      },
      "outputs": [
        {
          "name": "stdout",
          "output_type": "stream",
          "text": [
            "1\n",
            "2\n",
            "3\n"
          ]
        }
      ],
      "source": [
        "# Iterable\n",
        "\n",
        "my_list = [1,2,3]\n",
        "for item in my_list:\n",
        "    print(item)"
      ]
    },
    {
      "cell_type": "code",
      "execution_count": null,
      "id": "43ca2333-4a15-44ea-8b8a-c2ae5bd02f8e",
      "metadata": {
        "id": "43ca2333-4a15-44ea-8b8a-c2ae5bd02f8e",
        "outputId": "ebe1f945-a99b-4e85-9aff-31b11cabfcdd"
      },
      "outputs": [
        {
          "name": "stdout",
          "output_type": "stream",
          "text": [
            "1\n",
            "2\n",
            "3\n"
          ]
        }
      ],
      "source": [
        "# Iterator\n",
        "\n",
        "my_iter = iter([1, 2, 3])\n",
        "print(next(my_iter))\n",
        "print(next(my_iter))\n",
        "print(next(my_iter))\n",
        "# print(next(my_iter))  # Stop iteration"
      ]
    },
    {
      "cell_type": "markdown",
      "id": "4d7bb257-0b38-478d-89e3-88b0b2906384",
      "metadata": {
        "id": "4d7bb257-0b38-478d-89e3-88b0b2906384"
      },
      "source": [
        "6. Explain the concept of generators in Python and how they are defined.\n",
        "\n",
        "* Generators : Generators are a special type of iterator that are defined using function, but instead of using the 'return' statement, they use the 'yield' statement to produces values.\n",
        "* Execution starts when 'next()' is called on the generator, and the function yields values one at a time.\n",
        "* Syntax :\n",
        "* def function_name():\n",
        "*         yield statement\n",
        "* Example :"
      ]
    },
    {
      "cell_type": "code",
      "execution_count": null,
      "id": "9d8193e5-3015-44cd-83a6-7ab928e44d83",
      "metadata": {
        "id": "9d8193e5-3015-44cd-83a6-7ab928e44d83",
        "outputId": "ad3309c2-5e6b-4c22-b04f-c78d2b2fac04"
      },
      "outputs": [
        {
          "name": "stdout",
          "output_type": "stream",
          "text": [
            "1\n",
            "2\n",
            "3\n"
          ]
        }
      ],
      "source": [
        "def simplegen():\n",
        "    yield 1\n",
        "    yield 2\n",
        "    yield 3\n",
        "\n",
        "x = simplegen()\n",
        "\n",
        "print(next(x))\n",
        "print(next(x))\n",
        "print(next(x))\n",
        "# print(next(x))  # Raises stop iteration"
      ]
    },
    {
      "cell_type": "markdown",
      "id": "f3dc3fb6-2d1c-48c6-9616-fb0c87ac2849",
      "metadata": {
        "id": "f3dc3fb6-2d1c-48c6-9616-fb0c87ac2849"
      },
      "source": [
        "7. What are the advantages of using generators over regular functions?\n",
        "\n",
        "* Memory Efficiency : Generators are more memory-efficient compared to functions. They generate values on-thr-fly and do not store the entire sequence in memory."
      ]
    },
    {
      "cell_type": "code",
      "execution_count": null,
      "id": "0de1fdae-fd24-4655-8635-ff23ee50a12e",
      "metadata": {
        "id": "0de1fdae-fd24-4655-8635-ff23ee50a12e",
        "outputId": "8e9ef9f6-cbf9-403f-c152-756a3cba217b"
      },
      "outputs": [
        {
          "name": "stdout",
          "output_type": "stream",
          "text": [
            "[0, 1, 2, 3, 4, 5, 6, 7, 8, 9, 10, 11, 12, 13, 14, 15, 16, 17, 18, 19, 20, 21, 22, 23, 24, 25, 26, 27, 28, 29, 30, 31, 32, 33, 34, 35, 36, 37, 38, 39, 40, 41, 42, 43, 44, 45, 46, 47, 48, 49, 50, 51, 52, 53, 54, 55, 56, 57, 58, 59, 60, 61, 62, 63, 64, 65, 66, 67, 68, 69, 70, 71, 72, 73, 74, 75, 76, 77, 78, 79, 80, 81, 82, 83, 84, 85, 86, 87, 88, 89, 90, 91, 92, 93, 94, 95, 96, 97, 98, 99]\n",
            "<generator object large_range at 0x73b5c57dd930>\n"
          ]
        }
      ],
      "source": [
        "# Regular function returning a large list\n",
        "def large_list(n):\n",
        "    return [i for i in range(n)]\n",
        "\n",
        "result = large_list(100)\n",
        "print(result)\n",
        "\n",
        "# Generator function\n",
        "def large_range(n):\n",
        "    for i in range(n):\n",
        "        print(result1)\n",
        "        yield i\n",
        "\n",
        "result1 = large_range(100)\n",
        "print(result1)"
      ]
    },
    {
      "cell_type": "code",
      "execution_count": null,
      "id": "4a83d624-c515-4cb9-9a52-694c21374a8e",
      "metadata": {
        "id": "4a83d624-c515-4cb9-9a52-694c21374a8e",
        "outputId": "b54136a7-f9eb-42a9-f991-35725fd70b15"
      },
      "outputs": [
        {
          "data": {
            "text/plain": [
              "0"
            ]
          },
          "execution_count": 43,
          "metadata": {},
          "output_type": "execute_result"
        }
      ],
      "source": [
        "next(result1)"
      ]
    },
    {
      "cell_type": "code",
      "execution_count": null,
      "id": "99f90f91-7212-4291-8b80-63e0c8d32e51",
      "metadata": {
        "id": "99f90f91-7212-4291-8b80-63e0c8d32e51",
        "outputId": "d9676528-8e42-4177-d1c6-c1a8b93566e9"
      },
      "outputs": [
        {
          "data": {
            "text/plain": [
              "1"
            ]
          },
          "execution_count": 44,
          "metadata": {},
          "output_type": "execute_result"
        }
      ],
      "source": [
        "next(result1)"
      ]
    },
    {
      "cell_type": "markdown",
      "id": "4d77494d-4e67-4893-b4c3-7da2cf8178d4",
      "metadata": {
        "id": "4d77494d-4e67-4893-b4c3-7da2cf8178d4"
      },
      "source": [
        "* Easy Evalution : Generators use lazy evaluation, which means values are produced only when needed.\n",
        "* This is useful for handling large or infinite sequences, where you don’t need to generate all values at once.\n",
        "* Example :"
      ]
    },
    {
      "cell_type": "code",
      "execution_count": null,
      "id": "f52f07b5-66e0-4627-8412-037447f71bf1",
      "metadata": {
        "id": "f52f07b5-66e0-4627-8412-037447f71bf1"
      },
      "outputs": [],
      "source": [
        "# Generator for reading lines from a large file\n",
        "def read_large_file(file_path):\n",
        "    with open(work/m6Functions.ipynb) as file:\n",
        "        for line in file:\n",
        "            yield line"
      ]
    },
    {
      "cell_type": "markdown",
      "id": "9e47d14e-cc35-4e35-9fb5-32620da160b3",
      "metadata": {
        "id": "9e47d14e-cc35-4e35-9fb5-32620da160b3"
      },
      "source": [
        "* Improved Performance : Generators can lead to performance improvements in scenarios where only a subset of the data is needed.\n",
        "* They avoid the overhead of creating and storing large lists in memory.\n",
        "* Example :"
      ]
    },
    {
      "cell_type": "code",
      "execution_count": null,
      "id": "43480311-af33-46fb-8c75-6b0e6d2a2a7a",
      "metadata": {
        "id": "43480311-af33-46fb-8c75-6b0e6d2a2a7a",
        "outputId": "bfd782b5-0276-4910-9ff6-f0db4cb1b0eb"
      },
      "outputs": [
        {
          "data": {
            "text/plain": [
              "<generator object fibonacci at 0x73b5c57df4c0>"
            ]
          },
          "execution_count": 67,
          "metadata": {},
          "output_type": "execute_result"
        }
      ],
      "source": [
        "# Generator for computing Fibonacci sequence\n",
        "def fibonacci(n):\n",
        "    a, b = 0, 1\n",
        "    while True:\n",
        "        yield a\n",
        "        a, b = b, a + b\n",
        "\n",
        "f = fibonacci(10)\n",
        "f"
      ]
    },
    {
      "cell_type": "code",
      "execution_count": null,
      "id": "d986edaa-671b-46fb-bb84-6c5f457056c0",
      "metadata": {
        "id": "d986edaa-671b-46fb-bb84-6c5f457056c0",
        "outputId": "fb383564-f5ba-4c7b-b104-b9b8750c2198"
      },
      "outputs": [
        {
          "name": "stdout",
          "output_type": "stream",
          "text": [
            "0\n",
            "1\n"
          ]
        }
      ],
      "source": [
        "print(next(f))\n",
        "print(next(f))"
      ]
    },
    {
      "cell_type": "markdown",
      "id": "74038801-3c84-48e1-8171-baef3a989655",
      "metadata": {
        "id": "74038801-3c84-48e1-8171-baef3a989655"
      },
      "source": [
        "* Simplified code : Generators can simplify code that involves iteration.\n",
        "* They eliminate the need for manual iteration state management, which can make the code more readable and concise.\n",
        "* Example :"
      ]
    },
    {
      "cell_type": "code",
      "execution_count": null,
      "id": "bb09ad56-f910-4914-8cea-c2c61b71d9b7",
      "metadata": {
        "id": "bb09ad56-f910-4914-8cea-c2c61b71d9b7",
        "outputId": "2611b1e0-aa6b-4052-89e6-c278ab5bece7"
      },
      "outputs": [
        {
          "name": "stdout",
          "output_type": "stream",
          "text": [
            "0\n"
          ]
        }
      ],
      "source": [
        "# Generator for even numbers\n",
        "def even_numbers(limit):\n",
        "    for number in range(limit):\n",
        "        if number % 2 == 0:\n",
        "            yield number\n",
        "\n",
        "n = even_numbers(4)\n",
        "print(next(n))"
      ]
    },
    {
      "cell_type": "code",
      "execution_count": null,
      "id": "5cbaf174-271c-43d0-a06a-16bdc0f86a1a",
      "metadata": {
        "id": "5cbaf174-271c-43d0-a06a-16bdc0f86a1a",
        "outputId": "ec89f0ca-ee75-44f9-f8e3-64965ccb606b"
      },
      "outputs": [
        {
          "name": "stdout",
          "output_type": "stream",
          "text": [
            "2\n"
          ]
        }
      ],
      "source": [
        "print(next(n))"
      ]
    },
    {
      "cell_type": "markdown",
      "id": "a133bc6d-fd6d-4f9b-9bcc-34d157e1be91",
      "metadata": {
        "id": "a133bc6d-fd6d-4f9b-9bcc-34d157e1be91"
      },
      "source": [
        "8. What is a lambda function in Python and when is it typically used?\n",
        "\n",
        "* Lambda : A lambda function in python is a small, anonymous function defined using 'lambda' keyword.\n",
        "* Regualar function defined with 'def' keyword, lambda functions are meant to be simple and are typically used for short-lived, one-off operations.\n",
        "* Syntax : lambda arguments: expression\n",
        "* Example :"
      ]
    },
    {
      "cell_type": "code",
      "execution_count": null,
      "id": "9729cbf0-65d9-4c25-b740-223dfd931fa5",
      "metadata": {
        "id": "9729cbf0-65d9-4c25-b740-223dfd931fa5",
        "outputId": "314cc915-7a8f-48fb-ed62-f1b61cc7a2cc"
      },
      "outputs": [
        {
          "name": "stdout",
          "output_type": "stream",
          "text": [
            "5\n"
          ]
        }
      ],
      "source": [
        "add = lambda x, y: x + y\n",
        "print(add(2,3))"
      ]
    },
    {
      "cell_type": "code",
      "execution_count": null,
      "id": "cedfc88d-8c07-4f2e-a19e-b5926f2f4e78",
      "metadata": {
        "id": "cedfc88d-8c07-4f2e-a19e-b5926f2f4e78",
        "outputId": "712f6c3e-1c9e-45a7-ffb9-06e00e3acde2"
      },
      "outputs": [
        {
          "name": "stdout",
          "output_type": "stream",
          "text": [
            "[2, 4, 1, 3, 5]\n"
          ]
        }
      ],
      "source": [
        "# Typically used\n",
        "\n",
        "sorted_list = sorted([1, 3, 2, 5, 4], key = lambda x : x % 2)\n",
        "print(sorted_list)"
      ]
    },
    {
      "cell_type": "markdown",
      "id": "4a7e29a6-842f-435f-a4c8-5c0a5cf24821",
      "metadata": {
        "id": "4a7e29a6-842f-435f-a4c8-5c0a5cf24821"
      },
      "source": [
        "9. Explain the purpose and usage of the 'map()' function in Python.\n",
        "\n",
        "* Map : A map function in pyhton is a built-in higher order function that applies a specified function to each item in an iterable and returns an iterator that produces the results.\n",
        "* It promotes a functional programming style by avoiding explicit loops and instead of using a declarative approach to data transformation.\n",
        "* Syntax :\n",
        "*        map(function, iterable)\n",
        "* Example:"
      ]
    },
    {
      "cell_type": "code",
      "execution_count": null,
      "id": "b859d5e9-9c0c-4ed6-b0d5-eee2d78b1f1d",
      "metadata": {
        "id": "b859d5e9-9c0c-4ed6-b0d5-eee2d78b1f1d",
        "outputId": "cf3c3927-7736-4238-98ad-1596c070cd34"
      },
      "outputs": [
        {
          "name": "stdout",
          "output_type": "stream",
          "text": [
            "[1, 4, 9, 16, 25]\n"
          ]
        }
      ],
      "source": [
        "def square(x):\n",
        "    return x * x\n",
        "\n",
        "numbers = [1, 2, 3, 4, 5]\n",
        "squared_numbers = map(square, numbers)\n",
        "\n",
        "squared_number_list = list(squared_numbers)\n",
        "print(squared_number_list)"
      ]
    },
    {
      "cell_type": "markdown",
      "id": "9dd03254-04be-4573-ae3f-8e1a6ef63203",
      "metadata": {
        "id": "9dd03254-04be-4573-ae3f-8e1a6ef63203"
      },
      "source": [
        "10. What is the difference between 'map( )', 'reduce( )', and 'filter( )' functions in Python?\n",
        "\n",
        "--> Functionality\n",
        "* 'Map( )' : Transforms each item in an iterable using a function.\n",
        "* 'Reduce( )' : All items in an iterable to a single result using a function.\n",
        "* 'Filter( )' : Filters items in an iterable based on a function that returns True or False.\n",
        "\n",
        "--> Return type\n",
        "* 'Map( )' : Returns an iterator of transformed items.\n",
        "* 'Reduce( )' : Returns a single accumulated result.\n",
        "* 'Filter( )' : Returns an iterator of items that satisfy the condition.\n",
        "\n",
        "--> Function Argument\n",
        "* 'Map( )' : The function takes a single argument.\n",
        "* 'Reduce( )' : The function takes two arguments.\n",
        "* 'Filter( )' : The function returns True or False.\n",
        "\n",
        "--> Use Cases\n",
        "* 'Map( )' : Use when you need to apply a function to every item in a sequence and collect the results.\n",
        "* 'Reduce( )' : Use when you need to combine all items in a sequence into a single cumulative result.\n",
        "* 'Filter( )' : Use when you need to select items from a sequence based on a condition.\n",
        "\n",
        "Example :"
      ]
    },
    {
      "cell_type": "code",
      "execution_count": null,
      "id": "a5d84f6c-80a1-4708-8775-6976d3d91da6",
      "metadata": {
        "id": "a5d84f6c-80a1-4708-8775-6976d3d91da6",
        "outputId": "d3a9403b-4ff6-4aa1-a89f-7995ab7bef13"
      },
      "outputs": [
        {
          "name": "stdout",
          "output_type": "stream",
          "text": [
            "[2, 4, 6, 8]\n"
          ]
        }
      ],
      "source": [
        "# Map()\n",
        "\n",
        "def double(n):\n",
        "    return n * 2\n",
        "\n",
        "numbers = [1, 2, 3, 4]\n",
        "result = map(double, numbers)\n",
        "print(list(result))"
      ]
    },
    {
      "cell_type": "code",
      "execution_count": null,
      "id": "83ed406b-d1c2-4d55-8d63-9e5266b22765",
      "metadata": {
        "id": "83ed406b-d1c2-4d55-8d63-9e5266b22765",
        "outputId": "52b66cdb-9dba-4923-dba6-fb86a48f94f4"
      },
      "outputs": [
        {
          "name": "stdout",
          "output_type": "stream",
          "text": [
            "Product of list elements :  120\n"
          ]
        }
      ],
      "source": [
        "# Reduce()\n",
        "\n",
        "from functools import reduce\n",
        "\n",
        "numbers = [1, 2, 3, 4, 5]\n",
        "\n",
        "product = reduce(lambda x, y: x * y, numbers)\n",
        "print(\"Product of list elements : \", product)"
      ]
    },
    {
      "cell_type": "code",
      "execution_count": null,
      "id": "eac55038-69ff-4284-9a45-92d3d5b3f365",
      "metadata": {
        "id": "eac55038-69ff-4284-9a45-92d3d5b3f365",
        "outputId": "11088b83-ed7e-4eed-d242-badaad5bebcf"
      },
      "outputs": [
        {
          "name": "stdout",
          "output_type": "stream",
          "text": [
            "Even numbers :  [2, 4, 6, 8, 10]\n"
          ]
        }
      ],
      "source": [
        "# Filter()\n",
        "\n",
        "def is_even(n):\n",
        "    return n % 2 == 0\n",
        "\n",
        "numbers = [1, 2, 3, 4, 5, 6, 7, 8, 9, 10]\n",
        "\n",
        "even_numbers = filter(is_even, numbers)\n",
        "print(\"Even numbers : \", list(even_numbers))"
      ]
    },
    {
      "cell_type": "markdown",
      "id": "9fefd0b0-238d-4ee1-a3ee-c3208131a564",
      "metadata": {
        "id": "9fefd0b0-238d-4ee1-a3ee-c3208131a564"
      },
      "source": [
        "11. Using pen & Paper write the internal mechanism for sum operation using  reduce function on this given list : [47,11,42,13];\n",
        "\n"
      ]
    },
    {
      "cell_type": "markdown",
      "id": "aa6ff574-ffdb-4804-a020-510b801bf333",
      "metadata": {
        "id": "aa6ff574-ffdb-4804-a020-510b801bf333"
      },
      "source": [
        "Practical Questions"
      ]
    },
    {
      "cell_type": "code",
      "execution_count": null,
      "id": "3abf0df5-7d9c-416a-a608-286cdf732a7e",
      "metadata": {
        "id": "3abf0df5-7d9c-416a-a608-286cdf732a7e",
        "outputId": "351d8dec-bc62-4dab-8953-ce89d0663f83"
      },
      "outputs": [
        {
          "name": "stdout",
          "output_type": "stream",
          "text": [
            "12\n"
          ]
        }
      ],
      "source": [
        "# 1. Write a Python function that takes a list of numbers as input and returns the sum of all even numbers in the list.\n",
        "\n",
        "def sum_even_num(n):\n",
        "\n",
        "    total = 0\n",
        "\n",
        "    for number in n:\n",
        "        if number % 2 == 0:\n",
        "            total += number\n",
        "    return total\n",
        "\n",
        "n = [1,2,3,4,5,6]\n",
        "result = sum_even_num(n)\n",
        "print(result)"
      ]
    },
    {
      "cell_type": "code",
      "execution_count": null,
      "id": "cf822d32-65eb-4581-b2ad-91ae781c4035",
      "metadata": {
        "id": "cf822d32-65eb-4581-b2ad-91ae781c4035",
        "outputId": "bd147318-1b55-470f-f8d7-bd238c3b1563"
      },
      "outputs": [
        {
          "name": "stdout",
          "output_type": "stream",
          "text": [
            "!dlroW olleH\n"
          ]
        }
      ],
      "source": [
        "# 2. Create a Python function that accepts a string and returns the reverse of that string.\n",
        "\n",
        "def reverse_string(s):\n",
        "    return s[::-1]\n",
        "\n",
        "str1 = \"Hello World!\"\n",
        "reversed_string = reverse_string(str1)\n",
        "print(reversed_string)"
      ]
    },
    {
      "cell_type": "code",
      "execution_count": null,
      "id": "1e5712d4-a0a0-4851-b09c-fd610a9d4c8f",
      "metadata": {
        "id": "1e5712d4-a0a0-4851-b09c-fd610a9d4c8f",
        "outputId": "19b62c98-f423-473e-90b0-4460982649e2"
      },
      "outputs": [
        {
          "name": "stdout",
          "output_type": "stream",
          "text": [
            "[1, 4, 9, 16, 25]\n"
          ]
        }
      ],
      "source": [
        "# 3. Implement a Python function that takes a list of integers and returns a new list containing the squares of each number.\n",
        "\n",
        "def square_num(n):\n",
        "    squared_list = [number ** 2 for number in n]\n",
        "    return squared_list\n",
        "\n",
        "list1 = [1,2,3,4,5]\n",
        "result = square_num(list1)\n",
        "print(result)"
      ]
    },
    {
      "cell_type": "code",
      "execution_count": null,
      "id": "a31833f6-eca6-4230-bf36-f34bb88fd831",
      "metadata": {
        "id": "a31833f6-eca6-4230-bf36-f34bb88fd831",
        "outputId": "af75542c-34fd-47cc-85c5-61f95573c3f6"
      },
      "outputs": [
        {
          "name": "stdout",
          "output_type": "stream",
          "text": [
            "1 is prime : False\n",
            "2 is prime : True\n",
            "3 is prime : True\n",
            "4 is prime : False\n",
            "5 is prime : True\n",
            "6 is prime : False\n",
            "7 is prime : True\n",
            "8 is prime : False\n",
            "9 is prime : False\n",
            "10 is prime : False\n",
            "11 is prime : True\n",
            "12 is prime : False\n",
            "13 is prime : True\n",
            "14 is prime : False\n",
            "15 is prime : False\n",
            "16 is prime : False\n",
            "17 is prime : True\n",
            "18 is prime : False\n",
            "19 is prime : True\n",
            "20 is prime : False\n",
            "21 is prime : False\n",
            "22 is prime : False\n",
            "23 is prime : True\n",
            "24 is prime : False\n",
            "25 is prime : False\n",
            "26 is prime : False\n",
            "27 is prime : False\n",
            "28 is prime : False\n",
            "29 is prime : True\n",
            "30 is prime : False\n",
            "31 is prime : True\n",
            "32 is prime : False\n",
            "33 is prime : False\n",
            "34 is prime : False\n",
            "35 is prime : False\n",
            "36 is prime : False\n",
            "37 is prime : True\n",
            "38 is prime : False\n",
            "39 is prime : False\n",
            "40 is prime : False\n",
            "41 is prime : True\n",
            "42 is prime : False\n",
            "43 is prime : True\n",
            "44 is prime : False\n",
            "45 is prime : False\n",
            "46 is prime : False\n",
            "47 is prime : True\n",
            "48 is prime : False\n",
            "49 is prime : False\n",
            "50 is prime : False\n",
            "51 is prime : False\n",
            "52 is prime : False\n",
            "53 is prime : True\n",
            "54 is prime : False\n",
            "55 is prime : False\n",
            "56 is prime : False\n",
            "57 is prime : False\n",
            "58 is prime : False\n",
            "59 is prime : True\n",
            "60 is prime : False\n",
            "61 is prime : True\n",
            "62 is prime : False\n",
            "63 is prime : False\n",
            "64 is prime : False\n",
            "65 is prime : False\n",
            "66 is prime : False\n",
            "67 is prime : True\n",
            "68 is prime : False\n",
            "69 is prime : False\n",
            "70 is prime : False\n",
            "71 is prime : True\n",
            "72 is prime : False\n",
            "73 is prime : True\n",
            "74 is prime : False\n",
            "75 is prime : False\n",
            "76 is prime : False\n",
            "77 is prime : False\n",
            "78 is prime : False\n",
            "79 is prime : True\n",
            "80 is prime : False\n",
            "81 is prime : False\n",
            "82 is prime : False\n",
            "83 is prime : True\n",
            "84 is prime : False\n",
            "85 is prime : False\n",
            "86 is prime : False\n",
            "87 is prime : False\n",
            "88 is prime : False\n",
            "89 is prime : True\n",
            "90 is prime : False\n",
            "91 is prime : False\n",
            "92 is prime : False\n",
            "93 is prime : False\n",
            "94 is prime : False\n",
            "95 is prime : False\n",
            "96 is prime : False\n",
            "97 is prime : True\n",
            "98 is prime : False\n",
            "99 is prime : False\n",
            "100 is prime : False\n",
            "101 is prime : True\n",
            "102 is prime : False\n",
            "103 is prime : True\n",
            "104 is prime : False\n",
            "105 is prime : False\n",
            "106 is prime : False\n",
            "107 is prime : True\n",
            "108 is prime : False\n",
            "109 is prime : True\n",
            "110 is prime : False\n",
            "111 is prime : False\n",
            "112 is prime : False\n",
            "113 is prime : True\n",
            "114 is prime : False\n",
            "115 is prime : False\n",
            "116 is prime : False\n",
            "117 is prime : False\n",
            "118 is prime : False\n",
            "119 is prime : False\n",
            "120 is prime : False\n",
            "121 is prime : False\n",
            "122 is prime : False\n",
            "123 is prime : False\n",
            "124 is prime : False\n",
            "125 is prime : False\n",
            "126 is prime : False\n",
            "127 is prime : True\n",
            "128 is prime : False\n",
            "129 is prime : False\n",
            "130 is prime : False\n",
            "131 is prime : True\n",
            "132 is prime : False\n",
            "133 is prime : False\n",
            "134 is prime : False\n",
            "135 is prime : False\n",
            "136 is prime : False\n",
            "137 is prime : True\n",
            "138 is prime : False\n",
            "139 is prime : True\n",
            "140 is prime : False\n",
            "141 is prime : False\n",
            "142 is prime : False\n",
            "143 is prime : False\n",
            "144 is prime : False\n",
            "145 is prime : False\n",
            "146 is prime : False\n",
            "147 is prime : False\n",
            "148 is prime : False\n",
            "149 is prime : True\n",
            "150 is prime : False\n",
            "151 is prime : True\n",
            "152 is prime : False\n",
            "153 is prime : False\n",
            "154 is prime : False\n",
            "155 is prime : False\n",
            "156 is prime : False\n",
            "157 is prime : True\n",
            "158 is prime : False\n",
            "159 is prime : False\n",
            "160 is prime : False\n",
            "161 is prime : False\n",
            "162 is prime : False\n",
            "163 is prime : True\n",
            "164 is prime : False\n",
            "165 is prime : False\n",
            "166 is prime : False\n",
            "167 is prime : True\n",
            "168 is prime : False\n",
            "169 is prime : False\n",
            "170 is prime : False\n",
            "171 is prime : False\n",
            "172 is prime : False\n",
            "173 is prime : True\n",
            "174 is prime : False\n",
            "175 is prime : False\n",
            "176 is prime : False\n",
            "177 is prime : False\n",
            "178 is prime : False\n",
            "179 is prime : True\n",
            "180 is prime : False\n",
            "181 is prime : True\n",
            "182 is prime : False\n",
            "183 is prime : False\n",
            "184 is prime : False\n",
            "185 is prime : False\n",
            "186 is prime : False\n",
            "187 is prime : False\n",
            "188 is prime : False\n",
            "189 is prime : False\n",
            "190 is prime : False\n",
            "191 is prime : True\n",
            "192 is prime : False\n",
            "193 is prime : True\n",
            "194 is prime : False\n",
            "195 is prime : False\n",
            "196 is prime : False\n",
            "197 is prime : True\n",
            "198 is prime : False\n",
            "199 is prime : True\n",
            "200 is prime : False\n"
          ]
        }
      ],
      "source": [
        "# 4. Write a Python function that checks if a given number is prime or not from 1 to 200.\n",
        "\n",
        "import math\n",
        "\n",
        "def prime(n):\n",
        "    if n <= 1:\n",
        "        return False\n",
        "\n",
        "    for i in range(2, int(math.sqrt(n)) + 1):\n",
        "        if n % i == 0:\n",
        "            return False\n",
        "    return True\n",
        "\n",
        "for num in range(1, 201):\n",
        "    print(f\"{num} is prime : {prime(num)}\")"
      ]
    },
    {
      "cell_type": "code",
      "execution_count": null,
      "id": "35256e6b-a43e-4b03-9032-02e8e6cfba30",
      "metadata": {
        "id": "35256e6b-a43e-4b03-9032-02e8e6cfba30",
        "outputId": "7e88b2c8-8add-448e-8d43-5d1ae9acbbdc"
      },
      "outputs": [
        {
          "name": "stdout",
          "output_type": "stream",
          "text": [
            "1\n",
            "1\n",
            "2\n",
            "3\n",
            "5\n",
            "8\n",
            "13\n",
            "21\n",
            "34\n",
            "55\n"
          ]
        }
      ],
      "source": [
        "# 5. Create an iterator class in Python that generates the Fibonacci sequence up to a specified number of terms.\n",
        "\n",
        "class Fibonacci:\n",
        "    def __init__(self, terms):\n",
        "        self.terms = terms\n",
        "        self.a, self.b = 0,1\n",
        "        self.count = 0\n",
        "\n",
        "    def __iter__(self):\n",
        "        return self\n",
        "\n",
        "    def __next__(self):\n",
        "        if self.count >= self.terms:\n",
        "            raise StopIteration\n",
        "        else:\n",
        "            self.a, self.b = self.b, self.a + self.b\n",
        "            self.count += 1\n",
        "            return self.a\n",
        "\n",
        "\n",
        "fibonacci = Fibonacci(10)\n",
        "for num in fibonacci:\n",
        "    print(num)"
      ]
    },
    {
      "cell_type": "code",
      "execution_count": null,
      "id": "c56b0621-5355-44c8-bdee-e0d77957a88c",
      "metadata": {
        "id": "c56b0621-5355-44c8-bdee-e0d77957a88c",
        "outputId": "3ae5fb05-a426-4f36-9581-b35c11c58862"
      },
      "outputs": [
        {
          "name": "stdout",
          "output_type": "stream",
          "text": [
            "1\n",
            "2\n",
            "4\n",
            "8\n",
            "16\n",
            "32\n",
            "64\n",
            "128\n",
            "256\n",
            "512\n",
            "1024\n"
          ]
        }
      ],
      "source": [
        "# 6. Write a generator function in Python that yields the powers of 2 up to a given exponent.\n",
        "\n",
        "def power_two(max_expontent):\n",
        "    exponent = 0\n",
        "    while exponent <= max_expontent:\n",
        "        yield 2 ** exponent\n",
        "        exponent += 1\n",
        "\n",
        "for power in power_two(10):\n",
        "    print(power)"
      ]
    },
    {
      "cell_type": "code",
      "execution_count": null,
      "id": "4dfc972f-cc28-4d46-9b2a-643062deeac8",
      "metadata": {
        "id": "4dfc972f-cc28-4d46-9b2a-643062deeac8",
        "outputId": "d8e95a91-8cd9-4521-e0b2-3b855e0fdd55"
      },
      "outputs": [
        {
          "name": "stdout",
          "output_type": "stream",
          "text": [
            "Hi, My name is Mann Shah.\n",
            "I am studying at pw skills.\n"
          ]
        }
      ],
      "source": [
        "# 7. Implement a generator function that reads a file line by line and yields each line as a string.\n",
        "\n",
        "def read_file_line_by_line(file_path):\n",
        "\n",
        "    with open(file_path, 'r') as file:\n",
        "        for line in file:\n",
        "            yield line.rstrip('\\n')\n",
        "\n",
        "for line in read_file_line_by_line('mysamplecode.txt'):\n",
        "    print(line)"
      ]
    },
    {
      "cell_type": "code",
      "execution_count": null,
      "id": "6eb811d1-3464-48d0-8a06-d832b9858f02",
      "metadata": {
        "id": "6eb811d1-3464-48d0-8a06-d832b9858f02",
        "outputId": "aa693a14-d859-44c9-f5e3-0be5fe58be6b"
      },
      "outputs": [
        {
          "name": "stdout",
          "output_type": "stream",
          "text": [
            "[(4, 1), (3, 2), (1, 3), (2, 4)]\n"
          ]
        }
      ],
      "source": [
        "# 8. Use a lambda function in Python to sort a list of tuples based on the second element of each tuple.\n",
        "\n",
        "tuple1 = [(1, 3), (2, 4), (3, 2), (4, 1)]\n",
        "\n",
        "# sort the list based on second element of each tuple\n",
        "sorted_data = sorted(tuple1, key=lambda x: x[1])\n",
        "\n",
        "print(sorted_data)"
      ]
    },
    {
      "cell_type": "code",
      "execution_count": null,
      "id": "87fe979b-54ef-4271-8a64-171a0651c31e",
      "metadata": {
        "id": "87fe979b-54ef-4271-8a64-171a0651c31e",
        "outputId": "5bfcf418-57b0-4524-8121-c965b058f19e"
      },
      "outputs": [
        {
          "name": "stdout",
          "output_type": "stream",
          "text": [
            "[50.0, 68.0, 86.0, 104.0]\n"
          ]
        }
      ],
      "source": [
        "# 9. Write a Python program that uses `map()` to convert a list of temperatures from Celsius to Fahrenheit.\n",
        "\n",
        "celsius_tem = [10, 20, 30, 40]\n",
        "\n",
        "def cel_to_fah(celsius):\n",
        "    return (celsius * 9/5) + 32\n",
        "\n",
        "fahrenheit_tem = list(map(cel_to_fah, celsius_tem))\n",
        "print(fahrenheit_tem)"
      ]
    },
    {
      "cell_type": "code",
      "execution_count": null,
      "id": "7c67ba6b-031f-44dd-9683-099e0bd8905a",
      "metadata": {
        "id": "7c67ba6b-031f-44dd-9683-099e0bd8905a",
        "outputId": "5340924d-540a-471a-988d-95f10f9b4f16"
      },
      "outputs": [
        {
          "name": "stdout",
          "output_type": "stream",
          "text": [
            "Hll Wrld\n"
          ]
        }
      ],
      "source": [
        "# 10. Create a Python program that uses `filter()` to remove all the vowels from a given string.\n",
        "\n",
        "def not_vowel(char):\n",
        "    vowels = \"aeiouAEIOU\"\n",
        "    return char not in vowels\n",
        "\n",
        "string1 = \"Hello World\"\n",
        "\n",
        "filtered_chars = filter(not_vowel, string1)\n",
        "\n",
        "result = ''.join(filtered_chars)\n",
        "\n",
        "print(result)"
      ]
    },
    {
      "cell_type": "code",
      "execution_count": null,
      "id": "dcbe7e40-ca23-4cf9-b567-e323ddd67e99",
      "metadata": {
        "id": "dcbe7e40-ca23-4cf9-b567-e323ddd67e99",
        "outputId": "c02a859b-b0a6-4f60-e90c-516dce1a9596"
      },
      "outputs": [
        {
          "name": "stdout",
          "output_type": "stream",
          "text": [
            "[(34587, 163.8), (98762, 284.0), (77226, 108.85000000000001), (88112, 84.97)]\n"
          ]
        }
      ],
      "source": [
        "# 11) Imagine an accounting routine used in a book shop. It works on a list with sublists, which look like this:\n",
        "\n",
        "#  Order number.        Book Title and Author                   Quantity                  Price per Item.\n",
        "#   34587               Learning Python, Mark Lutz                  4                      40.95\n",
        "#   98762               Programming Python, Mark Lutz               5                      56.80\n",
        "#   77226               Head First Python, Paul Barry               3                      32.95\n",
        "#   88112               Einfuhrung in Python, Bernd Klein           3                      24.99\n",
        "\n",
        "# Write a Python program, which returns a list with 2-tuples. Each tuple consists of the order number and the product of the price per item\n",
        "# and the quantity. The product should be increased by 10,- € if the value of the order is smaller than 100,00 €.\n",
        "# Write a Python program using lambda and map.\n",
        "\n",
        "orders = [[34587, \"Learning Python, Mark Lutz\", 4, 40.95], [98762, \"Programming Python, Mark Lutz\", 5, 56.80],\n",
        "          [77226, \"Head First Python, Paul Barry\", 3, 32.95], [88112, \"Einfuhrung in Python, Bernd Klein\", 3, 24.99]]\n",
        "\n",
        "calculate_total = lambda order: (order[0], (order[2] * order[3]) + 10 if (order[2] * order[3]) < 100 else (order[2] * order[3]))\n",
        "\n",
        "result = list(map(calculate_total, orders))\n",
        "\n",
        "print(result)"
      ]
    }
  ],
  "metadata": {
    "kernelspec": {
      "display_name": "Python 3 (ipykernel)",
      "language": "python",
      "name": "python3"
    },
    "language_info": {
      "codemirror_mode": {
        "name": "ipython",
        "version": 3
      },
      "file_extension": ".py",
      "mimetype": "text/x-python",
      "name": "python",
      "nbconvert_exporter": "python",
      "pygments_lexer": "ipython3",
      "version": "3.10.8"
    },
    "colab": {
      "provenance": [],
      "include_colab_link": true
    }
  },
  "nbformat": 4,
  "nbformat_minor": 5
}